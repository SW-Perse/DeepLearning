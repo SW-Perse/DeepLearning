{
  "cells": [
    {
      "cell_type": "markdown",
      "metadata": {
        "id": "1WYySpiSSGRw"
      },
      "source": [
        "<img src=\"https://full-stack-assets.s3.eu-west-3.amazonaws.com/M08-deep-learning/AT%26T_logo_2016.svg\" alt=\"AT&T LOGO\" width=\"50%\" />\n",
        "\n",
        "# Orange SPAM detector"
      ]
    },
    {
      "cell_type": "markdown",
      "metadata": {
        "id": "M48aYVUrSGRx"
      },
      "source": [
        "## Company's Description 📇\n",
        "\n",
        "AT&T Inc. is an American multinational telecommunications holding company headquartered at Whitacre Tower in Downtown Dallas, Texas. It is the world's largest telecommunications company by revenue and the third largest provider of mobile telephone services in the U.S. As of 2022, AT&T was ranked 13th on the Fortune 500 rankings of the largest United States corporations, with revenues of $168.8 billion! 😮"
      ]
    },
    {
      "cell_type": "markdown",
      "metadata": {
        "id": "zA2A8w9iSGRy"
      },
      "source": [
        "## Project 🚧\n",
        "\n",
        "One of the main pain point that AT&T users are facing is constant exposure to SPAM messages.\n",
        "\n",
        "AT&T has been able to manually flag spam messages for a time, but they are looking for an automated way of detecting spams to protect their users."
      ]
    },
    {
      "cell_type": "markdown",
      "metadata": {
        "id": "BOm_6raiSGRz"
      },
      "source": [
        "## Goals 🎯\n",
        "\n",
        "Your goal is to build a spam detector, that can automatically flag spams as they come based solely on the sms' content."
      ]
    },
    {
      "cell_type": "markdown",
      "metadata": {
        "id": "tb2rItCiSGRz"
      },
      "source": [
        "## Scope of this project 🖼️\n",
        "\n",
        "To start off, AT&T would like you to use the following dataset:\n",
        "\n",
        "[Dowload the Dataset](https://full-stack-bigdata-datasets.s3.eu-west-3.amazonaws.com/Deep+Learning/project/spam.csv)"
      ]
    },
    {
      "cell_type": "markdown",
      "metadata": {
        "id": "6d1qxMBxSGRz"
      },
      "source": [
        "## Helpers 🦮\n",
        "\n",
        "To help you achieve this project, here are a few tips that should help you:\n",
        "\n",
        "### Start simple\n",
        "A good deep learing model does not necessarily have to be super complicated!\n",
        "\n",
        "### Transfer learning\n",
        "You do not have access to a whole lot of data, perhaps channeling the power of a more sophisticated model trained on billions of observations might help!"
      ]
    },
    {
      "cell_type": "markdown",
      "metadata": {
        "id": "A1K0jNIxSGRz"
      },
      "source": [
        "## Deliverable 📬\n",
        "\n",
        "To complete this project, your team should:\n",
        "\n",
        "* Write a notebook that runs preprocessing and trains one or more deep learning models in order to predict the spam or ham nature of the sms\n",
        "* State the achieved performance clearly"
      ]
    },
    {
      "cell_type": "markdown",
      "source": [
        "# 1. EDA\n",
        "\n",
        "We will begin with importing our dataset and exploring it"
      ],
      "metadata": {
        "id": "P99TTSFbiAdP"
      }
    },
    {
      "cell_type": "code",
      "source": [
        "import warnings\n",
        "warnings.filterwarnings('ignore')\n",
        "\n",
        "# Importing pandas and  numpy to manipulate dataframe and arrays objects\n",
        "import pandas as pd\n",
        "import numpy as np\n",
        "\n",
        "# Importing visualization libraries for plotting\n",
        "import seaborn as sns\n",
        "import matplotlib.pyplot as plt\n",
        "from plotly import graph_objects as go\n",
        "color_chart = [\"#4B9AC7\", \"#4BE8E0\", \"#9DD4F3\", \"#97FBF6\", \"#2A7FAF\", \"#23B1AB\", \"#0E3449\", \"#015955\"]"
      ],
      "metadata": {
        "id": "NGJ3oVPKl-V2"
      },
      "execution_count": 3,
      "outputs": []
    },
    {
      "cell_type": "code",
      "source": [
        "# Installing and importing wordcloud package\n",
        "from wordcloud import WordCloud\n",
        "# !pip uninstall Pillow\n",
        "# !pip install Pillow==9.4.0\n",
        "\n",
        "# Importing text preprocessing libraries\n",
        "import string\n",
        "!python -m spacy download en_core_web_sm -q\n",
        "import en_core_web_sm\n",
        "from spacy.lang.en.stop_words import STOP_WORDS"
      ],
      "metadata": {
        "colab": {
          "base_uri": "https://localhost:8080/"
        },
        "id": "CYVM3eZwKSPI",
        "outputId": "e903a144-f5d7-407a-dddc-676ab811f3ed"
      },
      "execution_count": 4,
      "outputs": [
        {
          "output_type": "stream",
          "name": "stdout",
          "text": [
            "2023-11-20 11:47:55.916894: E tensorflow/compiler/xla/stream_executor/cuda/cuda_dnn.cc:9342] Unable to register cuDNN factory: Attempting to register factory for plugin cuDNN when one has already been registered\n",
            "2023-11-20 11:47:55.916961: E tensorflow/compiler/xla/stream_executor/cuda/cuda_fft.cc:609] Unable to register cuFFT factory: Attempting to register factory for plugin cuFFT when one has already been registered\n",
            "2023-11-20 11:47:55.917002: E tensorflow/compiler/xla/stream_executor/cuda/cuda_blas.cc:1518] Unable to register cuBLAS factory: Attempting to register factory for plugin cuBLAS when one has already been registered\n",
            "2023-11-20 11:47:55.926541: I tensorflow/core/platform/cpu_feature_guard.cc:182] This TensorFlow binary is optimized to use available CPU instructions in performance-critical operations.\n",
            "To enable the following instructions: AVX2 FMA, in other operations, rebuild TensorFlow with the appropriate compiler flags.\n",
            "2023-11-20 11:47:57.166250: W tensorflow/compiler/tf2tensorrt/utils/py_utils.cc:38] TF-TRT Warning: Could not find TensorRT\n",
            "\u001b[2K     \u001b[90m━━━━━━━━━━━━━━━━━━━━━━━━━━━━━━━━━━━━━━━━\u001b[0m \u001b[32m12.8/12.8 MB\u001b[0m \u001b[31m46.5 MB/s\u001b[0m eta \u001b[36m0:00:00\u001b[0m\n",
            "\u001b[?25h\u001b[38;5;2m✔ Download and installation successful\u001b[0m\n",
            "You can now load the package via spacy.load('en_core_web_sm')\n"
          ]
        }
      ]
    },
    {
      "cell_type": "code",
      "source": [
        "# Importing sklearn train-test-split\n",
        "from sklearn.model_selection import train_test_split"
      ],
      "metadata": {
        "id": "7hgJ6F1hKQIQ"
      },
      "execution_count": 5,
      "outputs": []
    },
    {
      "cell_type": "code",
      "source": [
        "# Importing tensorflow and keras classes to build neural networks\n",
        "import tensorflow as tf\n",
        "print(tf.__version__)\n",
        "from tensorflow.keras import Sequential\n",
        "from tensorflow.keras.layers import Embedding, GlobalAveragePooling1D, Dense, LSTM, Bidirectional, Dropout\n",
        "from tensorflow.keras.callbacks import EarlyStopping, ReduceLROnPlateau"
      ],
      "metadata": {
        "id": "b7SjMeRWKD7R",
        "colab": {
          "base_uri": "https://localhost:8080/"
        },
        "outputId": "185db146-f932-4942-f9d1-628a6441c9d6"
      },
      "execution_count": 6,
      "outputs": [
        {
          "output_type": "stream",
          "name": "stdout",
          "text": [
            "2.14.0\n"
          ]
        }
      ]
    },
    {
      "cell_type": "code",
      "source": [
        "df = pd.read_csv(\"https://full-stack-bigdata-datasets.s3.eu-west-3.amazonaws.com/Deep+Learning/project/spam.csv\", encoding = \"ISO-8859-1\")\n",
        "df.head()"
      ],
      "metadata": {
        "id": "L_sTBPURmPyV",
        "colab": {
          "base_uri": "https://localhost:8080/",
          "height": 206
        },
        "outputId": "88298ef0-46e6-43eb-dee8-f2b1306c316f"
      },
      "execution_count": 7,
      "outputs": [
        {
          "output_type": "execute_result",
          "data": {
            "text/plain": [
              "     v1                                                 v2 Unnamed: 2  \\\n",
              "0   ham  Go until jurong point, crazy.. Available only ...        NaN   \n",
              "1   ham                      Ok lar... Joking wif u oni...        NaN   \n",
              "2  spam  Free entry in 2 a wkly comp to win FA Cup fina...        NaN   \n",
              "3   ham  U dun say so early hor... U c already then say...        NaN   \n",
              "4   ham  Nah I don't think he goes to usf, he lives aro...        NaN   \n",
              "\n",
              "  Unnamed: 3 Unnamed: 4  \n",
              "0        NaN        NaN  \n",
              "1        NaN        NaN  \n",
              "2        NaN        NaN  \n",
              "3        NaN        NaN  \n",
              "4        NaN        NaN  "
            ],
            "text/html": [
              "\n",
              "  <div id=\"df-48c18818-af77-45a0-87ba-b36ec37c1e13\" class=\"colab-df-container\">\n",
              "    <div>\n",
              "<style scoped>\n",
              "    .dataframe tbody tr th:only-of-type {\n",
              "        vertical-align: middle;\n",
              "    }\n",
              "\n",
              "    .dataframe tbody tr th {\n",
              "        vertical-align: top;\n",
              "    }\n",
              "\n",
              "    .dataframe thead th {\n",
              "        text-align: right;\n",
              "    }\n",
              "</style>\n",
              "<table border=\"1\" class=\"dataframe\">\n",
              "  <thead>\n",
              "    <tr style=\"text-align: right;\">\n",
              "      <th></th>\n",
              "      <th>v1</th>\n",
              "      <th>v2</th>\n",
              "      <th>Unnamed: 2</th>\n",
              "      <th>Unnamed: 3</th>\n",
              "      <th>Unnamed: 4</th>\n",
              "    </tr>\n",
              "  </thead>\n",
              "  <tbody>\n",
              "    <tr>\n",
              "      <th>0</th>\n",
              "      <td>ham</td>\n",
              "      <td>Go until jurong point, crazy.. Available only ...</td>\n",
              "      <td>NaN</td>\n",
              "      <td>NaN</td>\n",
              "      <td>NaN</td>\n",
              "    </tr>\n",
              "    <tr>\n",
              "      <th>1</th>\n",
              "      <td>ham</td>\n",
              "      <td>Ok lar... Joking wif u oni...</td>\n",
              "      <td>NaN</td>\n",
              "      <td>NaN</td>\n",
              "      <td>NaN</td>\n",
              "    </tr>\n",
              "    <tr>\n",
              "      <th>2</th>\n",
              "      <td>spam</td>\n",
              "      <td>Free entry in 2 a wkly comp to win FA Cup fina...</td>\n",
              "      <td>NaN</td>\n",
              "      <td>NaN</td>\n",
              "      <td>NaN</td>\n",
              "    </tr>\n",
              "    <tr>\n",
              "      <th>3</th>\n",
              "      <td>ham</td>\n",
              "      <td>U dun say so early hor... U c already then say...</td>\n",
              "      <td>NaN</td>\n",
              "      <td>NaN</td>\n",
              "      <td>NaN</td>\n",
              "    </tr>\n",
              "    <tr>\n",
              "      <th>4</th>\n",
              "      <td>ham</td>\n",
              "      <td>Nah I don't think he goes to usf, he lives aro...</td>\n",
              "      <td>NaN</td>\n",
              "      <td>NaN</td>\n",
              "      <td>NaN</td>\n",
              "    </tr>\n",
              "  </tbody>\n",
              "</table>\n",
              "</div>\n",
              "    <div class=\"colab-df-buttons\">\n",
              "\n",
              "  <div class=\"colab-df-container\">\n",
              "    <button class=\"colab-df-convert\" onclick=\"convertToInteractive('df-48c18818-af77-45a0-87ba-b36ec37c1e13')\"\n",
              "            title=\"Convert this dataframe to an interactive table.\"\n",
              "            style=\"display:none;\">\n",
              "\n",
              "  <svg xmlns=\"http://www.w3.org/2000/svg\" height=\"24px\" viewBox=\"0 -960 960 960\">\n",
              "    <path d=\"M120-120v-720h720v720H120Zm60-500h600v-160H180v160Zm220 220h160v-160H400v160Zm0 220h160v-160H400v160ZM180-400h160v-160H180v160Zm440 0h160v-160H620v160ZM180-180h160v-160H180v160Zm440 0h160v-160H620v160Z\"/>\n",
              "  </svg>\n",
              "    </button>\n",
              "\n",
              "  <style>\n",
              "    .colab-df-container {\n",
              "      display:flex;\n",
              "      gap: 12px;\n",
              "    }\n",
              "\n",
              "    .colab-df-convert {\n",
              "      background-color: #E8F0FE;\n",
              "      border: none;\n",
              "      border-radius: 50%;\n",
              "      cursor: pointer;\n",
              "      display: none;\n",
              "      fill: #1967D2;\n",
              "      height: 32px;\n",
              "      padding: 0 0 0 0;\n",
              "      width: 32px;\n",
              "    }\n",
              "\n",
              "    .colab-df-convert:hover {\n",
              "      background-color: #E2EBFA;\n",
              "      box-shadow: 0px 1px 2px rgba(60, 64, 67, 0.3), 0px 1px 3px 1px rgba(60, 64, 67, 0.15);\n",
              "      fill: #174EA6;\n",
              "    }\n",
              "\n",
              "    .colab-df-buttons div {\n",
              "      margin-bottom: 4px;\n",
              "    }\n",
              "\n",
              "    [theme=dark] .colab-df-convert {\n",
              "      background-color: #3B4455;\n",
              "      fill: #D2E3FC;\n",
              "    }\n",
              "\n",
              "    [theme=dark] .colab-df-convert:hover {\n",
              "      background-color: #434B5C;\n",
              "      box-shadow: 0px 1px 3px 1px rgba(0, 0, 0, 0.15);\n",
              "      filter: drop-shadow(0px 1px 2px rgba(0, 0, 0, 0.3));\n",
              "      fill: #FFFFFF;\n",
              "    }\n",
              "  </style>\n",
              "\n",
              "    <script>\n",
              "      const buttonEl =\n",
              "        document.querySelector('#df-48c18818-af77-45a0-87ba-b36ec37c1e13 button.colab-df-convert');\n",
              "      buttonEl.style.display =\n",
              "        google.colab.kernel.accessAllowed ? 'block' : 'none';\n",
              "\n",
              "      async function convertToInteractive(key) {\n",
              "        const element = document.querySelector('#df-48c18818-af77-45a0-87ba-b36ec37c1e13');\n",
              "        const dataTable =\n",
              "          await google.colab.kernel.invokeFunction('convertToInteractive',\n",
              "                                                    [key], {});\n",
              "        if (!dataTable) return;\n",
              "\n",
              "        const docLinkHtml = 'Like what you see? Visit the ' +\n",
              "          '<a target=\"_blank\" href=https://colab.research.google.com/notebooks/data_table.ipynb>data table notebook</a>'\n",
              "          + ' to learn more about interactive tables.';\n",
              "        element.innerHTML = '';\n",
              "        dataTable['output_type'] = 'display_data';\n",
              "        await google.colab.output.renderOutput(dataTable, element);\n",
              "        const docLink = document.createElement('div');\n",
              "        docLink.innerHTML = docLinkHtml;\n",
              "        element.appendChild(docLink);\n",
              "      }\n",
              "    </script>\n",
              "  </div>\n",
              "\n",
              "\n",
              "<div id=\"df-54ef51b3-6e4e-4b0f-a633-891028d34c0c\">\n",
              "  <button class=\"colab-df-quickchart\" onclick=\"quickchart('df-54ef51b3-6e4e-4b0f-a633-891028d34c0c')\"\n",
              "            title=\"Suggest charts\"\n",
              "            style=\"display:none;\">\n",
              "\n",
              "<svg xmlns=\"http://www.w3.org/2000/svg\" height=\"24px\"viewBox=\"0 0 24 24\"\n",
              "     width=\"24px\">\n",
              "    <g>\n",
              "        <path d=\"M19 3H5c-1.1 0-2 .9-2 2v14c0 1.1.9 2 2 2h14c1.1 0 2-.9 2-2V5c0-1.1-.9-2-2-2zM9 17H7v-7h2v7zm4 0h-2V7h2v10zm4 0h-2v-4h2v4z\"/>\n",
              "    </g>\n",
              "</svg>\n",
              "  </button>\n",
              "\n",
              "<style>\n",
              "  .colab-df-quickchart {\n",
              "      --bg-color: #E8F0FE;\n",
              "      --fill-color: #1967D2;\n",
              "      --hover-bg-color: #E2EBFA;\n",
              "      --hover-fill-color: #174EA6;\n",
              "      --disabled-fill-color: #AAA;\n",
              "      --disabled-bg-color: #DDD;\n",
              "  }\n",
              "\n",
              "  [theme=dark] .colab-df-quickchart {\n",
              "      --bg-color: #3B4455;\n",
              "      --fill-color: #D2E3FC;\n",
              "      --hover-bg-color: #434B5C;\n",
              "      --hover-fill-color: #FFFFFF;\n",
              "      --disabled-bg-color: #3B4455;\n",
              "      --disabled-fill-color: #666;\n",
              "  }\n",
              "\n",
              "  .colab-df-quickchart {\n",
              "    background-color: var(--bg-color);\n",
              "    border: none;\n",
              "    border-radius: 50%;\n",
              "    cursor: pointer;\n",
              "    display: none;\n",
              "    fill: var(--fill-color);\n",
              "    height: 32px;\n",
              "    padding: 0;\n",
              "    width: 32px;\n",
              "  }\n",
              "\n",
              "  .colab-df-quickchart:hover {\n",
              "    background-color: var(--hover-bg-color);\n",
              "    box-shadow: 0 1px 2px rgba(60, 64, 67, 0.3), 0 1px 3px 1px rgba(60, 64, 67, 0.15);\n",
              "    fill: var(--button-hover-fill-color);\n",
              "  }\n",
              "\n",
              "  .colab-df-quickchart-complete:disabled,\n",
              "  .colab-df-quickchart-complete:disabled:hover {\n",
              "    background-color: var(--disabled-bg-color);\n",
              "    fill: var(--disabled-fill-color);\n",
              "    box-shadow: none;\n",
              "  }\n",
              "\n",
              "  .colab-df-spinner {\n",
              "    border: 2px solid var(--fill-color);\n",
              "    border-color: transparent;\n",
              "    border-bottom-color: var(--fill-color);\n",
              "    animation:\n",
              "      spin 1s steps(1) infinite;\n",
              "  }\n",
              "\n",
              "  @keyframes spin {\n",
              "    0% {\n",
              "      border-color: transparent;\n",
              "      border-bottom-color: var(--fill-color);\n",
              "      border-left-color: var(--fill-color);\n",
              "    }\n",
              "    20% {\n",
              "      border-color: transparent;\n",
              "      border-left-color: var(--fill-color);\n",
              "      border-top-color: var(--fill-color);\n",
              "    }\n",
              "    30% {\n",
              "      border-color: transparent;\n",
              "      border-left-color: var(--fill-color);\n",
              "      border-top-color: var(--fill-color);\n",
              "      border-right-color: var(--fill-color);\n",
              "    }\n",
              "    40% {\n",
              "      border-color: transparent;\n",
              "      border-right-color: var(--fill-color);\n",
              "      border-top-color: var(--fill-color);\n",
              "    }\n",
              "    60% {\n",
              "      border-color: transparent;\n",
              "      border-right-color: var(--fill-color);\n",
              "    }\n",
              "    80% {\n",
              "      border-color: transparent;\n",
              "      border-right-color: var(--fill-color);\n",
              "      border-bottom-color: var(--fill-color);\n",
              "    }\n",
              "    90% {\n",
              "      border-color: transparent;\n",
              "      border-bottom-color: var(--fill-color);\n",
              "    }\n",
              "  }\n",
              "</style>\n",
              "\n",
              "  <script>\n",
              "    async function quickchart(key) {\n",
              "      const quickchartButtonEl =\n",
              "        document.querySelector('#' + key + ' button');\n",
              "      quickchartButtonEl.disabled = true;  // To prevent multiple clicks.\n",
              "      quickchartButtonEl.classList.add('colab-df-spinner');\n",
              "      try {\n",
              "        const charts = await google.colab.kernel.invokeFunction(\n",
              "            'suggestCharts', [key], {});\n",
              "      } catch (error) {\n",
              "        console.error('Error during call to suggestCharts:', error);\n",
              "      }\n",
              "      quickchartButtonEl.classList.remove('colab-df-spinner');\n",
              "      quickchartButtonEl.classList.add('colab-df-quickchart-complete');\n",
              "    }\n",
              "    (() => {\n",
              "      let quickchartButtonEl =\n",
              "        document.querySelector('#df-54ef51b3-6e4e-4b0f-a633-891028d34c0c button');\n",
              "      quickchartButtonEl.style.display =\n",
              "        google.colab.kernel.accessAllowed ? 'block' : 'none';\n",
              "    })();\n",
              "  </script>\n",
              "</div>\n",
              "    </div>\n",
              "  </div>\n"
            ]
          },
          "metadata": {},
          "execution_count": 7
        }
      ]
    },
    {
      "cell_type": "code",
      "source": [
        "df.info()"
      ],
      "metadata": {
        "id": "OVTIKH0HmWp4",
        "colab": {
          "base_uri": "https://localhost:8080/"
        },
        "outputId": "d522724c-6e72-4b4e-915a-5fbf047df24b"
      },
      "execution_count": 8,
      "outputs": [
        {
          "output_type": "stream",
          "name": "stdout",
          "text": [
            "<class 'pandas.core.frame.DataFrame'>\n",
            "RangeIndex: 5572 entries, 0 to 5571\n",
            "Data columns (total 5 columns):\n",
            " #   Column      Non-Null Count  Dtype \n",
            "---  ------      --------------  ----- \n",
            " 0   v1          5572 non-null   object\n",
            " 1   v2          5572 non-null   object\n",
            " 2   Unnamed: 2  50 non-null     object\n",
            " 3   Unnamed: 3  12 non-null     object\n",
            " 4   Unnamed: 4  6 non-null      object\n",
            "dtypes: object(5)\n",
            "memory usage: 217.8+ KB\n"
          ]
        }
      ]
    },
    {
      "cell_type": "markdown",
      "source": [
        "We have a dataframe with :\n",
        "\n",
        "\n",
        "*   5572 entries / rows\n",
        "\n",
        "*   5 columns\n",
        "*   The first 2 columns seems to represent respectively our label (v1 : ham or spam), and the content of the e-mail (v2)\n",
        "\n",
        "\n",
        "*   The last 3 columns however, seem to contain mostly null values and will probably not be of much use for our model : we will check their content and possibly drop them\n",
        "\n",
        "\n"
      ],
      "metadata": {
        "id": "6-NIYBLnpWMw"
      }
    },
    {
      "cell_type": "code",
      "source": [
        "df[\"Unnamed: 2\"].value_counts()"
      ],
      "metadata": {
        "id": "daxHT-3qpRFI",
        "colab": {
          "base_uri": "https://localhost:8080/"
        },
        "outputId": "340293ed-38cc-4233-e13b-7ab851de9dd9"
      },
      "execution_count": 9,
      "outputs": [
        {
          "output_type": "execute_result",
          "data": {
            "text/plain": [
              " bt not his girlfrnd... G o o d n i g h t . . .@\"                                                                                                   3\n",
              " PO Box 5249                                                                                                                                        2\n",
              "this wont even start........ Datz confidence..\"                                                                                                     2\n",
              "GN                                                                                                                                                  2\n",
              " don't miss ur best life for anything... Gud nyt...\"                                                                                                2\n",
              " but dont try to prove it..\\\" .Gud noon....\"                                                                                                        2\n",
              " Gud night....\"                                                                                                                                     1\n",
              " like you are the KING\\\"...! OR \\\"Walk like you Dont care                                                                                           1\n",
              " HAD A COOL NYTHO                                                                                                                                   1\n",
              " PO Box 1146 MK45 2WT (2/3)\"                                                                                                                        1\n",
              " \\\"It is d wonderful fruit that a tree gives when it is being hurt by a stone.. Good night......\"                                                   1\n",
              " we made you hold all the weed\\\"\"                                                                                                                   1\n",
              " its a miracle to Love a person who can't Love anyone except U...\\\" Gud nyt...\"                                                                     1\n",
              " hopeSo hunny. i amnow feelin ill & ithink i may have tonsolitusaswell! damn iam layin in bedreal bored. lotsof luv me xxxx\\\"\"                      1\n",
              " that's the tiny street where the parking lot is\"                                                                                                   1\n",
              "PROBPOP IN & CU SATTHEN HUNNY 4BREKKIE! LOVE JEN XXX. PSXTRA LRG PORTIONS 4 ME PLEASE \\\"\"                                                           1\n",
              " SHE SHUDVETOLD U. DID URGRAN KNOW?NEWAY                                                                                                            1\n",
              " GOD said                                                                                                                                           1\n",
              " always give response 2 who cares 4 U\\\"... Gud night..swt dreams..take care\"                                                                        1\n",
              " HOPE UR OK... WILL GIVE U A BUZ WEDLUNCH. GO OUTSOMEWHERE 4 ADRINK IN TOWN..CUD GO 2WATERSHD 4 A BIT? PPL FROMWRK WILL BTHERE. LOVE PETEXXX.\\\"\"    1\n",
              " b'coz nobody will fight for u. Only u &amp; u have to fight for ur self &amp; win the battle. -VIVEKANAND- G 9t.. SD..\"                            1\n",
              "DEVIOUSBITCH.ANYWAY                                                                                                                                 1\n",
              " but watever u shared should be true\\\"....\"                                                                                                         1\n",
              " Dont Come Near My Body..!! Bcoz My Hands May Not Come 2 Wipe Ur Tears Off That Time..!Gud ni8\"                                                     1\n",
              " but dont try to prove\\\" ..... Gud mrng...\"                                                                                                         1\n",
              " the toughest is acting Happy with all unspoken pain inside..\\\"\"                                                                                    1\n",
              " HOWU DOIN? FOUNDURSELF A JOBYET SAUSAGE?LOVE JEN XXX\\\"\"                                                                                            1\n",
              " wanted to say hi. HI!!!\\\" Stop? Send STOP to 62468\"                                                                                                1\n",
              ".;-):-D\"                                                                                                                                            1\n",
              "just been in bedbut mite go 2 thepub l8tr if uwana mt up?loads a luv Jenxxx.\\\"\"                                                                     1\n",
              " I'll come up\"                                                                                                                                      1\n",
              " just as a shop has to give a guarantee on what they sell. B. G.\"                                                                                   1\n",
              " But at d end my love compromised me for everything:-(\\\".. Gud mornin:-)\"                                                                           1\n",
              " smoke hella weed\\\"\"                                                                                                                                1\n",
              "Well there's still a bit left if you guys want to tonight                                                                                           1\n",
              "\\\" not \\\"what i need to do.\\\"\"                                                                                                                      1\n",
              "JUST GOT PAYED2DAY & I HAVBEEN GIVEN Aå£50 PAY RISE 4MY WORK & HAVEBEEN MADE PRESCHOOLCO-ORDINATOR 2I AM FEELINGOOD LUV\\\"\"                          1\n",
              " justthought iåÕd sayhey! how u doin?nearly the endof me wk offdam nevamind!We will have 2Hook up sn if uwant m8? loveJen x.\\\"\"                     1\n",
              "JUST REALLYNEED 2DOCD.PLEASE DONTPLEASE DONTIGNORE MYCALLS                                                                                          1\n",
              "u hav2hear it!c u sn xxxx\\\"\"                                                                                                                        1\n",
              " I don't mind                                                                                                                                       1\n",
              " the person is definitely special for u..... But if the person is so special                                                                        1\n",
              " ENJOYIN INDIANS AT THE MO..yeP. SaLL gOoD HehE ;> hows bout u shexy? Pete Xx\\\"\"                                                                    1\n",
              "Name: Unnamed: 2, dtype: int64"
            ]
          },
          "metadata": {},
          "execution_count": 9
        }
      ]
    },
    {
      "cell_type": "code",
      "source": [
        "df[\"Unnamed: 3\"].value_counts()"
      ],
      "metadata": {
        "id": "UGfE3LJ6p89p",
        "colab": {
          "base_uri": "https://localhost:8080/"
        },
        "outputId": "7de8e032-8361-4653-aaa0-702caab64ab2"
      },
      "execution_count": 10,
      "outputs": [
        {
          "output_type": "execute_result",
          "data": {
            "text/plain": [
              " MK17 92H. 450Ppw 16\"                         2\n",
              "GE                                            2\n",
              " why to miss them                             1\n",
              "U NO THECD ISV.IMPORTANT TOME 4 2MORO\\\"\"      1\n",
              "i wil tolerat.bcs ur my someone..... But      1\n",
              " ILLSPEAK 2 U2MORO WEN IM NOT ASLEEP...\\\"\"    1\n",
              "whoever is the KING\\\"!... Gud nyt\"            1\n",
              " TX 4 FONIN HON                               1\n",
              " \\\"OH No! COMPETITION\\\". Who knew             1\n",
              "IåÕL CALL U\\\"\"                                1\n",
              "Name: Unnamed: 3, dtype: int64"
            ]
          },
          "metadata": {},
          "execution_count": 10
        }
      ]
    },
    {
      "cell_type": "code",
      "source": [
        "df[\"Unnamed: 4\"].value_counts()"
      ],
      "metadata": {
        "id": "cDEvn1hqqSrv",
        "colab": {
          "base_uri": "https://localhost:8080/"
        },
        "outputId": "6db7e836-3244-4fb0-d19c-bb1fce2178a5"
      },
      "execution_count": 11,
      "outputs": [
        {
          "output_type": "execute_result",
          "data": {
            "text/plain": [
              "GNT:-)\"                                                     2\n",
              " just Keep-in-touch\\\" gdeve..\"                              1\n",
              " Never comfort me with a lie\\\" gud ni8 and sweet dreams\"    1\n",
              " CALL 2MWEN IM BK FRMCLOUD 9! J X\\\"\"                        1\n",
              " one day these two will become FREINDS FOREVER!\"            1\n",
              "Name: Unnamed: 4, dtype: int64"
            ]
          },
          "metadata": {},
          "execution_count": 11
        }
      ]
    },
    {
      "cell_type": "markdown",
      "source": [
        "These columns' non null values are strings that are mostly unique. Since there are so many missing values, these are not informations that are relevant to use when building our model.\n",
        "\n",
        "We'll also check for duplicates in our dataset and remove them."
      ],
      "metadata": {
        "id": "S6wbEqOUqZ28"
      }
    },
    {
      "cell_type": "code",
      "source": [
        "df = df.drop([\"Unnamed: 2\", \"Unnamed: 3\", \"Unnamed: 4\"], axis = 1)\n",
        "df.head()"
      ],
      "metadata": {
        "id": "BHLOfVyfqVvK",
        "colab": {
          "base_uri": "https://localhost:8080/",
          "height": 206
        },
        "outputId": "0c9fca53-c874-4dd6-e095-5a2e45e9c724"
      },
      "execution_count": 12,
      "outputs": [
        {
          "output_type": "execute_result",
          "data": {
            "text/plain": [
              "     v1                                                 v2\n",
              "0   ham  Go until jurong point, crazy.. Available only ...\n",
              "1   ham                      Ok lar... Joking wif u oni...\n",
              "2  spam  Free entry in 2 a wkly comp to win FA Cup fina...\n",
              "3   ham  U dun say so early hor... U c already then say...\n",
              "4   ham  Nah I don't think he goes to usf, he lives aro..."
            ],
            "text/html": [
              "\n",
              "  <div id=\"df-d8e8c039-e758-4a30-9de1-36f876e2ad75\" class=\"colab-df-container\">\n",
              "    <div>\n",
              "<style scoped>\n",
              "    .dataframe tbody tr th:only-of-type {\n",
              "        vertical-align: middle;\n",
              "    }\n",
              "\n",
              "    .dataframe tbody tr th {\n",
              "        vertical-align: top;\n",
              "    }\n",
              "\n",
              "    .dataframe thead th {\n",
              "        text-align: right;\n",
              "    }\n",
              "</style>\n",
              "<table border=\"1\" class=\"dataframe\">\n",
              "  <thead>\n",
              "    <tr style=\"text-align: right;\">\n",
              "      <th></th>\n",
              "      <th>v1</th>\n",
              "      <th>v2</th>\n",
              "    </tr>\n",
              "  </thead>\n",
              "  <tbody>\n",
              "    <tr>\n",
              "      <th>0</th>\n",
              "      <td>ham</td>\n",
              "      <td>Go until jurong point, crazy.. Available only ...</td>\n",
              "    </tr>\n",
              "    <tr>\n",
              "      <th>1</th>\n",
              "      <td>ham</td>\n",
              "      <td>Ok lar... Joking wif u oni...</td>\n",
              "    </tr>\n",
              "    <tr>\n",
              "      <th>2</th>\n",
              "      <td>spam</td>\n",
              "      <td>Free entry in 2 a wkly comp to win FA Cup fina...</td>\n",
              "    </tr>\n",
              "    <tr>\n",
              "      <th>3</th>\n",
              "      <td>ham</td>\n",
              "      <td>U dun say so early hor... U c already then say...</td>\n",
              "    </tr>\n",
              "    <tr>\n",
              "      <th>4</th>\n",
              "      <td>ham</td>\n",
              "      <td>Nah I don't think he goes to usf, he lives aro...</td>\n",
              "    </tr>\n",
              "  </tbody>\n",
              "</table>\n",
              "</div>\n",
              "    <div class=\"colab-df-buttons\">\n",
              "\n",
              "  <div class=\"colab-df-container\">\n",
              "    <button class=\"colab-df-convert\" onclick=\"convertToInteractive('df-d8e8c039-e758-4a30-9de1-36f876e2ad75')\"\n",
              "            title=\"Convert this dataframe to an interactive table.\"\n",
              "            style=\"display:none;\">\n",
              "\n",
              "  <svg xmlns=\"http://www.w3.org/2000/svg\" height=\"24px\" viewBox=\"0 -960 960 960\">\n",
              "    <path d=\"M120-120v-720h720v720H120Zm60-500h600v-160H180v160Zm220 220h160v-160H400v160Zm0 220h160v-160H400v160ZM180-400h160v-160H180v160Zm440 0h160v-160H620v160ZM180-180h160v-160H180v160Zm440 0h160v-160H620v160Z\"/>\n",
              "  </svg>\n",
              "    </button>\n",
              "\n",
              "  <style>\n",
              "    .colab-df-container {\n",
              "      display:flex;\n",
              "      gap: 12px;\n",
              "    }\n",
              "\n",
              "    .colab-df-convert {\n",
              "      background-color: #E8F0FE;\n",
              "      border: none;\n",
              "      border-radius: 50%;\n",
              "      cursor: pointer;\n",
              "      display: none;\n",
              "      fill: #1967D2;\n",
              "      height: 32px;\n",
              "      padding: 0 0 0 0;\n",
              "      width: 32px;\n",
              "    }\n",
              "\n",
              "    .colab-df-convert:hover {\n",
              "      background-color: #E2EBFA;\n",
              "      box-shadow: 0px 1px 2px rgba(60, 64, 67, 0.3), 0px 1px 3px 1px rgba(60, 64, 67, 0.15);\n",
              "      fill: #174EA6;\n",
              "    }\n",
              "\n",
              "    .colab-df-buttons div {\n",
              "      margin-bottom: 4px;\n",
              "    }\n",
              "\n",
              "    [theme=dark] .colab-df-convert {\n",
              "      background-color: #3B4455;\n",
              "      fill: #D2E3FC;\n",
              "    }\n",
              "\n",
              "    [theme=dark] .colab-df-convert:hover {\n",
              "      background-color: #434B5C;\n",
              "      box-shadow: 0px 1px 3px 1px rgba(0, 0, 0, 0.15);\n",
              "      filter: drop-shadow(0px 1px 2px rgba(0, 0, 0, 0.3));\n",
              "      fill: #FFFFFF;\n",
              "    }\n",
              "  </style>\n",
              "\n",
              "    <script>\n",
              "      const buttonEl =\n",
              "        document.querySelector('#df-d8e8c039-e758-4a30-9de1-36f876e2ad75 button.colab-df-convert');\n",
              "      buttonEl.style.display =\n",
              "        google.colab.kernel.accessAllowed ? 'block' : 'none';\n",
              "\n",
              "      async function convertToInteractive(key) {\n",
              "        const element = document.querySelector('#df-d8e8c039-e758-4a30-9de1-36f876e2ad75');\n",
              "        const dataTable =\n",
              "          await google.colab.kernel.invokeFunction('convertToInteractive',\n",
              "                                                    [key], {});\n",
              "        if (!dataTable) return;\n",
              "\n",
              "        const docLinkHtml = 'Like what you see? Visit the ' +\n",
              "          '<a target=\"_blank\" href=https://colab.research.google.com/notebooks/data_table.ipynb>data table notebook</a>'\n",
              "          + ' to learn more about interactive tables.';\n",
              "        element.innerHTML = '';\n",
              "        dataTable['output_type'] = 'display_data';\n",
              "        await google.colab.output.renderOutput(dataTable, element);\n",
              "        const docLink = document.createElement('div');\n",
              "        docLink.innerHTML = docLinkHtml;\n",
              "        element.appendChild(docLink);\n",
              "      }\n",
              "    </script>\n",
              "  </div>\n",
              "\n",
              "\n",
              "<div id=\"df-ff7baea3-8477-406d-9655-04482be7e032\">\n",
              "  <button class=\"colab-df-quickchart\" onclick=\"quickchart('df-ff7baea3-8477-406d-9655-04482be7e032')\"\n",
              "            title=\"Suggest charts\"\n",
              "            style=\"display:none;\">\n",
              "\n",
              "<svg xmlns=\"http://www.w3.org/2000/svg\" height=\"24px\"viewBox=\"0 0 24 24\"\n",
              "     width=\"24px\">\n",
              "    <g>\n",
              "        <path d=\"M19 3H5c-1.1 0-2 .9-2 2v14c0 1.1.9 2 2 2h14c1.1 0 2-.9 2-2V5c0-1.1-.9-2-2-2zM9 17H7v-7h2v7zm4 0h-2V7h2v10zm4 0h-2v-4h2v4z\"/>\n",
              "    </g>\n",
              "</svg>\n",
              "  </button>\n",
              "\n",
              "<style>\n",
              "  .colab-df-quickchart {\n",
              "      --bg-color: #E8F0FE;\n",
              "      --fill-color: #1967D2;\n",
              "      --hover-bg-color: #E2EBFA;\n",
              "      --hover-fill-color: #174EA6;\n",
              "      --disabled-fill-color: #AAA;\n",
              "      --disabled-bg-color: #DDD;\n",
              "  }\n",
              "\n",
              "  [theme=dark] .colab-df-quickchart {\n",
              "      --bg-color: #3B4455;\n",
              "      --fill-color: #D2E3FC;\n",
              "      --hover-bg-color: #434B5C;\n",
              "      --hover-fill-color: #FFFFFF;\n",
              "      --disabled-bg-color: #3B4455;\n",
              "      --disabled-fill-color: #666;\n",
              "  }\n",
              "\n",
              "  .colab-df-quickchart {\n",
              "    background-color: var(--bg-color);\n",
              "    border: none;\n",
              "    border-radius: 50%;\n",
              "    cursor: pointer;\n",
              "    display: none;\n",
              "    fill: var(--fill-color);\n",
              "    height: 32px;\n",
              "    padding: 0;\n",
              "    width: 32px;\n",
              "  }\n",
              "\n",
              "  .colab-df-quickchart:hover {\n",
              "    background-color: var(--hover-bg-color);\n",
              "    box-shadow: 0 1px 2px rgba(60, 64, 67, 0.3), 0 1px 3px 1px rgba(60, 64, 67, 0.15);\n",
              "    fill: var(--button-hover-fill-color);\n",
              "  }\n",
              "\n",
              "  .colab-df-quickchart-complete:disabled,\n",
              "  .colab-df-quickchart-complete:disabled:hover {\n",
              "    background-color: var(--disabled-bg-color);\n",
              "    fill: var(--disabled-fill-color);\n",
              "    box-shadow: none;\n",
              "  }\n",
              "\n",
              "  .colab-df-spinner {\n",
              "    border: 2px solid var(--fill-color);\n",
              "    border-color: transparent;\n",
              "    border-bottom-color: var(--fill-color);\n",
              "    animation:\n",
              "      spin 1s steps(1) infinite;\n",
              "  }\n",
              "\n",
              "  @keyframes spin {\n",
              "    0% {\n",
              "      border-color: transparent;\n",
              "      border-bottom-color: var(--fill-color);\n",
              "      border-left-color: var(--fill-color);\n",
              "    }\n",
              "    20% {\n",
              "      border-color: transparent;\n",
              "      border-left-color: var(--fill-color);\n",
              "      border-top-color: var(--fill-color);\n",
              "    }\n",
              "    30% {\n",
              "      border-color: transparent;\n",
              "      border-left-color: var(--fill-color);\n",
              "      border-top-color: var(--fill-color);\n",
              "      border-right-color: var(--fill-color);\n",
              "    }\n",
              "    40% {\n",
              "      border-color: transparent;\n",
              "      border-right-color: var(--fill-color);\n",
              "      border-top-color: var(--fill-color);\n",
              "    }\n",
              "    60% {\n",
              "      border-color: transparent;\n",
              "      border-right-color: var(--fill-color);\n",
              "    }\n",
              "    80% {\n",
              "      border-color: transparent;\n",
              "      border-right-color: var(--fill-color);\n",
              "      border-bottom-color: var(--fill-color);\n",
              "    }\n",
              "    90% {\n",
              "      border-color: transparent;\n",
              "      border-bottom-color: var(--fill-color);\n",
              "    }\n",
              "  }\n",
              "</style>\n",
              "\n",
              "  <script>\n",
              "    async function quickchart(key) {\n",
              "      const quickchartButtonEl =\n",
              "        document.querySelector('#' + key + ' button');\n",
              "      quickchartButtonEl.disabled = true;  // To prevent multiple clicks.\n",
              "      quickchartButtonEl.classList.add('colab-df-spinner');\n",
              "      try {\n",
              "        const charts = await google.colab.kernel.invokeFunction(\n",
              "            'suggestCharts', [key], {});\n",
              "      } catch (error) {\n",
              "        console.error('Error during call to suggestCharts:', error);\n",
              "      }\n",
              "      quickchartButtonEl.classList.remove('colab-df-spinner');\n",
              "      quickchartButtonEl.classList.add('colab-df-quickchart-complete');\n",
              "    }\n",
              "    (() => {\n",
              "      let quickchartButtonEl =\n",
              "        document.querySelector('#df-ff7baea3-8477-406d-9655-04482be7e032 button');\n",
              "      quickchartButtonEl.style.display =\n",
              "        google.colab.kernel.accessAllowed ? 'block' : 'none';\n",
              "    })();\n",
              "  </script>\n",
              "</div>\n",
              "    </div>\n",
              "  </div>\n"
            ]
          },
          "metadata": {},
          "execution_count": 12
        }
      ]
    },
    {
      "cell_type": "code",
      "source": [
        "df.duplicated().sum()"
      ],
      "metadata": {
        "id": "vwPuGDVOz_Fq",
        "colab": {
          "base_uri": "https://localhost:8080/"
        },
        "outputId": "23303455-2c7f-4e91-c52c-e7b795a87767"
      },
      "execution_count": 13,
      "outputs": [
        {
          "output_type": "execute_result",
          "data": {
            "text/plain": [
              "403"
            ]
          },
          "metadata": {},
          "execution_count": 13
        }
      ]
    },
    {
      "cell_type": "code",
      "source": [
        "# We have 403 duplicate rows\n",
        "df = df.drop_duplicates()"
      ],
      "metadata": {
        "id": "Pz4qE9Mj0Asi"
      },
      "execution_count": 14,
      "outputs": []
    },
    {
      "cell_type": "markdown",
      "source": [
        "We'll rename our columns for a better general understanding, and encode our label into a binary target"
      ],
      "metadata": {
        "id": "OiVXd5kQuwr5"
      }
    },
    {
      "cell_type": "code",
      "source": [
        "df = df.rename(columns = {\"v1\" : \"label\", \"v2\" : \"content\"})\n",
        "df.head()"
      ],
      "metadata": {
        "id": "xu3HxOsfq0jd",
        "colab": {
          "base_uri": "https://localhost:8080/",
          "height": 206
        },
        "outputId": "097e7f87-d49c-4de2-edc9-62a6917b5900"
      },
      "execution_count": 15,
      "outputs": [
        {
          "output_type": "execute_result",
          "data": {
            "text/plain": [
              "  label                                            content\n",
              "0   ham  Go until jurong point, crazy.. Available only ...\n",
              "1   ham                      Ok lar... Joking wif u oni...\n",
              "2  spam  Free entry in 2 a wkly comp to win FA Cup fina...\n",
              "3   ham  U dun say so early hor... U c already then say...\n",
              "4   ham  Nah I don't think he goes to usf, he lives aro..."
            ],
            "text/html": [
              "\n",
              "  <div id=\"df-e1729dc9-4cbd-4a1d-b3d9-405ce2d73835\" class=\"colab-df-container\">\n",
              "    <div>\n",
              "<style scoped>\n",
              "    .dataframe tbody tr th:only-of-type {\n",
              "        vertical-align: middle;\n",
              "    }\n",
              "\n",
              "    .dataframe tbody tr th {\n",
              "        vertical-align: top;\n",
              "    }\n",
              "\n",
              "    .dataframe thead th {\n",
              "        text-align: right;\n",
              "    }\n",
              "</style>\n",
              "<table border=\"1\" class=\"dataframe\">\n",
              "  <thead>\n",
              "    <tr style=\"text-align: right;\">\n",
              "      <th></th>\n",
              "      <th>label</th>\n",
              "      <th>content</th>\n",
              "    </tr>\n",
              "  </thead>\n",
              "  <tbody>\n",
              "    <tr>\n",
              "      <th>0</th>\n",
              "      <td>ham</td>\n",
              "      <td>Go until jurong point, crazy.. Available only ...</td>\n",
              "    </tr>\n",
              "    <tr>\n",
              "      <th>1</th>\n",
              "      <td>ham</td>\n",
              "      <td>Ok lar... Joking wif u oni...</td>\n",
              "    </tr>\n",
              "    <tr>\n",
              "      <th>2</th>\n",
              "      <td>spam</td>\n",
              "      <td>Free entry in 2 a wkly comp to win FA Cup fina...</td>\n",
              "    </tr>\n",
              "    <tr>\n",
              "      <th>3</th>\n",
              "      <td>ham</td>\n",
              "      <td>U dun say so early hor... U c already then say...</td>\n",
              "    </tr>\n",
              "    <tr>\n",
              "      <th>4</th>\n",
              "      <td>ham</td>\n",
              "      <td>Nah I don't think he goes to usf, he lives aro...</td>\n",
              "    </tr>\n",
              "  </tbody>\n",
              "</table>\n",
              "</div>\n",
              "    <div class=\"colab-df-buttons\">\n",
              "\n",
              "  <div class=\"colab-df-container\">\n",
              "    <button class=\"colab-df-convert\" onclick=\"convertToInteractive('df-e1729dc9-4cbd-4a1d-b3d9-405ce2d73835')\"\n",
              "            title=\"Convert this dataframe to an interactive table.\"\n",
              "            style=\"display:none;\">\n",
              "\n",
              "  <svg xmlns=\"http://www.w3.org/2000/svg\" height=\"24px\" viewBox=\"0 -960 960 960\">\n",
              "    <path d=\"M120-120v-720h720v720H120Zm60-500h600v-160H180v160Zm220 220h160v-160H400v160Zm0 220h160v-160H400v160ZM180-400h160v-160H180v160Zm440 0h160v-160H620v160ZM180-180h160v-160H180v160Zm440 0h160v-160H620v160Z\"/>\n",
              "  </svg>\n",
              "    </button>\n",
              "\n",
              "  <style>\n",
              "    .colab-df-container {\n",
              "      display:flex;\n",
              "      gap: 12px;\n",
              "    }\n",
              "\n",
              "    .colab-df-convert {\n",
              "      background-color: #E8F0FE;\n",
              "      border: none;\n",
              "      border-radius: 50%;\n",
              "      cursor: pointer;\n",
              "      display: none;\n",
              "      fill: #1967D2;\n",
              "      height: 32px;\n",
              "      padding: 0 0 0 0;\n",
              "      width: 32px;\n",
              "    }\n",
              "\n",
              "    .colab-df-convert:hover {\n",
              "      background-color: #E2EBFA;\n",
              "      box-shadow: 0px 1px 2px rgba(60, 64, 67, 0.3), 0px 1px 3px 1px rgba(60, 64, 67, 0.15);\n",
              "      fill: #174EA6;\n",
              "    }\n",
              "\n",
              "    .colab-df-buttons div {\n",
              "      margin-bottom: 4px;\n",
              "    }\n",
              "\n",
              "    [theme=dark] .colab-df-convert {\n",
              "      background-color: #3B4455;\n",
              "      fill: #D2E3FC;\n",
              "    }\n",
              "\n",
              "    [theme=dark] .colab-df-convert:hover {\n",
              "      background-color: #434B5C;\n",
              "      box-shadow: 0px 1px 3px 1px rgba(0, 0, 0, 0.15);\n",
              "      filter: drop-shadow(0px 1px 2px rgba(0, 0, 0, 0.3));\n",
              "      fill: #FFFFFF;\n",
              "    }\n",
              "  </style>\n",
              "\n",
              "    <script>\n",
              "      const buttonEl =\n",
              "        document.querySelector('#df-e1729dc9-4cbd-4a1d-b3d9-405ce2d73835 button.colab-df-convert');\n",
              "      buttonEl.style.display =\n",
              "        google.colab.kernel.accessAllowed ? 'block' : 'none';\n",
              "\n",
              "      async function convertToInteractive(key) {\n",
              "        const element = document.querySelector('#df-e1729dc9-4cbd-4a1d-b3d9-405ce2d73835');\n",
              "        const dataTable =\n",
              "          await google.colab.kernel.invokeFunction('convertToInteractive',\n",
              "                                                    [key], {});\n",
              "        if (!dataTable) return;\n",
              "\n",
              "        const docLinkHtml = 'Like what you see? Visit the ' +\n",
              "          '<a target=\"_blank\" href=https://colab.research.google.com/notebooks/data_table.ipynb>data table notebook</a>'\n",
              "          + ' to learn more about interactive tables.';\n",
              "        element.innerHTML = '';\n",
              "        dataTable['output_type'] = 'display_data';\n",
              "        await google.colab.output.renderOutput(dataTable, element);\n",
              "        const docLink = document.createElement('div');\n",
              "        docLink.innerHTML = docLinkHtml;\n",
              "        element.appendChild(docLink);\n",
              "      }\n",
              "    </script>\n",
              "  </div>\n",
              "\n",
              "\n",
              "<div id=\"df-a72b0680-3b5a-4163-b92d-d2c68560ea88\">\n",
              "  <button class=\"colab-df-quickchart\" onclick=\"quickchart('df-a72b0680-3b5a-4163-b92d-d2c68560ea88')\"\n",
              "            title=\"Suggest charts\"\n",
              "            style=\"display:none;\">\n",
              "\n",
              "<svg xmlns=\"http://www.w3.org/2000/svg\" height=\"24px\"viewBox=\"0 0 24 24\"\n",
              "     width=\"24px\">\n",
              "    <g>\n",
              "        <path d=\"M19 3H5c-1.1 0-2 .9-2 2v14c0 1.1.9 2 2 2h14c1.1 0 2-.9 2-2V5c0-1.1-.9-2-2-2zM9 17H7v-7h2v7zm4 0h-2V7h2v10zm4 0h-2v-4h2v4z\"/>\n",
              "    </g>\n",
              "</svg>\n",
              "  </button>\n",
              "\n",
              "<style>\n",
              "  .colab-df-quickchart {\n",
              "      --bg-color: #E8F0FE;\n",
              "      --fill-color: #1967D2;\n",
              "      --hover-bg-color: #E2EBFA;\n",
              "      --hover-fill-color: #174EA6;\n",
              "      --disabled-fill-color: #AAA;\n",
              "      --disabled-bg-color: #DDD;\n",
              "  }\n",
              "\n",
              "  [theme=dark] .colab-df-quickchart {\n",
              "      --bg-color: #3B4455;\n",
              "      --fill-color: #D2E3FC;\n",
              "      --hover-bg-color: #434B5C;\n",
              "      --hover-fill-color: #FFFFFF;\n",
              "      --disabled-bg-color: #3B4455;\n",
              "      --disabled-fill-color: #666;\n",
              "  }\n",
              "\n",
              "  .colab-df-quickchart {\n",
              "    background-color: var(--bg-color);\n",
              "    border: none;\n",
              "    border-radius: 50%;\n",
              "    cursor: pointer;\n",
              "    display: none;\n",
              "    fill: var(--fill-color);\n",
              "    height: 32px;\n",
              "    padding: 0;\n",
              "    width: 32px;\n",
              "  }\n",
              "\n",
              "  .colab-df-quickchart:hover {\n",
              "    background-color: var(--hover-bg-color);\n",
              "    box-shadow: 0 1px 2px rgba(60, 64, 67, 0.3), 0 1px 3px 1px rgba(60, 64, 67, 0.15);\n",
              "    fill: var(--button-hover-fill-color);\n",
              "  }\n",
              "\n",
              "  .colab-df-quickchart-complete:disabled,\n",
              "  .colab-df-quickchart-complete:disabled:hover {\n",
              "    background-color: var(--disabled-bg-color);\n",
              "    fill: var(--disabled-fill-color);\n",
              "    box-shadow: none;\n",
              "  }\n",
              "\n",
              "  .colab-df-spinner {\n",
              "    border: 2px solid var(--fill-color);\n",
              "    border-color: transparent;\n",
              "    border-bottom-color: var(--fill-color);\n",
              "    animation:\n",
              "      spin 1s steps(1) infinite;\n",
              "  }\n",
              "\n",
              "  @keyframes spin {\n",
              "    0% {\n",
              "      border-color: transparent;\n",
              "      border-bottom-color: var(--fill-color);\n",
              "      border-left-color: var(--fill-color);\n",
              "    }\n",
              "    20% {\n",
              "      border-color: transparent;\n",
              "      border-left-color: var(--fill-color);\n",
              "      border-top-color: var(--fill-color);\n",
              "    }\n",
              "    30% {\n",
              "      border-color: transparent;\n",
              "      border-left-color: var(--fill-color);\n",
              "      border-top-color: var(--fill-color);\n",
              "      border-right-color: var(--fill-color);\n",
              "    }\n",
              "    40% {\n",
              "      border-color: transparent;\n",
              "      border-right-color: var(--fill-color);\n",
              "      border-top-color: var(--fill-color);\n",
              "    }\n",
              "    60% {\n",
              "      border-color: transparent;\n",
              "      border-right-color: var(--fill-color);\n",
              "    }\n",
              "    80% {\n",
              "      border-color: transparent;\n",
              "      border-right-color: var(--fill-color);\n",
              "      border-bottom-color: var(--fill-color);\n",
              "    }\n",
              "    90% {\n",
              "      border-color: transparent;\n",
              "      border-bottom-color: var(--fill-color);\n",
              "    }\n",
              "  }\n",
              "</style>\n",
              "\n",
              "  <script>\n",
              "    async function quickchart(key) {\n",
              "      const quickchartButtonEl =\n",
              "        document.querySelector('#' + key + ' button');\n",
              "      quickchartButtonEl.disabled = true;  // To prevent multiple clicks.\n",
              "      quickchartButtonEl.classList.add('colab-df-spinner');\n",
              "      try {\n",
              "        const charts = await google.colab.kernel.invokeFunction(\n",
              "            'suggestCharts', [key], {});\n",
              "      } catch (error) {\n",
              "        console.error('Error during call to suggestCharts:', error);\n",
              "      }\n",
              "      quickchartButtonEl.classList.remove('colab-df-spinner');\n",
              "      quickchartButtonEl.classList.add('colab-df-quickchart-complete');\n",
              "    }\n",
              "    (() => {\n",
              "      let quickchartButtonEl =\n",
              "        document.querySelector('#df-a72b0680-3b5a-4163-b92d-d2c68560ea88 button');\n",
              "      quickchartButtonEl.style.display =\n",
              "        google.colab.kernel.accessAllowed ? 'block' : 'none';\n",
              "    })();\n",
              "  </script>\n",
              "</div>\n",
              "    </div>\n",
              "  </div>\n"
            ]
          },
          "metadata": {},
          "execution_count": 15
        }
      ]
    },
    {
      "cell_type": "code",
      "source": [
        "df[\"target\"] = df[\"label\"].apply(lambda x : 0 if x == \"ham\" else 1)\n",
        "df.head()"
      ],
      "metadata": {
        "id": "YnXUi-vDspXn",
        "colab": {
          "base_uri": "https://localhost:8080/",
          "height": 206
        },
        "outputId": "95fcc106-f576-4d9a-ca9e-65eccf3b509a"
      },
      "execution_count": 16,
      "outputs": [
        {
          "output_type": "execute_result",
          "data": {
            "text/plain": [
              "  label                                            content  target\n",
              "0   ham  Go until jurong point, crazy.. Available only ...       0\n",
              "1   ham                      Ok lar... Joking wif u oni...       0\n",
              "2  spam  Free entry in 2 a wkly comp to win FA Cup fina...       1\n",
              "3   ham  U dun say so early hor... U c already then say...       0\n",
              "4   ham  Nah I don't think he goes to usf, he lives aro...       0"
            ],
            "text/html": [
              "\n",
              "  <div id=\"df-e9569f1f-3f96-48f0-8030-7bae582fef63\" class=\"colab-df-container\">\n",
              "    <div>\n",
              "<style scoped>\n",
              "    .dataframe tbody tr th:only-of-type {\n",
              "        vertical-align: middle;\n",
              "    }\n",
              "\n",
              "    .dataframe tbody tr th {\n",
              "        vertical-align: top;\n",
              "    }\n",
              "\n",
              "    .dataframe thead th {\n",
              "        text-align: right;\n",
              "    }\n",
              "</style>\n",
              "<table border=\"1\" class=\"dataframe\">\n",
              "  <thead>\n",
              "    <tr style=\"text-align: right;\">\n",
              "      <th></th>\n",
              "      <th>label</th>\n",
              "      <th>content</th>\n",
              "      <th>target</th>\n",
              "    </tr>\n",
              "  </thead>\n",
              "  <tbody>\n",
              "    <tr>\n",
              "      <th>0</th>\n",
              "      <td>ham</td>\n",
              "      <td>Go until jurong point, crazy.. Available only ...</td>\n",
              "      <td>0</td>\n",
              "    </tr>\n",
              "    <tr>\n",
              "      <th>1</th>\n",
              "      <td>ham</td>\n",
              "      <td>Ok lar... Joking wif u oni...</td>\n",
              "      <td>0</td>\n",
              "    </tr>\n",
              "    <tr>\n",
              "      <th>2</th>\n",
              "      <td>spam</td>\n",
              "      <td>Free entry in 2 a wkly comp to win FA Cup fina...</td>\n",
              "      <td>1</td>\n",
              "    </tr>\n",
              "    <tr>\n",
              "      <th>3</th>\n",
              "      <td>ham</td>\n",
              "      <td>U dun say so early hor... U c already then say...</td>\n",
              "      <td>0</td>\n",
              "    </tr>\n",
              "    <tr>\n",
              "      <th>4</th>\n",
              "      <td>ham</td>\n",
              "      <td>Nah I don't think he goes to usf, he lives aro...</td>\n",
              "      <td>0</td>\n",
              "    </tr>\n",
              "  </tbody>\n",
              "</table>\n",
              "</div>\n",
              "    <div class=\"colab-df-buttons\">\n",
              "\n",
              "  <div class=\"colab-df-container\">\n",
              "    <button class=\"colab-df-convert\" onclick=\"convertToInteractive('df-e9569f1f-3f96-48f0-8030-7bae582fef63')\"\n",
              "            title=\"Convert this dataframe to an interactive table.\"\n",
              "            style=\"display:none;\">\n",
              "\n",
              "  <svg xmlns=\"http://www.w3.org/2000/svg\" height=\"24px\" viewBox=\"0 -960 960 960\">\n",
              "    <path d=\"M120-120v-720h720v720H120Zm60-500h600v-160H180v160Zm220 220h160v-160H400v160Zm0 220h160v-160H400v160ZM180-400h160v-160H180v160Zm440 0h160v-160H620v160ZM180-180h160v-160H180v160Zm440 0h160v-160H620v160Z\"/>\n",
              "  </svg>\n",
              "    </button>\n",
              "\n",
              "  <style>\n",
              "    .colab-df-container {\n",
              "      display:flex;\n",
              "      gap: 12px;\n",
              "    }\n",
              "\n",
              "    .colab-df-convert {\n",
              "      background-color: #E8F0FE;\n",
              "      border: none;\n",
              "      border-radius: 50%;\n",
              "      cursor: pointer;\n",
              "      display: none;\n",
              "      fill: #1967D2;\n",
              "      height: 32px;\n",
              "      padding: 0 0 0 0;\n",
              "      width: 32px;\n",
              "    }\n",
              "\n",
              "    .colab-df-convert:hover {\n",
              "      background-color: #E2EBFA;\n",
              "      box-shadow: 0px 1px 2px rgba(60, 64, 67, 0.3), 0px 1px 3px 1px rgba(60, 64, 67, 0.15);\n",
              "      fill: #174EA6;\n",
              "    }\n",
              "\n",
              "    .colab-df-buttons div {\n",
              "      margin-bottom: 4px;\n",
              "    }\n",
              "\n",
              "    [theme=dark] .colab-df-convert {\n",
              "      background-color: #3B4455;\n",
              "      fill: #D2E3FC;\n",
              "    }\n",
              "\n",
              "    [theme=dark] .colab-df-convert:hover {\n",
              "      background-color: #434B5C;\n",
              "      box-shadow: 0px 1px 3px 1px rgba(0, 0, 0, 0.15);\n",
              "      filter: drop-shadow(0px 1px 2px rgba(0, 0, 0, 0.3));\n",
              "      fill: #FFFFFF;\n",
              "    }\n",
              "  </style>\n",
              "\n",
              "    <script>\n",
              "      const buttonEl =\n",
              "        document.querySelector('#df-e9569f1f-3f96-48f0-8030-7bae582fef63 button.colab-df-convert');\n",
              "      buttonEl.style.display =\n",
              "        google.colab.kernel.accessAllowed ? 'block' : 'none';\n",
              "\n",
              "      async function convertToInteractive(key) {\n",
              "        const element = document.querySelector('#df-e9569f1f-3f96-48f0-8030-7bae582fef63');\n",
              "        const dataTable =\n",
              "          await google.colab.kernel.invokeFunction('convertToInteractive',\n",
              "                                                    [key], {});\n",
              "        if (!dataTable) return;\n",
              "\n",
              "        const docLinkHtml = 'Like what you see? Visit the ' +\n",
              "          '<a target=\"_blank\" href=https://colab.research.google.com/notebooks/data_table.ipynb>data table notebook</a>'\n",
              "          + ' to learn more about interactive tables.';\n",
              "        element.innerHTML = '';\n",
              "        dataTable['output_type'] = 'display_data';\n",
              "        await google.colab.output.renderOutput(dataTable, element);\n",
              "        const docLink = document.createElement('div');\n",
              "        docLink.innerHTML = docLinkHtml;\n",
              "        element.appendChild(docLink);\n",
              "      }\n",
              "    </script>\n",
              "  </div>\n",
              "\n",
              "\n",
              "<div id=\"df-f4f9b91d-ade5-4b6b-ab5b-e6ddd9965908\">\n",
              "  <button class=\"colab-df-quickchart\" onclick=\"quickchart('df-f4f9b91d-ade5-4b6b-ab5b-e6ddd9965908')\"\n",
              "            title=\"Suggest charts\"\n",
              "            style=\"display:none;\">\n",
              "\n",
              "<svg xmlns=\"http://www.w3.org/2000/svg\" height=\"24px\"viewBox=\"0 0 24 24\"\n",
              "     width=\"24px\">\n",
              "    <g>\n",
              "        <path d=\"M19 3H5c-1.1 0-2 .9-2 2v14c0 1.1.9 2 2 2h14c1.1 0 2-.9 2-2V5c0-1.1-.9-2-2-2zM9 17H7v-7h2v7zm4 0h-2V7h2v10zm4 0h-2v-4h2v4z\"/>\n",
              "    </g>\n",
              "</svg>\n",
              "  </button>\n",
              "\n",
              "<style>\n",
              "  .colab-df-quickchart {\n",
              "      --bg-color: #E8F0FE;\n",
              "      --fill-color: #1967D2;\n",
              "      --hover-bg-color: #E2EBFA;\n",
              "      --hover-fill-color: #174EA6;\n",
              "      --disabled-fill-color: #AAA;\n",
              "      --disabled-bg-color: #DDD;\n",
              "  }\n",
              "\n",
              "  [theme=dark] .colab-df-quickchart {\n",
              "      --bg-color: #3B4455;\n",
              "      --fill-color: #D2E3FC;\n",
              "      --hover-bg-color: #434B5C;\n",
              "      --hover-fill-color: #FFFFFF;\n",
              "      --disabled-bg-color: #3B4455;\n",
              "      --disabled-fill-color: #666;\n",
              "  }\n",
              "\n",
              "  .colab-df-quickchart {\n",
              "    background-color: var(--bg-color);\n",
              "    border: none;\n",
              "    border-radius: 50%;\n",
              "    cursor: pointer;\n",
              "    display: none;\n",
              "    fill: var(--fill-color);\n",
              "    height: 32px;\n",
              "    padding: 0;\n",
              "    width: 32px;\n",
              "  }\n",
              "\n",
              "  .colab-df-quickchart:hover {\n",
              "    background-color: var(--hover-bg-color);\n",
              "    box-shadow: 0 1px 2px rgba(60, 64, 67, 0.3), 0 1px 3px 1px rgba(60, 64, 67, 0.15);\n",
              "    fill: var(--button-hover-fill-color);\n",
              "  }\n",
              "\n",
              "  .colab-df-quickchart-complete:disabled,\n",
              "  .colab-df-quickchart-complete:disabled:hover {\n",
              "    background-color: var(--disabled-bg-color);\n",
              "    fill: var(--disabled-fill-color);\n",
              "    box-shadow: none;\n",
              "  }\n",
              "\n",
              "  .colab-df-spinner {\n",
              "    border: 2px solid var(--fill-color);\n",
              "    border-color: transparent;\n",
              "    border-bottom-color: var(--fill-color);\n",
              "    animation:\n",
              "      spin 1s steps(1) infinite;\n",
              "  }\n",
              "\n",
              "  @keyframes spin {\n",
              "    0% {\n",
              "      border-color: transparent;\n",
              "      border-bottom-color: var(--fill-color);\n",
              "      border-left-color: var(--fill-color);\n",
              "    }\n",
              "    20% {\n",
              "      border-color: transparent;\n",
              "      border-left-color: var(--fill-color);\n",
              "      border-top-color: var(--fill-color);\n",
              "    }\n",
              "    30% {\n",
              "      border-color: transparent;\n",
              "      border-left-color: var(--fill-color);\n",
              "      border-top-color: var(--fill-color);\n",
              "      border-right-color: var(--fill-color);\n",
              "    }\n",
              "    40% {\n",
              "      border-color: transparent;\n",
              "      border-right-color: var(--fill-color);\n",
              "      border-top-color: var(--fill-color);\n",
              "    }\n",
              "    60% {\n",
              "      border-color: transparent;\n",
              "      border-right-color: var(--fill-color);\n",
              "    }\n",
              "    80% {\n",
              "      border-color: transparent;\n",
              "      border-right-color: var(--fill-color);\n",
              "      border-bottom-color: var(--fill-color);\n",
              "    }\n",
              "    90% {\n",
              "      border-color: transparent;\n",
              "      border-bottom-color: var(--fill-color);\n",
              "    }\n",
              "  }\n",
              "</style>\n",
              "\n",
              "  <script>\n",
              "    async function quickchart(key) {\n",
              "      const quickchartButtonEl =\n",
              "        document.querySelector('#' + key + ' button');\n",
              "      quickchartButtonEl.disabled = true;  // To prevent multiple clicks.\n",
              "      quickchartButtonEl.classList.add('colab-df-spinner');\n",
              "      try {\n",
              "        const charts = await google.colab.kernel.invokeFunction(\n",
              "            'suggestCharts', [key], {});\n",
              "      } catch (error) {\n",
              "        console.error('Error during call to suggestCharts:', error);\n",
              "      }\n",
              "      quickchartButtonEl.classList.remove('colab-df-spinner');\n",
              "      quickchartButtonEl.classList.add('colab-df-quickchart-complete');\n",
              "    }\n",
              "    (() => {\n",
              "      let quickchartButtonEl =\n",
              "        document.querySelector('#df-f4f9b91d-ade5-4b6b-ab5b-e6ddd9965908 button');\n",
              "      quickchartButtonEl.style.display =\n",
              "        google.colab.kernel.accessAllowed ? 'block' : 'none';\n",
              "    })();\n",
              "  </script>\n",
              "</div>\n",
              "    </div>\n",
              "  </div>\n"
            ]
          },
          "metadata": {},
          "execution_count": 16
        }
      ]
    },
    {
      "cell_type": "code",
      "source": [
        "df[\"label\"].value_counts().to_list() == df[\"target\"].value_counts().to_list()"
      ],
      "metadata": {
        "id": "Y4fODk-oy1JD",
        "colab": {
          "base_uri": "https://localhost:8080/"
        },
        "outputId": "d8a08e47-e94c-446a-8a4e-810d76f314e9"
      },
      "execution_count": 17,
      "outputs": [
        {
          "output_type": "execute_result",
          "data": {
            "text/plain": [
              "True"
            ]
          },
          "metadata": {},
          "execution_count": 17
        }
      ]
    },
    {
      "cell_type": "markdown",
      "source": [
        "We need to observe the distribution of our data : if we have a very imbalanced proportion of each category, this might affect the performances of our model."
      ],
      "metadata": {
        "id": "k4bkUQ9H0RGc"
      }
    },
    {
      "cell_type": "code",
      "source": [
        "df.label.value_counts(normalize = True)"
      ],
      "metadata": {
        "id": "m9XSs94ezwh1",
        "colab": {
          "base_uri": "https://localhost:8080/"
        },
        "outputId": "1b3c8597-1716-4dc6-a928-a1203bb8910e"
      },
      "execution_count": 18,
      "outputs": [
        {
          "output_type": "execute_result",
          "data": {
            "text/plain": [
              "ham     0.87367\n",
              "spam    0.12633\n",
              "Name: label, dtype: float64"
            ]
          },
          "metadata": {},
          "execution_count": 18
        }
      ]
    },
    {
      "cell_type": "code",
      "source": [
        "plt.figure(figsize=(8, 6))\n",
        "sns.countplot(data = df, x = 'label')\n",
        "plt.title('Distribution of Ham and Spam email messages')\n",
        "plt.xlabel('Message types')\n",
        "plt.show()"
      ],
      "metadata": {
        "id": "r67sjMBp0rxn",
        "colab": {
          "base_uri": "https://localhost:8080/",
          "height": 564
        },
        "outputId": "b83f8251-5ddd-4396-de4a-481f846b81ec"
      },
      "execution_count": 19,
      "outputs": [
        {
          "output_type": "display_data",
          "data": {
            "text/plain": [
              "<Figure size 800x600 with 1 Axes>"
            ],
            "image/png": "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\n"
          },
          "metadata": {}
        }
      ]
    },
    {
      "cell_type": "markdown",
      "source": [
        "This shows how imbalanced our data is : we have a lot less spam than legit mail in the dataset.\n",
        "\n",
        "This means 2 things for us :    \n",
        "\n",
        "\n",
        "*   First, it will be absolutely necessary to stratify our train-test-split\n",
        "*   Second, if our model has an accuracy of approximately 0.88, this might not mean that it performs well but rather that is always predicts a mail as ham, and therefore never detects spam!\n",
        "\n",
        "If our model performance in the end is not great, we might need to resample our dataset to have balanced proportions of each target.\n",
        "\n"
      ],
      "metadata": {
        "id": "vVXh3KIy1LfG"
      }
    },
    {
      "cell_type": "markdown",
      "source": [
        "One useful visualization for NLP is wordclouds : let's produce wordclouds for both our targets and see if something stands out."
      ],
      "metadata": {
        "id": "UyWfg_dk1uxX"
      }
    },
    {
      "cell_type": "code",
      "source": [
        "def plot_word_cloud(data, label):\n",
        "    email_corpus = \" \".join(data['content'])\n",
        "\n",
        "    plt.figure(figsize=(7, 7))\n",
        "\n",
        "    wc = WordCloud(background_color='black',\n",
        "                   max_words=100,\n",
        "                   width=800,\n",
        "                   height=400,\n",
        "                   collocations = False).generate(email_corpus)\n",
        "\n",
        "    plt.imshow(wc, interpolation='bilinear')\n",
        "    plt.title(f'WordCloud for {label} emails', fontsize=15)\n",
        "    plt.axis('off')\n",
        "    plt.show()\n",
        "\n",
        "plot_word_cloud(df[df[\"label\"] == \"ham\"], 'Non-Spam')\n",
        "plot_word_cloud(df[df[\"label\"] == \"spam\"], 'Spam')"
      ],
      "metadata": {
        "id": "2U7a-PwJ06zK",
        "colab": {
          "base_uri": "https://localhost:8080/",
          "height": 647
        },
        "outputId": "e90372a7-5d3b-4664-ace4-bef8163142d8"
      },
      "execution_count": 20,
      "outputs": [
        {
          "output_type": "display_data",
          "data": {
            "text/plain": [
              "<Figure size 700x700 with 1 Axes>"
            ],
            "image/png": "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\n"
          },
          "metadata": {}
        },
        {
          "output_type": "display_data",
          "data": {
            "text/plain": [
              "<Figure size 700x700 with 1 Axes>"
            ],
            "image/png": "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\n"
          },
          "metadata": {}
        }
      ]
    },
    {
      "cell_type": "markdown",
      "source": [
        "That's a pretty interesting (and expected) result : spam mails tend to contain high frequencies of words such as \"free\", \"claim, \"prize\", \"win\", \"call\", \"urgent\", that are typical clickbaits."
      ],
      "metadata": {
        "id": "mqzj7T6z4ZGF"
      }
    },
    {
      "cell_type": "markdown",
      "source": [
        "# 2. Text preprocessing\n",
        "\n",
        "Before training a Deep Learning model on our data, we need to transform our raw text into a clean and tokenized format.\n",
        "\n",
        "We will :\n",
        "- remove all punctuation or special characters and keep only alphanumerical characters, single whitespaces and apostrophes\n",
        "- put everything in lower case and remove excess whitespaces at the beginning or end of each text\n",
        "- remove stop words\n",
        "- replace each word with its lemmatized token"
      ],
      "metadata": {
        "id": "K_MQnJys6nM8"
      }
    },
    {
      "cell_type": "code",
      "source": [
        "nlp = en_core_web_sm.load()"
      ],
      "metadata": {
        "id": "fWLKv7LnGX3f"
      },
      "execution_count": 21,
      "outputs": []
    },
    {
      "cell_type": "code",
      "source": [
        "df[\"clean_content\"] = df[\"content\"].apply(lambda x:''.join(ch for ch in x if ch.isalnum() or ch == \" \" or ch == \"'\"))\n",
        "df[\"clean_content\"] = df[\"clean_content\"].apply(lambda x : x.replace(\" +\", \" \").lower().strip())\n",
        "df[\"clean_content\"] = df[\"clean_content\"].apply(lambda x : \" \".join([token.lemma_ for token in nlp(x) if (token.text not in STOP_WORDS) & (token.lemma_ not in STOP_WORDS)]))\n",
        "df"
      ],
      "metadata": {
        "id": "09pAUVuuBqfW",
        "colab": {
          "base_uri": "https://localhost:8080/",
          "height": 424
        },
        "outputId": "1c8ee358-ee1f-401c-f855-8b9c4ee14bda"
      },
      "execution_count": 22,
      "outputs": [
        {
          "output_type": "execute_result",
          "data": {
            "text/plain": [
              "     label                                            content  target  \\\n",
              "0      ham  Go until jurong point, crazy.. Available only ...       0   \n",
              "1      ham                      Ok lar... Joking wif u oni...       0   \n",
              "2     spam  Free entry in 2 a wkly comp to win FA Cup fina...       1   \n",
              "3      ham  U dun say so early hor... U c already then say...       0   \n",
              "4      ham  Nah I don't think he goes to usf, he lives aro...       0   \n",
              "...    ...                                                ...     ...   \n",
              "5567  spam  This is the 2nd time we have tried 2 contact u...       1   \n",
              "5568   ham              Will Ì_ b going to esplanade fr home?       0   \n",
              "5569   ham  Pity, * was in mood for that. So...any other s...       0   \n",
              "5570   ham  The guy did some bitching but I acted like i'd...       0   \n",
              "5571   ham                         Rofl. Its true to its name       0   \n",
              "\n",
              "                                          clean_content  \n",
              "0     jurong point crazy available bugis n great wor...  \n",
              "1                                 ok lar joke wif u oni  \n",
              "2     free entry 2 wkly comp win fa cup final tkts 2...  \n",
              "3                                   u dun early hor u c  \n",
              "4                                    nah think usf live  \n",
              "...                                                 ...  \n",
              "5567  2nd time try 2 contact u u win å750 pound priz...  \n",
              "5568                              ì b esplanade fr home  \n",
              "5569                       pity   mood soany suggestion  \n",
              "5570     guy bitching act like interested buy week free  \n",
              "5571                                          rofl true  \n",
              "\n",
              "[5169 rows x 4 columns]"
            ],
            "text/html": [
              "\n",
              "  <div id=\"df-06e31129-897b-4b44-8789-d7f4150f573a\" class=\"colab-df-container\">\n",
              "    <div>\n",
              "<style scoped>\n",
              "    .dataframe tbody tr th:only-of-type {\n",
              "        vertical-align: middle;\n",
              "    }\n",
              "\n",
              "    .dataframe tbody tr th {\n",
              "        vertical-align: top;\n",
              "    }\n",
              "\n",
              "    .dataframe thead th {\n",
              "        text-align: right;\n",
              "    }\n",
              "</style>\n",
              "<table border=\"1\" class=\"dataframe\">\n",
              "  <thead>\n",
              "    <tr style=\"text-align: right;\">\n",
              "      <th></th>\n",
              "      <th>label</th>\n",
              "      <th>content</th>\n",
              "      <th>target</th>\n",
              "      <th>clean_content</th>\n",
              "    </tr>\n",
              "  </thead>\n",
              "  <tbody>\n",
              "    <tr>\n",
              "      <th>0</th>\n",
              "      <td>ham</td>\n",
              "      <td>Go until jurong point, crazy.. Available only ...</td>\n",
              "      <td>0</td>\n",
              "      <td>jurong point crazy available bugis n great wor...</td>\n",
              "    </tr>\n",
              "    <tr>\n",
              "      <th>1</th>\n",
              "      <td>ham</td>\n",
              "      <td>Ok lar... Joking wif u oni...</td>\n",
              "      <td>0</td>\n",
              "      <td>ok lar joke wif u oni</td>\n",
              "    </tr>\n",
              "    <tr>\n",
              "      <th>2</th>\n",
              "      <td>spam</td>\n",
              "      <td>Free entry in 2 a wkly comp to win FA Cup fina...</td>\n",
              "      <td>1</td>\n",
              "      <td>free entry 2 wkly comp win fa cup final tkts 2...</td>\n",
              "    </tr>\n",
              "    <tr>\n",
              "      <th>3</th>\n",
              "      <td>ham</td>\n",
              "      <td>U dun say so early hor... U c already then say...</td>\n",
              "      <td>0</td>\n",
              "      <td>u dun early hor u c</td>\n",
              "    </tr>\n",
              "    <tr>\n",
              "      <th>4</th>\n",
              "      <td>ham</td>\n",
              "      <td>Nah I don't think he goes to usf, he lives aro...</td>\n",
              "      <td>0</td>\n",
              "      <td>nah think usf live</td>\n",
              "    </tr>\n",
              "    <tr>\n",
              "      <th>...</th>\n",
              "      <td>...</td>\n",
              "      <td>...</td>\n",
              "      <td>...</td>\n",
              "      <td>...</td>\n",
              "    </tr>\n",
              "    <tr>\n",
              "      <th>5567</th>\n",
              "      <td>spam</td>\n",
              "      <td>This is the 2nd time we have tried 2 contact u...</td>\n",
              "      <td>1</td>\n",
              "      <td>2nd time try 2 contact u u win å750 pound priz...</td>\n",
              "    </tr>\n",
              "    <tr>\n",
              "      <th>5568</th>\n",
              "      <td>ham</td>\n",
              "      <td>Will Ì_ b going to esplanade fr home?</td>\n",
              "      <td>0</td>\n",
              "      <td>ì b esplanade fr home</td>\n",
              "    </tr>\n",
              "    <tr>\n",
              "      <th>5569</th>\n",
              "      <td>ham</td>\n",
              "      <td>Pity, * was in mood for that. So...any other s...</td>\n",
              "      <td>0</td>\n",
              "      <td>pity   mood soany suggestion</td>\n",
              "    </tr>\n",
              "    <tr>\n",
              "      <th>5570</th>\n",
              "      <td>ham</td>\n",
              "      <td>The guy did some bitching but I acted like i'd...</td>\n",
              "      <td>0</td>\n",
              "      <td>guy bitching act like interested buy week free</td>\n",
              "    </tr>\n",
              "    <tr>\n",
              "      <th>5571</th>\n",
              "      <td>ham</td>\n",
              "      <td>Rofl. Its true to its name</td>\n",
              "      <td>0</td>\n",
              "      <td>rofl true</td>\n",
              "    </tr>\n",
              "  </tbody>\n",
              "</table>\n",
              "<p>5169 rows × 4 columns</p>\n",
              "</div>\n",
              "    <div class=\"colab-df-buttons\">\n",
              "\n",
              "  <div class=\"colab-df-container\">\n",
              "    <button class=\"colab-df-convert\" onclick=\"convertToInteractive('df-06e31129-897b-4b44-8789-d7f4150f573a')\"\n",
              "            title=\"Convert this dataframe to an interactive table.\"\n",
              "            style=\"display:none;\">\n",
              "\n",
              "  <svg xmlns=\"http://www.w3.org/2000/svg\" height=\"24px\" viewBox=\"0 -960 960 960\">\n",
              "    <path d=\"M120-120v-720h720v720H120Zm60-500h600v-160H180v160Zm220 220h160v-160H400v160Zm0 220h160v-160H400v160ZM180-400h160v-160H180v160Zm440 0h160v-160H620v160ZM180-180h160v-160H180v160Zm440 0h160v-160H620v160Z\"/>\n",
              "  </svg>\n",
              "    </button>\n",
              "\n",
              "  <style>\n",
              "    .colab-df-container {\n",
              "      display:flex;\n",
              "      gap: 12px;\n",
              "    }\n",
              "\n",
              "    .colab-df-convert {\n",
              "      background-color: #E8F0FE;\n",
              "      border: none;\n",
              "      border-radius: 50%;\n",
              "      cursor: pointer;\n",
              "      display: none;\n",
              "      fill: #1967D2;\n",
              "      height: 32px;\n",
              "      padding: 0 0 0 0;\n",
              "      width: 32px;\n",
              "    }\n",
              "\n",
              "    .colab-df-convert:hover {\n",
              "      background-color: #E2EBFA;\n",
              "      box-shadow: 0px 1px 2px rgba(60, 64, 67, 0.3), 0px 1px 3px 1px rgba(60, 64, 67, 0.15);\n",
              "      fill: #174EA6;\n",
              "    }\n",
              "\n",
              "    .colab-df-buttons div {\n",
              "      margin-bottom: 4px;\n",
              "    }\n",
              "\n",
              "    [theme=dark] .colab-df-convert {\n",
              "      background-color: #3B4455;\n",
              "      fill: #D2E3FC;\n",
              "    }\n",
              "\n",
              "    [theme=dark] .colab-df-convert:hover {\n",
              "      background-color: #434B5C;\n",
              "      box-shadow: 0px 1px 3px 1px rgba(0, 0, 0, 0.15);\n",
              "      filter: drop-shadow(0px 1px 2px rgba(0, 0, 0, 0.3));\n",
              "      fill: #FFFFFF;\n",
              "    }\n",
              "  </style>\n",
              "\n",
              "    <script>\n",
              "      const buttonEl =\n",
              "        document.querySelector('#df-06e31129-897b-4b44-8789-d7f4150f573a button.colab-df-convert');\n",
              "      buttonEl.style.display =\n",
              "        google.colab.kernel.accessAllowed ? 'block' : 'none';\n",
              "\n",
              "      async function convertToInteractive(key) {\n",
              "        const element = document.querySelector('#df-06e31129-897b-4b44-8789-d7f4150f573a');\n",
              "        const dataTable =\n",
              "          await google.colab.kernel.invokeFunction('convertToInteractive',\n",
              "                                                    [key], {});\n",
              "        if (!dataTable) return;\n",
              "\n",
              "        const docLinkHtml = 'Like what you see? Visit the ' +\n",
              "          '<a target=\"_blank\" href=https://colab.research.google.com/notebooks/data_table.ipynb>data table notebook</a>'\n",
              "          + ' to learn more about interactive tables.';\n",
              "        element.innerHTML = '';\n",
              "        dataTable['output_type'] = 'display_data';\n",
              "        await google.colab.output.renderOutput(dataTable, element);\n",
              "        const docLink = document.createElement('div');\n",
              "        docLink.innerHTML = docLinkHtml;\n",
              "        element.appendChild(docLink);\n",
              "      }\n",
              "    </script>\n",
              "  </div>\n",
              "\n",
              "\n",
              "<div id=\"df-41337422-a1bc-425f-869f-817ae3749167\">\n",
              "  <button class=\"colab-df-quickchart\" onclick=\"quickchart('df-41337422-a1bc-425f-869f-817ae3749167')\"\n",
              "            title=\"Suggest charts\"\n",
              "            style=\"display:none;\">\n",
              "\n",
              "<svg xmlns=\"http://www.w3.org/2000/svg\" height=\"24px\"viewBox=\"0 0 24 24\"\n",
              "     width=\"24px\">\n",
              "    <g>\n",
              "        <path d=\"M19 3H5c-1.1 0-2 .9-2 2v14c0 1.1.9 2 2 2h14c1.1 0 2-.9 2-2V5c0-1.1-.9-2-2-2zM9 17H7v-7h2v7zm4 0h-2V7h2v10zm4 0h-2v-4h2v4z\"/>\n",
              "    </g>\n",
              "</svg>\n",
              "  </button>\n",
              "\n",
              "<style>\n",
              "  .colab-df-quickchart {\n",
              "      --bg-color: #E8F0FE;\n",
              "      --fill-color: #1967D2;\n",
              "      --hover-bg-color: #E2EBFA;\n",
              "      --hover-fill-color: #174EA6;\n",
              "      --disabled-fill-color: #AAA;\n",
              "      --disabled-bg-color: #DDD;\n",
              "  }\n",
              "\n",
              "  [theme=dark] .colab-df-quickchart {\n",
              "      --bg-color: #3B4455;\n",
              "      --fill-color: #D2E3FC;\n",
              "      --hover-bg-color: #434B5C;\n",
              "      --hover-fill-color: #FFFFFF;\n",
              "      --disabled-bg-color: #3B4455;\n",
              "      --disabled-fill-color: #666;\n",
              "  }\n",
              "\n",
              "  .colab-df-quickchart {\n",
              "    background-color: var(--bg-color);\n",
              "    border: none;\n",
              "    border-radius: 50%;\n",
              "    cursor: pointer;\n",
              "    display: none;\n",
              "    fill: var(--fill-color);\n",
              "    height: 32px;\n",
              "    padding: 0;\n",
              "    width: 32px;\n",
              "  }\n",
              "\n",
              "  .colab-df-quickchart:hover {\n",
              "    background-color: var(--hover-bg-color);\n",
              "    box-shadow: 0 1px 2px rgba(60, 64, 67, 0.3), 0 1px 3px 1px rgba(60, 64, 67, 0.15);\n",
              "    fill: var(--button-hover-fill-color);\n",
              "  }\n",
              "\n",
              "  .colab-df-quickchart-complete:disabled,\n",
              "  .colab-df-quickchart-complete:disabled:hover {\n",
              "    background-color: var(--disabled-bg-color);\n",
              "    fill: var(--disabled-fill-color);\n",
              "    box-shadow: none;\n",
              "  }\n",
              "\n",
              "  .colab-df-spinner {\n",
              "    border: 2px solid var(--fill-color);\n",
              "    border-color: transparent;\n",
              "    border-bottom-color: var(--fill-color);\n",
              "    animation:\n",
              "      spin 1s steps(1) infinite;\n",
              "  }\n",
              "\n",
              "  @keyframes spin {\n",
              "    0% {\n",
              "      border-color: transparent;\n",
              "      border-bottom-color: var(--fill-color);\n",
              "      border-left-color: var(--fill-color);\n",
              "    }\n",
              "    20% {\n",
              "      border-color: transparent;\n",
              "      border-left-color: var(--fill-color);\n",
              "      border-top-color: var(--fill-color);\n",
              "    }\n",
              "    30% {\n",
              "      border-color: transparent;\n",
              "      border-left-color: var(--fill-color);\n",
              "      border-top-color: var(--fill-color);\n",
              "      border-right-color: var(--fill-color);\n",
              "    }\n",
              "    40% {\n",
              "      border-color: transparent;\n",
              "      border-right-color: var(--fill-color);\n",
              "      border-top-color: var(--fill-color);\n",
              "    }\n",
              "    60% {\n",
              "      border-color: transparent;\n",
              "      border-right-color: var(--fill-color);\n",
              "    }\n",
              "    80% {\n",
              "      border-color: transparent;\n",
              "      border-right-color: var(--fill-color);\n",
              "      border-bottom-color: var(--fill-color);\n",
              "    }\n",
              "    90% {\n",
              "      border-color: transparent;\n",
              "      border-bottom-color: var(--fill-color);\n",
              "    }\n",
              "  }\n",
              "</style>\n",
              "\n",
              "  <script>\n",
              "    async function quickchart(key) {\n",
              "      const quickchartButtonEl =\n",
              "        document.querySelector('#' + key + ' button');\n",
              "      quickchartButtonEl.disabled = true;  // To prevent multiple clicks.\n",
              "      quickchartButtonEl.classList.add('colab-df-spinner');\n",
              "      try {\n",
              "        const charts = await google.colab.kernel.invokeFunction(\n",
              "            'suggestCharts', [key], {});\n",
              "      } catch (error) {\n",
              "        console.error('Error during call to suggestCharts:', error);\n",
              "      }\n",
              "      quickchartButtonEl.classList.remove('colab-df-spinner');\n",
              "      quickchartButtonEl.classList.add('colab-df-quickchart-complete');\n",
              "    }\n",
              "    (() => {\n",
              "      let quickchartButtonEl =\n",
              "        document.querySelector('#df-41337422-a1bc-425f-869f-817ae3749167 button');\n",
              "      quickchartButtonEl.style.display =\n",
              "        google.colab.kernel.accessAllowed ? 'block' : 'none';\n",
              "    })();\n",
              "  </script>\n",
              "</div>\n",
              "    </div>\n",
              "  </div>\n"
            ]
          },
          "metadata": {},
          "execution_count": 22
        }
      ]
    },
    {
      "cell_type": "code",
      "source": [
        "# Checking all of our \"clean_content\" column is indeed in string format\n",
        "df[\"clean_content\"].apply(lambda x : type(x) == str).value_counts()"
      ],
      "metadata": {
        "id": "9OBKYAEkDtZX",
        "colab": {
          "base_uri": "https://localhost:8080/"
        },
        "outputId": "cd34dbb5-233f-4571-f533-497b6663bc20"
      },
      "execution_count": 23,
      "outputs": [
        {
          "output_type": "execute_result",
          "data": {
            "text/plain": [
              "True    5169\n",
              "Name: clean_content, dtype: int64"
            ]
          },
          "metadata": {},
          "execution_count": 23
        }
      ]
    },
    {
      "cell_type": "markdown",
      "source": [
        "We now have completed the preprocessing of each message's content.\n",
        "\n",
        "Sometimes the preprocessing removes all the words in a string (because they contain only stopwords for example) so we'll filter out those observations."
      ],
      "metadata": {
        "id": "LcNtlxdsEBem"
      }
    },
    {
      "cell_type": "code",
      "source": [
        "df[\"len_review\"] = df[\"clean_content\"].apply(lambda x: len(x))\n",
        "df = df[df[\"len_review\"]!=0]\n",
        "df = df.drop(\"len_review\", axis = 1)\n",
        "df.shape"
      ],
      "metadata": {
        "id": "4bus8V1_Lav9",
        "colab": {
          "base_uri": "https://localhost:8080/"
        },
        "outputId": "8c152b6a-cb1b-4f0a-e7a5-0be42167b79c"
      },
      "execution_count": 24,
      "outputs": [
        {
          "output_type": "execute_result",
          "data": {
            "text/plain": [
              "(5151, 4)"
            ]
          },
          "metadata": {},
          "execution_count": 24
        }
      ]
    },
    {
      "cell_type": "code",
      "source": [
        "# We can save the proprocessed messages dataframe in a csv to be reused later without having to redo all the steps, since preprocessing takes a lot of time\n",
        "df.to_csv('at&t_spam_preprocessed.csv', index=True)"
      ],
      "metadata": {
        "id": "M-d2rxTDjPGs"
      },
      "execution_count": 26,
      "outputs": []
    },
    {
      "cell_type": "markdown",
      "source": [
        "# 3. Train test split, tokenizing and building tensorflow datasets\n",
        "\n",
        "We'll split our data into train set (60%), validation set (20%), and test set (20%). And since our data is imbalanced, we'll stratify to preserve the proportions of each class of our target."
      ],
      "metadata": {
        "id": "isLNz59TLq6T"
      }
    },
    {
      "cell_type": "code",
      "source": [
        "X_train, X_rest, Y_train, Y_rest = train_test_split(df[\"clean_content\"], df[\"target\"], test_size = 0.4, stratify = df[\"target\"], random_state = 42) #train set is 60%\n",
        "X_val, X_test, Y_val, Y_test = train_test_split(X_rest, Y_rest, test_size=0.5, stratify = Y_rest, random_state = 42) #splitting the remaining 40% in half to get 20% in val set and 20% in test set\n",
        "# random_state ensures reproductibility\n",
        "print(\"X_train\", X_train.shape, \"Y_train\", Y_train.shape)\n",
        "print(\"X_val\", X_val.shape, \"Y_val\", Y_val.shape)\n",
        "print(\"X_test\", X_test.shape, \"Y_test\", Y_test.shape)"
      ],
      "metadata": {
        "id": "XctKyAXlGGqX",
        "colab": {
          "base_uri": "https://localhost:8080/"
        },
        "outputId": "9b41b9b3-a973-49e4-a669-57046643353d"
      },
      "execution_count": 27,
      "outputs": [
        {
          "output_type": "stream",
          "name": "stdout",
          "text": [
            "X_train (3090,) Y_train (3090,)\n",
            "X_val (1030,) Y_val (1030,)\n",
            "X_test (1031,) Y_test (1031,)\n"
          ]
        }
      ]
    },
    {
      "cell_type": "markdown",
      "source": [
        "We will now instanciate a tokenizer and encode our texts : we will fit on the train set, and then transform all texts."
      ],
      "metadata": {
        "id": "7UF34uw2PcCt"
      }
    },
    {
      "cell_type": "code",
      "source": [
        "tokenizer = tf.keras.preprocessing.text.Tokenizer(num_words=1000, oov_token = \"out_of_vocab\") # For now we'll only keep the 1000 most common words, we might change this later and see how it affects performance"
      ],
      "metadata": {
        "id": "ElJ4hgGNPc1_"
      },
      "execution_count": 28,
      "outputs": []
    },
    {
      "cell_type": "code",
      "source": [
        "tokenizer.fit_on_texts(X_train)\n",
        "\n",
        "X_train_encoded = tokenizer.texts_to_sequences(X_train)\n",
        "X_val_encoded = tokenizer.texts_to_sequences(X_val)\n",
        "X_test_encoded = tokenizer.texts_to_sequences(X_test)"
      ],
      "metadata": {
        "id": "Pvq9WThOPf1u"
      },
      "execution_count": 29,
      "outputs": []
    },
    {
      "cell_type": "markdown",
      "source": [
        "In order to build an tensorflow dataset that can be used to train our deep learning model, we need to convert our encoded texts to numpy arrays of a unique size. To attain this, we'll use padding."
      ],
      "metadata": {
        "id": "00wrbaKsQHRV"
      }
    },
    {
      "cell_type": "code",
      "source": [
        "train_padded = tf.keras.preprocessing.sequence.pad_sequences(X_train_encoded, padding=\"post\")\n",
        "val_padded = tf.keras.preprocessing.sequence.pad_sequences(X_val_encoded, padding=\"post\")\n",
        "test_padded = tf.keras.preprocessing.sequence.pad_sequences(X_test_encoded, padding=\"post\")"
      ],
      "metadata": {
        "id": "6dc7vsXRQHn2"
      },
      "execution_count": 30,
      "outputs": []
    },
    {
      "cell_type": "markdown",
      "source": [
        "We are now able to build three tensor slice datasets using the training, validation and test data."
      ],
      "metadata": {
        "id": "kNBspEsbL8Bv"
      }
    },
    {
      "cell_type": "code",
      "source": [
        "train = tf.data.Dataset.from_tensor_slices((train_padded, Y_train))\n",
        "val = tf.data.Dataset.from_tensor_slices((val_padded, Y_val))\n",
        "test = tf.data.Dataset.from_tensor_slices((test_padded, Y_test))"
      ],
      "metadata": {
        "id": "O2LLd048K-4J"
      },
      "execution_count": 31,
      "outputs": []
    },
    {
      "cell_type": "markdown",
      "source": [
        "Now we can shuffle our datasets and arrange them in batches."
      ],
      "metadata": {
        "id": "n-njuZOnMIrw"
      }
    },
    {
      "cell_type": "code",
      "source": [
        "train_batch = train.shuffle(len(X_train)).batch(64)\n",
        "val_batch = val.shuffle(len(X_val)).batch(64)\n",
        "test_batch = test.shuffle(len(X_test)).batch(64)\n",
        "\n",
        "# Let's check out what these batches look like\n",
        "print(\"train batch:\", next(iter(train_batch)))\n",
        "print(\"val batch:\", next(iter(val_batch)))\n",
        "print(\"test batch:\", next(iter(test_batch)))"
      ],
      "metadata": {
        "id": "eBzKeglIMWf3",
        "colab": {
          "base_uri": "https://localhost:8080/"
        },
        "outputId": "b1ff12b9-94ab-4ac1-fcd8-4884506d14fc"
      },
      "execution_count": 32,
      "outputs": [
        {
          "output_type": "stream",
          "name": "stdout",
          "text": [
            "train batch: (<tf.Tensor: shape=(64, 74), dtype=int32, numpy=\n",
            "array([[ 40,   1, 502, ...,   0,   0,   0],\n",
            "       [  1, 297, 207, ...,   0,   0,   0],\n",
            "       [833, 586,  33, ...,   0,   0,   0],\n",
            "       ...,\n",
            "       [ 70,   1, 137, ...,   0,   0,   0],\n",
            "       [  1, 483, 137, ...,   0,   0,   0],\n",
            "       [900, 132,   0, ...,   0,   0,   0]], dtype=int32)>, <tf.Tensor: shape=(64,), dtype=int64, numpy=\n",
            "array([0, 1, 1, 0, 0, 0, 0, 0, 0, 0, 0, 1, 0, 0, 0, 0, 0, 0, 0, 0, 0, 0,\n",
            "       0, 1, 0, 0, 0, 1, 0, 0, 0, 0, 0, 0, 0, 1, 0, 0, 0, 0, 0, 0, 0, 1,\n",
            "       0, 0, 1, 0, 0, 0, 0, 0, 0, 0, 0, 0, 0, 0, 0, 0, 0, 0, 0, 0])>)\n",
            "val batch: (<tf.Tensor: shape=(64, 57), dtype=int32, numpy=\n",
            "array([[ 13,   8, 611, ...,   0,   0,   0],\n",
            "       [ 74,   1,   1, ...,   0,   0,   0],\n",
            "       [128,  44, 985, ...,   0,   0,   0],\n",
            "       ...,\n",
            "       [214, 736, 119, ...,   0,   0,   0],\n",
            "       [ 22,   1, 200, ...,   0,   0,   0],\n",
            "       [221,  64,  15, ...,   0,   0,   0]], dtype=int32)>, <tf.Tensor: shape=(64,), dtype=int64, numpy=\n",
            "array([0, 0, 0, 0, 0, 0, 0, 0, 0, 0, 1, 0, 0, 1, 0, 0, 0, 0, 0, 0, 0, 0,\n",
            "       1, 0, 0, 0, 0, 0, 0, 1, 0, 0, 0, 0, 0, 0, 0, 0, 0, 0, 0, 1, 0, 0,\n",
            "       0, 0, 0, 0, 0, 1, 0, 0, 0, 0, 0, 0, 0, 1, 0, 0, 0, 0, 0, 0])>)\n",
            "test batch: (<tf.Tensor: shape=(64, 61), dtype=int32, numpy=\n",
            "array([[  1,  37, 115, ...,   0,   0,   0],\n",
            "       [340, 145,   1, ...,   0,   0,   0],\n",
            "       [ 98,   1,   1, ...,   0,   0,   0],\n",
            "       ...,\n",
            "       [ 18, 101,   0, ...,   0,   0,   0],\n",
            "       [  1,   1,  62, ...,   0,   0,   0],\n",
            "       [ 31, 740, 128, ...,   0,   0,   0]], dtype=int32)>, <tf.Tensor: shape=(64,), dtype=int64, numpy=\n",
            "array([0, 0, 0, 0, 0, 0, 0, 0, 0, 0, 0, 0, 0, 0, 1, 0, 0, 0, 0, 0, 0, 0,\n",
            "       0, 0, 0, 0, 0, 0, 0, 0, 0, 0, 0, 0, 0, 0, 0, 0, 0, 1, 0, 0, 0, 0,\n",
            "       0, 0, 1, 0, 0, 1, 1, 0, 0, 0, 0, 0, 0, 0, 1, 0, 0, 0, 0, 0])>)\n"
          ]
        }
      ]
    },
    {
      "cell_type": "markdown",
      "source": [
        "We are now ready to implement and train our first deep learning model!"
      ],
      "metadata": {
        "id": "b5LtBIxBOCuY"
      }
    },
    {
      "cell_type": "markdown",
      "source": [
        "# 4. First neural network\n",
        "\n",
        "## Building our model\n",
        "\n",
        "We'll build our first neural network to be as simple as possible. It will be a sequential model including :    \n",
        "\n",
        "\n",
        "*   an Embedding layer to convert our texts into vectors\n",
        "\n",
        "*   a Pooling layer to compress the information (after the embedding layer, each text is transformed into as many vectors as there are words) into an embedded sequence\n",
        "*   A Dense layer\n",
        "\n",
        "\n",
        "*   The prediction layer : since we're faced with a binary classification problem, this layer will have 1 neuron and a sigmoid activation function\n",
        "\n"
      ],
      "metadata": {
        "id": "jKuziCggOGQc"
      }
    },
    {
      "cell_type": "code",
      "source": [
        "embedding_dim = 8\n",
        "vocab_size = tokenizer.num_words + 1 # the number of words in the vocabulary : the input dim needs to be equal to the size of the vocabulary + 1 (because of the zero padding)\n",
        "\n",
        "model = Sequential([\n",
        "  Embedding(\n",
        "      input_dim = vocab_size,\n",
        "      output_dim = embedding_dim,\n",
        "      name = \"embedding\"), # the embedding layer\n",
        "  GlobalAveragePooling1D(), # this will pick the average for every word in the sentence along each dimension of the representation space.\n",
        "  Dense(16, activation='relu'), # a dense layer\n",
        "  Dense(1, activation=\"sigmoid\") # the prediction layer\n",
        "])"
      ],
      "metadata": {
        "id": "IKzOJmYjN3I8"
      },
      "execution_count": 33,
      "outputs": []
    },
    {
      "cell_type": "code",
      "source": [
        "model.summary()"
      ],
      "metadata": {
        "id": "fcuBwdOHYQHV",
        "colab": {
          "base_uri": "https://localhost:8080/"
        },
        "outputId": "a410168a-9627-4629-e104-6323ad48bef0"
      },
      "execution_count": 34,
      "outputs": [
        {
          "output_type": "stream",
          "name": "stdout",
          "text": [
            "Model: \"sequential\"\n",
            "_________________________________________________________________\n",
            " Layer (type)                Output Shape              Param #   \n",
            "=================================================================\n",
            " embedding (Embedding)       (None, None, 8)           8008      \n",
            "                                                                 \n",
            " global_average_pooling1d (  (None, 8)                 0         \n",
            " GlobalAveragePooling1D)                                         \n",
            "                                                                 \n",
            " dense (Dense)               (None, 16)                144       \n",
            "                                                                 \n",
            " dense_1 (Dense)             (None, 1)                 17        \n",
            "                                                                 \n",
            "=================================================================\n",
            "Total params: 8169 (31.91 KB)\n",
            "Trainable params: 8169 (31.91 KB)\n",
            "Non-trainable params: 0 (0.00 Byte)\n",
            "_________________________________________________________________\n"
          ]
        }
      ]
    },
    {
      "cell_type": "code",
      "source": [
        "model.compile(loss = tf.keras.losses.BinaryCrossentropy(from_logits = True), # from_logits = True to interpret y_pred as a tensor of logit values and not a probability\n",
        "              metrics = ['accuracy'],\n",
        "              optimizer = 'adam')"
      ],
      "metadata": {
        "id": "M3rf-jC3Z2KZ"
      },
      "execution_count": 35,
      "outputs": []
    },
    {
      "cell_type": "markdown",
      "source": [
        "## Training our model\n",
        "\n",
        "Before fitting, we'll setup callbacks :\n",
        "\n",
        "Callbacks are used to check whether the model is improving with each epoch or not.\n",
        "\n",
        "If model performance is not improving then training will be stopped by EarlyStopping.\n",
        "\n",
        "ReduceLROnPlateau reduces learning rate when a metric has stopped improving\n",
        "(models often benefit from reducing the learning rate by a factor of 2-10 once learning stagnates). This callback monitors a quantity and if no improvement is seen for a 'patience' number of epochs, the learning rate is reduced."
      ],
      "metadata": {
        "id": "CtS5nGFwZWRA"
      }
    },
    {
      "cell_type": "code",
      "source": [
        "es = EarlyStopping(patience=20,\n",
        "                   monitor = 'val_accuracy',\n",
        "                   restore_best_weights = True)\n",
        "\n",
        "lr = ReduceLROnPlateau(patience = 20,\n",
        "                       monitor = 'val_loss',\n",
        "                       factor = 0.5)"
      ],
      "metadata": {
        "id": "kSyDmeWMYWzr"
      },
      "execution_count": 36,
      "outputs": []
    },
    {
      "cell_type": "markdown",
      "source": [
        "Let's train our model !"
      ],
      "metadata": {
        "id": "zouU5sPec1A1"
      }
    },
    {
      "cell_type": "code",
      "source": [
        "history = model.fit(train_batch,\n",
        "                    epochs = 50,\n",
        "                    callbacks = [lr, es],\n",
        "                    validation_data = val_batch\n",
        "                   )"
      ],
      "metadata": {
        "id": "Gq10cCHTfazJ",
        "colab": {
          "base_uri": "https://localhost:8080/"
        },
        "outputId": "007f4bf2-a610-4a1a-9b73-894e0b00af1c"
      },
      "execution_count": 37,
      "outputs": [
        {
          "output_type": "stream",
          "name": "stdout",
          "text": [
            "Epoch 1/50\n",
            "49/49 [==============================] - 1s 7ms/step - loss: 0.6606 - accuracy: 0.7929 - val_loss: 0.6163 - val_accuracy: 0.8738 - lr: 0.0010\n",
            "Epoch 2/50\n",
            "49/49 [==============================] - 0s 4ms/step - loss: 0.5660 - accuracy: 0.8731 - val_loss: 0.5071 - val_accuracy: 0.8738 - lr: 0.0010\n",
            "Epoch 3/50\n",
            "49/49 [==============================] - 0s 4ms/step - loss: 0.4548 - accuracy: 0.8731 - val_loss: 0.4017 - val_accuracy: 0.8738 - lr: 0.0010\n",
            "Epoch 4/50\n",
            "49/49 [==============================] - 0s 3ms/step - loss: 0.3772 - accuracy: 0.8731 - val_loss: 0.3505 - val_accuracy: 0.8738 - lr: 0.0010\n",
            "Epoch 5/50\n",
            "49/49 [==============================] - 0s 4ms/step - loss: 0.3510 - accuracy: 0.8731 - val_loss: 0.3334 - val_accuracy: 0.8738 - lr: 0.0010\n",
            "Epoch 6/50\n",
            "49/49 [==============================] - 0s 4ms/step - loss: 0.3417 - accuracy: 0.8731 - val_loss: 0.3227 - val_accuracy: 0.8738 - lr: 0.0010\n",
            "Epoch 7/50\n",
            "49/49 [==============================] - 0s 4ms/step - loss: 0.3339 - accuracy: 0.8731 - val_loss: 0.3123 - val_accuracy: 0.8738 - lr: 0.0010\n",
            "Epoch 8/50\n",
            "49/49 [==============================] - 0s 4ms/step - loss: 0.3256 - accuracy: 0.8731 - val_loss: 0.3007 - val_accuracy: 0.8738 - lr: 0.0010\n",
            "Epoch 9/50\n",
            "49/49 [==============================] - 0s 4ms/step - loss: 0.3164 - accuracy: 0.8731 - val_loss: 0.2880 - val_accuracy: 0.8738 - lr: 0.0010\n",
            "Epoch 10/50\n",
            "49/49 [==============================] - 0s 4ms/step - loss: 0.3060 - accuracy: 0.8731 - val_loss: 0.2745 - val_accuracy: 0.8738 - lr: 0.0010\n",
            "Epoch 11/50\n",
            "49/49 [==============================] - 0s 4ms/step - loss: 0.2932 - accuracy: 0.8731 - val_loss: 0.2566 - val_accuracy: 0.8738 - lr: 0.0010\n",
            "Epoch 12/50\n",
            "49/49 [==============================] - 0s 3ms/step - loss: 0.2762 - accuracy: 0.8731 - val_loss: 0.2376 - val_accuracy: 0.8738 - lr: 0.0010\n",
            "Epoch 13/50\n",
            "49/49 [==============================] - 0s 4ms/step - loss: 0.2553 - accuracy: 0.8741 - val_loss: 0.2149 - val_accuracy: 0.9184 - lr: 0.0010\n",
            "Epoch 14/50\n",
            "49/49 [==============================] - 0s 3ms/step - loss: 0.2297 - accuracy: 0.8871 - val_loss: 0.1906 - val_accuracy: 0.9379 - lr: 0.0010\n",
            "Epoch 15/50\n",
            "49/49 [==============================] - 0s 3ms/step - loss: 0.2031 - accuracy: 0.9081 - val_loss: 0.1697 - val_accuracy: 0.9612 - lr: 0.0010\n",
            "Epoch 16/50\n",
            "49/49 [==============================] - 0s 3ms/step - loss: 0.1782 - accuracy: 0.9311 - val_loss: 0.1505 - val_accuracy: 0.9641 - lr: 0.0010\n",
            "Epoch 17/50\n",
            "49/49 [==============================] - 0s 3ms/step - loss: 0.1571 - accuracy: 0.9434 - val_loss: 0.1328 - val_accuracy: 0.9650 - lr: 0.0010\n",
            "Epoch 18/50\n",
            "49/49 [==============================] - 0s 4ms/step - loss: 0.1403 - accuracy: 0.9528 - val_loss: 0.1241 - val_accuracy: 0.9689 - lr: 0.0010\n",
            "Epoch 19/50\n",
            "49/49 [==============================] - 0s 4ms/step - loss: 0.1266 - accuracy: 0.9553 - val_loss: 0.1190 - val_accuracy: 0.9718 - lr: 0.0010\n",
            "Epoch 20/50\n",
            "49/49 [==============================] - 0s 6ms/step - loss: 0.1168 - accuracy: 0.9638 - val_loss: 0.1085 - val_accuracy: 0.9718 - lr: 0.0010\n",
            "Epoch 21/50\n",
            "49/49 [==============================] - 0s 9ms/step - loss: 0.1072 - accuracy: 0.9657 - val_loss: 0.0968 - val_accuracy: 0.9699 - lr: 0.0010\n",
            "Epoch 22/50\n",
            "49/49 [==============================] - 0s 8ms/step - loss: 0.1001 - accuracy: 0.9689 - val_loss: 0.0964 - val_accuracy: 0.9757 - lr: 0.0010\n",
            "Epoch 23/50\n",
            "49/49 [==============================] - 0s 6ms/step - loss: 0.0931 - accuracy: 0.9702 - val_loss: 0.0888 - val_accuracy: 0.9777 - lr: 0.0010\n",
            "Epoch 24/50\n",
            "49/49 [==============================] - 0s 8ms/step - loss: 0.0867 - accuracy: 0.9718 - val_loss: 0.0891 - val_accuracy: 0.9767 - lr: 0.0010\n",
            "Epoch 25/50\n",
            "49/49 [==============================] - 0s 6ms/step - loss: 0.0816 - accuracy: 0.9751 - val_loss: 0.0829 - val_accuracy: 0.9786 - lr: 0.0010\n",
            "Epoch 26/50\n",
            "49/49 [==============================] - 0s 7ms/step - loss: 0.0761 - accuracy: 0.9764 - val_loss: 0.0820 - val_accuracy: 0.9777 - lr: 0.0010\n",
            "Epoch 27/50\n",
            "49/49 [==============================] - 0s 7ms/step - loss: 0.0713 - accuracy: 0.9773 - val_loss: 0.0780 - val_accuracy: 0.9786 - lr: 0.0010\n",
            "Epoch 28/50\n",
            "49/49 [==============================] - 1s 10ms/step - loss: 0.0672 - accuracy: 0.9806 - val_loss: 0.0718 - val_accuracy: 0.9786 - lr: 0.0010\n",
            "Epoch 29/50\n",
            "49/49 [==============================] - 0s 8ms/step - loss: 0.0638 - accuracy: 0.9809 - val_loss: 0.0733 - val_accuracy: 0.9796 - lr: 0.0010\n",
            "Epoch 30/50\n",
            "49/49 [==============================] - 1s 15ms/step - loss: 0.0606 - accuracy: 0.9816 - val_loss: 0.0713 - val_accuracy: 0.9786 - lr: 0.0010\n",
            "Epoch 31/50\n",
            "49/49 [==============================] - 0s 10ms/step - loss: 0.0576 - accuracy: 0.9838 - val_loss: 0.0720 - val_accuracy: 0.9786 - lr: 0.0010\n",
            "Epoch 32/50\n",
            "49/49 [==============================] - 0s 7ms/step - loss: 0.0551 - accuracy: 0.9835 - val_loss: 0.0719 - val_accuracy: 0.9786 - lr: 0.0010\n",
            "Epoch 33/50\n",
            "49/49 [==============================] - 1s 14ms/step - loss: 0.0528 - accuracy: 0.9838 - val_loss: 0.0642 - val_accuracy: 0.9835 - lr: 0.0010\n",
            "Epoch 34/50\n",
            "49/49 [==============================] - 0s 3ms/step - loss: 0.0511 - accuracy: 0.9845 - val_loss: 0.0674 - val_accuracy: 0.9796 - lr: 0.0010\n",
            "Epoch 35/50\n",
            "49/49 [==============================] - 0s 4ms/step - loss: 0.0486 - accuracy: 0.9851 - val_loss: 0.0667 - val_accuracy: 0.9796 - lr: 0.0010\n",
            "Epoch 36/50\n",
            "49/49 [==============================] - 0s 7ms/step - loss: 0.0468 - accuracy: 0.9858 - val_loss: 0.0623 - val_accuracy: 0.9806 - lr: 0.0010\n",
            "Epoch 37/50\n",
            "49/49 [==============================] - 0s 4ms/step - loss: 0.0450 - accuracy: 0.9851 - val_loss: 0.0655 - val_accuracy: 0.9796 - lr: 0.0010\n",
            "Epoch 38/50\n",
            "49/49 [==============================] - 0s 5ms/step - loss: 0.0433 - accuracy: 0.9867 - val_loss: 0.0685 - val_accuracy: 0.9796 - lr: 0.0010\n",
            "Epoch 39/50\n",
            "49/49 [==============================] - 0s 5ms/step - loss: 0.0423 - accuracy: 0.9867 - val_loss: 0.0637 - val_accuracy: 0.9816 - lr: 0.0010\n",
            "Epoch 40/50\n",
            "49/49 [==============================] - 0s 4ms/step - loss: 0.0408 - accuracy: 0.9880 - val_loss: 0.0626 - val_accuracy: 0.9816 - lr: 0.0010\n",
            "Epoch 41/50\n",
            "49/49 [==============================] - 0s 7ms/step - loss: 0.0393 - accuracy: 0.9883 - val_loss: 0.0655 - val_accuracy: 0.9796 - lr: 0.0010\n",
            "Epoch 42/50\n",
            "49/49 [==============================] - 0s 6ms/step - loss: 0.0380 - accuracy: 0.9887 - val_loss: 0.0641 - val_accuracy: 0.9806 - lr: 0.0010\n",
            "Epoch 43/50\n",
            "49/49 [==============================] - 1s 11ms/step - loss: 0.0373 - accuracy: 0.9887 - val_loss: 0.0622 - val_accuracy: 0.9816 - lr: 0.0010\n",
            "Epoch 44/50\n",
            "49/49 [==============================] - 0s 6ms/step - loss: 0.0361 - accuracy: 0.9896 - val_loss: 0.0634 - val_accuracy: 0.9806 - lr: 0.0010\n",
            "Epoch 45/50\n",
            "49/49 [==============================] - 0s 7ms/step - loss: 0.0350 - accuracy: 0.9890 - val_loss: 0.0633 - val_accuracy: 0.9796 - lr: 0.0010\n",
            "Epoch 46/50\n",
            "49/49 [==============================] - 0s 9ms/step - loss: 0.0342 - accuracy: 0.9903 - val_loss: 0.0666 - val_accuracy: 0.9767 - lr: 0.0010\n",
            "Epoch 47/50\n",
            "49/49 [==============================] - 0s 7ms/step - loss: 0.0332 - accuracy: 0.9896 - val_loss: 0.0644 - val_accuracy: 0.9786 - lr: 0.0010\n",
            "Epoch 48/50\n",
            "49/49 [==============================] - 0s 8ms/step - loss: 0.0317 - accuracy: 0.9906 - val_loss: 0.0585 - val_accuracy: 0.9835 - lr: 0.0010\n",
            "Epoch 49/50\n",
            "49/49 [==============================] - 0s 7ms/step - loss: 0.0315 - accuracy: 0.9906 - val_loss: 0.0627 - val_accuracy: 0.9806 - lr: 0.0010\n",
            "Epoch 50/50\n",
            "49/49 [==============================] - 0s 6ms/step - loss: 0.0311 - accuracy: 0.9916 - val_loss: 0.0604 - val_accuracy: 0.9806 - lr: 0.0010\n"
          ]
        }
      ]
    },
    {
      "cell_type": "code",
      "source": [
        "# Saving our model so we can load and re-use it :\n",
        "model.save('/content/m1_simple_neural_network.h5')\n",
        "\n",
        "# To load :\n",
        "# from keras.models import load_model\n",
        "# model = load_model('/content/m1_simple_neural_network.h5')"
      ],
      "metadata": {
        "id": "z0o32SRjkh7j"
      },
      "execution_count": 40,
      "outputs": []
    },
    {
      "cell_type": "markdown",
      "source": [
        "## Model evaluation\n",
        "\n",
        "It seems our model is performing quite well :    \n",
        "\n",
        "\n",
        "*   Our training loss consistently decreases\n",
        "*   So does our val_loss so there doesn't seem to be overfitting\n",
        "\n",
        "\n",
        "*   Our training accuracy is initially static but starts increasing after 13 epochs and reaches a very good score of over 99%!\n",
        "*   More importantly, our validation accuracy behaves in the same way and reaches a value close to 99% so it seems our model is good at generalizing\n",
        "\n",
        "\n",
        "\n"
      ],
      "metadata": {
        "id": "DZXBjsc7nJZn"
      }
    },
    {
      "cell_type": "code",
      "source": [
        "fig = go.Figure(data=[\n",
        "                      go.Scatter(\n",
        "                          y = model.history.history[\"loss\"],\n",
        "                          name=\"Training loss\",\n",
        "                          mode=\"lines\",\n",
        "                          marker=dict(\n",
        "                              color=color_chart[0]\n",
        "                          )),\n",
        "                      go.Scatter(\n",
        "                          y = model.history.history[\"val_loss\"],\n",
        "                          name=\"Validation loss\",\n",
        "                          mode=\"lines\",\n",
        "                          marker=dict(\n",
        "                              color=color_chart[1]\n",
        "                          ))\n",
        "])\n",
        "fig.update_layout(\n",
        "    title='Training and val loss across epochs',\n",
        "    xaxis_title='epochs',\n",
        "    yaxis_title='Binary Cross Entropy'\n",
        ")\n",
        "fig.show()"
      ],
      "metadata": {
        "id": "rH-2q_C7i5Am",
        "colab": {
          "base_uri": "https://localhost:8080/",
          "height": 542
        },
        "outputId": "7cfa9f13-ec70-4edc-c4b5-41dbe71d0d06"
      },
      "execution_count": 41,
      "outputs": [
        {
          "output_type": "display_data",
          "data": {
            "text/html": [
              "<html>\n",
              "<head><meta charset=\"utf-8\" /></head>\n",
              "<body>\n",
              "    <div>            <script src=\"https://cdnjs.cloudflare.com/ajax/libs/mathjax/2.7.5/MathJax.js?config=TeX-AMS-MML_SVG\"></script><script type=\"text/javascript\">if (window.MathJax && window.MathJax.Hub && window.MathJax.Hub.Config) {window.MathJax.Hub.Config({SVG: {font: \"STIX-Web\"}});}</script>                <script type=\"text/javascript\">window.PlotlyConfig = {MathJaxConfig: 'local'};</script>\n",
              "        <script charset=\"utf-8\" src=\"https://cdn.plot.ly/plotly-2.24.1.min.js\"></script>                <div id=\"b06a978d-ea21-4400-a66d-3c4c6ab772df\" class=\"plotly-graph-div\" style=\"height:525px; width:100%;\"></div>            <script type=\"text/javascript\">                                    window.PLOTLYENV=window.PLOTLYENV || {};                                    if (document.getElementById(\"b06a978d-ea21-4400-a66d-3c4c6ab772df\")) {                    Plotly.newPlot(                        \"b06a978d-ea21-4400-a66d-3c4c6ab772df\",                        [{\"marker\":{\"color\":\"#4B9AC7\"},\"mode\":\"lines\",\"name\":\"Training loss\",\"y\":[0.6605538129806519,0.5659867525100708,0.4547712504863739,0.37721195816993713,0.35103392601013184,0.34166720509529114,0.3338625431060791,0.32560253143310547,0.3164198696613312,0.30600082874298096,0.29318472743034363,0.2762009799480438,0.2553074359893799,0.22971272468566895,0.20312334597110748,0.1781931221485138,0.15711358189582825,0.14031009376049042,0.1266140639781952,0.11678004264831543,0.1071951687335968,0.10012619197368622,0.09309785068035126,0.08667510002851486,0.08163109421730042,0.07609094679355621,0.07132139056921005,0.06722841411828995,0.06375625729560852,0.060636308044195175,0.05763613060116768,0.05505411699414253,0.0527852326631546,0.051081813871860504,0.0485948882997036,0.046755123883485794,0.04501679912209511,0.043318092823028564,0.042274169623851776,0.04081052914261818,0.03927310183644295,0.03803638368844986,0.03730066865682602,0.03609973564743996,0.034952010959386826,0.0341876856982708,0.03320375457406044,0.03170929104089737,0.03150598704814911,0.03105795942246914],\"type\":\"scatter\"},{\"marker\":{\"color\":\"#4BE8E0\"},\"mode\":\"lines\",\"name\":\"Validation loss\",\"y\":[0.6163239479064941,0.5070552229881287,0.4017033874988556,0.35054951906204224,0.33337053656578064,0.32271477580070496,0.31230756640434265,0.30069491267204285,0.28797295689582825,0.2745313048362732,0.25657767057418823,0.2375609576702118,0.21494632959365845,0.19057995080947876,0.16968537867069244,0.15054218471050262,0.13280098140239716,0.12412261217832565,0.1189580038189888,0.10849491506814957,0.09676042944192886,0.09635209292173386,0.08876711875200272,0.0890999287366867,0.08287978917360306,0.08196217566728592,0.07800773531198502,0.07177230715751648,0.07326657325029373,0.071310855448246,0.0719519704580307,0.07187467068433762,0.06423045694828033,0.06740780174732208,0.06665048003196716,0.06231559067964554,0.06551135331392288,0.0684986338019371,0.06368055939674377,0.06256675720214844,0.0654645785689354,0.06408391147851944,0.062162064015865326,0.0633772611618042,0.06326174736022949,0.06660270690917969,0.0643734484910965,0.058505360037088394,0.06272978335618973,0.060396287590265274],\"type\":\"scatter\"}],                        {\"template\":{\"data\":{\"histogram2dcontour\":[{\"type\":\"histogram2dcontour\",\"colorbar\":{\"outlinewidth\":0,\"ticks\":\"\"},\"colorscale\":[[0.0,\"#0d0887\"],[0.1111111111111111,\"#46039f\"],[0.2222222222222222,\"#7201a8\"],[0.3333333333333333,\"#9c179e\"],[0.4444444444444444,\"#bd3786\"],[0.5555555555555556,\"#d8576b\"],[0.6666666666666666,\"#ed7953\"],[0.7777777777777778,\"#fb9f3a\"],[0.8888888888888888,\"#fdca26\"],[1.0,\"#f0f921\"]]}],\"choropleth\":[{\"type\":\"choropleth\",\"colorbar\":{\"outlinewidth\":0,\"ticks\":\"\"}}],\"histogram2d\":[{\"type\":\"histogram2d\",\"colorbar\":{\"outlinewidth\":0,\"ticks\":\"\"},\"colorscale\":[[0.0,\"#0d0887\"],[0.1111111111111111,\"#46039f\"],[0.2222222222222222,\"#7201a8\"],[0.3333333333333333,\"#9c179e\"],[0.4444444444444444,\"#bd3786\"],[0.5555555555555556,\"#d8576b\"],[0.6666666666666666,\"#ed7953\"],[0.7777777777777778,\"#fb9f3a\"],[0.8888888888888888,\"#fdca26\"],[1.0,\"#f0f921\"]]}],\"heatmap\":[{\"type\":\"heatmap\",\"colorbar\":{\"outlinewidth\":0,\"ticks\":\"\"},\"colorscale\":[[0.0,\"#0d0887\"],[0.1111111111111111,\"#46039f\"],[0.2222222222222222,\"#7201a8\"],[0.3333333333333333,\"#9c179e\"],[0.4444444444444444,\"#bd3786\"],[0.5555555555555556,\"#d8576b\"],[0.6666666666666666,\"#ed7953\"],[0.7777777777777778,\"#fb9f3a\"],[0.8888888888888888,\"#fdca26\"],[1.0,\"#f0f921\"]]}],\"heatmapgl\":[{\"type\":\"heatmapgl\",\"colorbar\":{\"outlinewidth\":0,\"ticks\":\"\"},\"colorscale\":[[0.0,\"#0d0887\"],[0.1111111111111111,\"#46039f\"],[0.2222222222222222,\"#7201a8\"],[0.3333333333333333,\"#9c179e\"],[0.4444444444444444,\"#bd3786\"],[0.5555555555555556,\"#d8576b\"],[0.6666666666666666,\"#ed7953\"],[0.7777777777777778,\"#fb9f3a\"],[0.8888888888888888,\"#fdca26\"],[1.0,\"#f0f921\"]]}],\"contourcarpet\":[{\"type\":\"contourcarpet\",\"colorbar\":{\"outlinewidth\":0,\"ticks\":\"\"}}],\"contour\":[{\"type\":\"contour\",\"colorbar\":{\"outlinewidth\":0,\"ticks\":\"\"},\"colorscale\":[[0.0,\"#0d0887\"],[0.1111111111111111,\"#46039f\"],[0.2222222222222222,\"#7201a8\"],[0.3333333333333333,\"#9c179e\"],[0.4444444444444444,\"#bd3786\"],[0.5555555555555556,\"#d8576b\"],[0.6666666666666666,\"#ed7953\"],[0.7777777777777778,\"#fb9f3a\"],[0.8888888888888888,\"#fdca26\"],[1.0,\"#f0f921\"]]}],\"surface\":[{\"type\":\"surface\",\"colorbar\":{\"outlinewidth\":0,\"ticks\":\"\"},\"colorscale\":[[0.0,\"#0d0887\"],[0.1111111111111111,\"#46039f\"],[0.2222222222222222,\"#7201a8\"],[0.3333333333333333,\"#9c179e\"],[0.4444444444444444,\"#bd3786\"],[0.5555555555555556,\"#d8576b\"],[0.6666666666666666,\"#ed7953\"],[0.7777777777777778,\"#fb9f3a\"],[0.8888888888888888,\"#fdca26\"],[1.0,\"#f0f921\"]]}],\"mesh3d\":[{\"type\":\"mesh3d\",\"colorbar\":{\"outlinewidth\":0,\"ticks\":\"\"}}],\"scatter\":[{\"fillpattern\":{\"fillmode\":\"overlay\",\"size\":10,\"solidity\":0.2},\"type\":\"scatter\"}],\"parcoords\":[{\"type\":\"parcoords\",\"line\":{\"colorbar\":{\"outlinewidth\":0,\"ticks\":\"\"}}}],\"scatterpolargl\":[{\"type\":\"scatterpolargl\",\"marker\":{\"colorbar\":{\"outlinewidth\":0,\"ticks\":\"\"}}}],\"bar\":[{\"error_x\":{\"color\":\"#2a3f5f\"},\"error_y\":{\"color\":\"#2a3f5f\"},\"marker\":{\"line\":{\"color\":\"#E5ECF6\",\"width\":0.5},\"pattern\":{\"fillmode\":\"overlay\",\"size\":10,\"solidity\":0.2}},\"type\":\"bar\"}],\"scattergeo\":[{\"type\":\"scattergeo\",\"marker\":{\"colorbar\":{\"outlinewidth\":0,\"ticks\":\"\"}}}],\"scatterpolar\":[{\"type\":\"scatterpolar\",\"marker\":{\"colorbar\":{\"outlinewidth\":0,\"ticks\":\"\"}}}],\"histogram\":[{\"marker\":{\"pattern\":{\"fillmode\":\"overlay\",\"size\":10,\"solidity\":0.2}},\"type\":\"histogram\"}],\"scattergl\":[{\"type\":\"scattergl\",\"marker\":{\"colorbar\":{\"outlinewidth\":0,\"ticks\":\"\"}}}],\"scatter3d\":[{\"type\":\"scatter3d\",\"line\":{\"colorbar\":{\"outlinewidth\":0,\"ticks\":\"\"}},\"marker\":{\"colorbar\":{\"outlinewidth\":0,\"ticks\":\"\"}}}],\"scattermapbox\":[{\"type\":\"scattermapbox\",\"marker\":{\"colorbar\":{\"outlinewidth\":0,\"ticks\":\"\"}}}],\"scatterternary\":[{\"type\":\"scatterternary\",\"marker\":{\"colorbar\":{\"outlinewidth\":0,\"ticks\":\"\"}}}],\"scattercarpet\":[{\"type\":\"scattercarpet\",\"marker\":{\"colorbar\":{\"outlinewidth\":0,\"ticks\":\"\"}}}],\"carpet\":[{\"aaxis\":{\"endlinecolor\":\"#2a3f5f\",\"gridcolor\":\"white\",\"linecolor\":\"white\",\"minorgridcolor\":\"white\",\"startlinecolor\":\"#2a3f5f\"},\"baxis\":{\"endlinecolor\":\"#2a3f5f\",\"gridcolor\":\"white\",\"linecolor\":\"white\",\"minorgridcolor\":\"white\",\"startlinecolor\":\"#2a3f5f\"},\"type\":\"carpet\"}],\"table\":[{\"cells\":{\"fill\":{\"color\":\"#EBF0F8\"},\"line\":{\"color\":\"white\"}},\"header\":{\"fill\":{\"color\":\"#C8D4E3\"},\"line\":{\"color\":\"white\"}},\"type\":\"table\"}],\"barpolar\":[{\"marker\":{\"line\":{\"color\":\"#E5ECF6\",\"width\":0.5},\"pattern\":{\"fillmode\":\"overlay\",\"size\":10,\"solidity\":0.2}},\"type\":\"barpolar\"}],\"pie\":[{\"automargin\":true,\"type\":\"pie\"}]},\"layout\":{\"autotypenumbers\":\"strict\",\"colorway\":[\"#636efa\",\"#EF553B\",\"#00cc96\",\"#ab63fa\",\"#FFA15A\",\"#19d3f3\",\"#FF6692\",\"#B6E880\",\"#FF97FF\",\"#FECB52\"],\"font\":{\"color\":\"#2a3f5f\"},\"hovermode\":\"closest\",\"hoverlabel\":{\"align\":\"left\"},\"paper_bgcolor\":\"white\",\"plot_bgcolor\":\"#E5ECF6\",\"polar\":{\"bgcolor\":\"#E5ECF6\",\"angularaxis\":{\"gridcolor\":\"white\",\"linecolor\":\"white\",\"ticks\":\"\"},\"radialaxis\":{\"gridcolor\":\"white\",\"linecolor\":\"white\",\"ticks\":\"\"}},\"ternary\":{\"bgcolor\":\"#E5ECF6\",\"aaxis\":{\"gridcolor\":\"white\",\"linecolor\":\"white\",\"ticks\":\"\"},\"baxis\":{\"gridcolor\":\"white\",\"linecolor\":\"white\",\"ticks\":\"\"},\"caxis\":{\"gridcolor\":\"white\",\"linecolor\":\"white\",\"ticks\":\"\"}},\"coloraxis\":{\"colorbar\":{\"outlinewidth\":0,\"ticks\":\"\"}},\"colorscale\":{\"sequential\":[[0.0,\"#0d0887\"],[0.1111111111111111,\"#46039f\"],[0.2222222222222222,\"#7201a8\"],[0.3333333333333333,\"#9c179e\"],[0.4444444444444444,\"#bd3786\"],[0.5555555555555556,\"#d8576b\"],[0.6666666666666666,\"#ed7953\"],[0.7777777777777778,\"#fb9f3a\"],[0.8888888888888888,\"#fdca26\"],[1.0,\"#f0f921\"]],\"sequentialminus\":[[0.0,\"#0d0887\"],[0.1111111111111111,\"#46039f\"],[0.2222222222222222,\"#7201a8\"],[0.3333333333333333,\"#9c179e\"],[0.4444444444444444,\"#bd3786\"],[0.5555555555555556,\"#d8576b\"],[0.6666666666666666,\"#ed7953\"],[0.7777777777777778,\"#fb9f3a\"],[0.8888888888888888,\"#fdca26\"],[1.0,\"#f0f921\"]],\"diverging\":[[0,\"#8e0152\"],[0.1,\"#c51b7d\"],[0.2,\"#de77ae\"],[0.3,\"#f1b6da\"],[0.4,\"#fde0ef\"],[0.5,\"#f7f7f7\"],[0.6,\"#e6f5d0\"],[0.7,\"#b8e186\"],[0.8,\"#7fbc41\"],[0.9,\"#4d9221\"],[1,\"#276419\"]]},\"xaxis\":{\"gridcolor\":\"white\",\"linecolor\":\"white\",\"ticks\":\"\",\"title\":{\"standoff\":15},\"zerolinecolor\":\"white\",\"automargin\":true,\"zerolinewidth\":2},\"yaxis\":{\"gridcolor\":\"white\",\"linecolor\":\"white\",\"ticks\":\"\",\"title\":{\"standoff\":15},\"zerolinecolor\":\"white\",\"automargin\":true,\"zerolinewidth\":2},\"scene\":{\"xaxis\":{\"backgroundcolor\":\"#E5ECF6\",\"gridcolor\":\"white\",\"linecolor\":\"white\",\"showbackground\":true,\"ticks\":\"\",\"zerolinecolor\":\"white\",\"gridwidth\":2},\"yaxis\":{\"backgroundcolor\":\"#E5ECF6\",\"gridcolor\":\"white\",\"linecolor\":\"white\",\"showbackground\":true,\"ticks\":\"\",\"zerolinecolor\":\"white\",\"gridwidth\":2},\"zaxis\":{\"backgroundcolor\":\"#E5ECF6\",\"gridcolor\":\"white\",\"linecolor\":\"white\",\"showbackground\":true,\"ticks\":\"\",\"zerolinecolor\":\"white\",\"gridwidth\":2}},\"shapedefaults\":{\"line\":{\"color\":\"#2a3f5f\"}},\"annotationdefaults\":{\"arrowcolor\":\"#2a3f5f\",\"arrowhead\":0,\"arrowwidth\":1},\"geo\":{\"bgcolor\":\"white\",\"landcolor\":\"#E5ECF6\",\"subunitcolor\":\"white\",\"showland\":true,\"showlakes\":true,\"lakecolor\":\"white\"},\"title\":{\"x\":0.05},\"mapbox\":{\"style\":\"light\"}}},\"title\":{\"text\":\"Training and val loss across epochs\"},\"xaxis\":{\"title\":{\"text\":\"epochs\"}},\"yaxis\":{\"title\":{\"text\":\"Binary Cross Entropy\"}}},                        {\"responsive\": true}                    ).then(function(){\n",
              "                            \n",
              "var gd = document.getElementById('b06a978d-ea21-4400-a66d-3c4c6ab772df');\n",
              "var x = new MutationObserver(function (mutations, observer) {{\n",
              "        var display = window.getComputedStyle(gd).display;\n",
              "        if (!display || display === 'none') {{\n",
              "            console.log([gd, 'removed!']);\n",
              "            Plotly.purge(gd);\n",
              "            observer.disconnect();\n",
              "        }}\n",
              "}});\n",
              "\n",
              "// Listen for the removal of the full notebook cells\n",
              "var notebookContainer = gd.closest('#notebook-container');\n",
              "if (notebookContainer) {{\n",
              "    x.observe(notebookContainer, {childList: true});\n",
              "}}\n",
              "\n",
              "// Listen for the clearing of the current output cell\n",
              "var outputEl = gd.closest('.output');\n",
              "if (outputEl) {{\n",
              "    x.observe(outputEl, {childList: true});\n",
              "}}\n",
              "\n",
              "                        })                };                            </script>        </div>\n",
              "</body>\n",
              "</html>"
            ]
          },
          "metadata": {}
        }
      ]
    },
    {
      "cell_type": "code",
      "source": [
        "fig = go.Figure(data=[\n",
        "                      go.Scatter(\n",
        "                          y=model.history.history[\"accuracy\"],\n",
        "                          name=\"Training accuracy\",\n",
        "                          mode=\"lines\",\n",
        "                          marker=dict(\n",
        "                              color=color_chart[0]\n",
        "                          )),\n",
        "                      go.Scatter(\n",
        "                          y=model.history.history[\"val_accuracy\"],\n",
        "                          name=\"Validation accuracy\",\n",
        "                          mode=\"lines\",\n",
        "                          marker=dict(\n",
        "                              color=color_chart[1]\n",
        "                          ))\n",
        "])\n",
        "fig.update_layout(\n",
        "    title='Training and val accuracy across epochs',\n",
        "    xaxis_title='epochs',\n",
        "    yaxis_title='Accuracy'\n",
        ")\n",
        "fig.show()"
      ],
      "metadata": {
        "id": "2LlnkU2Auly5",
        "colab": {
          "base_uri": "https://localhost:8080/",
          "height": 542
        },
        "outputId": "76c0873f-d7cf-4aef-ca2c-d8490153db1f"
      },
      "execution_count": 42,
      "outputs": [
        {
          "output_type": "display_data",
          "data": {
            "text/html": [
              "<html>\n",
              "<head><meta charset=\"utf-8\" /></head>\n",
              "<body>\n",
              "    <div>            <script src=\"https://cdnjs.cloudflare.com/ajax/libs/mathjax/2.7.5/MathJax.js?config=TeX-AMS-MML_SVG\"></script><script type=\"text/javascript\">if (window.MathJax && window.MathJax.Hub && window.MathJax.Hub.Config) {window.MathJax.Hub.Config({SVG: {font: \"STIX-Web\"}});}</script>                <script type=\"text/javascript\">window.PlotlyConfig = {MathJaxConfig: 'local'};</script>\n",
              "        <script charset=\"utf-8\" src=\"https://cdn.plot.ly/plotly-2.24.1.min.js\"></script>                <div id=\"f9625466-f40d-4d58-b261-c05a4ccc092a\" class=\"plotly-graph-div\" style=\"height:525px; width:100%;\"></div>            <script type=\"text/javascript\">                                    window.PLOTLYENV=window.PLOTLYENV || {};                                    if (document.getElementById(\"f9625466-f40d-4d58-b261-c05a4ccc092a\")) {                    Plotly.newPlot(                        \"f9625466-f40d-4d58-b261-c05a4ccc092a\",                        [{\"marker\":{\"color\":\"#4B9AC7\"},\"mode\":\"lines\",\"name\":\"Training accuracy\",\"y\":[0.7928802371025085,0.8731391429901123,0.8731391429901123,0.8731391429901123,0.8731391429901123,0.8731391429901123,0.8731391429901123,0.8731391429901123,0.8731391429901123,0.8731391429901123,0.8731391429901123,0.8731391429901123,0.8741100430488586,0.8870550394058228,0.9080905914306641,0.931067943572998,0.9433656930923462,0.9527508020401001,0.955339789390564,0.9637540578842163,0.9656957983970642,0.968932032585144,0.970226526260376,0.9718446731567383,0.9750809073448181,0.97637540102005,0.9773463010787964,0.9805825352668762,0.9809061288833618,0.9815533757209778,0.983818769454956,0.9834951162338257,0.983818769454956,0.984466016292572,0.985113263130188,0.985760509967804,0.985113263130188,0.9867314100265503,0.9867314100265503,0.9880259037017822,0.9883494973182678,0.9886731505393982,0.9886731505393982,0.9896439909934998,0.9889967441558838,0.9902912378311157,0.9896439909934998,0.9906148910522461,0.9906148910522461,0.9915857315063477],\"type\":\"scatter\"},{\"marker\":{\"color\":\"#4BE8E0\"},\"mode\":\"lines\",\"name\":\"Validation accuracy\",\"y\":[0.8737863898277283,0.8737863898277283,0.8737863898277283,0.8737863898277283,0.8737863898277283,0.8737863898277283,0.8737863898277283,0.8737863898277283,0.8737863898277283,0.8737863898277283,0.8737863898277283,0.8737863898277283,0.9184466004371643,0.9378640651702881,0.9611650705337524,0.9640776515007019,0.9650485515594482,0.968932032585144,0.9718446731567383,0.9718446731567383,0.9699029326438904,0.9757281541824341,0.977669894695282,0.9766990542411804,0.9786407947540283,0.977669894695282,0.9786407947540283,0.9786407947540283,0.9796116352081299,0.9786407947540283,0.9786407947540283,0.9786407947540283,0.9834951162338257,0.9796116352081299,0.9796116352081299,0.9805825352668762,0.9796116352081299,0.9796116352081299,0.9815533757209778,0.9815533757209778,0.9796116352081299,0.9805825352668762,0.9815533757209778,0.9805825352668762,0.9796116352081299,0.9766990542411804,0.9786407947540283,0.9834951162338257,0.9805825352668762,0.9805825352668762],\"type\":\"scatter\"}],                        {\"template\":{\"data\":{\"histogram2dcontour\":[{\"type\":\"histogram2dcontour\",\"colorbar\":{\"outlinewidth\":0,\"ticks\":\"\"},\"colorscale\":[[0.0,\"#0d0887\"],[0.1111111111111111,\"#46039f\"],[0.2222222222222222,\"#7201a8\"],[0.3333333333333333,\"#9c179e\"],[0.4444444444444444,\"#bd3786\"],[0.5555555555555556,\"#d8576b\"],[0.6666666666666666,\"#ed7953\"],[0.7777777777777778,\"#fb9f3a\"],[0.8888888888888888,\"#fdca26\"],[1.0,\"#f0f921\"]]}],\"choropleth\":[{\"type\":\"choropleth\",\"colorbar\":{\"outlinewidth\":0,\"ticks\":\"\"}}],\"histogram2d\":[{\"type\":\"histogram2d\",\"colorbar\":{\"outlinewidth\":0,\"ticks\":\"\"},\"colorscale\":[[0.0,\"#0d0887\"],[0.1111111111111111,\"#46039f\"],[0.2222222222222222,\"#7201a8\"],[0.3333333333333333,\"#9c179e\"],[0.4444444444444444,\"#bd3786\"],[0.5555555555555556,\"#d8576b\"],[0.6666666666666666,\"#ed7953\"],[0.7777777777777778,\"#fb9f3a\"],[0.8888888888888888,\"#fdca26\"],[1.0,\"#f0f921\"]]}],\"heatmap\":[{\"type\":\"heatmap\",\"colorbar\":{\"outlinewidth\":0,\"ticks\":\"\"},\"colorscale\":[[0.0,\"#0d0887\"],[0.1111111111111111,\"#46039f\"],[0.2222222222222222,\"#7201a8\"],[0.3333333333333333,\"#9c179e\"],[0.4444444444444444,\"#bd3786\"],[0.5555555555555556,\"#d8576b\"],[0.6666666666666666,\"#ed7953\"],[0.7777777777777778,\"#fb9f3a\"],[0.8888888888888888,\"#fdca26\"],[1.0,\"#f0f921\"]]}],\"heatmapgl\":[{\"type\":\"heatmapgl\",\"colorbar\":{\"outlinewidth\":0,\"ticks\":\"\"},\"colorscale\":[[0.0,\"#0d0887\"],[0.1111111111111111,\"#46039f\"],[0.2222222222222222,\"#7201a8\"],[0.3333333333333333,\"#9c179e\"],[0.4444444444444444,\"#bd3786\"],[0.5555555555555556,\"#d8576b\"],[0.6666666666666666,\"#ed7953\"],[0.7777777777777778,\"#fb9f3a\"],[0.8888888888888888,\"#fdca26\"],[1.0,\"#f0f921\"]]}],\"contourcarpet\":[{\"type\":\"contourcarpet\",\"colorbar\":{\"outlinewidth\":0,\"ticks\":\"\"}}],\"contour\":[{\"type\":\"contour\",\"colorbar\":{\"outlinewidth\":0,\"ticks\":\"\"},\"colorscale\":[[0.0,\"#0d0887\"],[0.1111111111111111,\"#46039f\"],[0.2222222222222222,\"#7201a8\"],[0.3333333333333333,\"#9c179e\"],[0.4444444444444444,\"#bd3786\"],[0.5555555555555556,\"#d8576b\"],[0.6666666666666666,\"#ed7953\"],[0.7777777777777778,\"#fb9f3a\"],[0.8888888888888888,\"#fdca26\"],[1.0,\"#f0f921\"]]}],\"surface\":[{\"type\":\"surface\",\"colorbar\":{\"outlinewidth\":0,\"ticks\":\"\"},\"colorscale\":[[0.0,\"#0d0887\"],[0.1111111111111111,\"#46039f\"],[0.2222222222222222,\"#7201a8\"],[0.3333333333333333,\"#9c179e\"],[0.4444444444444444,\"#bd3786\"],[0.5555555555555556,\"#d8576b\"],[0.6666666666666666,\"#ed7953\"],[0.7777777777777778,\"#fb9f3a\"],[0.8888888888888888,\"#fdca26\"],[1.0,\"#f0f921\"]]}],\"mesh3d\":[{\"type\":\"mesh3d\",\"colorbar\":{\"outlinewidth\":0,\"ticks\":\"\"}}],\"scatter\":[{\"fillpattern\":{\"fillmode\":\"overlay\",\"size\":10,\"solidity\":0.2},\"type\":\"scatter\"}],\"parcoords\":[{\"type\":\"parcoords\",\"line\":{\"colorbar\":{\"outlinewidth\":0,\"ticks\":\"\"}}}],\"scatterpolargl\":[{\"type\":\"scatterpolargl\",\"marker\":{\"colorbar\":{\"outlinewidth\":0,\"ticks\":\"\"}}}],\"bar\":[{\"error_x\":{\"color\":\"#2a3f5f\"},\"error_y\":{\"color\":\"#2a3f5f\"},\"marker\":{\"line\":{\"color\":\"#E5ECF6\",\"width\":0.5},\"pattern\":{\"fillmode\":\"overlay\",\"size\":10,\"solidity\":0.2}},\"type\":\"bar\"}],\"scattergeo\":[{\"type\":\"scattergeo\",\"marker\":{\"colorbar\":{\"outlinewidth\":0,\"ticks\":\"\"}}}],\"scatterpolar\":[{\"type\":\"scatterpolar\",\"marker\":{\"colorbar\":{\"outlinewidth\":0,\"ticks\":\"\"}}}],\"histogram\":[{\"marker\":{\"pattern\":{\"fillmode\":\"overlay\",\"size\":10,\"solidity\":0.2}},\"type\":\"histogram\"}],\"scattergl\":[{\"type\":\"scattergl\",\"marker\":{\"colorbar\":{\"outlinewidth\":0,\"ticks\":\"\"}}}],\"scatter3d\":[{\"type\":\"scatter3d\",\"line\":{\"colorbar\":{\"outlinewidth\":0,\"ticks\":\"\"}},\"marker\":{\"colorbar\":{\"outlinewidth\":0,\"ticks\":\"\"}}}],\"scattermapbox\":[{\"type\":\"scattermapbox\",\"marker\":{\"colorbar\":{\"outlinewidth\":0,\"ticks\":\"\"}}}],\"scatterternary\":[{\"type\":\"scatterternary\",\"marker\":{\"colorbar\":{\"outlinewidth\":0,\"ticks\":\"\"}}}],\"scattercarpet\":[{\"type\":\"scattercarpet\",\"marker\":{\"colorbar\":{\"outlinewidth\":0,\"ticks\":\"\"}}}],\"carpet\":[{\"aaxis\":{\"endlinecolor\":\"#2a3f5f\",\"gridcolor\":\"white\",\"linecolor\":\"white\",\"minorgridcolor\":\"white\",\"startlinecolor\":\"#2a3f5f\"},\"baxis\":{\"endlinecolor\":\"#2a3f5f\",\"gridcolor\":\"white\",\"linecolor\":\"white\",\"minorgridcolor\":\"white\",\"startlinecolor\":\"#2a3f5f\"},\"type\":\"carpet\"}],\"table\":[{\"cells\":{\"fill\":{\"color\":\"#EBF0F8\"},\"line\":{\"color\":\"white\"}},\"header\":{\"fill\":{\"color\":\"#C8D4E3\"},\"line\":{\"color\":\"white\"}},\"type\":\"table\"}],\"barpolar\":[{\"marker\":{\"line\":{\"color\":\"#E5ECF6\",\"width\":0.5},\"pattern\":{\"fillmode\":\"overlay\",\"size\":10,\"solidity\":0.2}},\"type\":\"barpolar\"}],\"pie\":[{\"automargin\":true,\"type\":\"pie\"}]},\"layout\":{\"autotypenumbers\":\"strict\",\"colorway\":[\"#636efa\",\"#EF553B\",\"#00cc96\",\"#ab63fa\",\"#FFA15A\",\"#19d3f3\",\"#FF6692\",\"#B6E880\",\"#FF97FF\",\"#FECB52\"],\"font\":{\"color\":\"#2a3f5f\"},\"hovermode\":\"closest\",\"hoverlabel\":{\"align\":\"left\"},\"paper_bgcolor\":\"white\",\"plot_bgcolor\":\"#E5ECF6\",\"polar\":{\"bgcolor\":\"#E5ECF6\",\"angularaxis\":{\"gridcolor\":\"white\",\"linecolor\":\"white\",\"ticks\":\"\"},\"radialaxis\":{\"gridcolor\":\"white\",\"linecolor\":\"white\",\"ticks\":\"\"}},\"ternary\":{\"bgcolor\":\"#E5ECF6\",\"aaxis\":{\"gridcolor\":\"white\",\"linecolor\":\"white\",\"ticks\":\"\"},\"baxis\":{\"gridcolor\":\"white\",\"linecolor\":\"white\",\"ticks\":\"\"},\"caxis\":{\"gridcolor\":\"white\",\"linecolor\":\"white\",\"ticks\":\"\"}},\"coloraxis\":{\"colorbar\":{\"outlinewidth\":0,\"ticks\":\"\"}},\"colorscale\":{\"sequential\":[[0.0,\"#0d0887\"],[0.1111111111111111,\"#46039f\"],[0.2222222222222222,\"#7201a8\"],[0.3333333333333333,\"#9c179e\"],[0.4444444444444444,\"#bd3786\"],[0.5555555555555556,\"#d8576b\"],[0.6666666666666666,\"#ed7953\"],[0.7777777777777778,\"#fb9f3a\"],[0.8888888888888888,\"#fdca26\"],[1.0,\"#f0f921\"]],\"sequentialminus\":[[0.0,\"#0d0887\"],[0.1111111111111111,\"#46039f\"],[0.2222222222222222,\"#7201a8\"],[0.3333333333333333,\"#9c179e\"],[0.4444444444444444,\"#bd3786\"],[0.5555555555555556,\"#d8576b\"],[0.6666666666666666,\"#ed7953\"],[0.7777777777777778,\"#fb9f3a\"],[0.8888888888888888,\"#fdca26\"],[1.0,\"#f0f921\"]],\"diverging\":[[0,\"#8e0152\"],[0.1,\"#c51b7d\"],[0.2,\"#de77ae\"],[0.3,\"#f1b6da\"],[0.4,\"#fde0ef\"],[0.5,\"#f7f7f7\"],[0.6,\"#e6f5d0\"],[0.7,\"#b8e186\"],[0.8,\"#7fbc41\"],[0.9,\"#4d9221\"],[1,\"#276419\"]]},\"xaxis\":{\"gridcolor\":\"white\",\"linecolor\":\"white\",\"ticks\":\"\",\"title\":{\"standoff\":15},\"zerolinecolor\":\"white\",\"automargin\":true,\"zerolinewidth\":2},\"yaxis\":{\"gridcolor\":\"white\",\"linecolor\":\"white\",\"ticks\":\"\",\"title\":{\"standoff\":15},\"zerolinecolor\":\"white\",\"automargin\":true,\"zerolinewidth\":2},\"scene\":{\"xaxis\":{\"backgroundcolor\":\"#E5ECF6\",\"gridcolor\":\"white\",\"linecolor\":\"white\",\"showbackground\":true,\"ticks\":\"\",\"zerolinecolor\":\"white\",\"gridwidth\":2},\"yaxis\":{\"backgroundcolor\":\"#E5ECF6\",\"gridcolor\":\"white\",\"linecolor\":\"white\",\"showbackground\":true,\"ticks\":\"\",\"zerolinecolor\":\"white\",\"gridwidth\":2},\"zaxis\":{\"backgroundcolor\":\"#E5ECF6\",\"gridcolor\":\"white\",\"linecolor\":\"white\",\"showbackground\":true,\"ticks\":\"\",\"zerolinecolor\":\"white\",\"gridwidth\":2}},\"shapedefaults\":{\"line\":{\"color\":\"#2a3f5f\"}},\"annotationdefaults\":{\"arrowcolor\":\"#2a3f5f\",\"arrowhead\":0,\"arrowwidth\":1},\"geo\":{\"bgcolor\":\"white\",\"landcolor\":\"#E5ECF6\",\"subunitcolor\":\"white\",\"showland\":true,\"showlakes\":true,\"lakecolor\":\"white\"},\"title\":{\"x\":0.05},\"mapbox\":{\"style\":\"light\"}}},\"title\":{\"text\":\"Training and val accuracy across epochs\"},\"xaxis\":{\"title\":{\"text\":\"epochs\"}},\"yaxis\":{\"title\":{\"text\":\"Accuracy\"}}},                        {\"responsive\": true}                    ).then(function(){\n",
              "                            \n",
              "var gd = document.getElementById('f9625466-f40d-4d58-b261-c05a4ccc092a');\n",
              "var x = new MutationObserver(function (mutations, observer) {{\n",
              "        var display = window.getComputedStyle(gd).display;\n",
              "        if (!display || display === 'none') {{\n",
              "            console.log([gd, 'removed!']);\n",
              "            Plotly.purge(gd);\n",
              "            observer.disconnect();\n",
              "        }}\n",
              "}});\n",
              "\n",
              "// Listen for the removal of the full notebook cells\n",
              "var notebookContainer = gd.closest('#notebook-container');\n",
              "if (notebookContainer) {{\n",
              "    x.observe(notebookContainer, {childList: true});\n",
              "}}\n",
              "\n",
              "// Listen for the clearing of the current output cell\n",
              "var outputEl = gd.closest('.output');\n",
              "if (outputEl) {{\n",
              "    x.observe(outputEl, {childList: true});\n",
              "}}\n",
              "\n",
              "                        })                };                            </script>        </div>\n",
              "</body>\n",
              "</html>"
            ]
          },
          "metadata": {}
        }
      ]
    },
    {
      "cell_type": "markdown",
      "source": [
        "How does our model behave on unseen data?"
      ],
      "metadata": {
        "id": "X3mG7h6y-Ax7"
      }
    },
    {
      "cell_type": "code",
      "source": [
        "pred = (model.predict(test_batch) > 0.5).astype(\"int32\")\n",
        "pred.shape\n",
        "\n",
        "test_loss, test_accuracy = model.evaluate(test_batch)\n",
        "print('Test Loss :',test_loss)\n",
        "print('Test Accuracy :',test_accuracy)"
      ],
      "metadata": {
        "id": "3l_rbtv4-JI-",
        "colab": {
          "base_uri": "https://localhost:8080/"
        },
        "outputId": "0bd56a42-d2e8-42e1-8b4a-5473a0c08440"
      },
      "execution_count": 43,
      "outputs": [
        {
          "output_type": "stream",
          "name": "stdout",
          "text": [
            "17/17 [==============================] - 0s 2ms/step\n",
            "17/17 [==============================] - 0s 2ms/step - loss: 0.0685 - accuracy: 0.9796\n",
            "Test Loss : 0.06853275001049042\n",
            "Test Accuracy : 0.9796314239501953\n"
          ]
        }
      ]
    },
    {
      "cell_type": "markdown",
      "source": [
        "The accuracy on the test set is very good as well!"
      ],
      "metadata": {
        "id": "5axbzsovS3od"
      }
    },
    {
      "cell_type": "markdown",
      "source": [
        "### NB : How to explain that both losses consistently decrease while accuracies do not improve during the 12 first epochs?\n",
        "\n",
        "Loss and accuracy measure different aspects of a model's performance. While loss measures the difference between the predicted and actual output, accuracy measures the number of correct predictions. It is possible for a model to make the same number of correct predictions even as the predicted output gets closer to the actual output.\n",
        "\n",
        "### Causes of the Problem\n",
        "\n",
        "One common cause is overfitting but it is not the case here.\n",
        "\n",
        "The most obvious cause here is **class imbalance** (when one class has a significantly larger number of samples than the other class). This can lead to a biased model that performs well on the majority class but poorly on the minority class, resulting in stable accuracy.\n",
        "\n",
        "Other causes include **choice of evaluation metric** : Accuracy is not always the best metric to evaluate a model's performance, especially when dealing with imbalanced classes or multi-class problems. In these cases, it may be more appropriate to use metrics such as precision, recall, or F1-score.\n",
        "\n",
        "### Solutions\n",
        "\n",
        "In cases of class imbalance, one solution is to use techniques such as oversampling or undersampling to balance the classes. Oversampling involves creating new samples from the minority class, while undersampling involves removing samples from the majority class. These techniques can help the model learn the patterns in the minority class and improve its performance on unseen data.\n",
        "\n",
        "Choosing the right evaluation metric can also help overcome the problem of decreasing loss but stable accuracy."
      ],
      "metadata": {
        "id": "_jQmlPW1ws4B"
      }
    },
    {
      "cell_type": "markdown",
      "source": [
        "# 5. Other evaluation metrics\n",
        "\n",
        "The accuracy is calculated as the number of exact predictions performed by your model divided by the total number of predictions, in other words the accuracy is the proportion of exact predictions produced by our model.\n",
        "\n",
        "$$Accuracy = \\frac{TN+TP}{TN+TP+FN+FP}$$\n",
        "\n",
        "Since the percentage of spam in our dataset is low, measuring our model's performance by accuracy alone is not recommended.\n",
        "\n",
        "\n",
        "Let's check out other metrics to evaluate our model :\n",
        "\n",
        "\n",
        "*   Precision : fraction of relevant events from all the retrieved events; the ability of our model to discriminate between classes\n",
        "\n",
        "$$Precision = \\frac{TP}{TP+FP}$$\n",
        "\n",
        "*   Recall (or True Postive Rate) : fraction of retrieved events from all the relevant events; the ability of the model to detect positives events among all the real positives events in our dataset\n",
        "\n",
        "$$Recall = \\frac{TP}{TP+FN}$$\n",
        "\n",
        "*   F1 Score : a very useful metric because contrary to the accuracy it takes into account the potential imbalance between the different classes in the dataset for the target variable. The F1 score metric is equal to the harmonic mean between the recall and the precision for a given class of the target variable.\n",
        "\n",
        "$$\n",
        "F1 = \\frac{Precision + Recall}{Precision \\times Recall}\n",
        "$$\n",
        "\n"
      ],
      "metadata": {
        "id": "aZX7L-4xNavs"
      }
    },
    {
      "cell_type": "code",
      "source": [
        "from sklearn.metrics import confusion_matrix, precision_score, recall_score, f1_score\n",
        "\n",
        "test_pred = [1 if o>0.5 else 0 for o in model.predict(test_padded)]\n",
        "cf_matrix = confusion_matrix(Y_test, test_pred)"
      ],
      "metadata": {
        "id": "t6cT4tQ4NmA1",
        "colab": {
          "base_uri": "https://localhost:8080/"
        },
        "outputId": "3acb4c86-b246-4b03-b1a2-ef384fd98b29"
      },
      "execution_count": 44,
      "outputs": [
        {
          "output_type": "stream",
          "name": "stdout",
          "text": [
            "33/33 [==============================] - 0s 2ms/step\n"
          ]
        }
      ]
    },
    {
      "cell_type": "code",
      "source": [
        "ax = plt.subplot()\n",
        "sns.heatmap(cf_matrix, annot = True, ax = ax, cmap = 'Blues',fmt = '');\n",
        "ax.set_xlabel('Predicted labels');\n",
        "ax.set_ylabel('True labels');\n",
        "ax.set_title('Confusion Matrix');\n",
        "ax.xaxis.set_ticklabels(['Not Spam', 'Spam']); ax.yaxis.set_ticklabels(['Not Spam', 'Spam']);"
      ],
      "metadata": {
        "colab": {
          "base_uri": "https://localhost:8080/",
          "height": 472
        },
        "id": "v024CREcgdTl",
        "outputId": "15aa140b-f2a0-4436-a597-e405db1b7dc7"
      },
      "execution_count": 45,
      "outputs": [
        {
          "output_type": "display_data",
          "data": {
            "text/plain": [
              "<Figure size 640x480 with 2 Axes>"
            ],
            "image/png": "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\n"
          },
          "metadata": {}
        }
      ]
    },
    {
      "cell_type": "code",
      "source": [
        "# tn, fp, fn, tp = cf_matrix.ravel()\n",
        "print(\"Precision: {:.2f}%\".format(100 * precision_score(Y_test, test_pred)))\n",
        "print(\"Recall: {:.2f}%\".format(100 * recall_score(Y_test, test_pred)))\n",
        "print(\"F1 Score: {:.2f}%\".format(100 * f1_score(Y_test, test_pred)))"
      ],
      "metadata": {
        "colab": {
          "base_uri": "https://localhost:8080/"
        },
        "id": "afggU8rufhLM",
        "outputId": "5e86b79b-34e0-4d78-f169-8d6b120b6023"
      },
      "execution_count": 46,
      "outputs": [
        {
          "output_type": "stream",
          "name": "stdout",
          "text": [
            "Precision: 96.61%\n",
            "Recall: 87.02%\n",
            "F1 Score: 91.57%\n"
          ]
        }
      ]
    },
    {
      "cell_type": "markdown",
      "source": [
        "Our model's F1 score is slightly lower than our accuracy in this case, and looking at our other metrics, the lower score is recall, namely the ability to correctly identify spam among all messages."
      ],
      "metadata": {
        "id": "EnS_Wk-6kRIg"
      }
    },
    {
      "cell_type": "markdown",
      "source": [
        "# 6. Rebalancing dataset classes\n",
        "\n",
        "Since we have already noted that the low proportion of spam in the dataset can affect our model's performances, perhaps training on a rebalanced dataset will improve them. However, we will also have much less data to train on overall."
      ],
      "metadata": {
        "id": "g7NxMlAWIL_H"
      }
    },
    {
      "cell_type": "code",
      "source": [
        "ham_msg = df[df[\"target\"] == 0]\n",
        "spam_msg = df[df[\"target\"] == 1]\n",
        "new_ham_msg = ham_msg.sample(n = len(spam_msg), random_state = 42)\n",
        "balanced_df = new_ham_msg.append(spam_msg).reset_index(drop=True)"
      ],
      "metadata": {
        "id": "MBo4y07j94S6"
      },
      "execution_count": 47,
      "outputs": []
    },
    {
      "cell_type": "code",
      "source": [
        "plt.figure(figsize=(8, 6))\n",
        "sns.countplot(data = balanced_df, x = 'label')\n",
        "plt.title('Distribution of Ham and Spam email messages after sampling to balance classes')\n",
        "plt.xlabel('Message types')\n",
        "plt.show()"
      ],
      "metadata": {
        "colab": {
          "base_uri": "https://localhost:8080/",
          "height": 564
        },
        "id": "-yEiPLuX_HPA",
        "outputId": "787d052a-490e-4a32-edd8-90014bae193d"
      },
      "execution_count": 48,
      "outputs": [
        {
          "output_type": "display_data",
          "data": {
            "text/plain": [
              "<Figure size 800x600 with 1 Axes>"
            ],
            "image/png": "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\n"
          },
          "metadata": {}
        }
      ]
    },
    {
      "cell_type": "code",
      "source": [
        "print(df.label.value_counts())\n",
        "print(balanced_df.label.value_counts())"
      ],
      "metadata": {
        "colab": {
          "base_uri": "https://localhost:8080/"
        },
        "id": "pxDJBKOt_u3e",
        "outputId": "80826853-8113-4ea1-a67b-67b8d5809b20"
      },
      "execution_count": 49,
      "outputs": [
        {
          "output_type": "stream",
          "name": "stdout",
          "text": [
            "ham     4498\n",
            "spam     653\n",
            "Name: label, dtype: int64\n",
            "ham     653\n",
            "spam    653\n",
            "Name: label, dtype: int64\n"
          ]
        }
      ]
    },
    {
      "cell_type": "markdown",
      "source": [
        "Now that our classes are balanced, we'll train an identical version of our model and compare metrics."
      ],
      "metadata": {
        "id": "X_-I6IeR_-oz"
      }
    },
    {
      "cell_type": "code",
      "source": [
        "balanced_X_train, balanced_X_rest, balanced_Y_train, balanced_Y_rest = train_test_split(balanced_df[\"clean_content\"], balanced_df[\"target\"], test_size = 0.4, stratify = balanced_df[\"target\"], random_state = 42)\n",
        "balanced_X_val, balanced_X_test, balanced_Y_val, balanced_Y_test = train_test_split(balanced_X_rest, balanced_Y_rest, test_size=0.5, stratify = balanced_Y_rest, random_state = 42)"
      ],
      "metadata": {
        "id": "BsxkzMZNJd52"
      },
      "execution_count": 50,
      "outputs": []
    },
    {
      "cell_type": "code",
      "source": [
        "tokenizer2 = tf.keras.preprocessing.text.Tokenizer(num_words=1000, oov_token = \"out_of_vocab\")\n",
        "tokenizer2.fit_on_texts(balanced_X_train)\n",
        "\n",
        "balanced_X_train_encoded = tokenizer2.texts_to_sequences(balanced_X_train)\n",
        "balanced_X_val_encoded = tokenizer2.texts_to_sequences(balanced_X_val)\n",
        "balanced_X_test_encoded = tokenizer2.texts_to_sequences(balanced_X_test)"
      ],
      "metadata": {
        "id": "_qnquPnqKGy2"
      },
      "execution_count": 51,
      "outputs": []
    },
    {
      "cell_type": "code",
      "source": [
        "balanced_train_padded = tf.keras.preprocessing.sequence.pad_sequences(balanced_X_train_encoded, padding=\"post\")\n",
        "balanced_val_padded = tf.keras.preprocessing.sequence.pad_sequences(balanced_X_val_encoded, padding=\"post\")\n",
        "balanced_test_padded = tf.keras.preprocessing.sequence.pad_sequences(balanced_X_test_encoded, padding=\"post\")"
      ],
      "metadata": {
        "id": "s0ajBOJeKGy5"
      },
      "execution_count": 52,
      "outputs": []
    },
    {
      "cell_type": "code",
      "source": [
        "balanced_train = tf.data.Dataset.from_tensor_slices((balanced_train_padded, balanced_Y_train))\n",
        "balanced_val = tf.data.Dataset.from_tensor_slices((balanced_val_padded, balanced_Y_val))\n",
        "balanced_test = tf.data.Dataset.from_tensor_slices((balanced_test_padded, balanced_Y_test))"
      ],
      "metadata": {
        "id": "wGBLVc0QKGy7"
      },
      "execution_count": 53,
      "outputs": []
    },
    {
      "cell_type": "code",
      "source": [
        "balanced_train_batch = balanced_train.shuffle(len(balanced_X_train)).batch(64)\n",
        "balanced_val_batch = balanced_val.shuffle(len(balanced_X_val)).batch(64)\n",
        "balanced_test_batch = balanced_test.shuffle(len(balanced_X_test)).batch(64)"
      ],
      "metadata": {
        "id": "3K_k7dvmKGy8"
      },
      "execution_count": 54,
      "outputs": []
    },
    {
      "cell_type": "code",
      "source": [
        "embedding_dim = 8\n",
        "vocab_size = tokenizer2.num_words + 1 # the number of words in the vocabulary : the input dim needs to be equal to the size of the vocabulary + 1 (because of the zero padding)\n",
        "\n",
        "model2 = Sequential([\n",
        "  Embedding(\n",
        "      input_dim = vocab_size,\n",
        "      output_dim = embedding_dim,\n",
        "      name = \"embedding\"), # the embedding layer\n",
        "  GlobalAveragePooling1D(), # this will pick the average for every word in the sentence along each dimension of the representation space.\n",
        "  Dense(16, activation='relu'), # a dense layer\n",
        "  Dense(1, activation=\"sigmoid\") # the prediction layer\n",
        "])"
      ],
      "metadata": {
        "id": "10TgCkMOKGy9"
      },
      "execution_count": 55,
      "outputs": []
    },
    {
      "cell_type": "code",
      "source": [
        "model2.summary()"
      ],
      "metadata": {
        "colab": {
          "base_uri": "https://localhost:8080/"
        },
        "outputId": "b0020533-a52d-4618-964e-b222bb57ebdc",
        "id": "_G04drpGKGy9"
      },
      "execution_count": 56,
      "outputs": [
        {
          "output_type": "stream",
          "name": "stdout",
          "text": [
            "Model: \"sequential_1\"\n",
            "_________________________________________________________________\n",
            " Layer (type)                Output Shape              Param #   \n",
            "=================================================================\n",
            " embedding (Embedding)       (None, None, 8)           8008      \n",
            "                                                                 \n",
            " global_average_pooling1d_1  (None, 8)                 0         \n",
            "  (GlobalAveragePooling1D)                                       \n",
            "                                                                 \n",
            " dense_2 (Dense)             (None, 16)                144       \n",
            "                                                                 \n",
            " dense_3 (Dense)             (None, 1)                 17        \n",
            "                                                                 \n",
            "=================================================================\n",
            "Total params: 8169 (31.91 KB)\n",
            "Trainable params: 8169 (31.91 KB)\n",
            "Non-trainable params: 0 (0.00 Byte)\n",
            "_________________________________________________________________\n"
          ]
        }
      ]
    },
    {
      "cell_type": "code",
      "source": [
        "model2.compile(loss = tf.keras.losses.BinaryCrossentropy(from_logits = True), # from_logits = True to interpret y_pred as a tensor of logit values and not a probability\n",
        "              metrics = ['accuracy'],\n",
        "              optimizer = 'adam')"
      ],
      "metadata": {
        "id": "70H5oW7hKGy9"
      },
      "execution_count": 57,
      "outputs": []
    },
    {
      "cell_type": "code",
      "source": [
        "history = model2.fit(balanced_train_batch,\n",
        "                    epochs = 50,\n",
        "                    validation_data = balanced_val_batch\n",
        "                   )"
      ],
      "metadata": {
        "colab": {
          "base_uri": "https://localhost:8080/"
        },
        "outputId": "65a8a863-dda8-400b-dbbe-4220a7c5c997",
        "id": "cX4b3en-KGy-"
      },
      "execution_count": 58,
      "outputs": [
        {
          "output_type": "stream",
          "name": "stdout",
          "text": [
            "Epoch 1/50\n",
            "13/13 [==============================] - 2s 41ms/step - loss: 0.6931 - accuracy: 0.5006 - val_loss: 0.6902 - val_accuracy: 0.4981\n",
            "Epoch 2/50\n",
            "13/13 [==============================] - 0s 6ms/step - loss: 0.6898 - accuracy: 0.7088 - val_loss: 0.6862 - val_accuracy: 0.6897\n",
            "Epoch 3/50\n",
            "13/13 [==============================] - 0s 6ms/step - loss: 0.6865 - accuracy: 0.8225 - val_loss: 0.6814 - val_accuracy: 0.7931\n",
            "Epoch 4/50\n",
            "13/13 [==============================] - 0s 8ms/step - loss: 0.6827 - accuracy: 0.8953 - val_loss: 0.6756 - val_accuracy: 0.8046\n",
            "Epoch 5/50\n",
            "13/13 [==============================] - 0s 10ms/step - loss: 0.6773 - accuracy: 0.8876 - val_loss: 0.6676 - val_accuracy: 0.8314\n",
            "Epoch 6/50\n",
            "13/13 [==============================] - 0s 10ms/step - loss: 0.6705 - accuracy: 0.9017 - val_loss: 0.6582 - val_accuracy: 0.8276\n",
            "Epoch 7/50\n",
            "13/13 [==============================] - 0s 7ms/step - loss: 0.6618 - accuracy: 0.8902 - val_loss: 0.6462 - val_accuracy: 0.8314\n",
            "Epoch 8/50\n",
            "13/13 [==============================] - 0s 8ms/step - loss: 0.6508 - accuracy: 0.9042 - val_loss: 0.6321 - val_accuracy: 0.8352\n",
            "Epoch 9/50\n",
            "13/13 [==============================] - 0s 6ms/step - loss: 0.6380 - accuracy: 0.9004 - val_loss: 0.6168 - val_accuracy: 0.8352\n",
            "Epoch 10/50\n",
            "13/13 [==============================] - 0s 8ms/step - loss: 0.6227 - accuracy: 0.9080 - val_loss: 0.5977 - val_accuracy: 0.8506\n",
            "Epoch 11/50\n",
            "13/13 [==============================] - 0s 5ms/step - loss: 0.6055 - accuracy: 0.9080 - val_loss: 0.5785 - val_accuracy: 0.8467\n",
            "Epoch 12/50\n",
            "13/13 [==============================] - 0s 6ms/step - loss: 0.5853 - accuracy: 0.9183 - val_loss: 0.5558 - val_accuracy: 0.8697\n",
            "Epoch 13/50\n",
            "13/13 [==============================] - 0s 7ms/step - loss: 0.5635 - accuracy: 0.9195 - val_loss: 0.5336 - val_accuracy: 0.8736\n",
            "Epoch 14/50\n",
            "13/13 [==============================] - 0s 7ms/step - loss: 0.5405 - accuracy: 0.9195 - val_loss: 0.5093 - val_accuracy: 0.8774\n",
            "Epoch 15/50\n",
            "13/13 [==============================] - 0s 7ms/step - loss: 0.5158 - accuracy: 0.9221 - val_loss: 0.4885 - val_accuracy: 0.8774\n",
            "Epoch 16/50\n",
            "13/13 [==============================] - 0s 12ms/step - loss: 0.4901 - accuracy: 0.9234 - val_loss: 0.4650 - val_accuracy: 0.8812\n",
            "Epoch 17/50\n",
            "13/13 [==============================] - 0s 15ms/step - loss: 0.4644 - accuracy: 0.9246 - val_loss: 0.4437 - val_accuracy: 0.8812\n",
            "Epoch 18/50\n",
            "13/13 [==============================] - 0s 11ms/step - loss: 0.4391 - accuracy: 0.9259 - val_loss: 0.4247 - val_accuracy: 0.8774\n",
            "Epoch 19/50\n",
            "13/13 [==============================] - 0s 29ms/step - loss: 0.4142 - accuracy: 0.9272 - val_loss: 0.4090 - val_accuracy: 0.8812\n",
            "Epoch 20/50\n",
            "13/13 [==============================] - 0s 25ms/step - loss: 0.3898 - accuracy: 0.9298 - val_loss: 0.3854 - val_accuracy: 0.8812\n",
            "Epoch 21/50\n",
            "13/13 [==============================] - 0s 9ms/step - loss: 0.3675 - accuracy: 0.9323 - val_loss: 0.3753 - val_accuracy: 0.8812\n",
            "Epoch 22/50\n",
            "13/13 [==============================] - 0s 12ms/step - loss: 0.3458 - accuracy: 0.9323 - val_loss: 0.3581 - val_accuracy: 0.8774\n",
            "Epoch 23/50\n",
            "13/13 [==============================] - 0s 14ms/step - loss: 0.3256 - accuracy: 0.9336 - val_loss: 0.3462 - val_accuracy: 0.8774\n",
            "Epoch 24/50\n",
            "13/13 [==============================] - 0s 15ms/step - loss: 0.3064 - accuracy: 0.9323 - val_loss: 0.3308 - val_accuracy: 0.8927\n",
            "Epoch 25/50\n",
            "13/13 [==============================] - 0s 10ms/step - loss: 0.2884 - accuracy: 0.9323 - val_loss: 0.3241 - val_accuracy: 0.8966\n",
            "Epoch 26/50\n",
            "13/13 [==============================] - 0s 11ms/step - loss: 0.2722 - accuracy: 0.9323 - val_loss: 0.3104 - val_accuracy: 0.8966\n",
            "Epoch 27/50\n",
            "13/13 [==============================] - 0s 14ms/step - loss: 0.2569 - accuracy: 0.9349 - val_loss: 0.3040 - val_accuracy: 0.9042\n",
            "Epoch 28/50\n",
            "13/13 [==============================] - 0s 13ms/step - loss: 0.2425 - accuracy: 0.9349 - val_loss: 0.2880 - val_accuracy: 0.8966\n",
            "Epoch 29/50\n",
            "13/13 [==============================] - 0s 11ms/step - loss: 0.2304 - accuracy: 0.9374 - val_loss: 0.2785 - val_accuracy: 0.9042\n",
            "Epoch 30/50\n",
            "13/13 [==============================] - 0s 32ms/step - loss: 0.2176 - accuracy: 0.9413 - val_loss: 0.2719 - val_accuracy: 0.9080\n",
            "Epoch 31/50\n",
            "13/13 [==============================] - 0s 31ms/step - loss: 0.2068 - accuracy: 0.9451 - val_loss: 0.2670 - val_accuracy: 0.9080\n",
            "Epoch 32/50\n",
            "13/13 [==============================] - 0s 27ms/step - loss: 0.1965 - accuracy: 0.9451 - val_loss: 0.2555 - val_accuracy: 0.9080\n",
            "Epoch 33/50\n",
            "13/13 [==============================] - 0s 13ms/step - loss: 0.1874 - accuracy: 0.9476 - val_loss: 0.2500 - val_accuracy: 0.9080\n",
            "Epoch 34/50\n",
            "13/13 [==============================] - 0s 12ms/step - loss: 0.1787 - accuracy: 0.9515 - val_loss: 0.2465 - val_accuracy: 0.9080\n",
            "Epoch 35/50\n",
            "13/13 [==============================] - 0s 11ms/step - loss: 0.1712 - accuracy: 0.9527 - val_loss: 0.2354 - val_accuracy: 0.9157\n",
            "Epoch 36/50\n",
            "13/13 [==============================] - 0s 8ms/step - loss: 0.1638 - accuracy: 0.9540 - val_loss: 0.2378 - val_accuracy: 0.9195\n",
            "Epoch 37/50\n",
            "13/13 [==============================] - 0s 7ms/step - loss: 0.1573 - accuracy: 0.9566 - val_loss: 0.2337 - val_accuracy: 0.9195\n",
            "Epoch 38/50\n",
            "13/13 [==============================] - 0s 6ms/step - loss: 0.1512 - accuracy: 0.9591 - val_loss: 0.2327 - val_accuracy: 0.9195\n",
            "Epoch 39/50\n",
            "13/13 [==============================] - 0s 8ms/step - loss: 0.1456 - accuracy: 0.9591 - val_loss: 0.2280 - val_accuracy: 0.9195\n",
            "Epoch 40/50\n",
            "13/13 [==============================] - 0s 6ms/step - loss: 0.1404 - accuracy: 0.9591 - val_loss: 0.2233 - val_accuracy: 0.9234\n",
            "Epoch 41/50\n",
            "13/13 [==============================] - 0s 10ms/step - loss: 0.1352 - accuracy: 0.9591 - val_loss: 0.2182 - val_accuracy: 0.9272\n",
            "Epoch 42/50\n",
            "13/13 [==============================] - 0s 6ms/step - loss: 0.1305 - accuracy: 0.9591 - val_loss: 0.2175 - val_accuracy: 0.9310\n",
            "Epoch 43/50\n",
            "13/13 [==============================] - 0s 13ms/step - loss: 0.1264 - accuracy: 0.9630 - val_loss: 0.2116 - val_accuracy: 0.9349\n",
            "Epoch 44/50\n",
            "13/13 [==============================] - 0s 6ms/step - loss: 0.1220 - accuracy: 0.9655 - val_loss: 0.2117 - val_accuracy: 0.9349\n",
            "Epoch 45/50\n",
            "13/13 [==============================] - 0s 5ms/step - loss: 0.1176 - accuracy: 0.9668 - val_loss: 0.2063 - val_accuracy: 0.9349\n",
            "Epoch 46/50\n",
            "13/13 [==============================] - 0s 9ms/step - loss: 0.1132 - accuracy: 0.9681 - val_loss: 0.2073 - val_accuracy: 0.9349\n",
            "Epoch 47/50\n",
            "13/13 [==============================] - 0s 9ms/step - loss: 0.1095 - accuracy: 0.9706 - val_loss: 0.2053 - val_accuracy: 0.9349\n",
            "Epoch 48/50\n",
            "13/13 [==============================] - 0s 9ms/step - loss: 0.1055 - accuracy: 0.9706 - val_loss: 0.1976 - val_accuracy: 0.9349\n",
            "Epoch 49/50\n",
            "13/13 [==============================] - 0s 12ms/step - loss: 0.1021 - accuracy: 0.9706 - val_loss: 0.1983 - val_accuracy: 0.9387\n",
            "Epoch 50/50\n",
            "13/13 [==============================] - 0s 11ms/step - loss: 0.0987 - accuracy: 0.9706 - val_loss: 0.1914 - val_accuracy: 0.9387\n"
          ]
        }
      ]
    },
    {
      "cell_type": "code",
      "source": [
        "# Saving our model so we can load and re-use it :\n",
        "model2.save('/content/m2_balanced _dataclasses.h5')\n",
        "\n",
        "# To load :\n",
        "# from keras.models import load_model\n",
        "# model = load_model('/content/m2_balanced _dataclasses.h5')"
      ],
      "metadata": {
        "id": "zWnIdD33lV0L"
      },
      "execution_count": 59,
      "outputs": []
    },
    {
      "cell_type": "code",
      "source": [
        "fig = go.Figure(data=[\n",
        "                      go.Scatter(\n",
        "                          y = model2.history.history[\"loss\"],\n",
        "                          name=\"Training loss\",\n",
        "                          mode=\"lines\",\n",
        "                          marker=dict(\n",
        "                              color=color_chart[0]\n",
        "                          )),\n",
        "                      go.Scatter(\n",
        "                          y = model2.history.history[\"val_loss\"],\n",
        "                          name=\"Validation loss\",\n",
        "                          mode=\"lines\",\n",
        "                          marker=dict(\n",
        "                              color=color_chart[1]\n",
        "                          ))\n",
        "])\n",
        "fig.update_layout(\n",
        "    title='Training and val loss across epochs',\n",
        "    xaxis_title='epochs',\n",
        "    yaxis_title='Binary Cross Entropy'\n",
        ")\n",
        "fig.show()"
      ],
      "metadata": {
        "colab": {
          "base_uri": "https://localhost:8080/",
          "height": 542
        },
        "outputId": "1ff930f8-af3d-4ad5-f5e9-3c87f1e1f063",
        "id": "7fNQoTQ-KGy_"
      },
      "execution_count": 60,
      "outputs": [
        {
          "output_type": "display_data",
          "data": {
            "text/html": [
              "<html>\n",
              "<head><meta charset=\"utf-8\" /></head>\n",
              "<body>\n",
              "    <div>            <script src=\"https://cdnjs.cloudflare.com/ajax/libs/mathjax/2.7.5/MathJax.js?config=TeX-AMS-MML_SVG\"></script><script type=\"text/javascript\">if (window.MathJax && window.MathJax.Hub && window.MathJax.Hub.Config) {window.MathJax.Hub.Config({SVG: {font: \"STIX-Web\"}});}</script>                <script type=\"text/javascript\">window.PlotlyConfig = {MathJaxConfig: 'local'};</script>\n",
              "        <script charset=\"utf-8\" src=\"https://cdn.plot.ly/plotly-2.24.1.min.js\"></script>                <div id=\"965a198b-94c0-4506-aaba-d8833ffe9d6f\" class=\"plotly-graph-div\" style=\"height:525px; width:100%;\"></div>            <script type=\"text/javascript\">                                    window.PLOTLYENV=window.PLOTLYENV || {};                                    if (document.getElementById(\"965a198b-94c0-4506-aaba-d8833ffe9d6f\")) {                    Plotly.newPlot(                        \"965a198b-94c0-4506-aaba-d8833ffe9d6f\",                        [{\"marker\":{\"color\":\"#4B9AC7\"},\"mode\":\"lines\",\"name\":\"Training loss\",\"y\":[0.693128228187561,0.6897581219673157,0.6865396499633789,0.6827065944671631,0.6773005723953247,0.6704765558242798,0.66175377368927,0.650825023651123,0.637977123260498,0.6226664185523987,0.6055490970611572,0.5853292346000671,0.5634872913360596,0.5405424237251282,0.5157631039619446,0.49008581042289734,0.4644336998462677,0.4390890598297119,0.41424399614334106,0.3897882401943207,0.3674640655517578,0.34581872820854187,0.3255528509616852,0.306400865316391,0.2883899509906769,0.27223458886146545,0.2569202482700348,0.24248386919498444,0.23040716350078583,0.2175888866186142,0.20683370530605316,0.19653698801994324,0.1873975694179535,0.17873986065387726,0.17123407125473022,0.16381606459617615,0.15728913247585297,0.15117178857326508,0.14563652873039246,0.14038926362991333,0.13516579568386078,0.13054566085338593,0.12635526061058044,0.12198841571807861,0.11757684499025345,0.11317393183708191,0.10946577042341232,0.10549001395702362,0.10209550708532333,0.09868792444467545],\"type\":\"scatter\"},{\"marker\":{\"color\":\"#4BE8E0\"},\"mode\":\"lines\",\"name\":\"Validation loss\",\"y\":[0.6901856660842896,0.6862326264381409,0.6813558340072632,0.6756406426429749,0.6676108837127686,0.6581634879112244,0.6462121605873108,0.6320875287055969,0.6167836785316467,0.5977317690849304,0.578522264957428,0.555754542350769,0.5336222648620605,0.5092917084693909,0.48848217725753784,0.46501779556274414,0.4437238872051239,0.42471039295196533,0.4089685380458832,0.38543209433555603,0.3752906620502472,0.35813745856285095,0.34620174765586853,0.3308102488517761,0.3241148293018341,0.31042683124542236,0.3040071427822113,0.2880423665046692,0.2784597873687744,0.2718827426433563,0.26698312163352966,0.25546005368232727,0.24995379149913788,0.24650296568870544,0.2354164719581604,0.23781196773052216,0.2336971014738083,0.2326631397008896,0.2279670536518097,0.22325687110424042,0.21818716824054718,0.2175447940826416,0.21160806715488434,0.21171484887599945,0.20634856820106506,0.20730237662792206,0.20525510609149933,0.19758541882038116,0.1983451396226883,0.19135093688964844],\"type\":\"scatter\"}],                        {\"template\":{\"data\":{\"histogram2dcontour\":[{\"type\":\"histogram2dcontour\",\"colorbar\":{\"outlinewidth\":0,\"ticks\":\"\"},\"colorscale\":[[0.0,\"#0d0887\"],[0.1111111111111111,\"#46039f\"],[0.2222222222222222,\"#7201a8\"],[0.3333333333333333,\"#9c179e\"],[0.4444444444444444,\"#bd3786\"],[0.5555555555555556,\"#d8576b\"],[0.6666666666666666,\"#ed7953\"],[0.7777777777777778,\"#fb9f3a\"],[0.8888888888888888,\"#fdca26\"],[1.0,\"#f0f921\"]]}],\"choropleth\":[{\"type\":\"choropleth\",\"colorbar\":{\"outlinewidth\":0,\"ticks\":\"\"}}],\"histogram2d\":[{\"type\":\"histogram2d\",\"colorbar\":{\"outlinewidth\":0,\"ticks\":\"\"},\"colorscale\":[[0.0,\"#0d0887\"],[0.1111111111111111,\"#46039f\"],[0.2222222222222222,\"#7201a8\"],[0.3333333333333333,\"#9c179e\"],[0.4444444444444444,\"#bd3786\"],[0.5555555555555556,\"#d8576b\"],[0.6666666666666666,\"#ed7953\"],[0.7777777777777778,\"#fb9f3a\"],[0.8888888888888888,\"#fdca26\"],[1.0,\"#f0f921\"]]}],\"heatmap\":[{\"type\":\"heatmap\",\"colorbar\":{\"outlinewidth\":0,\"ticks\":\"\"},\"colorscale\":[[0.0,\"#0d0887\"],[0.1111111111111111,\"#46039f\"],[0.2222222222222222,\"#7201a8\"],[0.3333333333333333,\"#9c179e\"],[0.4444444444444444,\"#bd3786\"],[0.5555555555555556,\"#d8576b\"],[0.6666666666666666,\"#ed7953\"],[0.7777777777777778,\"#fb9f3a\"],[0.8888888888888888,\"#fdca26\"],[1.0,\"#f0f921\"]]}],\"heatmapgl\":[{\"type\":\"heatmapgl\",\"colorbar\":{\"outlinewidth\":0,\"ticks\":\"\"},\"colorscale\":[[0.0,\"#0d0887\"],[0.1111111111111111,\"#46039f\"],[0.2222222222222222,\"#7201a8\"],[0.3333333333333333,\"#9c179e\"],[0.4444444444444444,\"#bd3786\"],[0.5555555555555556,\"#d8576b\"],[0.6666666666666666,\"#ed7953\"],[0.7777777777777778,\"#fb9f3a\"],[0.8888888888888888,\"#fdca26\"],[1.0,\"#f0f921\"]]}],\"contourcarpet\":[{\"type\":\"contourcarpet\",\"colorbar\":{\"outlinewidth\":0,\"ticks\":\"\"}}],\"contour\":[{\"type\":\"contour\",\"colorbar\":{\"outlinewidth\":0,\"ticks\":\"\"},\"colorscale\":[[0.0,\"#0d0887\"],[0.1111111111111111,\"#46039f\"],[0.2222222222222222,\"#7201a8\"],[0.3333333333333333,\"#9c179e\"],[0.4444444444444444,\"#bd3786\"],[0.5555555555555556,\"#d8576b\"],[0.6666666666666666,\"#ed7953\"],[0.7777777777777778,\"#fb9f3a\"],[0.8888888888888888,\"#fdca26\"],[1.0,\"#f0f921\"]]}],\"surface\":[{\"type\":\"surface\",\"colorbar\":{\"outlinewidth\":0,\"ticks\":\"\"},\"colorscale\":[[0.0,\"#0d0887\"],[0.1111111111111111,\"#46039f\"],[0.2222222222222222,\"#7201a8\"],[0.3333333333333333,\"#9c179e\"],[0.4444444444444444,\"#bd3786\"],[0.5555555555555556,\"#d8576b\"],[0.6666666666666666,\"#ed7953\"],[0.7777777777777778,\"#fb9f3a\"],[0.8888888888888888,\"#fdca26\"],[1.0,\"#f0f921\"]]}],\"mesh3d\":[{\"type\":\"mesh3d\",\"colorbar\":{\"outlinewidth\":0,\"ticks\":\"\"}}],\"scatter\":[{\"fillpattern\":{\"fillmode\":\"overlay\",\"size\":10,\"solidity\":0.2},\"type\":\"scatter\"}],\"parcoords\":[{\"type\":\"parcoords\",\"line\":{\"colorbar\":{\"outlinewidth\":0,\"ticks\":\"\"}}}],\"scatterpolargl\":[{\"type\":\"scatterpolargl\",\"marker\":{\"colorbar\":{\"outlinewidth\":0,\"ticks\":\"\"}}}],\"bar\":[{\"error_x\":{\"color\":\"#2a3f5f\"},\"error_y\":{\"color\":\"#2a3f5f\"},\"marker\":{\"line\":{\"color\":\"#E5ECF6\",\"width\":0.5},\"pattern\":{\"fillmode\":\"overlay\",\"size\":10,\"solidity\":0.2}},\"type\":\"bar\"}],\"scattergeo\":[{\"type\":\"scattergeo\",\"marker\":{\"colorbar\":{\"outlinewidth\":0,\"ticks\":\"\"}}}],\"scatterpolar\":[{\"type\":\"scatterpolar\",\"marker\":{\"colorbar\":{\"outlinewidth\":0,\"ticks\":\"\"}}}],\"histogram\":[{\"marker\":{\"pattern\":{\"fillmode\":\"overlay\",\"size\":10,\"solidity\":0.2}},\"type\":\"histogram\"}],\"scattergl\":[{\"type\":\"scattergl\",\"marker\":{\"colorbar\":{\"outlinewidth\":0,\"ticks\":\"\"}}}],\"scatter3d\":[{\"type\":\"scatter3d\",\"line\":{\"colorbar\":{\"outlinewidth\":0,\"ticks\":\"\"}},\"marker\":{\"colorbar\":{\"outlinewidth\":0,\"ticks\":\"\"}}}],\"scattermapbox\":[{\"type\":\"scattermapbox\",\"marker\":{\"colorbar\":{\"outlinewidth\":0,\"ticks\":\"\"}}}],\"scatterternary\":[{\"type\":\"scatterternary\",\"marker\":{\"colorbar\":{\"outlinewidth\":0,\"ticks\":\"\"}}}],\"scattercarpet\":[{\"type\":\"scattercarpet\",\"marker\":{\"colorbar\":{\"outlinewidth\":0,\"ticks\":\"\"}}}],\"carpet\":[{\"aaxis\":{\"endlinecolor\":\"#2a3f5f\",\"gridcolor\":\"white\",\"linecolor\":\"white\",\"minorgridcolor\":\"white\",\"startlinecolor\":\"#2a3f5f\"},\"baxis\":{\"endlinecolor\":\"#2a3f5f\",\"gridcolor\":\"white\",\"linecolor\":\"white\",\"minorgridcolor\":\"white\",\"startlinecolor\":\"#2a3f5f\"},\"type\":\"carpet\"}],\"table\":[{\"cells\":{\"fill\":{\"color\":\"#EBF0F8\"},\"line\":{\"color\":\"white\"}},\"header\":{\"fill\":{\"color\":\"#C8D4E3\"},\"line\":{\"color\":\"white\"}},\"type\":\"table\"}],\"barpolar\":[{\"marker\":{\"line\":{\"color\":\"#E5ECF6\",\"width\":0.5},\"pattern\":{\"fillmode\":\"overlay\",\"size\":10,\"solidity\":0.2}},\"type\":\"barpolar\"}],\"pie\":[{\"automargin\":true,\"type\":\"pie\"}]},\"layout\":{\"autotypenumbers\":\"strict\",\"colorway\":[\"#636efa\",\"#EF553B\",\"#00cc96\",\"#ab63fa\",\"#FFA15A\",\"#19d3f3\",\"#FF6692\",\"#B6E880\",\"#FF97FF\",\"#FECB52\"],\"font\":{\"color\":\"#2a3f5f\"},\"hovermode\":\"closest\",\"hoverlabel\":{\"align\":\"left\"},\"paper_bgcolor\":\"white\",\"plot_bgcolor\":\"#E5ECF6\",\"polar\":{\"bgcolor\":\"#E5ECF6\",\"angularaxis\":{\"gridcolor\":\"white\",\"linecolor\":\"white\",\"ticks\":\"\"},\"radialaxis\":{\"gridcolor\":\"white\",\"linecolor\":\"white\",\"ticks\":\"\"}},\"ternary\":{\"bgcolor\":\"#E5ECF6\",\"aaxis\":{\"gridcolor\":\"white\",\"linecolor\":\"white\",\"ticks\":\"\"},\"baxis\":{\"gridcolor\":\"white\",\"linecolor\":\"white\",\"ticks\":\"\"},\"caxis\":{\"gridcolor\":\"white\",\"linecolor\":\"white\",\"ticks\":\"\"}},\"coloraxis\":{\"colorbar\":{\"outlinewidth\":0,\"ticks\":\"\"}},\"colorscale\":{\"sequential\":[[0.0,\"#0d0887\"],[0.1111111111111111,\"#46039f\"],[0.2222222222222222,\"#7201a8\"],[0.3333333333333333,\"#9c179e\"],[0.4444444444444444,\"#bd3786\"],[0.5555555555555556,\"#d8576b\"],[0.6666666666666666,\"#ed7953\"],[0.7777777777777778,\"#fb9f3a\"],[0.8888888888888888,\"#fdca26\"],[1.0,\"#f0f921\"]],\"sequentialminus\":[[0.0,\"#0d0887\"],[0.1111111111111111,\"#46039f\"],[0.2222222222222222,\"#7201a8\"],[0.3333333333333333,\"#9c179e\"],[0.4444444444444444,\"#bd3786\"],[0.5555555555555556,\"#d8576b\"],[0.6666666666666666,\"#ed7953\"],[0.7777777777777778,\"#fb9f3a\"],[0.8888888888888888,\"#fdca26\"],[1.0,\"#f0f921\"]],\"diverging\":[[0,\"#8e0152\"],[0.1,\"#c51b7d\"],[0.2,\"#de77ae\"],[0.3,\"#f1b6da\"],[0.4,\"#fde0ef\"],[0.5,\"#f7f7f7\"],[0.6,\"#e6f5d0\"],[0.7,\"#b8e186\"],[0.8,\"#7fbc41\"],[0.9,\"#4d9221\"],[1,\"#276419\"]]},\"xaxis\":{\"gridcolor\":\"white\",\"linecolor\":\"white\",\"ticks\":\"\",\"title\":{\"standoff\":15},\"zerolinecolor\":\"white\",\"automargin\":true,\"zerolinewidth\":2},\"yaxis\":{\"gridcolor\":\"white\",\"linecolor\":\"white\",\"ticks\":\"\",\"title\":{\"standoff\":15},\"zerolinecolor\":\"white\",\"automargin\":true,\"zerolinewidth\":2},\"scene\":{\"xaxis\":{\"backgroundcolor\":\"#E5ECF6\",\"gridcolor\":\"white\",\"linecolor\":\"white\",\"showbackground\":true,\"ticks\":\"\",\"zerolinecolor\":\"white\",\"gridwidth\":2},\"yaxis\":{\"backgroundcolor\":\"#E5ECF6\",\"gridcolor\":\"white\",\"linecolor\":\"white\",\"showbackground\":true,\"ticks\":\"\",\"zerolinecolor\":\"white\",\"gridwidth\":2},\"zaxis\":{\"backgroundcolor\":\"#E5ECF6\",\"gridcolor\":\"white\",\"linecolor\":\"white\",\"showbackground\":true,\"ticks\":\"\",\"zerolinecolor\":\"white\",\"gridwidth\":2}},\"shapedefaults\":{\"line\":{\"color\":\"#2a3f5f\"}},\"annotationdefaults\":{\"arrowcolor\":\"#2a3f5f\",\"arrowhead\":0,\"arrowwidth\":1},\"geo\":{\"bgcolor\":\"white\",\"landcolor\":\"#E5ECF6\",\"subunitcolor\":\"white\",\"showland\":true,\"showlakes\":true,\"lakecolor\":\"white\"},\"title\":{\"x\":0.05},\"mapbox\":{\"style\":\"light\"}}},\"title\":{\"text\":\"Training and val loss across epochs\"},\"xaxis\":{\"title\":{\"text\":\"epochs\"}},\"yaxis\":{\"title\":{\"text\":\"Binary Cross Entropy\"}}},                        {\"responsive\": true}                    ).then(function(){\n",
              "                            \n",
              "var gd = document.getElementById('965a198b-94c0-4506-aaba-d8833ffe9d6f');\n",
              "var x = new MutationObserver(function (mutations, observer) {{\n",
              "        var display = window.getComputedStyle(gd).display;\n",
              "        if (!display || display === 'none') {{\n",
              "            console.log([gd, 'removed!']);\n",
              "            Plotly.purge(gd);\n",
              "            observer.disconnect();\n",
              "        }}\n",
              "}});\n",
              "\n",
              "// Listen for the removal of the full notebook cells\n",
              "var notebookContainer = gd.closest('#notebook-container');\n",
              "if (notebookContainer) {{\n",
              "    x.observe(notebookContainer, {childList: true});\n",
              "}}\n",
              "\n",
              "// Listen for the clearing of the current output cell\n",
              "var outputEl = gd.closest('.output');\n",
              "if (outputEl) {{\n",
              "    x.observe(outputEl, {childList: true});\n",
              "}}\n",
              "\n",
              "                        })                };                            </script>        </div>\n",
              "</body>\n",
              "</html>"
            ]
          },
          "metadata": {}
        }
      ]
    },
    {
      "cell_type": "code",
      "source": [
        "fig = go.Figure(data=[\n",
        "                      go.Scatter(\n",
        "                          y=model2.history.history[\"accuracy\"],\n",
        "                          name=\"Training accuracy\",\n",
        "                          mode=\"lines\",\n",
        "                          marker=dict(\n",
        "                              color=color_chart[0]\n",
        "                          )),\n",
        "                      go.Scatter(\n",
        "                          y=model2.history.history[\"val_accuracy\"],\n",
        "                          name=\"Validation accuracy\",\n",
        "                          mode=\"lines\",\n",
        "                          marker=dict(\n",
        "                              color=color_chart[1]\n",
        "                          ))\n",
        "])\n",
        "fig.update_layout(\n",
        "    title='Training and val accuracy across epochs',\n",
        "    xaxis_title='epochs',\n",
        "    yaxis_title='Accuracy'\n",
        ")\n",
        "fig.show()"
      ],
      "metadata": {
        "colab": {
          "base_uri": "https://localhost:8080/",
          "height": 542
        },
        "outputId": "73ef0b8e-5313-42d8-b1bf-effc1246bcf0",
        "id": "gfLxCCRzKGy_"
      },
      "execution_count": 61,
      "outputs": [
        {
          "output_type": "display_data",
          "data": {
            "text/html": [
              "<html>\n",
              "<head><meta charset=\"utf-8\" /></head>\n",
              "<body>\n",
              "    <div>            <script src=\"https://cdnjs.cloudflare.com/ajax/libs/mathjax/2.7.5/MathJax.js?config=TeX-AMS-MML_SVG\"></script><script type=\"text/javascript\">if (window.MathJax && window.MathJax.Hub && window.MathJax.Hub.Config) {window.MathJax.Hub.Config({SVG: {font: \"STIX-Web\"}});}</script>                <script type=\"text/javascript\">window.PlotlyConfig = {MathJaxConfig: 'local'};</script>\n",
              "        <script charset=\"utf-8\" src=\"https://cdn.plot.ly/plotly-2.24.1.min.js\"></script>                <div id=\"24357f07-4e37-4cc8-aafa-c486f311250d\" class=\"plotly-graph-div\" style=\"height:525px; width:100%;\"></div>            <script type=\"text/javascript\">                                    window.PLOTLYENV=window.PLOTLYENV || {};                                    if (document.getElementById(\"24357f07-4e37-4cc8-aafa-c486f311250d\")) {                    Plotly.newPlot(                        \"24357f07-4e37-4cc8-aafa-c486f311250d\",                        [{\"marker\":{\"color\":\"#4B9AC7\"},\"mode\":\"lines\",\"name\":\"Training accuracy\",\"y\":[0.5006385445594788,0.7088122367858887,0.8224776387214661,0.8952745795249939,0.8876117467880249,0.9016602635383606,0.8901660442352295,0.9042145609855652,0.9003831148147583,0.9080459475517273,0.9080459475517273,0.9182630777359009,0.9195402264595032,0.9195402264595032,0.9220945239067078,0.9233716726303101,0.9246487617492676,0.9259259104728699,0.9272030591964722,0.9297573566436768,0.9323115944862366,0.9323115944862366,0.9335887432098389,0.9323115944862366,0.9323115944862366,0.9323115944862366,0.9348658919334412,0.9348658919334412,0.9374201893806458,0.9412515759468079,0.9450830221176147,0.9450830221176147,0.9476373195648193,0.9514687061309814,0.9527458548545837,0.954023003578186,0.9565772414207458,0.9591315388679504,0.9591315388679504,0.9591315388679504,0.9591315388679504,0.9591315388679504,0.9629629850387573,0.9655172228813171,0.9667943716049194,0.9680715203285217,0.9706258177757263,0.9706258177757263,0.9706258177757263,0.9706258177757263],\"type\":\"scatter\"},{\"marker\":{\"color\":\"#4BE8E0\"},\"mode\":\"lines\",\"name\":\"Validation accuracy\",\"y\":[0.49808427691459656,0.6896551847457886,0.7931034564971924,0.8045976758003235,0.8314176201820374,0.8275862336158752,0.8314176201820374,0.8352490663528442,0.8352490663528442,0.8505747318267822,0.8467432856559753,0.8697317838668823,0.8735632300376892,0.8773946166038513,0.8773946166038513,0.8812260627746582,0.8812260627746582,0.8773946166038513,0.8812260627746582,0.8812260627746582,0.8812260627746582,0.8773946166038513,0.8773946166038513,0.8927202820777893,0.8965517282485962,0.8965517282485962,0.9042145609855652,0.8965517282485962,0.9042145609855652,0.9080459475517273,0.9080459475517273,0.9080459475517273,0.9080459475517273,0.9080459475517273,0.9157088398933411,0.9195402264595032,0.9195402264595032,0.9195402264595032,0.9195402264595032,0.9233716726303101,0.9272030591964722,0.931034505367279,0.9348658919334412,0.9348658919334412,0.9348658919334412,0.9348658919334412,0.9348658919334412,0.9348658919334412,0.938697338104248,0.938697338104248],\"type\":\"scatter\"}],                        {\"template\":{\"data\":{\"histogram2dcontour\":[{\"type\":\"histogram2dcontour\",\"colorbar\":{\"outlinewidth\":0,\"ticks\":\"\"},\"colorscale\":[[0.0,\"#0d0887\"],[0.1111111111111111,\"#46039f\"],[0.2222222222222222,\"#7201a8\"],[0.3333333333333333,\"#9c179e\"],[0.4444444444444444,\"#bd3786\"],[0.5555555555555556,\"#d8576b\"],[0.6666666666666666,\"#ed7953\"],[0.7777777777777778,\"#fb9f3a\"],[0.8888888888888888,\"#fdca26\"],[1.0,\"#f0f921\"]]}],\"choropleth\":[{\"type\":\"choropleth\",\"colorbar\":{\"outlinewidth\":0,\"ticks\":\"\"}}],\"histogram2d\":[{\"type\":\"histogram2d\",\"colorbar\":{\"outlinewidth\":0,\"ticks\":\"\"},\"colorscale\":[[0.0,\"#0d0887\"],[0.1111111111111111,\"#46039f\"],[0.2222222222222222,\"#7201a8\"],[0.3333333333333333,\"#9c179e\"],[0.4444444444444444,\"#bd3786\"],[0.5555555555555556,\"#d8576b\"],[0.6666666666666666,\"#ed7953\"],[0.7777777777777778,\"#fb9f3a\"],[0.8888888888888888,\"#fdca26\"],[1.0,\"#f0f921\"]]}],\"heatmap\":[{\"type\":\"heatmap\",\"colorbar\":{\"outlinewidth\":0,\"ticks\":\"\"},\"colorscale\":[[0.0,\"#0d0887\"],[0.1111111111111111,\"#46039f\"],[0.2222222222222222,\"#7201a8\"],[0.3333333333333333,\"#9c179e\"],[0.4444444444444444,\"#bd3786\"],[0.5555555555555556,\"#d8576b\"],[0.6666666666666666,\"#ed7953\"],[0.7777777777777778,\"#fb9f3a\"],[0.8888888888888888,\"#fdca26\"],[1.0,\"#f0f921\"]]}],\"heatmapgl\":[{\"type\":\"heatmapgl\",\"colorbar\":{\"outlinewidth\":0,\"ticks\":\"\"},\"colorscale\":[[0.0,\"#0d0887\"],[0.1111111111111111,\"#46039f\"],[0.2222222222222222,\"#7201a8\"],[0.3333333333333333,\"#9c179e\"],[0.4444444444444444,\"#bd3786\"],[0.5555555555555556,\"#d8576b\"],[0.6666666666666666,\"#ed7953\"],[0.7777777777777778,\"#fb9f3a\"],[0.8888888888888888,\"#fdca26\"],[1.0,\"#f0f921\"]]}],\"contourcarpet\":[{\"type\":\"contourcarpet\",\"colorbar\":{\"outlinewidth\":0,\"ticks\":\"\"}}],\"contour\":[{\"type\":\"contour\",\"colorbar\":{\"outlinewidth\":0,\"ticks\":\"\"},\"colorscale\":[[0.0,\"#0d0887\"],[0.1111111111111111,\"#46039f\"],[0.2222222222222222,\"#7201a8\"],[0.3333333333333333,\"#9c179e\"],[0.4444444444444444,\"#bd3786\"],[0.5555555555555556,\"#d8576b\"],[0.6666666666666666,\"#ed7953\"],[0.7777777777777778,\"#fb9f3a\"],[0.8888888888888888,\"#fdca26\"],[1.0,\"#f0f921\"]]}],\"surface\":[{\"type\":\"surface\",\"colorbar\":{\"outlinewidth\":0,\"ticks\":\"\"},\"colorscale\":[[0.0,\"#0d0887\"],[0.1111111111111111,\"#46039f\"],[0.2222222222222222,\"#7201a8\"],[0.3333333333333333,\"#9c179e\"],[0.4444444444444444,\"#bd3786\"],[0.5555555555555556,\"#d8576b\"],[0.6666666666666666,\"#ed7953\"],[0.7777777777777778,\"#fb9f3a\"],[0.8888888888888888,\"#fdca26\"],[1.0,\"#f0f921\"]]}],\"mesh3d\":[{\"type\":\"mesh3d\",\"colorbar\":{\"outlinewidth\":0,\"ticks\":\"\"}}],\"scatter\":[{\"fillpattern\":{\"fillmode\":\"overlay\",\"size\":10,\"solidity\":0.2},\"type\":\"scatter\"}],\"parcoords\":[{\"type\":\"parcoords\",\"line\":{\"colorbar\":{\"outlinewidth\":0,\"ticks\":\"\"}}}],\"scatterpolargl\":[{\"type\":\"scatterpolargl\",\"marker\":{\"colorbar\":{\"outlinewidth\":0,\"ticks\":\"\"}}}],\"bar\":[{\"error_x\":{\"color\":\"#2a3f5f\"},\"error_y\":{\"color\":\"#2a3f5f\"},\"marker\":{\"line\":{\"color\":\"#E5ECF6\",\"width\":0.5},\"pattern\":{\"fillmode\":\"overlay\",\"size\":10,\"solidity\":0.2}},\"type\":\"bar\"}],\"scattergeo\":[{\"type\":\"scattergeo\",\"marker\":{\"colorbar\":{\"outlinewidth\":0,\"ticks\":\"\"}}}],\"scatterpolar\":[{\"type\":\"scatterpolar\",\"marker\":{\"colorbar\":{\"outlinewidth\":0,\"ticks\":\"\"}}}],\"histogram\":[{\"marker\":{\"pattern\":{\"fillmode\":\"overlay\",\"size\":10,\"solidity\":0.2}},\"type\":\"histogram\"}],\"scattergl\":[{\"type\":\"scattergl\",\"marker\":{\"colorbar\":{\"outlinewidth\":0,\"ticks\":\"\"}}}],\"scatter3d\":[{\"type\":\"scatter3d\",\"line\":{\"colorbar\":{\"outlinewidth\":0,\"ticks\":\"\"}},\"marker\":{\"colorbar\":{\"outlinewidth\":0,\"ticks\":\"\"}}}],\"scattermapbox\":[{\"type\":\"scattermapbox\",\"marker\":{\"colorbar\":{\"outlinewidth\":0,\"ticks\":\"\"}}}],\"scatterternary\":[{\"type\":\"scatterternary\",\"marker\":{\"colorbar\":{\"outlinewidth\":0,\"ticks\":\"\"}}}],\"scattercarpet\":[{\"type\":\"scattercarpet\",\"marker\":{\"colorbar\":{\"outlinewidth\":0,\"ticks\":\"\"}}}],\"carpet\":[{\"aaxis\":{\"endlinecolor\":\"#2a3f5f\",\"gridcolor\":\"white\",\"linecolor\":\"white\",\"minorgridcolor\":\"white\",\"startlinecolor\":\"#2a3f5f\"},\"baxis\":{\"endlinecolor\":\"#2a3f5f\",\"gridcolor\":\"white\",\"linecolor\":\"white\",\"minorgridcolor\":\"white\",\"startlinecolor\":\"#2a3f5f\"},\"type\":\"carpet\"}],\"table\":[{\"cells\":{\"fill\":{\"color\":\"#EBF0F8\"},\"line\":{\"color\":\"white\"}},\"header\":{\"fill\":{\"color\":\"#C8D4E3\"},\"line\":{\"color\":\"white\"}},\"type\":\"table\"}],\"barpolar\":[{\"marker\":{\"line\":{\"color\":\"#E5ECF6\",\"width\":0.5},\"pattern\":{\"fillmode\":\"overlay\",\"size\":10,\"solidity\":0.2}},\"type\":\"barpolar\"}],\"pie\":[{\"automargin\":true,\"type\":\"pie\"}]},\"layout\":{\"autotypenumbers\":\"strict\",\"colorway\":[\"#636efa\",\"#EF553B\",\"#00cc96\",\"#ab63fa\",\"#FFA15A\",\"#19d3f3\",\"#FF6692\",\"#B6E880\",\"#FF97FF\",\"#FECB52\"],\"font\":{\"color\":\"#2a3f5f\"},\"hovermode\":\"closest\",\"hoverlabel\":{\"align\":\"left\"},\"paper_bgcolor\":\"white\",\"plot_bgcolor\":\"#E5ECF6\",\"polar\":{\"bgcolor\":\"#E5ECF6\",\"angularaxis\":{\"gridcolor\":\"white\",\"linecolor\":\"white\",\"ticks\":\"\"},\"radialaxis\":{\"gridcolor\":\"white\",\"linecolor\":\"white\",\"ticks\":\"\"}},\"ternary\":{\"bgcolor\":\"#E5ECF6\",\"aaxis\":{\"gridcolor\":\"white\",\"linecolor\":\"white\",\"ticks\":\"\"},\"baxis\":{\"gridcolor\":\"white\",\"linecolor\":\"white\",\"ticks\":\"\"},\"caxis\":{\"gridcolor\":\"white\",\"linecolor\":\"white\",\"ticks\":\"\"}},\"coloraxis\":{\"colorbar\":{\"outlinewidth\":0,\"ticks\":\"\"}},\"colorscale\":{\"sequential\":[[0.0,\"#0d0887\"],[0.1111111111111111,\"#46039f\"],[0.2222222222222222,\"#7201a8\"],[0.3333333333333333,\"#9c179e\"],[0.4444444444444444,\"#bd3786\"],[0.5555555555555556,\"#d8576b\"],[0.6666666666666666,\"#ed7953\"],[0.7777777777777778,\"#fb9f3a\"],[0.8888888888888888,\"#fdca26\"],[1.0,\"#f0f921\"]],\"sequentialminus\":[[0.0,\"#0d0887\"],[0.1111111111111111,\"#46039f\"],[0.2222222222222222,\"#7201a8\"],[0.3333333333333333,\"#9c179e\"],[0.4444444444444444,\"#bd3786\"],[0.5555555555555556,\"#d8576b\"],[0.6666666666666666,\"#ed7953\"],[0.7777777777777778,\"#fb9f3a\"],[0.8888888888888888,\"#fdca26\"],[1.0,\"#f0f921\"]],\"diverging\":[[0,\"#8e0152\"],[0.1,\"#c51b7d\"],[0.2,\"#de77ae\"],[0.3,\"#f1b6da\"],[0.4,\"#fde0ef\"],[0.5,\"#f7f7f7\"],[0.6,\"#e6f5d0\"],[0.7,\"#b8e186\"],[0.8,\"#7fbc41\"],[0.9,\"#4d9221\"],[1,\"#276419\"]]},\"xaxis\":{\"gridcolor\":\"white\",\"linecolor\":\"white\",\"ticks\":\"\",\"title\":{\"standoff\":15},\"zerolinecolor\":\"white\",\"automargin\":true,\"zerolinewidth\":2},\"yaxis\":{\"gridcolor\":\"white\",\"linecolor\":\"white\",\"ticks\":\"\",\"title\":{\"standoff\":15},\"zerolinecolor\":\"white\",\"automargin\":true,\"zerolinewidth\":2},\"scene\":{\"xaxis\":{\"backgroundcolor\":\"#E5ECF6\",\"gridcolor\":\"white\",\"linecolor\":\"white\",\"showbackground\":true,\"ticks\":\"\",\"zerolinecolor\":\"white\",\"gridwidth\":2},\"yaxis\":{\"backgroundcolor\":\"#E5ECF6\",\"gridcolor\":\"white\",\"linecolor\":\"white\",\"showbackground\":true,\"ticks\":\"\",\"zerolinecolor\":\"white\",\"gridwidth\":2},\"zaxis\":{\"backgroundcolor\":\"#E5ECF6\",\"gridcolor\":\"white\",\"linecolor\":\"white\",\"showbackground\":true,\"ticks\":\"\",\"zerolinecolor\":\"white\",\"gridwidth\":2}},\"shapedefaults\":{\"line\":{\"color\":\"#2a3f5f\"}},\"annotationdefaults\":{\"arrowcolor\":\"#2a3f5f\",\"arrowhead\":0,\"arrowwidth\":1},\"geo\":{\"bgcolor\":\"white\",\"landcolor\":\"#E5ECF6\",\"subunitcolor\":\"white\",\"showland\":true,\"showlakes\":true,\"lakecolor\":\"white\"},\"title\":{\"x\":0.05},\"mapbox\":{\"style\":\"light\"}}},\"title\":{\"text\":\"Training and val accuracy across epochs\"},\"xaxis\":{\"title\":{\"text\":\"epochs\"}},\"yaxis\":{\"title\":{\"text\":\"Accuracy\"}}},                        {\"responsive\": true}                    ).then(function(){\n",
              "                            \n",
              "var gd = document.getElementById('24357f07-4e37-4cc8-aafa-c486f311250d');\n",
              "var x = new MutationObserver(function (mutations, observer) {{\n",
              "        var display = window.getComputedStyle(gd).display;\n",
              "        if (!display || display === 'none') {{\n",
              "            console.log([gd, 'removed!']);\n",
              "            Plotly.purge(gd);\n",
              "            observer.disconnect();\n",
              "        }}\n",
              "}});\n",
              "\n",
              "// Listen for the removal of the full notebook cells\n",
              "var notebookContainer = gd.closest('#notebook-container');\n",
              "if (notebookContainer) {{\n",
              "    x.observe(notebookContainer, {childList: true});\n",
              "}}\n",
              "\n",
              "// Listen for the clearing of the current output cell\n",
              "var outputEl = gd.closest('.output');\n",
              "if (outputEl) {{\n",
              "    x.observe(outputEl, {childList: true});\n",
              "}}\n",
              "\n",
              "                        })                };                            </script>        </div>\n",
              "</body>\n",
              "</html>"
            ]
          },
          "metadata": {}
        }
      ]
    },
    {
      "cell_type": "code",
      "source": [
        "test_loss, test_accuracy = model2.evaluate(balanced_test_batch)\n",
        "print('Test Loss :',test_loss)\n",
        "print('Test Accuracy :',test_accuracy)"
      ],
      "metadata": {
        "colab": {
          "base_uri": "https://localhost:8080/"
        },
        "outputId": "8fbd5751-f147-4896-9f43-2597b014ed7a",
        "id": "ynWsvUmdKGzA"
      },
      "execution_count": 62,
      "outputs": [
        {
          "output_type": "stream",
          "name": "stdout",
          "text": [
            "5/5 [==============================] - 0s 3ms/step - loss: 0.2006 - accuracy: 0.9198\n",
            "Test Loss : 0.20055733621120453\n",
            "Test Accuracy : 0.919847309589386\n"
          ]
        }
      ]
    },
    {
      "cell_type": "code",
      "source": [
        "balanced_test_pred = [1 if o>0.5 else 0 for o in model2.predict(balanced_test_padded)]\n",
        "balanced_cf_matrix = confusion_matrix(balanced_Y_test, balanced_test_pred)\n",
        "\n",
        "ax = plt.subplot()\n",
        "sns.heatmap(balanced_cf_matrix, annot = True, ax = ax, cmap = 'Blues', fmt = '');\n",
        "ax.set_xlabel('Predicted labels');\n",
        "ax.set_ylabel('True labels');\n",
        "ax.set_title('Confusion Matrix');\n",
        "ax.xaxis.set_ticklabels(['Not Spam', 'Spam']); ax.yaxis.set_ticklabels(['Not Spam', 'Spam']);"
      ],
      "metadata": {
        "colab": {
          "base_uri": "https://localhost:8080/",
          "height": 490
        },
        "id": "4vsVsqXtMAGK",
        "outputId": "790a5e10-3392-4853-c94c-c2270272d7c2"
      },
      "execution_count": 63,
      "outputs": [
        {
          "output_type": "stream",
          "name": "stdout",
          "text": [
            "9/9 [==============================] - 0s 2ms/step\n"
          ]
        },
        {
          "output_type": "display_data",
          "data": {
            "text/plain": [
              "<Figure size 640x480 with 2 Axes>"
            ],
            "image/png": "iVBORw0KGgoAAAANSUhEUgAAAhsAAAHHCAYAAAAWM5p0AAAAOXRFWHRTb2Z0d2FyZQBNYXRwbG90bGliIHZlcnNpb24zLjcuMSwgaHR0cHM6Ly9tYXRwbG90bGliLm9yZy/bCgiHAAAACXBIWXMAAA9hAAAPYQGoP6dpAABLVElEQVR4nO3de1yO9/8H8NdV6S6dc+iwUSHU5GwkxJjDHLIamkbOmznn2AjlEM1EbNrMiDkfMrGhCTE5H0dzzGFUjpWipK7fH77u325l6+a6uqr79dzjejzcn+tzXdf7atG79+fzuS5BFEURRERERDLRUzoAIiIiKtuYbBAREZGsmGwQERGRrJhsEBERkayYbBAREZGsmGwQERGRrJhsEBERkayYbBAREZGsmGwQERGRrJhsEMno8uXLaN++PSwsLCAIArZu3Srp+a9fvw5BELBixQpJz1uatW7dGq1bt1Y6DCL6ByYbVOZdvXoVn3/+OapVqwYjIyOYm5vDw8MDCxcuxNOnT2W9tr+/P86dO4dZs2Zh1apVaNy4sazXK079+vWDIAgwNzcv9Ot4+fJlCIIAQRAwb948rc9/584dTJ8+HadPn5YgWiJSkoHSARDJaceOHejRowdUKhX69u2LOnXq4NmzZzh48CDGjx+P8+fP44cffpDl2k+fPkVCQgImT56M4cOHy3INBwcHPH36FOXKlZPl/P/FwMAAT548QUxMDHr27Kmxb/Xq1TAyMkJ2dvYbnfvOnTsIDg6Go6Mj6tevX+Tjdu/e/UbXIyL5MNmgMispKQm+vr5wcHBAXFwc7Ozs1PuGDRuGK1euYMeOHbJd/969ewAAS0tL2a4hCAKMjIxkO/9/UalU8PDwwNq1awskG2vWrEHnzp2xefPmYonlyZMnKF++PAwNDYvlekRUdBxGoTIrLCwMmZmZWLZsmUai8VKNGjUwatQo9efnz59jxowZqF69OlQqFRwdHfHVV18hJydH4zhHR0d06dIFBw8exPvvvw8jIyNUq1YNK1euVPeZPn06HBwcAADjx4+HIAhwdHQE8GL44eWf/2n69OkQBEGjLTY2Fi1atIClpSVMTU1Rq1YtfPXVV+r9r5uzERcXh5YtW8LExASWlpbw8vJCYmJiode7cuUK+vXrB0tLS1hYWKB///548uTJ67+wr+jduzd+++03pKWlqduOHTuGy5cvo3fv3gX6P3z4EOPGjYObmxtMTU1hbm6OTp064cyZM+o++/btQ5MmTQAA/fv3Vw/HvLzP1q1bo06dOjhx4gRatWqF8uXLq78ur87Z8Pf3h5GRUYH779ChA6ysrHDnzp0i3ysRvRkmG1RmxcTEoFq1amjevHmR+g8aNAhTp05Fw4YNER4eDk9PT4SGhsLX17dA3ytXruCTTz7Bhx9+iG+++QZWVlbo168fzp8/DwDw9vZGeHg4AODTTz/FqlWrsGDBAq3iP3/+PLp06YKcnByEhITgm2++Qbdu3fDHH3/863G///47OnTogLt372L69OkICAjAoUOH4OHhgevXrxfo37NnTzx+/BihoaHo2bMnVqxYgeDg4CLH6e3tDUEQsGXLFnXbmjVrULt2bTRs2LBA/2vXrmHr1q3o0qUL5s+fj/Hjx+PcuXPw9PRU/+B3cXFBSEgIAGDIkCFYtWoVVq1ahVatWqnP8+DBA3Tq1An169fHggUL0KZNm0LjW7hwISpVqgR/f3/k5eUBAL7//nvs3r0bixYtgr29fZHvlYjekEhUBqWnp4sARC8vryL1P336tAhAHDRokEb7uHHjRABiXFycus3BwUEEIMbHx6vb7t69K6pUKnHs2LHqtqSkJBGA+PXXX2uc09/fX3RwcCgQw7Rp08R//pUMDw8XAYj37t17bdwvr7F8+XJ1W/369cXKlSuLDx48ULedOXNG1NPTE/v27VvgegMGDNA458cffyxWqFDhtdf8532YmJiIoiiKn3zyidi2bVtRFEUxLy9PtLW1FYODgwv9GmRnZ4t5eXkF7kOlUokhISHqtmPHjhW4t5c8PT1FAGJkZGSh+zw9PTXadu3aJQIQZ86cKV67dk00NTUVu3fv/p/3SETSYGWDyqSMjAwAgJmZWZH6//rrrwCAgIAAjfaxY8cCQIG5Ha6urmjZsqX6c6VKlVCrVi1cu3btjWN+1cu5Hr/88gvy8/OLdExycjJOnz6Nfv36wdraWt1et25dfPjhh+r7/KcvvvhC43PLli3x4MED9dewKHr37o19+/YhJSUFcXFxSElJKXQIBXgxz0NP78U/PXl5eXjw4IF6iOjkyZNFvqZKpUL//v2L1Ld9+/b4/PPPERISAm9vbxgZGeH7778v8rWI6O0w2aAyydzcHADw+PHjIvW/ceMG9PT0UKNGDY12W1tbWFpa4saNGxrtVatWLXAOKysrPHr06A0jLqhXr17w8PDAoEGDYGNjA19fX2zYsOFfE4+XcdaqVavAPhcXF9y/fx9ZWVka7a/ei5WVFQBodS8fffQRzMzMsH79eqxevRpNmjQp8LV8KT8/H+Hh4XB2doZKpULFihVRqVIlnD17Funp6UW+5jvvvKPVZNB58+bB2toap0+fRkREBCpXrlzkY4no7TDZoDLJ3Nwc9vb2+PPPP7U67tUJmq+jr69faLsoim98jZfzCV4yNjZGfHw8fv/9d/Tp0wdnz55Fr1698OGHHxbo+zbe5l5eUqlU8Pb2RlRUFKKjo19b1QCA2bNnIyAgAK1atcLPP/+MXbt2ITY2Fu+9916RKzjAi6+PNk6dOoW7d+8CAM6dO6fVsUT0dphsUJnVpUsXXL16FQkJCf/Z18HBAfn5+bh8+bJGe2pqKtLS0tQrS6RgZWWlsXLjpVerJwCgp6eHtm3bYv78+bhw4QJmzZqFuLg47N27t9Bzv4zz4sWLBfb99ddfqFixIkxMTN7uBl6jd+/eOHXqFB4/flzopNqXNm3ahDZt2mDZsmXw9fVF+/bt0a5duwJfk6ImfkWRlZWF/v37w9XVFUOGDEFYWBiOHTsm2fmJ6N8x2aAya8KECTAxMcGgQYOQmppaYP/Vq1excOFCAC+GAQAUWDEyf/58AEDnzp0li6t69epIT0/H2bNn1W3JycmIjo7W6Pfw4cMCx758uNWry3FfsrOzQ/369REVFaXxw/vPP//E7t271fcphzZt2mDGjBlYvHgxbG1tX9tPX1+/QNVk48aNuH37tkbby6SosMRMWxMnTsTNmzcRFRWF+fPnw9HREf7+/q/9OhKRtPhQLyqzqlevjjVr1qBXr15wcXHReILooUOHsHHjRvTr1w8AUK9ePfj7++OHH35AWloaPD09cfToUURFRaF79+6vXVb5Jnx9fTFx4kR8/PHHGDlyJJ48eYIlS5agZs2aGhMkQ0JCEB8fj86dO8PBwQF3797Fd999h3fffRctWrR47fm//vprdOrUCe7u7hg4cCCePn2KRYsWwcLCAtOnT5fsPl6lp6eHKVOm/Ge/Ll26ICQkBP3790fz5s1x7tw5rF69GtWqVdPoV716dVhaWiIyMhJmZmYwMTFB06ZN4eTkpFVccXFx+O677zBt2jT1Utzly5ejdevWCAoKQlhYmFbnI6I3oPBqGCLZXbp0SRw8eLDo6OgoGhoaimZmZqKHh4e4aNEiMTs7W90vNzdXDA4OFp2cnMRy5cqJVapUEQMDAzX6iOKLpa+dO3cucJ1Xl1y+bumrKIri7t27xTp16oiGhoZirVq1xJ9//rnA0tc9e/aIXl5eor29vWhoaCja29uLn376qXjp0qUC13h1eejvv/8uenh4iMbGxqK5ubnYtWtX8cKFCxp9Xl7v1aW1y5cvFwGISUlJr/2aiqLm0tfXed3S17Fjx4p2dnaisbGx6OHhISYkJBS6ZPWXX34RXV1dRQMDA4379PT0FN97771Cr/nP82RkZIgODg5iw4YNxdzcXI1+Y8aMEfX09MSEhIR/vQcienuCKGoxC4yIiIhIS5yzQURERLJiskFERESyYrJBREREsmKyQURERLJiskFERESyYrJBREREsmKyQURERLIqk08QNW4wXOkQiEqkR8cWKx0CUYljVAw/CaX6ufT0VOn8O8zKBhEREcmqTFY2iIiIShRBt3+3Z7JBREQkN0FQOgJFMdkgIiKSm45XNnT77omIiEh2rGwQERHJjcMoREREJCsOoxARERHJh5UNIiIiuXEYhYiIiGTFYRQiIiIi+bCyQUREJDcOoxAREZGsOIxCREREJB9WNoiIiOTGYRQiIiKSlY4PozDZICIikpuOVzZ0O9UiIiIi2bGyQUREJDcOoxAREZGsdDzZ0O27JyIiItkx2SAiIpKbniDNpqX4+Hh07doV9vb2EAQBW7duVe/Lzc3FxIkT4ebmBhMTE9jb26Nv3764c+eOxjkePnwIPz8/mJubw9LSEgMHDkRmZqZ2t6915ERERKQdQU+aTUtZWVmoV68evv322wL7njx5gpMnTyIoKAgnT57Eli1bcPHiRXTr1k2jn5+fH86fP4/Y2Fhs374d8fHxGDJkiHa3L4qiqHX0JZxxg+FKh0BUIj06tljpEIhKHKNimL1o/MEsSc7zNG7yGx8rCAKio6PRvXv31/Y5duwY3n//fdy4cQNVq1ZFYmIiXF1dcezYMTRu3BgAsHPnTnz00Uf4+++/YW9vX6Rrs7JBREQkN0GQZMvJyUFGRobGlpOTI1mY6enpEAQBlpaWAICEhARYWlqqEw0AaNeuHfT09HDkyJEin5fJBhERkdwkGkYJDQ2FhYWFxhYaGipJiNnZ2Zg4cSI+/fRTmJubAwBSUlJQuXJljX4GBgawtrZGSkpKkc/Npa9ERESlRGBgIAICAjTaVCrVW583NzcXPXv2hCiKWLJkyVuf71VMNoiIiOQm0ePKVSqVJMnFP71MNG7cuIG4uDh1VQMAbG1tcffuXY3+z58/x8OHD2Fra1vka3AYhYiISG4KrUb5Ly8TjcuXL+P3339HhQoVNPa7u7sjLS0NJ06cULfFxcUhPz8fTZs2LfJ1WNkgIiKSm0IvYsvMzMSVK1fUn5OSknD69GlYW1vDzs4On3zyCU6ePInt27cjLy9PPQ/D2toahoaGcHFxQceOHTF48GBERkYiNzcXw4cPh6+vb5FXogBMNoiIiMqs48ePo02bNurPL+d7+Pv7Y/r06di2bRsAoH79+hrH7d27F61btwYArF69GsOHD0fbtm2hp6cHHx8fREREaBUHkw0iIiK5KfRulNatW+PfHqdVlEdtWVtbY82aNW8VB5MNIiIiuSk0jFJScIIoERERyYqVDSIiIrnp+CvmmWwQERHJjcMoRERERPJhZYOIiEhuHEYhIiIiWel4sqHbd09ERESyY2WDiIhIbjo+QZTJBhERkdx0fBiFyQYREZHcdLyyodupFhEREcmOlQ0iIiK5cRiFiIiIZMVhFCIiIiL5sLJBREQkM0HHKxtMNoiIiGSm68kGh1GIiIhIVqxsEBERyU23CxtMNoiIiOTGYRQiIiIiGbGyQUREJDNdr2ww2SAiIpIZkw0iIiKSla4nG5yzQURERLJiZYOIiEhuul3YYLJBREQkN10fRikRyUZ2djbOnj2Lu3fvIj8/X2Nft27dFIqKiIiIpKB4srFz50707dsX9+/fL7BPEATk5eUpEBUREZF0dL2yofgE0REjRqBHjx5ITk5Gfn6+xsZEg4iIygJBECTZSivFk43U1FQEBATAxsZG6VCIiIhIBoonG5988gn27dundBhERESy0fXKhuJzNhYvXowePXrgwIEDcHNzQ7ly5TT2jxw5UqHIiIiIJFJ68wRJKJ5srF27Frt374aRkRH27dunkbkJgsBkg4iIqJRTPNmYPHkygoODMWnSJOjpKT6qQ0REJLnSPAQiBcWTjWfPnqFXr15MNIiIqMzS9WRD8Z/w/v7+WL9+vdJhEBERyYYTRBWWl5eHsLAw7Nq1C3Xr1i0wQXT+/PkKRUZERERSUDzZOHfuHBo0aAAA+PPPPzX2leYsjoiISE3Hf5wpnmzs3btX6RCIiIhkpeu/PCs+Z4OIiIjKNsUrGwBw/PhxbNiwATdv3sSzZ8809m3ZskWhqIiIiKTByobC1q1bh+bNmyMxMRHR0dHIzc3F+fPnERcXBwsLC6XDIyIiemu6vhpF8WRj9uzZCA8PR0xMDAwNDbFw4UL89ddf6NmzJ6pWrap0eERERPSWFE82rl69is6dOwMADA0NkZWVBUEQMGbMGPzwww8KR0dERPT2WNlQmJWVFR4/fgwAeOedd9TLX9PS0vDkyRMlQyMiIpKGINFWSik+QbRVq1aIjY2Fm5sbevTogVGjRiEuLg6xsbFo27at0uERERHRW1K8srF48WL4+voCePFStoCAAKSmpsLHxwfLli1TODoiIqK3p9QwSnx8PLp27Qp7e3sIgoCtW7dq7BdFEVOnToWdnR2MjY3Rrl07XL58WaPPw4cP4efnB3Nzc1haWmLgwIHIzMzUKg7FKxvW1tbqP+vp6WHSpEkKRkNERCQ9peZbZGVloV69ehgwYAC8vb0L7A8LC0NERASioqLg5OSEoKAgdOjQARcuXICRkREAwM/PD8nJyYiNjUVubi769++PIUOGYM2aNUWOQ/FkA3jxfpTo6GgkJiYCAFxdXeHl5QUDgxIRHhER0VtRKtno1KkTOnXqVOg+URSxYMECTJkyBV5eXgCAlStXwsbGBlu3boWvry8SExOxc+dOHDt2DI0bNwYALFq0CB999BHmzZsHe3v7IsWh+DDK+fPnUbNmTfj7+yM6OhrR0dHw9/eHs7NzgXelEBERkTSSkpKQkpKCdu3aqdssLCzQtGlTJCQkAAASEhJgaWmpTjQAoF27dtDT08ORI0eKfC3FSweDBg3Ce++9h+PHj8PKygoA8OjRI/Tr1w9DhgzBoUOHFI6QiIjoLUlU2MjJyUFOTo5Gm0qlgkql0vpcKSkpAAAbGxuNdhsbG/W+lJQUVK5cWWO/gYEBrK2t1X2KQvHKxunTpxEaGqpONIAXy2FnzZqFU6dOKRgZERGRNKSaIBoaGgoLCwuNLTQ0VOnb+0+KJxs1a9ZEampqgfa7d++iRo0aCkRERERUMgUGBiI9PV1jCwwMfKNz2draAkCBn8Gpqanqfba2trh7967G/ufPn+Phw4fqPkWh+DBKaGgoRo4cienTp6NZs2YAgMOHDyMkJARz585FRkaGuq+5ublSYdI/eDSsjjF926Gha1XYVbJAzzE/IGbfWQCAgYEepn/ZFR1avAendysgIzMbcUf+QlDENiTfS1efo37tdzFzVHc0eq8q8vJEbN1zGhO/2Yysp89ed1miUm/Z0u+xJ3Y3kpKuQWVkhPr1G2B0wDg4OlVTOjSSmVQTRN90yKQwTk5OsLW1xZ49e1C/fn0AQEZGBo4cOYKhQ4cCANzd3ZGWloYTJ06gUaNGAIC4uDjk5+ejadOmRb6W4slGly5dAAA9e/ZU/88QRREA0LVrV/VnQRCQl5enTJCkwcRYhXOXbmPlLwlYP3+Ixr7yRoao71IFc5b+hrOXbsPKvDzmjf8EGxd8jhZ+YQAAu0oW2BE5Apt2n8SYORtgbmKEr8f7YGlIH/Qez2erUNl1/NhR9PrUD++5uSHveR4WLZyPLwYPxJZtO1C+fHmlwyMZKbUaJTMzE1euXFF/TkpKwunTp2FtbY2qVati9OjRmDlzJpydndVLX+3t7dG9e3cAgIuLCzp27IjBgwcjMjISubm5GD58OHx9fYu8EgUoAcnG3r17lQ6BtLT7jwvY/ceFQvdlZGajy9DFGm1j5mzAwdUTUMXWCrdSHqFTyzrIfZ6H0aEb1InliFnrcXzjV6hWpSKu3bov+z0QKWHJD5rJdMisOWjT0h2JF86jUeMmCkVFZdnx48fRpk0b9eeAgAAAgL+/P1asWIEJEyYgKysLQ4YMQVpaGlq0aIGdO3eqn7EBAKtXr8bw4cPRtm1b6OnpwcfHBxEREVrFoXiy4enpqXQIJDNzM2Pk5+cj7fFTAIDK0AC5uXnqRAMAnua8GD5pXr86kw3SGZn/ey+UuYWFwpGQ3JSqbLRu3Vrj39pXCYKAkJAQhISEvLaPtbW1Vg/wKoxiE0Tv37+PGzduaLSdP38e/fv3R8+ePd/6xqhkUBkaYOZIL2zYeQKPs7IBAPuOXoRNBXOM6dsW5Qz0YWlmjJkjXzxQxrYS/9El3ZCfn4+wubNRv0FDODvXVDockpuOv4hNsWRjxIgRGmWYu3fvomXLljh27BhycnLQr18/rFq16j/Pk5OTg4yMDI1NzOfcjpLAwEAPP4cNhCAIGDl7vbo98VoKBk9dhZF92uJhwnxc/302rt9+gJT7GRDz8xWMmKj4zJ4ZjKuXLyNsXrjSoRDJTrFhlMOHD2PFihXqzytXroS1tTVOnz4NAwMDzJs3D99++y369Onzr+cJDQ1FcHCwRpu+TROUs3tfjrCpiAwM9LB67kBUtbNCpyGL1FWNl9bvPI71O4+jsrUZsp7mQBSBkZ99gKS/HygUMVHxmT0zBPH79+GnqJ9ho8XyQSq9lBpGKSkUq2ykpKTA0dFR/TkuLg7e3t7q96F069atwJvnClPYmmMDm0ZyhU1F8DLRqF61Ejp/sRgP07Ne2/fuw8fIevoMn3RoiOxnudhz+K9ijJSoeImiiNkzQxC3JxZLf4rCu+9WUTokKiZKvfW1pFCssmFubo60tDQ4ODgAAI4ePYqBAweq9wuCUOCRrIUpbM2xoKcvbbCkwcTYENWrVFJ/dnynAurWfAePMp4g+X461nw9CA1qV4H3qEjo6wmwqWAGAHiY/gS5z18McX3RqxUOn7mGzCfP0LZZbcwe3R1Bi35BeuZTRe6JqDjMnhGM337djgWLvoNJeRPcv3cPAGBqZqYx+5/KnlKcJ0hCsWSjWbNmiIiIwNKlS7FlyxY8fvwYH3zwgXr/pUuXUKUKs/6SqKGrA3b/OEr9OWycDwBg1bbDmBn5K7q2rgsAOLpe86l27QctxIETL6pVjes4YMoXnWFa3hAXr6di+Ky1WLvjWDHdAZEyNqxfCwAY2E9zeDhkZii8Pi74+m+iskIQ/21NjIzOnj2Ltm3bIiMjA8+fP8dXX32FGTNmqPf36dMHJiYmiIyM1Prcxg2GSxkqUZnx6Nji/+5EpGOMiuHXbufxOyU5z+WvO0pynuKmWGWjbt26SExMxB9//AFbW9sCjz319fWFq6urQtERERFJh8MoCqpYsSK8vLwK3de5c+dijoaIiIjkoPgTRImIiMq60rySRApMNoiIiGSm47mGcs/ZICIiIt3AygYREZHM9PR0u7SheGVDX18fd+/eLdD+4MED6Ovz4VxERFT6CYI0W2mleLLxusd85OTkwNDQsJijISIiIqkpNozy8o2vgiDgxx9/hKmpqXpfXl4e4uPjUbt2baXCIyIikgxXoygkPPzFa5VFUURkZKTGkImhoSEcHR3f6OmhREREJY2O5xrKJRtJSUkAgDZt2mDLli2wsrJSKhQiIiJZsbKhsL1796r//HL+hq7/TyEiIipLFJ8gCgArV66Em5sbjI2NYWxsjLp162LVqlVKh0VERCQJQRAk2UorxSsb8+fPR1BQEIYPHw4PDw8AwMGDB/HFF1/g/v37GDNmjMIREhERvZ1SnCdIQvFkY9GiRViyZAn69u2rbuvWrRvee+89TJ8+nckGERFRKad4spGcnIzmzZsXaG/evDmSk5MViIiIiEhapXkIRAqKz9moUaMGNmzYUKB9/fr1cHZ2ViAiIiIiaen6E0QVr2wEBwejV69eiI+PV8/Z+OOPP7Bnz55CkxAiIiIqXRRPNnx8fHDkyBGEh4dj69atAAAXFxccPXoUDRo0UDY4IiIiCej6MIriyQYANGrUCD///LPSYRAREclCx3MN5edsEBERUdmmWGVDT0/vP8tKgiDg+fPnxRQRERGRPDiMopDo6OjX7ktISEBERATy8/OLMSIiIiJ56HiuoVyy4eXlVaDt4sWLmDRpEmJiYuDn54eQkBAFIiMiIpKWrlc2SsScjTt37mDw4MFwc3PD8+fPcfr0aURFRcHBwUHp0IiIiOgtKZpspKenY+LEiahRowbOnz+PPXv2ICYmBnXq1FEyLCIiIknxoV4KCQsLw9y5c2Fra4u1a9cWOqxCRERUFuj6MIpiycakSZNgbGyMGjVqICoqClFRUYX227JlSzFHRkRERFJSLNno27evzmd6RESkG3T9x51iycaKFSuUujQREVGx0vVfrkvEahQiIiIqu0rEu1GIiIjKMh0vbDDZICIikhuHUYiIiIhkxMoGERGRzHS9ssFkg4iISGY6nmsw2SAiIpKbrlc2OGeDiIiIZMXKBhERkcx0vLDBZIOIiEhuHEYhIiKiMicvLw9BQUFwcnKCsbExqlevjhkzZkAURXUfURQxdepU2NnZwdjYGO3atcPly5clj4XJBhERkcwEQZpNG3PnzsWSJUuwePFiJCYmYu7cuQgLC8OiRYvUfcLCwhAREYHIyEgcOXIEJiYm6NChA7KzsyW9fw6jEBERyUxPgWGUQ4cOwcvLC507dwYAODo6Yu3atTh69CiAF1WNBQsWYMqUKfDy8gIArFy5EjY2Nti6dSt8fX0li4WVDSIiojKoefPm2LNnDy5dugQAOHPmDA4ePIhOnToBAJKSkpCSkoJ27dqpj7GwsEDTpk2RkJAgaSysbBAREclMqsJGTk4OcnJyNNpUKhVUKlWBvpMmTUJGRgZq164NfX195OXlYdasWfDz8wMApKSkAABsbGw0jrOxsVHvkworG0RERDITBEGSLTQ0FBYWFhpbaGhoodfcsGEDVq9ejTVr1uDkyZOIiorCvHnzEBUVVcx3z8oGERGR7PQkqmwEBgYiICBAo62wqgYAjB8/HpMmTVLPvXBzc8ONGzcQGhoKf39/2NraAgBSU1NhZ2enPi41NRX169eXJuD/YWWDiIiolFCpVDA3N9fYXpdsPHnyBHp6mj/m9fX1kZ+fDwBwcnKCra0t9uzZo96fkZGBI0eOwN3dXdK4WdkgIiKSmRIP9eratStmzZqFqlWr4r333sOpU6cwf/58DBgwQB3T6NGjMXPmTDg7O8PJyQlBQUGwt7dH9+7dJY2FyQYREZHMlHiA6KJFixAUFIQvv/wSd+/ehb29PT7//HNMnTpV3WfChAnIysrCkCFDkJaWhhYtWmDnzp0wMjKSNBZB/OejxMoI4wbDlQ6BqER6dGyx0iEQlThGxfBrd+fvj0pynh2fvy/JeYqbJHM20tLSpDgNERFRmSRI9F9ppXWyMXfuXKxfv179uWfPnqhQoQLeeecdnDlzRtLgiIiIygI9QZqttNI62YiMjESVKlUAALGxsYiNjcVvv/2GTp06Yfz48ZIHSERERKWb1iNVKSkp6mRj+/bt6NmzJ9q3bw9HR0c0bdpU8gCJiIhKO75iXktWVla4desWAGDnzp3qZ6qLooi8vDxpoyMiIioDlHjra0midWXD29sbvXv3hrOzMx48eKB+ocupU6dQo0YNyQMkIiKi0k3rZCM8PByOjo64desWwsLCYGpqCgBITk7Gl19+KXmAREREpZ0Sr5gvSbRONsqVK4dx48YVaB8zZowkAREREZU1Op5rFC3Z2LZtW5FP2K1btzcOhoiIqCzS9QmiRUo2ivqMdEEQOEmUiIiINBQp2Xj5hjgiIiLSno4XNt7uRWzZ2dmSv6yFiIiorNH1CaJaP2cjLy8PM2bMwDvvvANTU1Ncu3YNABAUFIRly5ZJHiARERGVblonG7NmzcKKFSsQFhYGQ0NDdXudOnXw448/ShocERFRWSBItJVWWicbK1euxA8//AA/Pz/o6+ur2+vVq4e//vpL0uCIiIjKAkEQJNlKK62Tjdu3bxf6pND8/Hzk5uZKEhQRERGVHVonG66urjhw4ECB9k2bNqFBgwaSBEVERFSW6Por5rVejTJ16lT4+/vj9u3byM/Px5YtW3Dx4kWsXLkS27dvlyNGIiKiUq00D4FIQevKhpeXF2JiYvD777/DxMQEU6dORWJiImJiYvDhhx/KESMRERGVYm/0nI2WLVsiNjZW6liIiIjKJB0vbLz5Q72OHz+OxMREAC/mcTRq1EiyoIiIiMoSXR9G0TrZ+Pvvv/Hpp5/ijz/+gKWlJQAgLS0NzZs3x7p16/Duu+9KHSMREVGpVpond0pB6zkbgwYNQm5uLhITE/Hw4UM8fPgQiYmJyM/Px6BBg+SIkYiIiEoxrSsb+/fvx6FDh1CrVi11W61atbBo0SK0bNlS0uCIiIjKAg6jaKlKlSqFPrwrLy8P9vb2kgRFRERUluh2qvEGwyhff/01RowYgePHj6vbjh8/jlGjRmHevHmSBkdERESlX5EqG1ZWVholoKysLDRt2hQGBi8Of/78OQwMDDBgwAB0795dlkCJiIhKK11/xXyRko0FCxbIHAYREVHZpeO5RtGSDX9/f7njICIiojLqjR/qBQDZ2dl49uyZRpu5uflbBURERFTW6PpqFK0niGZlZWH48OGoXLkyTExMYGVlpbERERGRJkGQZiuttE42JkyYgLi4OCxZsgQqlQo//vgjgoODYW9vj5UrV8oRIxEREZViWg+jxMTEYOXKlWjdujX69++Pli1bokaNGnBwcMDq1avh5+cnR5xERESllq6vRtG6svHw4UNUq1YNwIv5GQ8fPgQAtGjRAvHx8dJGR0REVAZwGEVL1apVQ1JSEgCgdu3a2LBhA4AXFY+XL2YjIiKi/ycIgiRbaaV1stG/f3+cOXMGADBp0iR8++23MDIywpgxYzB+/HjJAyQiIqLSTRBFUXybE9y4cQMnTpxAjRo1ULduXanieitX7z1VOgSiEqnu0HVKh0BU4mRt6i/7NUZEJ0pynkUfu0hynuL2Vs/ZAAAHBwc4ODhIEQsREVGZVJqHQKRQpGQjIiKiyCccOXLkGwdDREREZU+Rko3w8PAinUwQBCYbREREr9DT7cJG0ZKNl6tPiIiISHu6nmxovRqFiIiISBtvPUGUiIiI/h0niBIREZGsOIxCREREJCNWNoiIiGSm46Mob1bZOHDgAD777DO4u7vj9u3bAIBVq1bh4MGDkgZHRERUFugJgiRbaaV1srF582Z06NABxsbGOHXqFHJycgAA6enpmD17tuQBEhERlXZ6Em2lldaxz5w5E5GRkVi6dCnKlSunbvfw8MDJkyclDY6IiIje3O3bt/HZZ5+hQoUKMDY2hpubG44fP67eL4oipk6dCjs7OxgbG6Ndu3a4fPmy5HFonWxcvHgRrVq1KtBuYWGBtLQ0KWIiIiIqUwRBmk0bjx49goeHB8qVK4fffvsNFy5cwDfffAMrKyt1n7CwMERERCAyMhJHjhyBiYkJOnTogOzsbEnvX+sJora2trhy5QocHR012g8ePIhq1apJFRcREVGZocR8i7lz56JKlSpYvny5us3JyUn9Z1EUsWDBAkyZMgVeXl4AgJUrV8LGxgZbt26Fr6+vZLFoXdkYPHgwRo0ahSNHjkAQBNy5cwerV6/GuHHjMHToUMkCIyIiIk05OTnIyMjQ2F7OnXzVtm3b0LhxY/To0QOVK1dGgwYNsHTpUvX+pKQkpKSkoF27duo2CwsLNG3aFAkJCZLGrXWyMWnSJPTu3Rtt27ZFZmYmWrVqhUGDBuHzzz/HiBEjJA2OiIioLJBqGCU0NBQWFhYaW2hoaKHXvHbtGpYsWQJnZ2fs2rULQ4cOxciRIxEVFQUASElJAQDY2NhoHGdjY6PeJxWth1EEQcDkyZMxfvx4XLlyBZmZmXB1dYWpqamkgREREZUVUj1BNDAwEAEBARptKpWq0L75+flo3LixeqVogwYN8OeffyIyMhL+/v7SBFREb/xQL0NDQ7i6ukoZCxEREf0LlUr12uTiVXZ2dgV+Tru4uGDz5s0AXszBBIDU1FTY2dmp+6SmpqJ+/frSBPw/Wicbbdq0+dcXysTFxb1VQERERGWNEhNEPTw8cPHiRY22S5cuwcHBAcCLyaK2trbYs2ePOrnIyMjAkSNHJJ+DqXWy8Wq2k5ubi9OnT+PPP/8s9rIMERFRaaDEwz/HjBmD5s2bY/bs2ejZsyeOHj2KH374AT/88MP/YhIwevRozJw5E87OznByckJQUBDs7e3RvXt3SWPROtkIDw8vtH369OnIzMx864CIiIjo7TVp0gTR0dEIDAxESEgInJycsGDBAvj5+an7TJgwAVlZWRgyZAjS0tLQokUL7Ny5E0ZGRpLGIoiiKEpxoitXruD999/Hw4cPpTjdW7l676nSIRCVSHWHrlM6BKISJ2tTf9mvMWvPFUnOM7ltDUnOU9wke+trQkKC5JkQERFRWSCg9L5ETQpaJxve3t4an0VRRHJyMo4fP46goCDJAiMiIiorpFr6WlppnWxYWFhofNbT00OtWrUQEhKC9u3bSxYYERERlQ1aJRt5eXno378/3NzcNF7kQkRERK+n65UNrR5Xrq+vj/bt2/PtrkRERFoQBEGSrbTS+t0oderUwbVr1+SIhYiIiMogrZONmTNnYty4cdi+fTuSk5MLvH2OiIiINOkJ0mylVZHnbISEhGDs2LH46KOPAADdunXTKOmIoghBEJCXlyd9lERERKVYKR4BkUSRk43g4GB88cUX2Lt3r5zxEBERURlT5GTj5YNGPT09ZQuGiIioLFLiRWwliVZLX0vzTFgiIiKllOb5FlLQKtmoWbPmfyYcJeHdKERERFRyaJVsBAcHF3iCKBEREf07XR8Y0CrZ8PX1ReXKleWKhYiIqEzS44vYiobzNYiIiN6Mrv8ILfJDvV6uRiEiIiLSRpErG/n5+XLGQUREVGZxNQoRERHJStefs6H1u1GIiIiItMHKBhERkcx0vLDBZIOIiEhuHEYhIiIikhErG0RERDLT8cIGkw0iIiK56fowgq7fPxEREcmMlQ0iIiKZ6forP5hsEBERyUy3Uw0mG0RERLLj0lciIiIiGbGyQUREJDPdrmsw2SAiIpKdjo+icBiFiIiI5MXKBhERkcy49JWIiIhkpevDCLp+/0RERCQzVjaIiIhkxmEUIiIikpVupxocRiEiIiKZsbJBREQkMw6jEBERkax0fRiByQYREZHMdL2yoevJFhEREcmMlQ0iIiKZ6XZdg8kGERGR7HR8FIXDKERERCQvVjaIiIhkpqfjAylMNoiIiGTGYRQiIiIq8+bMmQNBEDB69Gh1W3Z2NoYNG4YKFSrA1NQUPj4+SE1NlfzaTDaIiIhkJkj035s6duwYvv/+e9StW1ejfcyYMYiJicHGjRuxf/9+3LlzB97e3m97uwUw2SAiIpKZIEizvYnMzEz4+flh6dKlsLKyUrenp6dj2bJlmD9/Pj744AM0atQIy5cvx6FDh3D48GGJ7vwFJhtERESlRE5ODjIyMjS2nJycfz1m2LBh6Ny5M9q1a6fRfuLECeTm5mq0165dG1WrVkVCQoKkcTPZICIikpkeBEm20NBQWFhYaGyhoaGvve66detw8uTJQvukpKTA0NAQlpaWGu02NjZISUmR9P5LxGqUY8eOYe/evbh79y7y8/M19s2fP1+hqIiIiKQh1WqUwMBABAQEaLSpVKpC+966dQujRo1CbGwsjIyMpAngDSmebMyePRtTpkxBrVq1YGNjo/GyGl1/cQ0REZUNUv04U6lUr00uXnXixAncvXsXDRs2VLfl5eUhPj4eixcvxq5du/Ds2TOkpaVpVDdSU1Nha2srTcD/o3iysXDhQvz000/o16+f0qEQERGVGW3btsW5c+c02vr374/atWtj4sSJqFKlCsqVK4c9e/bAx8cHAHDx4kXcvHkT7u7uksaieLKhp6cHDw8PpcMgIiKSzdssW31TZmZmqFOnjkabiYkJKlSooG4fOHAgAgICYG1tDXNzc4wYMQLu7u5o1qyZpLEoPkF0zJgx+Pbbb5UOg4iISDZ6gjSb1MLDw9GlSxf4+PigVatWsLW1xZYtWyS/jiCKoij5WbWQn5+Pzp0749KlS3B1dUW5cuU09r/JTV+991Sq8IjKlLpD1ykdAlGJk7Wpv+zX2PPXfUnO07Z2RUnOU9wUH0YZOXIk9u7dizZt2qBChQqcFEpERGWOEsMoJYniyUZUVBQ2b96Mzp07Kx0KERGRLHT992jF52xYW1ujevXqSodBREREMlE82Zg+fTqmTZuGJ0+eKB0KERGRLJR+EZvSFB9GiYiIwNWrV2FjYwNHR8cCE0RPnjypUGRERETSkGMlSWmieLLRvXt3pUMgIiIiGSmebEybNk3pEOgtnTt9ApvXROHKxUQ8fHAPU2bPR/NWH6j3P3r4AMuXLMDJo4eRlfkYdeo1xBdjJuKdKg4KRk0kLQ8XG4z2qoMG1SrCzro8es3dg+3Hbqr3d2vqgEHta6F+tQqoYGYE93G/4Oz1h+r9VqaGmNyzAdrWewdVKprgfkY2Yo7dxIx1J5HxJFeJWyIJleYhECkoPmeDSr/sp0/hVKMmvgwILLBPFEXMCByD5Du3MXVOOBYtX4fKtnb4avQXyH7K56FQ2WFiZIBz1x9hzI+Fv5rbRGWAQ4mpCPr5eKH77azKw866PL5aeQxNArbi828P4sP67+C7oS3kDJuKiSBIs5VWilc28vLyEB4ejg0bNuDmzZt49uyZxv6HDx++5kgqKZq4t0AT98L/Qbx96yb+On8WS1ZugkO1GgCAYeMmw69bW+z7/Td07OpdnKESyWb3qdvYfer2a/evjb8KAKhaybTQ/RdupcFv3l7156TUxwheexLLRraCvp6AvHxFn79Ib6kU5wmSULyyERwcjPnz56NXr15IT09HQEAAvL29oaenh+nTpysdHr2l3NwXyaPhP95SqKenh3KGhrhw9pRSYRGVCublyyHjSS4TDSr1FE82Vq9ejaVLl2Ls2LEwMDDAp59+ih9//BFTp07F4cOH//P4nJwcZGRkaGw5OTnFEDkVRRUHR1SyscPyyAg8zshAbm4uNv68HPfvpuLhA2ke30tUFlUwU2HSJ/Wx/PeLSodCEtATBEm20krxZCMlJQVubm4AAFNTU6SnpwMAunTpgh07dvzn8aGhobCwsNDYIhd+LWvMVHQGBuUwZdY3uHPrBnp91Aoft2uGsyePoXEzDwiC4t9+RCWSmXE5bP7qQ/z1dxpmbWAFsCwQJNpKK8XnbLz77rtITk5G1apVUb16dezevRsNGzbEsWPHoPpH6f11AgMDERAQoNH2d0a+XOHSG3Cu7YrFKzYgK/MxnufmwsLKGqMHfwbn2q5Kh0ZU4pgaGWDrlPbIfJoL37A4PM/jEAqVfor/avnxxx9jz549AIARI0YgKCgIzs7O6Nu3LwYMGPCfx6tUKpibm2tsRUlSqPiZmJrBwsoat2/dwJWLF+DesrXSIRGVKGbG5bAtqAOePc9Djzm/Iyc3T+mQSCo6XtpQvLIxZ84c9Z979eqFqlWrIiEhAc7OzujatauCkVFRPX3yBHdu///zBFKTb+Pq5b9gZmaByrZ2OBC3GxaWVqhkY4fr1y7j+4VhaNayDRq+31zBqImkZWJkgOq25urPjjamqOtojYeZOfj7fhasTA1RpaIp7KzKAwCc7S0AAKlpT5Ga9vR/iUZ7lFcZYGBYPMzLG8L8RVfcy8hGPieJlmq6/pwNQRTFMvcdfPUen99QnM6ePIZJIwcXaG/XqSsCJs/ALxvXYPPaKKQ9fACrCpXQtmMXfNpvSIFH05P86g5dp3QIZVbL92yxM7hTgfaf917G598exGeta+D74S0L7J+14RRmbzj92uMBwGXoRty8lyl5zPRC1qb+sl/jyNV0Sc7TtLqFJOcpbiUi2bh48SIWLVqExMREAICLiwtGjBiBWrVqvdH5mGwQFY7JBlFBxZFsHL0mTbLxfrXSmWwoPmdj8+bNqFOnDk6cOIF69eqhXr16OHnyJOrUqYPNmzcrHR4REdFb0/EpG8rP2ZgwYQICAwMREhKi0T5t2jRMmDABPj4+CkVGREREUlC8spGcnIy+ffsWaP/ss8+QnJysQEREREQS0/HShuLJRuvWrXHgwIEC7QcPHkTLlgUnUxEREZU2gkT/lVaKD6N069YNEydOxIkTJ9CsWTMAwOHDh7Fx40YEBwdj27ZtGn2JiIhKm1L8pHFJKL4aRU+vaMUVQRCQl1e0B9xwNQpR4bgahaig4liNcuJ6hiTnaeRo/t+dSiDFKxv5+Xy0OBERlW06XthQbs5GQkICtm/frtG2cuVKODk5oXLlyhgyZAjf3kpERGUDJ4gqIyQkBOfPn1d/PnfuHAYOHIh27dph0qRJiImJQWhoqFLhERERkUQUSzZOnz6Ntm3bqj+vW7cOTZs2xdKlSxEQEICIiAhs2LBBqfCIiIgkw9UoCnn06BFsbGzUn/fv349Onf7/vQBNmjTBrVu3lAiNiIhIUrq+GkWxyoaNjQ2SkpIAAM+ePcPJkyfVS18B4PHjx3xRFxERURmgWLLx0UcfYdKkSThw4AACAwNRvnx5jYd4nT17FtWrV1cqPCIiIsno+PxQ5YZRZsyYAW9vb3h6esLU1BRRUVEwNDRU7//pp5/Qvn17pcIjIiKSTmnOFCSgWLJRsWJFxMfHIz09HaamptDX19fYv3HjRpiamioUHREREUlF8Yd6WVhYFNpubW1dzJEQERHJozSvJJGC4skGERFRWafrq1GYbBAREclMx3MN5V8xT0RERGUbKxtERERy0/HSBpMNIiIimen6BFEOoxAREZGsWNkgIiKSGVejEBERkax0PNfgMAoRERHJi5UNIiIiuel4aYPJBhERkcy4GoWIiIhIRqxsEBERyYyrUYiIiEhWOp5rcBiFiIhIdoJEmxZCQ0PRpEkTmJmZoXLlyujevTsuXryo0Sc7OxvDhg1DhQoVYGpqCh8fH6Smpr75fb4Gkw0iIqIyaP/+/Rg2bBgOHz6M2NhY5Obmon379sjKylL3GTNmDGJiYrBx40bs378fd+7cgbe3t+SxCKIoipKfVWFX7z1VOgSiEqnu0HVKh0BU4mRt6i/7NS6nSvNzydnG+I2PvXfvHipXroz9+/ejVatWSE9PR6VKlbBmzRp88sknAIC//voLLi4uSEhIQLNmzSSJGWBlg4iISHaCIM2Wk5ODjIwMjS0nJ6dIMaSnpwMArK2tAQAnTpxAbm4u2rVrp+5Tu3ZtVK1aFQkJCZLeP5MNIiKiUiI0NBQWFhYaW2ho6H8el5+fj9GjR8PDwwN16tQBAKSkpMDQ0BCWlpYafW1sbJCSkiJp3FyNQkREJDOpVqMEBgYiICBAo02lUv3nccOGDcOff/6JgwcPShSJdphsEBERyU2ibEOlUhUpufin4cOHY/v27YiPj8e7776rbre1tcWzZ8+QlpamUd1ITU2Fra2tNAH/D4dRiIiIyiBRFDF8+HBER0cjLi4OTk5OGvsbNWqEcuXKYc+ePeq2ixcv4ubNm3B3d5c0FlY2iIiIZKbEu1GGDRuGNWvW4JdffoGZmZl6HoaFhQWMjY1hYWGBgQMHIiAgANbW1jA3N8eIESPg7u4u6UoUgMkGERGR7JR4XPmSJUsAAK1bt9ZoX758Ofr16wcACA8Ph56eHnx8fJCTk4MOHTrgu+++kzwWPmeDSIfwORtEBRXHczaS7mdLch6nikaSnKe4sbJBREQkM11/NwqTDSIiIrnpeLbBZIOIiEhmSkwQLUm49JWIiIhkxcoGERGRzJRYjVKSMNkgIiKSmY7nGhxGISIiInmxskFERCQzDqMQERGRzHQ72+AwChEREcmKlQ0iIiKZcRiFiIiIZKXjuQaHUYiIiEherGwQERHJjMMoREREJCtdfzcKkw0iIiK56XauwTkbREREJC9WNoiIiGSm44UNJhtERERy0/UJohxGISIiIlmxskFERCQzrkYhIiIieel2rsFhFCIiIpIXKxtEREQy0/HCBpMNIiIiuXE1ChEREZGMWNkgIiKSGVejEBERkaw4jEJEREQkIyYbREREJCsOoxAREclM14dRmGwQERHJTNcniHIYhYiIiGTFygYREZHMOIxCREREstLxXIPDKERERCQvVjaIiIjkpuOlDSYbREREMuNqFCIiIiIZsbJBREQkM65GISIiIlnpeK7BZIOIiEh2Op5tcM4GERERyYqVDSIiIpnp+moUJhtEREQy0/UJohxGISIiIlkJoiiKSgdBZVNOTg5CQ0MRGBgIlUqldDhEJQb/bpCuYbJBssnIyICFhQXS09Nhbm6udDhEJQb/bpCu4TAKERERyYrJBhEREcmKyQYRERHJiskGyUalUmHatGmcAEf0Cv7dIF3DCaJEREQkK1Y2iIiISFZMNoiIiEhWTDaIiIhIVkw2iIiISFZMNsqwfv36QRAEzJkzR6N969atELR8K5CjoyMWLFjwn/3OnDmDbt26oXLlyjAyMoKjoyN69eqFu3fvanU9opLq3r17GDp0KKpWrQqVSgVbW1t06NABf/zxh9KhEZVYTDbKOCMjI8ydOxePHj2S/Vr37t1D27ZtYW1tjV27diExMRHLly+Hvb09srKyZL8+UXHw8fHBqVOnEBUVhUuXLmHbtm1o3bo1Hjx4oHRoRCWXSGWWv7+/2KVLF7F27dri+PHj1e3R0dHiq//rN23aJLq6uoqGhoaig4ODOG/ePPU+T09PEYDGVpjo6GjRwMBAzM3NfW1Me/fuFQGI27dvF93c3ESVSiU2bdpUPHfunLrP/fv3RV9fX9He3l40NjYW69SpI65Zs0bjPJ6enuLw4cPFUaNGiZaWlmLlypXFH374QczMzBT79esnmpqaitWrVxd//fVXrb5mRP/m0aNHIgBx3759r+0DQPzuu+/Ejh07ikZGRqKTk5O4ceNGjT4TJkwQnZ2dRWNjY9HJyUmcMmWK+OzZM/X+adOmifXq1ROXLVsmVqlSRTQxMRGHDh0qPn/+XJw7d65oY2MjVqpUSZw5c6Zs90okJVY2yjh9fX3Mnj0bixYtwt9//11onxMnTqBnz57w9fXFuXPnMH36dAQFBWHFihUAgC1btuDdd99FSEgIkpOTkZycXOh5bG1t8fz5c0RHR0P8j8e3jB8/Ht988w2OHTuGSpUqoWvXrsjNzQUAZGdno1GjRtixYwf+/PNPDBkyBH369MHRo0c1zhEVFYWKFSvi6NGjGDFiBIYOHYoePXqgefPmOHnyJNq3b48+ffrgyZMnWn7ViApnamoKU1NTbN26FTk5Oa/tFxQUBB8fH5w5cwZ+fn7w9fVFYmKier+ZmRlWrFiBCxcuYOHChVi6dCnCw8M1znH16lX89ttv2LlzJ9auXYtly5ahc+fO+Pvvv7F//37MnTsXU6ZMwZEjR2S7XyLJKJ3tkHz8/f1FLy8vURRFsVmzZuKAAQNEUSxY2ejdu7f44Ycfahw7fvx40dXVVf3ZwcFBDA8P/89rfvXVV6KBgYFobW0tduzYUQwLCxNTUlLU+19WNtatW6due/DggWhsbCyuX7/+teft3LmzOHbsWPVnT09PsUWLFurPz58/F01MTMQ+ffqo25KTk0UAYkJCwn/GTVRUmzZtEq2srEQjIyOxefPmYmBgoHjmzBn1fgDiF198oXFM06ZNxaFDh772nF9//bXYqFEj9edp06aJ5cuXFzMyMtRtHTp0EB0dHcW8vDx1W61atcTQ0FApbotIVqxs6Ii5c+ciKipK47erlxITE+Hh4aHR5uHhgcuXLyMvL0+r68yaNQspKSmIjIzEe++9h8jISNSuXRvnzp3T6Ofu7q7+s7W1NWrVqqWOLS8vDzNmzICbmxusra1hamqKXbt24ebNmxrnqFu3rvrP+vr6qFChAtzc3NRtNjY2AMDJqSQpHx8f3LlzB9u2bUPHjh2xb98+NGzYUF0JBDS/v19+/uffvfXr18PDwwO2trYwNTXFlClTCnx/Ozo6wszMTP3ZxsYGrq6u0NPT02jj9zeVBkw2dESrVq3QoUMHBAYGyn6tChUqoEePHpg3bx4SExNhb2+PefPmFfn4r7/+GgsXLsTEiROxd+9enD59Gh06dMCzZ880+pUrV07jsyAIGm0vV9zk5+e/xd0QFWRkZIQPP/wQQUFBOHToEPr164dp06YV6diEhAT4+fnho48+wvbt23Hq1ClMnjxZ6+/vl238/qbSgMmGDpkzZw5iYmKQkJCg0e7i4lJg2d4ff/yBmjVrQl9fHwBgaGiodZXj5XHVq1cvsBrl8OHD6j8/evQIly5dgouLi/raXl5e+Oyzz1CvXj1Uq1YNly5d0vraRMXF1dVV43v8n9/fLz+//P4+dOgQHBwcMHnyZDRu3BjOzs64ceNGscZLVNwMlA6Aio+bmxv8/PwQERGh0T527Fg0adIEM2bMQK9evZCQkIDFixfju+++U/dxdHREfHw8fH19oVKpULFixQLn3759O9atWwdfX1/UrFkToigiJiYGv/76K5YvX67RNyQkBBUqVICNjQ0mT56MihUronv37gAAZ2dnbNq0CYcOHYKVlRXmz5+P1NRUuLq6Sv9FIdLCgwcP0KNHDwwYMAB169aFmZkZjh8/jrCwMHh5ean7bdy4EY0bN0aLFi2wevVqHD16FMuWLQPw4vv75s2bWLduHZo0aYIdO3YgOjpaqVsiKhasbOiYkJCQAmXXhg0bYsOGDVi3bh3q1KmDqVOnIiQkBP369dM47vr166hevToqVapU6LldXV1Rvnx5jB07FvXr10ezZs2wYcMG/Pjjj+jTp49G3zlz5mDUqFFo1KgRUlJSEBMTA0NDQwDAlClT0LBhQ3To0AGtW7eGra2tOhEhUpKpqSmaNm2K8PBwtGrVCnXq1EFQUBAGDx6MxYsXq/sFBwdj3bp1qFu3LlauXIm1a9eqk+Vu3bphzJgxGD58OOrXr49Dhw4hKChIqVsiKhZ8xTwVq3379qFNmzZ49OgRLC0tlQ6HSHKCICA6OpoJMtE/sLJBREREsmKyQURERLLiMAoRERHJipUNIiIikhWTDSIiIpIVkw0iIiKSFZMNIiIikhWTDSIF9evXT+N5DK1bt8bo0aOLPY59+/ZBEASkpaW9to8gCNi6dWuRzzl9+nTUr1//reK6fv06BEHA6dOn3+o8RKQsJhtEr+jXrx8EQYAgCDA0NESNGjUQEhKC58+fy37tLVu2YMaMGUXqW5QEgYioJOC7UYgK0bFjRyxfvhw5OTn49ddfMWzYMJQrV67Qt+Y+e/ZM/aj1t2VtbS3JeYiIShJWNogKoVKpYGtrCwcHBwwdOhTt2rXDtm3bAPz/0MesWbNgb2+PWrVqAQBu3bqFnj17wtLSEtbW1vDy8sL169fV58zLy0NAQAAsLS1RoUIFTJgwAa8+5ubVYZScnBxMnDgRVapUgUqlQo0aNbBs2TJcv34dbdq0AQBYWVlBEAT1u2zy8/MRGhoKJycnGBsbo169eti0aZPGdX799VfUrFkTxsbGaNOmjUacRTVx4kTUrFkT5cuXR7Vq1RAUFITc3NwC/b7//ntUqVIF5cuXR8+ePZGenq6x/8cff4SLiwuMjIxQu3ZtjRcAvurRo0fw8/NDpUqVYGxsDGdn5wIv+SOikoeVDaIiMDY2xoMHD9Sf9+zZA3Nzc8TGxgIAcnNz0aFDB7i7u+PAgQMwMDDAzJkz0bFjR5w9exaGhob45ptvsGLFCvz0009wcXHBN998g+joaHzwwQevvW7fvn2RkJCAiIgI1KtXD0lJSbh//z6qVKmCzZs3w8fHBxcvXoS5uTmMjY0BAKGhofj5558RGRkJZ2dnxMfH47PPPkOlSpXg6emJW7duwdvbG8OGDcOQIUNw/PhxjB07VuuviZmZGVasWAF7e3ucO3cOgwcPhpmZGSZMmKDuc+XKFWzYsAExMTHIyMjAwIED8eWXX2L16tUAgNWrV2Pq1KlYvHgxGjRogFOnTmHw4MEwMTGBv79/gWsGBQXhwoUL+O2331CxYkVcuXIFT58+1Tp2IipmIhFp8Pf3F728vERRFMX8/HwxNjZWVKlU4rhx49T7bWxsxJycHPUxq1atEmvVqiXm5+er23JyckRjY2Nx165doiiKop2dnRgWFqben5ubK7777rvqa4miKHp6eoqjRo0SRVEUL168KAIQY2NjC41z7969IgDx0aNH6rbs7GyxfPny4qFDhzT6Dhw4UPz0009FURTFwMBA0dXVVWP/xIkTC5zrVQDE6Ojo1+7/+uuvxUaNGqk/T5s2TdTX1xf//vtvddtvv/0m6unpicnJyaIoimL16tXFNWvWaJxnxowZoru7uyiKopiUlCQCEE+dOiWKoih27dpV7N+//2tjIKKSiZUNokJs374dpqamyM3NRX5+Pnr37o3p06er97u5uWnM0zhz5gyuXLkCMzMzjfNkZ2fj6tWrSE9PR3JyMpo2bareZ2BggMaNGxcYSnnp9OnT0NfXh6enZ5HjvnLlCp48eYIPP/xQo/3Zs2do0KABACAxMVEjDgBwd3cv8jVeWr9+PSIiInD16lVkZmbi+fPnMDc31+hTtWpVvPPOOxrXyc/Px8WLF2FmZoarV69i4MCBGDx4sLrP8+fPYWFhUeg1hw4dCh8fH5w8eRLt27dH9+7d0bx5c61jJ6LixWSDqBBt2rTBkiVLYGhoCHt7exgYaP5VMTEx0ficmZmJRo0aqYcH/qlSpUpvFMPLYRFtZGZmAgB27Nih8UMeeDEPRSoJCQnw8/NDcHAwOnToAAsLC6xbtw7ffPON1rEuXbq0QPKjr69f6DGdOnXCjRs38OuvvyI2NhZt27bFsGHDMG/evDe/GSKSHZMNokKYmJigRo0aRe7fsGFDrF+/HpUrVy7w2/1LdnZ2OHLkCFq1agXgxW/wJ06cQMOGDQvt7+bmhvz8fOzfvx/t2rUrsP9lZSUvL0/d5urqCpVKhZs3b762IuLi4qKe7PrS4cOH//sm/+HQoUNwcHDA5MmT1W03btwo0O/mzZu4c+cO7O3t1dfR09NDrVq1YGNjA3t7e1y7dg1+fn5FvnalSpXg7+8Pf39/tGzZEuPHj2eyQVTCcTUKkQT8/PxQsWJFeHl54cCBA0hKSsK+ffswcuRI/P333wCAUaNGYc6cOdi6dSv++usvfPnll//6jAxHR0f4+/tjwIAB2Lp1q/qcGzZsAAA4ODhAEARs374d9+7dQ2ZmJszMzDBu3DiMGTMGUVFRuHr1Kk6ePIlFixYhKioKAPDFF1/g8uXLGD9+PC5evIg1a9ZgxYoVWt2vs7Mzbt68iXXr1uHq1auIiIhAdHR0gX5GRkbw9/fHmTNncODAAYwcORI9e/aEra0tACA4OBihoaGIiIjApUuXcO7cOSxfvhzz588v9LpTp07FL7/8gitXruD8+fPYvn07XFxctIqdiIofkw0iCZQvXx7x8fGoWrUqvL294eLigoEDByI7O1td6Rg7diz69OkDf39/uLu7w8zMDB9//PG/nnfJkiX45JNP8OWXX6J27doYPHgwsrKyAADvvPMOgoODMWnSJNjY2GD48OEAgBkzZiAoKAihoaFwcXFBx44dsWPHDjg5OQF4MY9i8+bN2Lp1K+rVq4fIyEjMnj1bq/vt1q0bxowZg+HDh6N+/fo4dOgQgoKCCvSrUaMGvL298dFHH6F9+/aoW7euxtLWQYMG4ccff8Ty5cvh5uYGT09PrFixQh3rqwwNDREYGIi6deuiVatW0NfXx7p167SKnYiKnyC+bnYaERERkQRY2SAiIiJZMdkgIiIiWTHZICIiIlkx2SAiIiJZMdkgIiIiWTHZICIiIlkx2SAiIiJZMdkgIiIiWTHZICIiIlkx2SAiIiJZMdkgIiIiWTHZICIiIln9H+1kjw/zMbkwAAAAAElFTkSuQmCC\n"
          },
          "metadata": {}
        }
      ]
    },
    {
      "cell_type": "code",
      "source": [
        "print(\"Precision: {:.2f}%\".format(100 * precision_score(balanced_Y_test, balanced_test_pred)))\n",
        "print(\"Recall: {:.2f}%\".format(100 * recall_score(balanced_Y_test, balanced_test_pred)))\n",
        "print(\"F1 Score: {:.2f}%\".format(100 * f1_score(balanced_Y_test, balanced_test_pred)))"
      ],
      "metadata": {
        "colab": {
          "base_uri": "https://localhost:8080/"
        },
        "id": "W43TvJL6MF4b",
        "outputId": "b8bec618-dc97-4d95-848f-d92c44a02101"
      },
      "execution_count": 64,
      "outputs": [
        {
          "output_type": "stream",
          "name": "stdout",
          "text": [
            "Precision: 98.25%\n",
            "Recall: 85.50%\n",
            "F1 Score: 91.43%\n"
          ]
        }
      ]
    },
    {
      "cell_type": "markdown",
      "source": [
        "Unfortunately, rebalancing classes has not proven to be efficient in improving our model's performance.\n",
        "\n",
        "Our first model was a very simple neural network, perhaps using a more complex architecture will yield better results."
      ],
      "metadata": {
        "id": "2qPYa2krPcuY"
      }
    },
    {
      "cell_type": "markdown",
      "source": [
        "# 7. Recurrent neural network\n",
        "\n",
        "Recurrent neurons are particularly interesting when it comes to NLP due to their ability to retain information throughout the forward pass process : a sentence is more than a collection of words, and its meaning depends on context and how each word is used in relation to the others. In particular, LSTMs (Long Short Term Memory Networks) are able to learn long-term dependencies.\n",
        "\n",
        "Moreover, for some sentences, the context information is found at the end of the sentence. Without it, ambiguity might arise. Including two LSTM neurons instead of one, in what is called a bidirectional layer, will allow us to feed the input sequence to our ntwork both in order and in reverse. The 2 outputs will be merged and passed on to the next layer."
      ],
      "metadata": {
        "id": "UAjpBfvDQGOY"
      }
    },
    {
      "cell_type": "code",
      "source": [
        "embedding_dim = 16\n",
        "vocab_size = tokenizer.num_words + 1 # the number of words in the vocabulary : the input dim needs to be equal to the size of the vocabulary + 1 (because of the zero padding)\n",
        "\n",
        "model3 = Sequential([\n",
        "  Embedding(\n",
        "      input_dim = vocab_size,\n",
        "      output_dim = embedding_dim,\n",
        "      name = \"embedding\"), # the embedding layer\n",
        "  Bidirectional(LSTM(32)),\n",
        "  Dense(16, activation='relu'), # a dense layer\n",
        "  Dense(1, activation=\"sigmoid\") # the prediction layer\n",
        "])"
      ],
      "metadata": {
        "id": "qPEUJ08aPQy2"
      },
      "execution_count": 65,
      "outputs": []
    },
    {
      "cell_type": "code",
      "source": [
        "model3.summary()"
      ],
      "metadata": {
        "colab": {
          "base_uri": "https://localhost:8080/"
        },
        "id": "4LY4RvtreJjz",
        "outputId": "d92e8547-a943-4e70-f2fd-7366f8a8d569"
      },
      "execution_count": 66,
      "outputs": [
        {
          "output_type": "stream",
          "name": "stdout",
          "text": [
            "Model: \"sequential_2\"\n",
            "_________________________________________________________________\n",
            " Layer (type)                Output Shape              Param #   \n",
            "=================================================================\n",
            " embedding (Embedding)       (None, None, 16)          16016     \n",
            "                                                                 \n",
            " bidirectional (Bidirection  (None, 64)                12544     \n",
            " al)                                                             \n",
            "                                                                 \n",
            " dense_4 (Dense)             (None, 16)                1040      \n",
            "                                                                 \n",
            " dense_5 (Dense)             (None, 1)                 17        \n",
            "                                                                 \n",
            "=================================================================\n",
            "Total params: 29617 (115.69 KB)\n",
            "Trainable params: 29617 (115.69 KB)\n",
            "Non-trainable params: 0 (0.00 Byte)\n",
            "_________________________________________________________________\n"
          ]
        }
      ]
    },
    {
      "cell_type": "code",
      "source": [
        "model3.compile(loss = tf.keras.losses.BinaryCrossentropy(from_logits = True), # from_logits = True to interpret y_pred as a tensor of logit values and not a probability\n",
        "              metrics = ['accuracy'],\n",
        "              optimizer = 'adam')"
      ],
      "metadata": {
        "id": "IpYQUpkme4ga"
      },
      "execution_count": 67,
      "outputs": []
    },
    {
      "cell_type": "code",
      "source": [
        "history = model3.fit(train_batch,\n",
        "                    epochs = 50,\n",
        "                    callbacks = [lr, es],\n",
        "                    validation_data = val_batch\n",
        "                   )"
      ],
      "metadata": {
        "colab": {
          "base_uri": "https://localhost:8080/"
        },
        "id": "gg89-EiafBuC",
        "outputId": "8eaaf245-c0ba-443c-f70f-98018e4a927e"
      },
      "execution_count": 69,
      "outputs": [
        {
          "output_type": "stream",
          "name": "stdout",
          "text": [
            "Epoch 1/50\n",
            "49/49 [==============================] - 7s 133ms/step - loss: 0.4606 - accuracy: 0.8731 - val_loss: 0.3225 - val_accuracy: 0.8738 - lr: 0.0010\n",
            "Epoch 2/50\n",
            "49/49 [==============================] - 5s 104ms/step - loss: 0.2343 - accuracy: 0.9058 - val_loss: 0.1441 - val_accuracy: 0.9553 - lr: 0.0010\n",
            "Epoch 3/50\n",
            "49/49 [==============================] - 8s 163ms/step - loss: 0.1118 - accuracy: 0.9676 - val_loss: 0.0763 - val_accuracy: 0.9796 - lr: 0.0010\n",
            "Epoch 4/50\n",
            "49/49 [==============================] - 6s 120ms/step - loss: 0.0643 - accuracy: 0.9825 - val_loss: 0.0577 - val_accuracy: 0.9845 - lr: 0.0010\n",
            "Epoch 5/50\n",
            "49/49 [==============================] - 11s 221ms/step - loss: 0.0438 - accuracy: 0.9871 - val_loss: 0.0657 - val_accuracy: 0.9748 - lr: 0.0010\n",
            "Epoch 6/50\n",
            "49/49 [==============================] - 3s 67ms/step - loss: 0.0328 - accuracy: 0.9916 - val_loss: 0.0575 - val_accuracy: 0.9816 - lr: 0.0010\n",
            "Epoch 7/50\n",
            "49/49 [==============================] - 3s 63ms/step - loss: 0.0265 - accuracy: 0.9926 - val_loss: 0.0584 - val_accuracy: 0.9816 - lr: 0.0010\n",
            "Epoch 8/50\n",
            "49/49 [==============================] - 5s 94ms/step - loss: 0.0217 - accuracy: 0.9935 - val_loss: 0.0596 - val_accuracy: 0.9796 - lr: 0.0010\n",
            "Epoch 9/50\n",
            "49/49 [==============================] - 4s 81ms/step - loss: 0.0174 - accuracy: 0.9942 - val_loss: 0.0749 - val_accuracy: 0.9777 - lr: 0.0010\n",
            "Epoch 10/50\n",
            "49/49 [==============================] - 3s 63ms/step - loss: 0.0128 - accuracy: 0.9958 - val_loss: 0.0718 - val_accuracy: 0.9796 - lr: 0.0010\n",
            "Epoch 11/50\n",
            "49/49 [==============================] - 3s 66ms/step - loss: 0.0099 - accuracy: 0.9974 - val_loss: 0.0816 - val_accuracy: 0.9786 - lr: 0.0010\n",
            "Epoch 12/50\n",
            "49/49 [==============================] - 4s 79ms/step - loss: 0.0084 - accuracy: 0.9977 - val_loss: 0.0849 - val_accuracy: 0.9757 - lr: 0.0010\n",
            "Epoch 13/50\n",
            "49/49 [==============================] - 3s 66ms/step - loss: 0.0070 - accuracy: 0.9987 - val_loss: 0.1090 - val_accuracy: 0.9767 - lr: 0.0010\n",
            "Epoch 14/50\n",
            "49/49 [==============================] - 3s 66ms/step - loss: 0.0066 - accuracy: 0.9987 - val_loss: 0.0970 - val_accuracy: 0.9786 - lr: 0.0010\n",
            "Epoch 15/50\n",
            "49/49 [==============================] - 4s 88ms/step - loss: 0.0053 - accuracy: 0.9994 - val_loss: 0.1153 - val_accuracy: 0.9748 - lr: 0.0010\n",
            "Epoch 16/50\n",
            "49/49 [==============================] - 3s 69ms/step - loss: 0.0048 - accuracy: 0.9994 - val_loss: 0.1144 - val_accuracy: 0.9757 - lr: 0.0010\n",
            "Epoch 17/50\n",
            "49/49 [==============================] - 3s 63ms/step - loss: 0.0058 - accuracy: 0.9990 - val_loss: 0.1049 - val_accuracy: 0.9786 - lr: 0.0010\n",
            "Epoch 18/50\n",
            "49/49 [==============================] - 4s 80ms/step - loss: 0.0044 - accuracy: 0.9997 - val_loss: 0.1044 - val_accuracy: 0.9757 - lr: 0.0010\n",
            "Epoch 19/50\n",
            "49/49 [==============================] - 3s 70ms/step - loss: 0.0038 - accuracy: 0.9994 - val_loss: 0.1109 - val_accuracy: 0.9748 - lr: 0.0010\n",
            "Epoch 20/50\n",
            "49/49 [==============================] - 3s 63ms/step - loss: 0.0040 - accuracy: 0.9997 - val_loss: 0.1178 - val_accuracy: 0.9757 - lr: 0.0010\n",
            "Epoch 21/50\n",
            "49/49 [==============================] - 3s 63ms/step - loss: 0.0034 - accuracy: 0.9997 - val_loss: 0.1384 - val_accuracy: 0.9699 - lr: 0.0010\n",
            "Epoch 22/50\n",
            "49/49 [==============================] - 5s 101ms/step - loss: 0.0032 - accuracy: 0.9997 - val_loss: 0.1281 - val_accuracy: 0.9767 - lr: 0.0010\n",
            "Epoch 23/50\n",
            "49/49 [==============================] - 3s 67ms/step - loss: 0.0032 - accuracy: 0.9997 - val_loss: 0.1331 - val_accuracy: 0.9748 - lr: 0.0010\n",
            "Epoch 24/50\n",
            "49/49 [==============================] - 3s 64ms/step - loss: 0.0032 - accuracy: 0.9997 - val_loss: 0.1219 - val_accuracy: 0.9748 - lr: 0.0010\n"
          ]
        }
      ]
    },
    {
      "cell_type": "code",
      "source": [
        "# Saving our model so we can load and re-use it :\n",
        "model3.save('/content/m3_bidirectonal_LSTM.h5')"
      ],
      "metadata": {
        "id": "zb89txkMlwzr"
      },
      "execution_count": 70,
      "outputs": []
    },
    {
      "cell_type": "code",
      "source": [
        "fig = go.Figure(data=[\n",
        "                      go.Scatter(\n",
        "                          y = model3.history.history[\"loss\"],\n",
        "                          name=\"Training loss\",\n",
        "                          mode=\"lines\",\n",
        "                          marker=dict(\n",
        "                              color=color_chart[0]\n",
        "                          )),\n",
        "                      go.Scatter(\n",
        "                          y = model3.history.history[\"val_loss\"],\n",
        "                          name=\"Validation loss\",\n",
        "                          mode=\"lines\",\n",
        "                          marker=dict(\n",
        "                              color=color_chart[1]\n",
        "                          ))\n",
        "])\n",
        "fig.update_layout(\n",
        "    title='Training and val loss across epochs',\n",
        "    xaxis_title='epochs',\n",
        "    yaxis_title='Binary Cross Entropy'\n",
        ")\n",
        "fig.show()"
      ],
      "metadata": {
        "colab": {
          "base_uri": "https://localhost:8080/",
          "height": 542
        },
        "id": "W-UhIyCwfLRD",
        "outputId": "55cc2ec9-a39f-4f38-91dc-7e151861e3c8"
      },
      "execution_count": 71,
      "outputs": [
        {
          "output_type": "display_data",
          "data": {
            "text/html": [
              "<html>\n",
              "<head><meta charset=\"utf-8\" /></head>\n",
              "<body>\n",
              "    <div>            <script src=\"https://cdnjs.cloudflare.com/ajax/libs/mathjax/2.7.5/MathJax.js?config=TeX-AMS-MML_SVG\"></script><script type=\"text/javascript\">if (window.MathJax && window.MathJax.Hub && window.MathJax.Hub.Config) {window.MathJax.Hub.Config({SVG: {font: \"STIX-Web\"}});}</script>                <script type=\"text/javascript\">window.PlotlyConfig = {MathJaxConfig: 'local'};</script>\n",
              "        <script charset=\"utf-8\" src=\"https://cdn.plot.ly/plotly-2.24.1.min.js\"></script>                <div id=\"87a7b5bc-7a32-4682-973e-1fe2607e596d\" class=\"plotly-graph-div\" style=\"height:525px; width:100%;\"></div>            <script type=\"text/javascript\">                                    window.PLOTLYENV=window.PLOTLYENV || {};                                    if (document.getElementById(\"87a7b5bc-7a32-4682-973e-1fe2607e596d\")) {                    Plotly.newPlot(                        \"87a7b5bc-7a32-4682-973e-1fe2607e596d\",                        [{\"marker\":{\"color\":\"#4B9AC7\"},\"mode\":\"lines\",\"name\":\"Training loss\",\"y\":[0.46059462428092957,0.2343389093875885,0.11179252713918686,0.06432068347930908,0.04383720085024834,0.03279512748122215,0.026478441432118416,0.021747572347521782,0.01735861785709858,0.012822051532566547,0.009909655898809433,0.008388644084334373,0.007013580296188593,0.006566899362951517,0.005262717604637146,0.004795861430466175,0.005794724449515343,0.004403566010296345,0.003845652099698782,0.004025298170745373,0.003405255265533924,0.003243999322876334,0.0031803168822079897,0.0031526025850325823],\"type\":\"scatter\"},{\"marker\":{\"color\":\"#4BE8E0\"},\"mode\":\"lines\",\"name\":\"Validation loss\",\"y\":[0.32253456115722656,0.1441091150045395,0.07629004865884781,0.05770687758922577,0.06567690521478653,0.05753364413976669,0.05838952586054802,0.05958160385489464,0.07492827624082565,0.07179046422243118,0.08161849528551102,0.08488599956035614,0.10897091031074524,0.09702537953853607,0.11526450514793396,0.11437761783599854,0.10493238270282745,0.10439080744981766,0.11091882735490799,0.11781232804059982,0.13835187256336212,0.12809285521507263,0.13312886655330658,0.12188665568828583],\"type\":\"scatter\"}],                        {\"template\":{\"data\":{\"histogram2dcontour\":[{\"type\":\"histogram2dcontour\",\"colorbar\":{\"outlinewidth\":0,\"ticks\":\"\"},\"colorscale\":[[0.0,\"#0d0887\"],[0.1111111111111111,\"#46039f\"],[0.2222222222222222,\"#7201a8\"],[0.3333333333333333,\"#9c179e\"],[0.4444444444444444,\"#bd3786\"],[0.5555555555555556,\"#d8576b\"],[0.6666666666666666,\"#ed7953\"],[0.7777777777777778,\"#fb9f3a\"],[0.8888888888888888,\"#fdca26\"],[1.0,\"#f0f921\"]]}],\"choropleth\":[{\"type\":\"choropleth\",\"colorbar\":{\"outlinewidth\":0,\"ticks\":\"\"}}],\"histogram2d\":[{\"type\":\"histogram2d\",\"colorbar\":{\"outlinewidth\":0,\"ticks\":\"\"},\"colorscale\":[[0.0,\"#0d0887\"],[0.1111111111111111,\"#46039f\"],[0.2222222222222222,\"#7201a8\"],[0.3333333333333333,\"#9c179e\"],[0.4444444444444444,\"#bd3786\"],[0.5555555555555556,\"#d8576b\"],[0.6666666666666666,\"#ed7953\"],[0.7777777777777778,\"#fb9f3a\"],[0.8888888888888888,\"#fdca26\"],[1.0,\"#f0f921\"]]}],\"heatmap\":[{\"type\":\"heatmap\",\"colorbar\":{\"outlinewidth\":0,\"ticks\":\"\"},\"colorscale\":[[0.0,\"#0d0887\"],[0.1111111111111111,\"#46039f\"],[0.2222222222222222,\"#7201a8\"],[0.3333333333333333,\"#9c179e\"],[0.4444444444444444,\"#bd3786\"],[0.5555555555555556,\"#d8576b\"],[0.6666666666666666,\"#ed7953\"],[0.7777777777777778,\"#fb9f3a\"],[0.8888888888888888,\"#fdca26\"],[1.0,\"#f0f921\"]]}],\"heatmapgl\":[{\"type\":\"heatmapgl\",\"colorbar\":{\"outlinewidth\":0,\"ticks\":\"\"},\"colorscale\":[[0.0,\"#0d0887\"],[0.1111111111111111,\"#46039f\"],[0.2222222222222222,\"#7201a8\"],[0.3333333333333333,\"#9c179e\"],[0.4444444444444444,\"#bd3786\"],[0.5555555555555556,\"#d8576b\"],[0.6666666666666666,\"#ed7953\"],[0.7777777777777778,\"#fb9f3a\"],[0.8888888888888888,\"#fdca26\"],[1.0,\"#f0f921\"]]}],\"contourcarpet\":[{\"type\":\"contourcarpet\",\"colorbar\":{\"outlinewidth\":0,\"ticks\":\"\"}}],\"contour\":[{\"type\":\"contour\",\"colorbar\":{\"outlinewidth\":0,\"ticks\":\"\"},\"colorscale\":[[0.0,\"#0d0887\"],[0.1111111111111111,\"#46039f\"],[0.2222222222222222,\"#7201a8\"],[0.3333333333333333,\"#9c179e\"],[0.4444444444444444,\"#bd3786\"],[0.5555555555555556,\"#d8576b\"],[0.6666666666666666,\"#ed7953\"],[0.7777777777777778,\"#fb9f3a\"],[0.8888888888888888,\"#fdca26\"],[1.0,\"#f0f921\"]]}],\"surface\":[{\"type\":\"surface\",\"colorbar\":{\"outlinewidth\":0,\"ticks\":\"\"},\"colorscale\":[[0.0,\"#0d0887\"],[0.1111111111111111,\"#46039f\"],[0.2222222222222222,\"#7201a8\"],[0.3333333333333333,\"#9c179e\"],[0.4444444444444444,\"#bd3786\"],[0.5555555555555556,\"#d8576b\"],[0.6666666666666666,\"#ed7953\"],[0.7777777777777778,\"#fb9f3a\"],[0.8888888888888888,\"#fdca26\"],[1.0,\"#f0f921\"]]}],\"mesh3d\":[{\"type\":\"mesh3d\",\"colorbar\":{\"outlinewidth\":0,\"ticks\":\"\"}}],\"scatter\":[{\"fillpattern\":{\"fillmode\":\"overlay\",\"size\":10,\"solidity\":0.2},\"type\":\"scatter\"}],\"parcoords\":[{\"type\":\"parcoords\",\"line\":{\"colorbar\":{\"outlinewidth\":0,\"ticks\":\"\"}}}],\"scatterpolargl\":[{\"type\":\"scatterpolargl\",\"marker\":{\"colorbar\":{\"outlinewidth\":0,\"ticks\":\"\"}}}],\"bar\":[{\"error_x\":{\"color\":\"#2a3f5f\"},\"error_y\":{\"color\":\"#2a3f5f\"},\"marker\":{\"line\":{\"color\":\"#E5ECF6\",\"width\":0.5},\"pattern\":{\"fillmode\":\"overlay\",\"size\":10,\"solidity\":0.2}},\"type\":\"bar\"}],\"scattergeo\":[{\"type\":\"scattergeo\",\"marker\":{\"colorbar\":{\"outlinewidth\":0,\"ticks\":\"\"}}}],\"scatterpolar\":[{\"type\":\"scatterpolar\",\"marker\":{\"colorbar\":{\"outlinewidth\":0,\"ticks\":\"\"}}}],\"histogram\":[{\"marker\":{\"pattern\":{\"fillmode\":\"overlay\",\"size\":10,\"solidity\":0.2}},\"type\":\"histogram\"}],\"scattergl\":[{\"type\":\"scattergl\",\"marker\":{\"colorbar\":{\"outlinewidth\":0,\"ticks\":\"\"}}}],\"scatter3d\":[{\"type\":\"scatter3d\",\"line\":{\"colorbar\":{\"outlinewidth\":0,\"ticks\":\"\"}},\"marker\":{\"colorbar\":{\"outlinewidth\":0,\"ticks\":\"\"}}}],\"scattermapbox\":[{\"type\":\"scattermapbox\",\"marker\":{\"colorbar\":{\"outlinewidth\":0,\"ticks\":\"\"}}}],\"scatterternary\":[{\"type\":\"scatterternary\",\"marker\":{\"colorbar\":{\"outlinewidth\":0,\"ticks\":\"\"}}}],\"scattercarpet\":[{\"type\":\"scattercarpet\",\"marker\":{\"colorbar\":{\"outlinewidth\":0,\"ticks\":\"\"}}}],\"carpet\":[{\"aaxis\":{\"endlinecolor\":\"#2a3f5f\",\"gridcolor\":\"white\",\"linecolor\":\"white\",\"minorgridcolor\":\"white\",\"startlinecolor\":\"#2a3f5f\"},\"baxis\":{\"endlinecolor\":\"#2a3f5f\",\"gridcolor\":\"white\",\"linecolor\":\"white\",\"minorgridcolor\":\"white\",\"startlinecolor\":\"#2a3f5f\"},\"type\":\"carpet\"}],\"table\":[{\"cells\":{\"fill\":{\"color\":\"#EBF0F8\"},\"line\":{\"color\":\"white\"}},\"header\":{\"fill\":{\"color\":\"#C8D4E3\"},\"line\":{\"color\":\"white\"}},\"type\":\"table\"}],\"barpolar\":[{\"marker\":{\"line\":{\"color\":\"#E5ECF6\",\"width\":0.5},\"pattern\":{\"fillmode\":\"overlay\",\"size\":10,\"solidity\":0.2}},\"type\":\"barpolar\"}],\"pie\":[{\"automargin\":true,\"type\":\"pie\"}]},\"layout\":{\"autotypenumbers\":\"strict\",\"colorway\":[\"#636efa\",\"#EF553B\",\"#00cc96\",\"#ab63fa\",\"#FFA15A\",\"#19d3f3\",\"#FF6692\",\"#B6E880\",\"#FF97FF\",\"#FECB52\"],\"font\":{\"color\":\"#2a3f5f\"},\"hovermode\":\"closest\",\"hoverlabel\":{\"align\":\"left\"},\"paper_bgcolor\":\"white\",\"plot_bgcolor\":\"#E5ECF6\",\"polar\":{\"bgcolor\":\"#E5ECF6\",\"angularaxis\":{\"gridcolor\":\"white\",\"linecolor\":\"white\",\"ticks\":\"\"},\"radialaxis\":{\"gridcolor\":\"white\",\"linecolor\":\"white\",\"ticks\":\"\"}},\"ternary\":{\"bgcolor\":\"#E5ECF6\",\"aaxis\":{\"gridcolor\":\"white\",\"linecolor\":\"white\",\"ticks\":\"\"},\"baxis\":{\"gridcolor\":\"white\",\"linecolor\":\"white\",\"ticks\":\"\"},\"caxis\":{\"gridcolor\":\"white\",\"linecolor\":\"white\",\"ticks\":\"\"}},\"coloraxis\":{\"colorbar\":{\"outlinewidth\":0,\"ticks\":\"\"}},\"colorscale\":{\"sequential\":[[0.0,\"#0d0887\"],[0.1111111111111111,\"#46039f\"],[0.2222222222222222,\"#7201a8\"],[0.3333333333333333,\"#9c179e\"],[0.4444444444444444,\"#bd3786\"],[0.5555555555555556,\"#d8576b\"],[0.6666666666666666,\"#ed7953\"],[0.7777777777777778,\"#fb9f3a\"],[0.8888888888888888,\"#fdca26\"],[1.0,\"#f0f921\"]],\"sequentialminus\":[[0.0,\"#0d0887\"],[0.1111111111111111,\"#46039f\"],[0.2222222222222222,\"#7201a8\"],[0.3333333333333333,\"#9c179e\"],[0.4444444444444444,\"#bd3786\"],[0.5555555555555556,\"#d8576b\"],[0.6666666666666666,\"#ed7953\"],[0.7777777777777778,\"#fb9f3a\"],[0.8888888888888888,\"#fdca26\"],[1.0,\"#f0f921\"]],\"diverging\":[[0,\"#8e0152\"],[0.1,\"#c51b7d\"],[0.2,\"#de77ae\"],[0.3,\"#f1b6da\"],[0.4,\"#fde0ef\"],[0.5,\"#f7f7f7\"],[0.6,\"#e6f5d0\"],[0.7,\"#b8e186\"],[0.8,\"#7fbc41\"],[0.9,\"#4d9221\"],[1,\"#276419\"]]},\"xaxis\":{\"gridcolor\":\"white\",\"linecolor\":\"white\",\"ticks\":\"\",\"title\":{\"standoff\":15},\"zerolinecolor\":\"white\",\"automargin\":true,\"zerolinewidth\":2},\"yaxis\":{\"gridcolor\":\"white\",\"linecolor\":\"white\",\"ticks\":\"\",\"title\":{\"standoff\":15},\"zerolinecolor\":\"white\",\"automargin\":true,\"zerolinewidth\":2},\"scene\":{\"xaxis\":{\"backgroundcolor\":\"#E5ECF6\",\"gridcolor\":\"white\",\"linecolor\":\"white\",\"showbackground\":true,\"ticks\":\"\",\"zerolinecolor\":\"white\",\"gridwidth\":2},\"yaxis\":{\"backgroundcolor\":\"#E5ECF6\",\"gridcolor\":\"white\",\"linecolor\":\"white\",\"showbackground\":true,\"ticks\":\"\",\"zerolinecolor\":\"white\",\"gridwidth\":2},\"zaxis\":{\"backgroundcolor\":\"#E5ECF6\",\"gridcolor\":\"white\",\"linecolor\":\"white\",\"showbackground\":true,\"ticks\":\"\",\"zerolinecolor\":\"white\",\"gridwidth\":2}},\"shapedefaults\":{\"line\":{\"color\":\"#2a3f5f\"}},\"annotationdefaults\":{\"arrowcolor\":\"#2a3f5f\",\"arrowhead\":0,\"arrowwidth\":1},\"geo\":{\"bgcolor\":\"white\",\"landcolor\":\"#E5ECF6\",\"subunitcolor\":\"white\",\"showland\":true,\"showlakes\":true,\"lakecolor\":\"white\"},\"title\":{\"x\":0.05},\"mapbox\":{\"style\":\"light\"}}},\"title\":{\"text\":\"Training and val loss across epochs\"},\"xaxis\":{\"title\":{\"text\":\"epochs\"}},\"yaxis\":{\"title\":{\"text\":\"Binary Cross Entropy\"}}},                        {\"responsive\": true}                    ).then(function(){\n",
              "                            \n",
              "var gd = document.getElementById('87a7b5bc-7a32-4682-973e-1fe2607e596d');\n",
              "var x = new MutationObserver(function (mutations, observer) {{\n",
              "        var display = window.getComputedStyle(gd).display;\n",
              "        if (!display || display === 'none') {{\n",
              "            console.log([gd, 'removed!']);\n",
              "            Plotly.purge(gd);\n",
              "            observer.disconnect();\n",
              "        }}\n",
              "}});\n",
              "\n",
              "// Listen for the removal of the full notebook cells\n",
              "var notebookContainer = gd.closest('#notebook-container');\n",
              "if (notebookContainer) {{\n",
              "    x.observe(notebookContainer, {childList: true});\n",
              "}}\n",
              "\n",
              "// Listen for the clearing of the current output cell\n",
              "var outputEl = gd.closest('.output');\n",
              "if (outputEl) {{\n",
              "    x.observe(outputEl, {childList: true});\n",
              "}}\n",
              "\n",
              "                        })                };                            </script>        </div>\n",
              "</body>\n",
              "</html>"
            ]
          },
          "metadata": {}
        }
      ]
    },
    {
      "cell_type": "code",
      "source": [
        "fig = go.Figure(data=[\n",
        "                      go.Scatter(\n",
        "                          y=model3.history.history[\"accuracy\"],\n",
        "                          name=\"Training accuracy\",\n",
        "                          mode=\"lines\",\n",
        "                          marker=dict(\n",
        "                              color=color_chart[0]\n",
        "                          )),\n",
        "                      go.Scatter(\n",
        "                          y=model3.history.history[\"val_accuracy\"],\n",
        "                          name=\"Validation accuracy\",\n",
        "                          mode=\"lines\",\n",
        "                          marker=dict(\n",
        "                              color=color_chart[1]\n",
        "                          ))\n",
        "])\n",
        "fig.update_layout(\n",
        "    title='Training and val accuracy across epochs',\n",
        "    xaxis_title='epochs',\n",
        "    yaxis_title='Accuracy'\n",
        ")\n",
        "fig.show()"
      ],
      "metadata": {
        "colab": {
          "base_uri": "https://localhost:8080/",
          "height": 542
        },
        "id": "QCBkqq1yfT-F",
        "outputId": "523706e8-fa08-4761-f135-21c37b80357c"
      },
      "execution_count": 72,
      "outputs": [
        {
          "output_type": "display_data",
          "data": {
            "text/html": [
              "<html>\n",
              "<head><meta charset=\"utf-8\" /></head>\n",
              "<body>\n",
              "    <div>            <script src=\"https://cdnjs.cloudflare.com/ajax/libs/mathjax/2.7.5/MathJax.js?config=TeX-AMS-MML_SVG\"></script><script type=\"text/javascript\">if (window.MathJax && window.MathJax.Hub && window.MathJax.Hub.Config) {window.MathJax.Hub.Config({SVG: {font: \"STIX-Web\"}});}</script>                <script type=\"text/javascript\">window.PlotlyConfig = {MathJaxConfig: 'local'};</script>\n",
              "        <script charset=\"utf-8\" src=\"https://cdn.plot.ly/plotly-2.24.1.min.js\"></script>                <div id=\"52ef984f-28ee-4386-ad5e-2f07c65f8d09\" class=\"plotly-graph-div\" style=\"height:525px; width:100%;\"></div>            <script type=\"text/javascript\">                                    window.PLOTLYENV=window.PLOTLYENV || {};                                    if (document.getElementById(\"52ef984f-28ee-4386-ad5e-2f07c65f8d09\")) {                    Plotly.newPlot(                        \"52ef984f-28ee-4386-ad5e-2f07c65f8d09\",                        [{\"marker\":{\"color\":\"#4B9AC7\"},\"mode\":\"lines\",\"name\":\"Training accuracy\",\"y\":[0.8731391429901123,0.9058252573013306,0.9676375389099121,0.9825242757797241,0.9870550036430359,0.9915857315063477,0.992556631565094,0.9935275316238403,0.9941747784614563,0.9957928657531738,0.9974110126495361,0.9977346062660217,0.9987055063247681,0.9987055063247681,0.999352753162384,0.999352753162384,0.9990290999412537,0.9996763467788696,0.999352753162384,0.9996763467788696,0.9996763467788696,0.9996763467788696,0.9996763467788696,0.9996763467788696],\"type\":\"scatter\"},{\"marker\":{\"color\":\"#4BE8E0\"},\"mode\":\"lines\",\"name\":\"Validation accuracy\",\"y\":[0.8737863898277283,0.955339789390564,0.9796116352081299,0.984466016292572,0.9747572541236877,0.9815533757209778,0.9815533757209778,0.9796116352081299,0.977669894695282,0.9796116352081299,0.9786407947540283,0.9757281541824341,0.9766990542411804,0.9786407947540283,0.9747572541236877,0.9757281541824341,0.9786407947540283,0.9757281541824341,0.9747572541236877,0.9757281541824341,0.9699029326438904,0.9766990542411804,0.9747572541236877,0.9747572541236877],\"type\":\"scatter\"}],                        {\"template\":{\"data\":{\"histogram2dcontour\":[{\"type\":\"histogram2dcontour\",\"colorbar\":{\"outlinewidth\":0,\"ticks\":\"\"},\"colorscale\":[[0.0,\"#0d0887\"],[0.1111111111111111,\"#46039f\"],[0.2222222222222222,\"#7201a8\"],[0.3333333333333333,\"#9c179e\"],[0.4444444444444444,\"#bd3786\"],[0.5555555555555556,\"#d8576b\"],[0.6666666666666666,\"#ed7953\"],[0.7777777777777778,\"#fb9f3a\"],[0.8888888888888888,\"#fdca26\"],[1.0,\"#f0f921\"]]}],\"choropleth\":[{\"type\":\"choropleth\",\"colorbar\":{\"outlinewidth\":0,\"ticks\":\"\"}}],\"histogram2d\":[{\"type\":\"histogram2d\",\"colorbar\":{\"outlinewidth\":0,\"ticks\":\"\"},\"colorscale\":[[0.0,\"#0d0887\"],[0.1111111111111111,\"#46039f\"],[0.2222222222222222,\"#7201a8\"],[0.3333333333333333,\"#9c179e\"],[0.4444444444444444,\"#bd3786\"],[0.5555555555555556,\"#d8576b\"],[0.6666666666666666,\"#ed7953\"],[0.7777777777777778,\"#fb9f3a\"],[0.8888888888888888,\"#fdca26\"],[1.0,\"#f0f921\"]]}],\"heatmap\":[{\"type\":\"heatmap\",\"colorbar\":{\"outlinewidth\":0,\"ticks\":\"\"},\"colorscale\":[[0.0,\"#0d0887\"],[0.1111111111111111,\"#46039f\"],[0.2222222222222222,\"#7201a8\"],[0.3333333333333333,\"#9c179e\"],[0.4444444444444444,\"#bd3786\"],[0.5555555555555556,\"#d8576b\"],[0.6666666666666666,\"#ed7953\"],[0.7777777777777778,\"#fb9f3a\"],[0.8888888888888888,\"#fdca26\"],[1.0,\"#f0f921\"]]}],\"heatmapgl\":[{\"type\":\"heatmapgl\",\"colorbar\":{\"outlinewidth\":0,\"ticks\":\"\"},\"colorscale\":[[0.0,\"#0d0887\"],[0.1111111111111111,\"#46039f\"],[0.2222222222222222,\"#7201a8\"],[0.3333333333333333,\"#9c179e\"],[0.4444444444444444,\"#bd3786\"],[0.5555555555555556,\"#d8576b\"],[0.6666666666666666,\"#ed7953\"],[0.7777777777777778,\"#fb9f3a\"],[0.8888888888888888,\"#fdca26\"],[1.0,\"#f0f921\"]]}],\"contourcarpet\":[{\"type\":\"contourcarpet\",\"colorbar\":{\"outlinewidth\":0,\"ticks\":\"\"}}],\"contour\":[{\"type\":\"contour\",\"colorbar\":{\"outlinewidth\":0,\"ticks\":\"\"},\"colorscale\":[[0.0,\"#0d0887\"],[0.1111111111111111,\"#46039f\"],[0.2222222222222222,\"#7201a8\"],[0.3333333333333333,\"#9c179e\"],[0.4444444444444444,\"#bd3786\"],[0.5555555555555556,\"#d8576b\"],[0.6666666666666666,\"#ed7953\"],[0.7777777777777778,\"#fb9f3a\"],[0.8888888888888888,\"#fdca26\"],[1.0,\"#f0f921\"]]}],\"surface\":[{\"type\":\"surface\",\"colorbar\":{\"outlinewidth\":0,\"ticks\":\"\"},\"colorscale\":[[0.0,\"#0d0887\"],[0.1111111111111111,\"#46039f\"],[0.2222222222222222,\"#7201a8\"],[0.3333333333333333,\"#9c179e\"],[0.4444444444444444,\"#bd3786\"],[0.5555555555555556,\"#d8576b\"],[0.6666666666666666,\"#ed7953\"],[0.7777777777777778,\"#fb9f3a\"],[0.8888888888888888,\"#fdca26\"],[1.0,\"#f0f921\"]]}],\"mesh3d\":[{\"type\":\"mesh3d\",\"colorbar\":{\"outlinewidth\":0,\"ticks\":\"\"}}],\"scatter\":[{\"fillpattern\":{\"fillmode\":\"overlay\",\"size\":10,\"solidity\":0.2},\"type\":\"scatter\"}],\"parcoords\":[{\"type\":\"parcoords\",\"line\":{\"colorbar\":{\"outlinewidth\":0,\"ticks\":\"\"}}}],\"scatterpolargl\":[{\"type\":\"scatterpolargl\",\"marker\":{\"colorbar\":{\"outlinewidth\":0,\"ticks\":\"\"}}}],\"bar\":[{\"error_x\":{\"color\":\"#2a3f5f\"},\"error_y\":{\"color\":\"#2a3f5f\"},\"marker\":{\"line\":{\"color\":\"#E5ECF6\",\"width\":0.5},\"pattern\":{\"fillmode\":\"overlay\",\"size\":10,\"solidity\":0.2}},\"type\":\"bar\"}],\"scattergeo\":[{\"type\":\"scattergeo\",\"marker\":{\"colorbar\":{\"outlinewidth\":0,\"ticks\":\"\"}}}],\"scatterpolar\":[{\"type\":\"scatterpolar\",\"marker\":{\"colorbar\":{\"outlinewidth\":0,\"ticks\":\"\"}}}],\"histogram\":[{\"marker\":{\"pattern\":{\"fillmode\":\"overlay\",\"size\":10,\"solidity\":0.2}},\"type\":\"histogram\"}],\"scattergl\":[{\"type\":\"scattergl\",\"marker\":{\"colorbar\":{\"outlinewidth\":0,\"ticks\":\"\"}}}],\"scatter3d\":[{\"type\":\"scatter3d\",\"line\":{\"colorbar\":{\"outlinewidth\":0,\"ticks\":\"\"}},\"marker\":{\"colorbar\":{\"outlinewidth\":0,\"ticks\":\"\"}}}],\"scattermapbox\":[{\"type\":\"scattermapbox\",\"marker\":{\"colorbar\":{\"outlinewidth\":0,\"ticks\":\"\"}}}],\"scatterternary\":[{\"type\":\"scatterternary\",\"marker\":{\"colorbar\":{\"outlinewidth\":0,\"ticks\":\"\"}}}],\"scattercarpet\":[{\"type\":\"scattercarpet\",\"marker\":{\"colorbar\":{\"outlinewidth\":0,\"ticks\":\"\"}}}],\"carpet\":[{\"aaxis\":{\"endlinecolor\":\"#2a3f5f\",\"gridcolor\":\"white\",\"linecolor\":\"white\",\"minorgridcolor\":\"white\",\"startlinecolor\":\"#2a3f5f\"},\"baxis\":{\"endlinecolor\":\"#2a3f5f\",\"gridcolor\":\"white\",\"linecolor\":\"white\",\"minorgridcolor\":\"white\",\"startlinecolor\":\"#2a3f5f\"},\"type\":\"carpet\"}],\"table\":[{\"cells\":{\"fill\":{\"color\":\"#EBF0F8\"},\"line\":{\"color\":\"white\"}},\"header\":{\"fill\":{\"color\":\"#C8D4E3\"},\"line\":{\"color\":\"white\"}},\"type\":\"table\"}],\"barpolar\":[{\"marker\":{\"line\":{\"color\":\"#E5ECF6\",\"width\":0.5},\"pattern\":{\"fillmode\":\"overlay\",\"size\":10,\"solidity\":0.2}},\"type\":\"barpolar\"}],\"pie\":[{\"automargin\":true,\"type\":\"pie\"}]},\"layout\":{\"autotypenumbers\":\"strict\",\"colorway\":[\"#636efa\",\"#EF553B\",\"#00cc96\",\"#ab63fa\",\"#FFA15A\",\"#19d3f3\",\"#FF6692\",\"#B6E880\",\"#FF97FF\",\"#FECB52\"],\"font\":{\"color\":\"#2a3f5f\"},\"hovermode\":\"closest\",\"hoverlabel\":{\"align\":\"left\"},\"paper_bgcolor\":\"white\",\"plot_bgcolor\":\"#E5ECF6\",\"polar\":{\"bgcolor\":\"#E5ECF6\",\"angularaxis\":{\"gridcolor\":\"white\",\"linecolor\":\"white\",\"ticks\":\"\"},\"radialaxis\":{\"gridcolor\":\"white\",\"linecolor\":\"white\",\"ticks\":\"\"}},\"ternary\":{\"bgcolor\":\"#E5ECF6\",\"aaxis\":{\"gridcolor\":\"white\",\"linecolor\":\"white\",\"ticks\":\"\"},\"baxis\":{\"gridcolor\":\"white\",\"linecolor\":\"white\",\"ticks\":\"\"},\"caxis\":{\"gridcolor\":\"white\",\"linecolor\":\"white\",\"ticks\":\"\"}},\"coloraxis\":{\"colorbar\":{\"outlinewidth\":0,\"ticks\":\"\"}},\"colorscale\":{\"sequential\":[[0.0,\"#0d0887\"],[0.1111111111111111,\"#46039f\"],[0.2222222222222222,\"#7201a8\"],[0.3333333333333333,\"#9c179e\"],[0.4444444444444444,\"#bd3786\"],[0.5555555555555556,\"#d8576b\"],[0.6666666666666666,\"#ed7953\"],[0.7777777777777778,\"#fb9f3a\"],[0.8888888888888888,\"#fdca26\"],[1.0,\"#f0f921\"]],\"sequentialminus\":[[0.0,\"#0d0887\"],[0.1111111111111111,\"#46039f\"],[0.2222222222222222,\"#7201a8\"],[0.3333333333333333,\"#9c179e\"],[0.4444444444444444,\"#bd3786\"],[0.5555555555555556,\"#d8576b\"],[0.6666666666666666,\"#ed7953\"],[0.7777777777777778,\"#fb9f3a\"],[0.8888888888888888,\"#fdca26\"],[1.0,\"#f0f921\"]],\"diverging\":[[0,\"#8e0152\"],[0.1,\"#c51b7d\"],[0.2,\"#de77ae\"],[0.3,\"#f1b6da\"],[0.4,\"#fde0ef\"],[0.5,\"#f7f7f7\"],[0.6,\"#e6f5d0\"],[0.7,\"#b8e186\"],[0.8,\"#7fbc41\"],[0.9,\"#4d9221\"],[1,\"#276419\"]]},\"xaxis\":{\"gridcolor\":\"white\",\"linecolor\":\"white\",\"ticks\":\"\",\"title\":{\"standoff\":15},\"zerolinecolor\":\"white\",\"automargin\":true,\"zerolinewidth\":2},\"yaxis\":{\"gridcolor\":\"white\",\"linecolor\":\"white\",\"ticks\":\"\",\"title\":{\"standoff\":15},\"zerolinecolor\":\"white\",\"automargin\":true,\"zerolinewidth\":2},\"scene\":{\"xaxis\":{\"backgroundcolor\":\"#E5ECF6\",\"gridcolor\":\"white\",\"linecolor\":\"white\",\"showbackground\":true,\"ticks\":\"\",\"zerolinecolor\":\"white\",\"gridwidth\":2},\"yaxis\":{\"backgroundcolor\":\"#E5ECF6\",\"gridcolor\":\"white\",\"linecolor\":\"white\",\"showbackground\":true,\"ticks\":\"\",\"zerolinecolor\":\"white\",\"gridwidth\":2},\"zaxis\":{\"backgroundcolor\":\"#E5ECF6\",\"gridcolor\":\"white\",\"linecolor\":\"white\",\"showbackground\":true,\"ticks\":\"\",\"zerolinecolor\":\"white\",\"gridwidth\":2}},\"shapedefaults\":{\"line\":{\"color\":\"#2a3f5f\"}},\"annotationdefaults\":{\"arrowcolor\":\"#2a3f5f\",\"arrowhead\":0,\"arrowwidth\":1},\"geo\":{\"bgcolor\":\"white\",\"landcolor\":\"#E5ECF6\",\"subunitcolor\":\"white\",\"showland\":true,\"showlakes\":true,\"lakecolor\":\"white\"},\"title\":{\"x\":0.05},\"mapbox\":{\"style\":\"light\"}}},\"title\":{\"text\":\"Training and val accuracy across epochs\"},\"xaxis\":{\"title\":{\"text\":\"epochs\"}},\"yaxis\":{\"title\":{\"text\":\"Accuracy\"}}},                        {\"responsive\": true}                    ).then(function(){\n",
              "                            \n",
              "var gd = document.getElementById('52ef984f-28ee-4386-ad5e-2f07c65f8d09');\n",
              "var x = new MutationObserver(function (mutations, observer) {{\n",
              "        var display = window.getComputedStyle(gd).display;\n",
              "        if (!display || display === 'none') {{\n",
              "            console.log([gd, 'removed!']);\n",
              "            Plotly.purge(gd);\n",
              "            observer.disconnect();\n",
              "        }}\n",
              "}});\n",
              "\n",
              "// Listen for the removal of the full notebook cells\n",
              "var notebookContainer = gd.closest('#notebook-container');\n",
              "if (notebookContainer) {{\n",
              "    x.observe(notebookContainer, {childList: true});\n",
              "}}\n",
              "\n",
              "// Listen for the clearing of the current output cell\n",
              "var outputEl = gd.closest('.output');\n",
              "if (outputEl) {{\n",
              "    x.observe(outputEl, {childList: true});\n",
              "}}\n",
              "\n",
              "                        })                };                            </script>        </div>\n",
              "</body>\n",
              "</html>"
            ]
          },
          "metadata": {}
        }
      ]
    },
    {
      "cell_type": "markdown",
      "source": [
        "Interestingly, this model trains much faster and in a much smoother way than our original one. However, it has e tendancy to overfit rather quickly (around epoch 5). To alleviate this, we'll add a Dropout layer to our neural network architecture."
      ],
      "metadata": {
        "id": "DypX_xlCkdaG"
      }
    },
    {
      "cell_type": "code",
      "source": [
        "model4 = Sequential([\n",
        "  Embedding(\n",
        "      input_dim = vocab_size,\n",
        "      output_dim = embedding_dim,\n",
        "      name = \"embedding\"), # the embedding layer\n",
        "  Bidirectional(LSTM(32)),\n",
        "  Dense(16, activation='relu'), # a dense layer\n",
        "  Dropout(0.2),\n",
        "  Dense(1, activation=\"sigmoid\") # the prediction layer\n",
        "])\n",
        "\n",
        "model4.summary()"
      ],
      "metadata": {
        "colab": {
          "base_uri": "https://localhost:8080/"
        },
        "id": "2lRyenMklEZs",
        "outputId": "e03386d8-b218-4808-b0e7-ecdc727ba99b"
      },
      "execution_count": 73,
      "outputs": [
        {
          "output_type": "stream",
          "name": "stdout",
          "text": [
            "Model: \"sequential_3\"\n",
            "_________________________________________________________________\n",
            " Layer (type)                Output Shape              Param #   \n",
            "=================================================================\n",
            " embedding (Embedding)       (None, None, 16)          16016     \n",
            "                                                                 \n",
            " bidirectional_1 (Bidirecti  (None, 64)                12544     \n",
            " onal)                                                           \n",
            "                                                                 \n",
            " dense_6 (Dense)             (None, 16)                1040      \n",
            "                                                                 \n",
            " dropout (Dropout)           (None, 16)                0         \n",
            "                                                                 \n",
            " dense_7 (Dense)             (None, 1)                 17        \n",
            "                                                                 \n",
            "=================================================================\n",
            "Total params: 29617 (115.69 KB)\n",
            "Trainable params: 29617 (115.69 KB)\n",
            "Non-trainable params: 0 (0.00 Byte)\n",
            "_________________________________________________________________\n"
          ]
        }
      ]
    },
    {
      "cell_type": "code",
      "source": [
        "model4.compile(loss = tf.keras.losses.BinaryCrossentropy(from_logits = True), # from_logits = True to interpret y_pred as a tensor of logit values and not a probability\n",
        "              metrics = ['accuracy'],\n",
        "              optimizer = 'adam')"
      ],
      "metadata": {
        "id": "wSgtaMvflTpy"
      },
      "execution_count": 74,
      "outputs": []
    },
    {
      "cell_type": "code",
      "source": [
        "history = model4.fit(train_batch,\n",
        "                    epochs = 20,\n",
        "                    callbacks = [lr, es],\n",
        "                    validation_data = val_batch\n",
        "                   )"
      ],
      "metadata": {
        "colab": {
          "base_uri": "https://localhost:8080/"
        },
        "id": "M4e4XwMZlVfV",
        "outputId": "234aada0-b408-4fca-a558-ba0817fbdddb"
      },
      "execution_count": 75,
      "outputs": [
        {
          "output_type": "stream",
          "name": "stdout",
          "text": [
            "Epoch 1/20\n",
            "49/49 [==============================] - 20s 280ms/step - loss: 0.5152 - accuracy: 0.8621 - val_loss: 0.3607 - val_accuracy: 0.8738 - lr: 0.0010\n",
            "Epoch 2/20\n",
            "49/49 [==============================] - 4s 82ms/step - loss: 0.3550 - accuracy: 0.8738 - val_loss: 0.2364 - val_accuracy: 0.8738 - lr: 0.0010\n",
            "Epoch 3/20\n",
            "49/49 [==============================] - 3s 66ms/step - loss: 0.2295 - accuracy: 0.9204 - val_loss: 0.1308 - val_accuracy: 0.9689 - lr: 0.0010\n",
            "Epoch 4/20\n",
            "49/49 [==============================] - 4s 73ms/step - loss: 0.1451 - accuracy: 0.9654 - val_loss: 0.0865 - val_accuracy: 0.9748 - lr: 0.0010\n",
            "Epoch 5/20\n",
            "49/49 [==============================] - 3s 67ms/step - loss: 0.0968 - accuracy: 0.9761 - val_loss: 0.0768 - val_accuracy: 0.9748 - lr: 0.0010\n",
            "Epoch 6/20\n",
            "49/49 [==============================] - 5s 105ms/step - loss: 0.0840 - accuracy: 0.9780 - val_loss: 0.0830 - val_accuracy: 0.9767 - lr: 0.0010\n",
            "Epoch 7/20\n",
            "49/49 [==============================] - 3s 68ms/step - loss: 0.0797 - accuracy: 0.9790 - val_loss: 0.0784 - val_accuracy: 0.9738 - lr: 0.0010\n",
            "Epoch 8/20\n",
            "49/49 [==============================] - 3s 66ms/step - loss: 0.0706 - accuracy: 0.9851 - val_loss: 0.0745 - val_accuracy: 0.9796 - lr: 0.0010\n",
            "Epoch 9/20\n",
            "49/49 [==============================] - 3s 66ms/step - loss: 0.0555 - accuracy: 0.9880 - val_loss: 0.0799 - val_accuracy: 0.9767 - lr: 0.0010\n",
            "Epoch 10/20\n",
            "49/49 [==============================] - 5s 107ms/step - loss: 0.0541 - accuracy: 0.9851 - val_loss: 0.0810 - val_accuracy: 0.9777 - lr: 0.0010\n",
            "Epoch 11/20\n",
            "49/49 [==============================] - 3s 65ms/step - loss: 0.0489 - accuracy: 0.9883 - val_loss: 0.0914 - val_accuracy: 0.9748 - lr: 0.0010\n",
            "Epoch 12/20\n",
            "49/49 [==============================] - 3s 64ms/step - loss: 0.0514 - accuracy: 0.9874 - val_loss: 0.0746 - val_accuracy: 0.9806 - lr: 0.0010\n",
            "Epoch 13/20\n",
            "49/49 [==============================] - 3s 66ms/step - loss: 0.0426 - accuracy: 0.9929 - val_loss: 0.0840 - val_accuracy: 0.9786 - lr: 0.0010\n",
            "Epoch 14/20\n",
            "49/49 [==============================] - 5s 110ms/step - loss: 0.0462 - accuracy: 0.9883 - val_loss: 0.0923 - val_accuracy: 0.9786 - lr: 0.0010\n",
            "Epoch 15/20\n",
            "49/49 [==============================] - 3s 64ms/step - loss: 0.0403 - accuracy: 0.9932 - val_loss: 0.1038 - val_accuracy: 0.9728 - lr: 0.0010\n",
            "Epoch 16/20\n",
            "49/49 [==============================] - 3s 64ms/step - loss: 0.0355 - accuracy: 0.9926 - val_loss: 0.1132 - val_accuracy: 0.9796 - lr: 0.0010\n",
            "Epoch 17/20\n",
            "49/49 [==============================] - 4s 92ms/step - loss: 0.0444 - accuracy: 0.9883 - val_loss: 0.0984 - val_accuracy: 0.9738 - lr: 0.0010\n",
            "Epoch 18/20\n",
            "49/49 [==============================] - 4s 81ms/step - loss: 0.0400 - accuracy: 0.9913 - val_loss: 0.0933 - val_accuracy: 0.9796 - lr: 0.0010\n",
            "Epoch 19/20\n",
            "49/49 [==============================] - 3s 66ms/step - loss: 0.0337 - accuracy: 0.9932 - val_loss: 0.1038 - val_accuracy: 0.9786 - lr: 0.0010\n",
            "Epoch 20/20\n",
            "49/49 [==============================] - 5s 93ms/step - loss: 0.0296 - accuracy: 0.9929 - val_loss: 0.1192 - val_accuracy: 0.9748 - lr: 0.0010\n"
          ]
        }
      ]
    },
    {
      "cell_type": "code",
      "source": [
        "# Saving our model so we can load and re-use it :\n",
        "model4.save('/content/m4_bidirectional_LSTM_w_Dropout.h5')"
      ],
      "metadata": {
        "id": "T61Nk2p5mkOd"
      },
      "execution_count": 76,
      "outputs": []
    },
    {
      "cell_type": "code",
      "source": [
        "fig = go.Figure(data=[\n",
        "                      go.Scatter(\n",
        "                          y = model4.history.history[\"loss\"],\n",
        "                          name=\"Training loss\",\n",
        "                          mode=\"lines\",\n",
        "                          marker=dict(\n",
        "                              color=color_chart[0]\n",
        "                          )),\n",
        "                      go.Scatter(\n",
        "                          y = model4.history.history[\"val_loss\"],\n",
        "                          name=\"Validation loss\",\n",
        "                          mode=\"lines\",\n",
        "                          marker=dict(\n",
        "                              color=color_chart[1]\n",
        "                          ))\n",
        "])\n",
        "fig.update_layout(\n",
        "    title='Training and val loss across epochs',\n",
        "    xaxis_title='epochs',\n",
        "    yaxis_title='Binary Cross Entropy'\n",
        ")\n",
        "fig.show()"
      ],
      "metadata": {
        "colab": {
          "base_uri": "https://localhost:8080/",
          "height": 542
        },
        "id": "kOQUDQmolhdb",
        "outputId": "41936628-3540-4bf2-8bb9-a08f880b3d42"
      },
      "execution_count": 77,
      "outputs": [
        {
          "output_type": "display_data",
          "data": {
            "text/html": [
              "<html>\n",
              "<head><meta charset=\"utf-8\" /></head>\n",
              "<body>\n",
              "    <div>            <script src=\"https://cdnjs.cloudflare.com/ajax/libs/mathjax/2.7.5/MathJax.js?config=TeX-AMS-MML_SVG\"></script><script type=\"text/javascript\">if (window.MathJax && window.MathJax.Hub && window.MathJax.Hub.Config) {window.MathJax.Hub.Config({SVG: {font: \"STIX-Web\"}});}</script>                <script type=\"text/javascript\">window.PlotlyConfig = {MathJaxConfig: 'local'};</script>\n",
              "        <script charset=\"utf-8\" src=\"https://cdn.plot.ly/plotly-2.24.1.min.js\"></script>                <div id=\"3382b49a-3776-4342-a77e-90dee3f96e8d\" class=\"plotly-graph-div\" style=\"height:525px; width:100%;\"></div>            <script type=\"text/javascript\">                                    window.PLOTLYENV=window.PLOTLYENV || {};                                    if (document.getElementById(\"3382b49a-3776-4342-a77e-90dee3f96e8d\")) {                    Plotly.newPlot(                        \"3382b49a-3776-4342-a77e-90dee3f96e8d\",                        [{\"marker\":{\"color\":\"#4B9AC7\"},\"mode\":\"lines\",\"name\":\"Training loss\",\"y\":[0.5152111053466797,0.35502558946609497,0.229473277926445,0.14506469666957855,0.09679551422595978,0.08398003876209259,0.07967958599328995,0.0706358253955841,0.055493030697107315,0.05414135381579399,0.04886087030172348,0.05138791352510452,0.04260346665978432,0.046201400458812714,0.04027014598250389,0.0354686975479126,0.04438631236553192,0.0400371253490448,0.03372777998447418,0.029600786045193672],\"type\":\"scatter\"},{\"marker\":{\"color\":\"#4BE8E0\"},\"mode\":\"lines\",\"name\":\"Validation loss\",\"y\":[0.3606663644313812,0.23644249141216278,0.13084901869297028,0.08649212121963501,0.07679625600576401,0.08302205801010132,0.07841605693101883,0.0745268166065216,0.0799088329076767,0.0810079276561737,0.09139028936624527,0.07463521510362625,0.08397261053323746,0.09226785600185394,0.10379443317651749,0.113200843334198,0.09839897602796555,0.09329123049974442,0.10384747385978699,0.11920265853404999],\"type\":\"scatter\"}],                        {\"template\":{\"data\":{\"histogram2dcontour\":[{\"type\":\"histogram2dcontour\",\"colorbar\":{\"outlinewidth\":0,\"ticks\":\"\"},\"colorscale\":[[0.0,\"#0d0887\"],[0.1111111111111111,\"#46039f\"],[0.2222222222222222,\"#7201a8\"],[0.3333333333333333,\"#9c179e\"],[0.4444444444444444,\"#bd3786\"],[0.5555555555555556,\"#d8576b\"],[0.6666666666666666,\"#ed7953\"],[0.7777777777777778,\"#fb9f3a\"],[0.8888888888888888,\"#fdca26\"],[1.0,\"#f0f921\"]]}],\"choropleth\":[{\"type\":\"choropleth\",\"colorbar\":{\"outlinewidth\":0,\"ticks\":\"\"}}],\"histogram2d\":[{\"type\":\"histogram2d\",\"colorbar\":{\"outlinewidth\":0,\"ticks\":\"\"},\"colorscale\":[[0.0,\"#0d0887\"],[0.1111111111111111,\"#46039f\"],[0.2222222222222222,\"#7201a8\"],[0.3333333333333333,\"#9c179e\"],[0.4444444444444444,\"#bd3786\"],[0.5555555555555556,\"#d8576b\"],[0.6666666666666666,\"#ed7953\"],[0.7777777777777778,\"#fb9f3a\"],[0.8888888888888888,\"#fdca26\"],[1.0,\"#f0f921\"]]}],\"heatmap\":[{\"type\":\"heatmap\",\"colorbar\":{\"outlinewidth\":0,\"ticks\":\"\"},\"colorscale\":[[0.0,\"#0d0887\"],[0.1111111111111111,\"#46039f\"],[0.2222222222222222,\"#7201a8\"],[0.3333333333333333,\"#9c179e\"],[0.4444444444444444,\"#bd3786\"],[0.5555555555555556,\"#d8576b\"],[0.6666666666666666,\"#ed7953\"],[0.7777777777777778,\"#fb9f3a\"],[0.8888888888888888,\"#fdca26\"],[1.0,\"#f0f921\"]]}],\"heatmapgl\":[{\"type\":\"heatmapgl\",\"colorbar\":{\"outlinewidth\":0,\"ticks\":\"\"},\"colorscale\":[[0.0,\"#0d0887\"],[0.1111111111111111,\"#46039f\"],[0.2222222222222222,\"#7201a8\"],[0.3333333333333333,\"#9c179e\"],[0.4444444444444444,\"#bd3786\"],[0.5555555555555556,\"#d8576b\"],[0.6666666666666666,\"#ed7953\"],[0.7777777777777778,\"#fb9f3a\"],[0.8888888888888888,\"#fdca26\"],[1.0,\"#f0f921\"]]}],\"contourcarpet\":[{\"type\":\"contourcarpet\",\"colorbar\":{\"outlinewidth\":0,\"ticks\":\"\"}}],\"contour\":[{\"type\":\"contour\",\"colorbar\":{\"outlinewidth\":0,\"ticks\":\"\"},\"colorscale\":[[0.0,\"#0d0887\"],[0.1111111111111111,\"#46039f\"],[0.2222222222222222,\"#7201a8\"],[0.3333333333333333,\"#9c179e\"],[0.4444444444444444,\"#bd3786\"],[0.5555555555555556,\"#d8576b\"],[0.6666666666666666,\"#ed7953\"],[0.7777777777777778,\"#fb9f3a\"],[0.8888888888888888,\"#fdca26\"],[1.0,\"#f0f921\"]]}],\"surface\":[{\"type\":\"surface\",\"colorbar\":{\"outlinewidth\":0,\"ticks\":\"\"},\"colorscale\":[[0.0,\"#0d0887\"],[0.1111111111111111,\"#46039f\"],[0.2222222222222222,\"#7201a8\"],[0.3333333333333333,\"#9c179e\"],[0.4444444444444444,\"#bd3786\"],[0.5555555555555556,\"#d8576b\"],[0.6666666666666666,\"#ed7953\"],[0.7777777777777778,\"#fb9f3a\"],[0.8888888888888888,\"#fdca26\"],[1.0,\"#f0f921\"]]}],\"mesh3d\":[{\"type\":\"mesh3d\",\"colorbar\":{\"outlinewidth\":0,\"ticks\":\"\"}}],\"scatter\":[{\"fillpattern\":{\"fillmode\":\"overlay\",\"size\":10,\"solidity\":0.2},\"type\":\"scatter\"}],\"parcoords\":[{\"type\":\"parcoords\",\"line\":{\"colorbar\":{\"outlinewidth\":0,\"ticks\":\"\"}}}],\"scatterpolargl\":[{\"type\":\"scatterpolargl\",\"marker\":{\"colorbar\":{\"outlinewidth\":0,\"ticks\":\"\"}}}],\"bar\":[{\"error_x\":{\"color\":\"#2a3f5f\"},\"error_y\":{\"color\":\"#2a3f5f\"},\"marker\":{\"line\":{\"color\":\"#E5ECF6\",\"width\":0.5},\"pattern\":{\"fillmode\":\"overlay\",\"size\":10,\"solidity\":0.2}},\"type\":\"bar\"}],\"scattergeo\":[{\"type\":\"scattergeo\",\"marker\":{\"colorbar\":{\"outlinewidth\":0,\"ticks\":\"\"}}}],\"scatterpolar\":[{\"type\":\"scatterpolar\",\"marker\":{\"colorbar\":{\"outlinewidth\":0,\"ticks\":\"\"}}}],\"histogram\":[{\"marker\":{\"pattern\":{\"fillmode\":\"overlay\",\"size\":10,\"solidity\":0.2}},\"type\":\"histogram\"}],\"scattergl\":[{\"type\":\"scattergl\",\"marker\":{\"colorbar\":{\"outlinewidth\":0,\"ticks\":\"\"}}}],\"scatter3d\":[{\"type\":\"scatter3d\",\"line\":{\"colorbar\":{\"outlinewidth\":0,\"ticks\":\"\"}},\"marker\":{\"colorbar\":{\"outlinewidth\":0,\"ticks\":\"\"}}}],\"scattermapbox\":[{\"type\":\"scattermapbox\",\"marker\":{\"colorbar\":{\"outlinewidth\":0,\"ticks\":\"\"}}}],\"scatterternary\":[{\"type\":\"scatterternary\",\"marker\":{\"colorbar\":{\"outlinewidth\":0,\"ticks\":\"\"}}}],\"scattercarpet\":[{\"type\":\"scattercarpet\",\"marker\":{\"colorbar\":{\"outlinewidth\":0,\"ticks\":\"\"}}}],\"carpet\":[{\"aaxis\":{\"endlinecolor\":\"#2a3f5f\",\"gridcolor\":\"white\",\"linecolor\":\"white\",\"minorgridcolor\":\"white\",\"startlinecolor\":\"#2a3f5f\"},\"baxis\":{\"endlinecolor\":\"#2a3f5f\",\"gridcolor\":\"white\",\"linecolor\":\"white\",\"minorgridcolor\":\"white\",\"startlinecolor\":\"#2a3f5f\"},\"type\":\"carpet\"}],\"table\":[{\"cells\":{\"fill\":{\"color\":\"#EBF0F8\"},\"line\":{\"color\":\"white\"}},\"header\":{\"fill\":{\"color\":\"#C8D4E3\"},\"line\":{\"color\":\"white\"}},\"type\":\"table\"}],\"barpolar\":[{\"marker\":{\"line\":{\"color\":\"#E5ECF6\",\"width\":0.5},\"pattern\":{\"fillmode\":\"overlay\",\"size\":10,\"solidity\":0.2}},\"type\":\"barpolar\"}],\"pie\":[{\"automargin\":true,\"type\":\"pie\"}]},\"layout\":{\"autotypenumbers\":\"strict\",\"colorway\":[\"#636efa\",\"#EF553B\",\"#00cc96\",\"#ab63fa\",\"#FFA15A\",\"#19d3f3\",\"#FF6692\",\"#B6E880\",\"#FF97FF\",\"#FECB52\"],\"font\":{\"color\":\"#2a3f5f\"},\"hovermode\":\"closest\",\"hoverlabel\":{\"align\":\"left\"},\"paper_bgcolor\":\"white\",\"plot_bgcolor\":\"#E5ECF6\",\"polar\":{\"bgcolor\":\"#E5ECF6\",\"angularaxis\":{\"gridcolor\":\"white\",\"linecolor\":\"white\",\"ticks\":\"\"},\"radialaxis\":{\"gridcolor\":\"white\",\"linecolor\":\"white\",\"ticks\":\"\"}},\"ternary\":{\"bgcolor\":\"#E5ECF6\",\"aaxis\":{\"gridcolor\":\"white\",\"linecolor\":\"white\",\"ticks\":\"\"},\"baxis\":{\"gridcolor\":\"white\",\"linecolor\":\"white\",\"ticks\":\"\"},\"caxis\":{\"gridcolor\":\"white\",\"linecolor\":\"white\",\"ticks\":\"\"}},\"coloraxis\":{\"colorbar\":{\"outlinewidth\":0,\"ticks\":\"\"}},\"colorscale\":{\"sequential\":[[0.0,\"#0d0887\"],[0.1111111111111111,\"#46039f\"],[0.2222222222222222,\"#7201a8\"],[0.3333333333333333,\"#9c179e\"],[0.4444444444444444,\"#bd3786\"],[0.5555555555555556,\"#d8576b\"],[0.6666666666666666,\"#ed7953\"],[0.7777777777777778,\"#fb9f3a\"],[0.8888888888888888,\"#fdca26\"],[1.0,\"#f0f921\"]],\"sequentialminus\":[[0.0,\"#0d0887\"],[0.1111111111111111,\"#46039f\"],[0.2222222222222222,\"#7201a8\"],[0.3333333333333333,\"#9c179e\"],[0.4444444444444444,\"#bd3786\"],[0.5555555555555556,\"#d8576b\"],[0.6666666666666666,\"#ed7953\"],[0.7777777777777778,\"#fb9f3a\"],[0.8888888888888888,\"#fdca26\"],[1.0,\"#f0f921\"]],\"diverging\":[[0,\"#8e0152\"],[0.1,\"#c51b7d\"],[0.2,\"#de77ae\"],[0.3,\"#f1b6da\"],[0.4,\"#fde0ef\"],[0.5,\"#f7f7f7\"],[0.6,\"#e6f5d0\"],[0.7,\"#b8e186\"],[0.8,\"#7fbc41\"],[0.9,\"#4d9221\"],[1,\"#276419\"]]},\"xaxis\":{\"gridcolor\":\"white\",\"linecolor\":\"white\",\"ticks\":\"\",\"title\":{\"standoff\":15},\"zerolinecolor\":\"white\",\"automargin\":true,\"zerolinewidth\":2},\"yaxis\":{\"gridcolor\":\"white\",\"linecolor\":\"white\",\"ticks\":\"\",\"title\":{\"standoff\":15},\"zerolinecolor\":\"white\",\"automargin\":true,\"zerolinewidth\":2},\"scene\":{\"xaxis\":{\"backgroundcolor\":\"#E5ECF6\",\"gridcolor\":\"white\",\"linecolor\":\"white\",\"showbackground\":true,\"ticks\":\"\",\"zerolinecolor\":\"white\",\"gridwidth\":2},\"yaxis\":{\"backgroundcolor\":\"#E5ECF6\",\"gridcolor\":\"white\",\"linecolor\":\"white\",\"showbackground\":true,\"ticks\":\"\",\"zerolinecolor\":\"white\",\"gridwidth\":2},\"zaxis\":{\"backgroundcolor\":\"#E5ECF6\",\"gridcolor\":\"white\",\"linecolor\":\"white\",\"showbackground\":true,\"ticks\":\"\",\"zerolinecolor\":\"white\",\"gridwidth\":2}},\"shapedefaults\":{\"line\":{\"color\":\"#2a3f5f\"}},\"annotationdefaults\":{\"arrowcolor\":\"#2a3f5f\",\"arrowhead\":0,\"arrowwidth\":1},\"geo\":{\"bgcolor\":\"white\",\"landcolor\":\"#E5ECF6\",\"subunitcolor\":\"white\",\"showland\":true,\"showlakes\":true,\"lakecolor\":\"white\"},\"title\":{\"x\":0.05},\"mapbox\":{\"style\":\"light\"}}},\"title\":{\"text\":\"Training and val loss across epochs\"},\"xaxis\":{\"title\":{\"text\":\"epochs\"}},\"yaxis\":{\"title\":{\"text\":\"Binary Cross Entropy\"}}},                        {\"responsive\": true}                    ).then(function(){\n",
              "                            \n",
              "var gd = document.getElementById('3382b49a-3776-4342-a77e-90dee3f96e8d');\n",
              "var x = new MutationObserver(function (mutations, observer) {{\n",
              "        var display = window.getComputedStyle(gd).display;\n",
              "        if (!display || display === 'none') {{\n",
              "            console.log([gd, 'removed!']);\n",
              "            Plotly.purge(gd);\n",
              "            observer.disconnect();\n",
              "        }}\n",
              "}});\n",
              "\n",
              "// Listen for the removal of the full notebook cells\n",
              "var notebookContainer = gd.closest('#notebook-container');\n",
              "if (notebookContainer) {{\n",
              "    x.observe(notebookContainer, {childList: true});\n",
              "}}\n",
              "\n",
              "// Listen for the clearing of the current output cell\n",
              "var outputEl = gd.closest('.output');\n",
              "if (outputEl) {{\n",
              "    x.observe(outputEl, {childList: true});\n",
              "}}\n",
              "\n",
              "                        })                };                            </script>        </div>\n",
              "</body>\n",
              "</html>"
            ]
          },
          "metadata": {}
        }
      ]
    },
    {
      "cell_type": "code",
      "source": [
        "fig = go.Figure(data=[\n",
        "                      go.Scatter(\n",
        "                          y=model4.history.history[\"accuracy\"],\n",
        "                          name=\"Training accuracy\",\n",
        "                          mode=\"lines\",\n",
        "                          marker=dict(\n",
        "                              color=color_chart[0]\n",
        "                          )),\n",
        "                      go.Scatter(\n",
        "                          y=model3.history.history[\"val_accuracy\"],\n",
        "                          name=\"Validation accuracy\",\n",
        "                          mode=\"lines\",\n",
        "                          marker=dict(\n",
        "                              color=color_chart[1]\n",
        "                          ))\n",
        "])\n",
        "fig.update_layout(\n",
        "    title='Training and val accuracy across epochs',\n",
        "    xaxis_title='epochs',\n",
        "    yaxis_title='Accuracy'\n",
        ")\n",
        "fig.show()"
      ],
      "metadata": {
        "colab": {
          "base_uri": "https://localhost:8080/",
          "height": 542
        },
        "id": "N7YEBW6hllsF",
        "outputId": "b6172a47-ffdc-456e-a9a2-e694b5f19fe2"
      },
      "execution_count": 78,
      "outputs": [
        {
          "output_type": "display_data",
          "data": {
            "text/html": [
              "<html>\n",
              "<head><meta charset=\"utf-8\" /></head>\n",
              "<body>\n",
              "    <div>            <script src=\"https://cdnjs.cloudflare.com/ajax/libs/mathjax/2.7.5/MathJax.js?config=TeX-AMS-MML_SVG\"></script><script type=\"text/javascript\">if (window.MathJax && window.MathJax.Hub && window.MathJax.Hub.Config) {window.MathJax.Hub.Config({SVG: {font: \"STIX-Web\"}});}</script>                <script type=\"text/javascript\">window.PlotlyConfig = {MathJaxConfig: 'local'};</script>\n",
              "        <script charset=\"utf-8\" src=\"https://cdn.plot.ly/plotly-2.24.1.min.js\"></script>                <div id=\"72803a45-fcfd-4e3f-a81c-c337b22c330c\" class=\"plotly-graph-div\" style=\"height:525px; width:100%;\"></div>            <script type=\"text/javascript\">                                    window.PLOTLYENV=window.PLOTLYENV || {};                                    if (document.getElementById(\"72803a45-fcfd-4e3f-a81c-c337b22c330c\")) {                    Plotly.newPlot(                        \"72803a45-fcfd-4e3f-a81c-c337b22c330c\",                        [{\"marker\":{\"color\":\"#4B9AC7\"},\"mode\":\"lines\",\"name\":\"Training accuracy\",\"y\":[0.8621359467506409,0.8737863898277283,0.9203883409500122,0.9653721451759338,0.9760518074035645,0.9779935479164124,0.9789643883705139,0.985113263130188,0.9880259037017822,0.985113263130188,0.9883494973182678,0.9873786568641663,0.9928802847862244,0.9883494973182678,0.99320387840271,0.992556631565094,0.9883494973182678,0.9912621378898621,0.99320387840271,0.9928802847862244],\"type\":\"scatter\"},{\"marker\":{\"color\":\"#4BE8E0\"},\"mode\":\"lines\",\"name\":\"Validation accuracy\",\"y\":[0.8737863898277283,0.955339789390564,0.9796116352081299,0.984466016292572,0.9747572541236877,0.9815533757209778,0.9815533757209778,0.9796116352081299,0.977669894695282,0.9796116352081299,0.9786407947540283,0.9757281541824341,0.9766990542411804,0.9786407947540283,0.9747572541236877,0.9757281541824341,0.9786407947540283,0.9757281541824341,0.9747572541236877,0.9757281541824341,0.9699029326438904,0.9766990542411804,0.9747572541236877,0.9747572541236877],\"type\":\"scatter\"}],                        {\"template\":{\"data\":{\"histogram2dcontour\":[{\"type\":\"histogram2dcontour\",\"colorbar\":{\"outlinewidth\":0,\"ticks\":\"\"},\"colorscale\":[[0.0,\"#0d0887\"],[0.1111111111111111,\"#46039f\"],[0.2222222222222222,\"#7201a8\"],[0.3333333333333333,\"#9c179e\"],[0.4444444444444444,\"#bd3786\"],[0.5555555555555556,\"#d8576b\"],[0.6666666666666666,\"#ed7953\"],[0.7777777777777778,\"#fb9f3a\"],[0.8888888888888888,\"#fdca26\"],[1.0,\"#f0f921\"]]}],\"choropleth\":[{\"type\":\"choropleth\",\"colorbar\":{\"outlinewidth\":0,\"ticks\":\"\"}}],\"histogram2d\":[{\"type\":\"histogram2d\",\"colorbar\":{\"outlinewidth\":0,\"ticks\":\"\"},\"colorscale\":[[0.0,\"#0d0887\"],[0.1111111111111111,\"#46039f\"],[0.2222222222222222,\"#7201a8\"],[0.3333333333333333,\"#9c179e\"],[0.4444444444444444,\"#bd3786\"],[0.5555555555555556,\"#d8576b\"],[0.6666666666666666,\"#ed7953\"],[0.7777777777777778,\"#fb9f3a\"],[0.8888888888888888,\"#fdca26\"],[1.0,\"#f0f921\"]]}],\"heatmap\":[{\"type\":\"heatmap\",\"colorbar\":{\"outlinewidth\":0,\"ticks\":\"\"},\"colorscale\":[[0.0,\"#0d0887\"],[0.1111111111111111,\"#46039f\"],[0.2222222222222222,\"#7201a8\"],[0.3333333333333333,\"#9c179e\"],[0.4444444444444444,\"#bd3786\"],[0.5555555555555556,\"#d8576b\"],[0.6666666666666666,\"#ed7953\"],[0.7777777777777778,\"#fb9f3a\"],[0.8888888888888888,\"#fdca26\"],[1.0,\"#f0f921\"]]}],\"heatmapgl\":[{\"type\":\"heatmapgl\",\"colorbar\":{\"outlinewidth\":0,\"ticks\":\"\"},\"colorscale\":[[0.0,\"#0d0887\"],[0.1111111111111111,\"#46039f\"],[0.2222222222222222,\"#7201a8\"],[0.3333333333333333,\"#9c179e\"],[0.4444444444444444,\"#bd3786\"],[0.5555555555555556,\"#d8576b\"],[0.6666666666666666,\"#ed7953\"],[0.7777777777777778,\"#fb9f3a\"],[0.8888888888888888,\"#fdca26\"],[1.0,\"#f0f921\"]]}],\"contourcarpet\":[{\"type\":\"contourcarpet\",\"colorbar\":{\"outlinewidth\":0,\"ticks\":\"\"}}],\"contour\":[{\"type\":\"contour\",\"colorbar\":{\"outlinewidth\":0,\"ticks\":\"\"},\"colorscale\":[[0.0,\"#0d0887\"],[0.1111111111111111,\"#46039f\"],[0.2222222222222222,\"#7201a8\"],[0.3333333333333333,\"#9c179e\"],[0.4444444444444444,\"#bd3786\"],[0.5555555555555556,\"#d8576b\"],[0.6666666666666666,\"#ed7953\"],[0.7777777777777778,\"#fb9f3a\"],[0.8888888888888888,\"#fdca26\"],[1.0,\"#f0f921\"]]}],\"surface\":[{\"type\":\"surface\",\"colorbar\":{\"outlinewidth\":0,\"ticks\":\"\"},\"colorscale\":[[0.0,\"#0d0887\"],[0.1111111111111111,\"#46039f\"],[0.2222222222222222,\"#7201a8\"],[0.3333333333333333,\"#9c179e\"],[0.4444444444444444,\"#bd3786\"],[0.5555555555555556,\"#d8576b\"],[0.6666666666666666,\"#ed7953\"],[0.7777777777777778,\"#fb9f3a\"],[0.8888888888888888,\"#fdca26\"],[1.0,\"#f0f921\"]]}],\"mesh3d\":[{\"type\":\"mesh3d\",\"colorbar\":{\"outlinewidth\":0,\"ticks\":\"\"}}],\"scatter\":[{\"fillpattern\":{\"fillmode\":\"overlay\",\"size\":10,\"solidity\":0.2},\"type\":\"scatter\"}],\"parcoords\":[{\"type\":\"parcoords\",\"line\":{\"colorbar\":{\"outlinewidth\":0,\"ticks\":\"\"}}}],\"scatterpolargl\":[{\"type\":\"scatterpolargl\",\"marker\":{\"colorbar\":{\"outlinewidth\":0,\"ticks\":\"\"}}}],\"bar\":[{\"error_x\":{\"color\":\"#2a3f5f\"},\"error_y\":{\"color\":\"#2a3f5f\"},\"marker\":{\"line\":{\"color\":\"#E5ECF6\",\"width\":0.5},\"pattern\":{\"fillmode\":\"overlay\",\"size\":10,\"solidity\":0.2}},\"type\":\"bar\"}],\"scattergeo\":[{\"type\":\"scattergeo\",\"marker\":{\"colorbar\":{\"outlinewidth\":0,\"ticks\":\"\"}}}],\"scatterpolar\":[{\"type\":\"scatterpolar\",\"marker\":{\"colorbar\":{\"outlinewidth\":0,\"ticks\":\"\"}}}],\"histogram\":[{\"marker\":{\"pattern\":{\"fillmode\":\"overlay\",\"size\":10,\"solidity\":0.2}},\"type\":\"histogram\"}],\"scattergl\":[{\"type\":\"scattergl\",\"marker\":{\"colorbar\":{\"outlinewidth\":0,\"ticks\":\"\"}}}],\"scatter3d\":[{\"type\":\"scatter3d\",\"line\":{\"colorbar\":{\"outlinewidth\":0,\"ticks\":\"\"}},\"marker\":{\"colorbar\":{\"outlinewidth\":0,\"ticks\":\"\"}}}],\"scattermapbox\":[{\"type\":\"scattermapbox\",\"marker\":{\"colorbar\":{\"outlinewidth\":0,\"ticks\":\"\"}}}],\"scatterternary\":[{\"type\":\"scatterternary\",\"marker\":{\"colorbar\":{\"outlinewidth\":0,\"ticks\":\"\"}}}],\"scattercarpet\":[{\"type\":\"scattercarpet\",\"marker\":{\"colorbar\":{\"outlinewidth\":0,\"ticks\":\"\"}}}],\"carpet\":[{\"aaxis\":{\"endlinecolor\":\"#2a3f5f\",\"gridcolor\":\"white\",\"linecolor\":\"white\",\"minorgridcolor\":\"white\",\"startlinecolor\":\"#2a3f5f\"},\"baxis\":{\"endlinecolor\":\"#2a3f5f\",\"gridcolor\":\"white\",\"linecolor\":\"white\",\"minorgridcolor\":\"white\",\"startlinecolor\":\"#2a3f5f\"},\"type\":\"carpet\"}],\"table\":[{\"cells\":{\"fill\":{\"color\":\"#EBF0F8\"},\"line\":{\"color\":\"white\"}},\"header\":{\"fill\":{\"color\":\"#C8D4E3\"},\"line\":{\"color\":\"white\"}},\"type\":\"table\"}],\"barpolar\":[{\"marker\":{\"line\":{\"color\":\"#E5ECF6\",\"width\":0.5},\"pattern\":{\"fillmode\":\"overlay\",\"size\":10,\"solidity\":0.2}},\"type\":\"barpolar\"}],\"pie\":[{\"automargin\":true,\"type\":\"pie\"}]},\"layout\":{\"autotypenumbers\":\"strict\",\"colorway\":[\"#636efa\",\"#EF553B\",\"#00cc96\",\"#ab63fa\",\"#FFA15A\",\"#19d3f3\",\"#FF6692\",\"#B6E880\",\"#FF97FF\",\"#FECB52\"],\"font\":{\"color\":\"#2a3f5f\"},\"hovermode\":\"closest\",\"hoverlabel\":{\"align\":\"left\"},\"paper_bgcolor\":\"white\",\"plot_bgcolor\":\"#E5ECF6\",\"polar\":{\"bgcolor\":\"#E5ECF6\",\"angularaxis\":{\"gridcolor\":\"white\",\"linecolor\":\"white\",\"ticks\":\"\"},\"radialaxis\":{\"gridcolor\":\"white\",\"linecolor\":\"white\",\"ticks\":\"\"}},\"ternary\":{\"bgcolor\":\"#E5ECF6\",\"aaxis\":{\"gridcolor\":\"white\",\"linecolor\":\"white\",\"ticks\":\"\"},\"baxis\":{\"gridcolor\":\"white\",\"linecolor\":\"white\",\"ticks\":\"\"},\"caxis\":{\"gridcolor\":\"white\",\"linecolor\":\"white\",\"ticks\":\"\"}},\"coloraxis\":{\"colorbar\":{\"outlinewidth\":0,\"ticks\":\"\"}},\"colorscale\":{\"sequential\":[[0.0,\"#0d0887\"],[0.1111111111111111,\"#46039f\"],[0.2222222222222222,\"#7201a8\"],[0.3333333333333333,\"#9c179e\"],[0.4444444444444444,\"#bd3786\"],[0.5555555555555556,\"#d8576b\"],[0.6666666666666666,\"#ed7953\"],[0.7777777777777778,\"#fb9f3a\"],[0.8888888888888888,\"#fdca26\"],[1.0,\"#f0f921\"]],\"sequentialminus\":[[0.0,\"#0d0887\"],[0.1111111111111111,\"#46039f\"],[0.2222222222222222,\"#7201a8\"],[0.3333333333333333,\"#9c179e\"],[0.4444444444444444,\"#bd3786\"],[0.5555555555555556,\"#d8576b\"],[0.6666666666666666,\"#ed7953\"],[0.7777777777777778,\"#fb9f3a\"],[0.8888888888888888,\"#fdca26\"],[1.0,\"#f0f921\"]],\"diverging\":[[0,\"#8e0152\"],[0.1,\"#c51b7d\"],[0.2,\"#de77ae\"],[0.3,\"#f1b6da\"],[0.4,\"#fde0ef\"],[0.5,\"#f7f7f7\"],[0.6,\"#e6f5d0\"],[0.7,\"#b8e186\"],[0.8,\"#7fbc41\"],[0.9,\"#4d9221\"],[1,\"#276419\"]]},\"xaxis\":{\"gridcolor\":\"white\",\"linecolor\":\"white\",\"ticks\":\"\",\"title\":{\"standoff\":15},\"zerolinecolor\":\"white\",\"automargin\":true,\"zerolinewidth\":2},\"yaxis\":{\"gridcolor\":\"white\",\"linecolor\":\"white\",\"ticks\":\"\",\"title\":{\"standoff\":15},\"zerolinecolor\":\"white\",\"automargin\":true,\"zerolinewidth\":2},\"scene\":{\"xaxis\":{\"backgroundcolor\":\"#E5ECF6\",\"gridcolor\":\"white\",\"linecolor\":\"white\",\"showbackground\":true,\"ticks\":\"\",\"zerolinecolor\":\"white\",\"gridwidth\":2},\"yaxis\":{\"backgroundcolor\":\"#E5ECF6\",\"gridcolor\":\"white\",\"linecolor\":\"white\",\"showbackground\":true,\"ticks\":\"\",\"zerolinecolor\":\"white\",\"gridwidth\":2},\"zaxis\":{\"backgroundcolor\":\"#E5ECF6\",\"gridcolor\":\"white\",\"linecolor\":\"white\",\"showbackground\":true,\"ticks\":\"\",\"zerolinecolor\":\"white\",\"gridwidth\":2}},\"shapedefaults\":{\"line\":{\"color\":\"#2a3f5f\"}},\"annotationdefaults\":{\"arrowcolor\":\"#2a3f5f\",\"arrowhead\":0,\"arrowwidth\":1},\"geo\":{\"bgcolor\":\"white\",\"landcolor\":\"#E5ECF6\",\"subunitcolor\":\"white\",\"showland\":true,\"showlakes\":true,\"lakecolor\":\"white\"},\"title\":{\"x\":0.05},\"mapbox\":{\"style\":\"light\"}}},\"title\":{\"text\":\"Training and val accuracy across epochs\"},\"xaxis\":{\"title\":{\"text\":\"epochs\"}},\"yaxis\":{\"title\":{\"text\":\"Accuracy\"}}},                        {\"responsive\": true}                    ).then(function(){\n",
              "                            \n",
              "var gd = document.getElementById('72803a45-fcfd-4e3f-a81c-c337b22c330c');\n",
              "var x = new MutationObserver(function (mutations, observer) {{\n",
              "        var display = window.getComputedStyle(gd).display;\n",
              "        if (!display || display === 'none') {{\n",
              "            console.log([gd, 'removed!']);\n",
              "            Plotly.purge(gd);\n",
              "            observer.disconnect();\n",
              "        }}\n",
              "}});\n",
              "\n",
              "// Listen for the removal of the full notebook cells\n",
              "var notebookContainer = gd.closest('#notebook-container');\n",
              "if (notebookContainer) {{\n",
              "    x.observe(notebookContainer, {childList: true});\n",
              "}}\n",
              "\n",
              "// Listen for the clearing of the current output cell\n",
              "var outputEl = gd.closest('.output');\n",
              "if (outputEl) {{\n",
              "    x.observe(outputEl, {childList: true});\n",
              "}}\n",
              "\n",
              "                        })                };                            </script>        </div>\n",
              "</body>\n",
              "</html>"
            ]
          },
          "metadata": {}
        }
      ]
    },
    {
      "cell_type": "code",
      "source": [
        "test_loss, test_accuracy = model4.evaluate(test_batch)\n",
        "print('Test Loss :',test_loss)\n",
        "print('Test Accuracy :',test_accuracy)"
      ],
      "metadata": {
        "colab": {
          "base_uri": "https://localhost:8080/"
        },
        "id": "ktJuL7wQfhBS",
        "outputId": "c614d5c3-b2dc-4055-aaa8-dff4e923e398"
      },
      "execution_count": 79,
      "outputs": [
        {
          "output_type": "stream",
          "name": "stdout",
          "text": [
            "17/17 [==============================] - 2s 13ms/step - loss: 0.1188 - accuracy: 0.9787\n",
            "Test Loss : 0.11875143647193909\n",
            "Test Accuracy : 0.9786614775657654\n"
          ]
        }
      ]
    },
    {
      "cell_type": "code",
      "source": [
        "test_pred4 = [1 if o>0.5 else 0 for o in model4.predict(test_padded)]\n",
        "cf_matrix = confusion_matrix(Y_test, test_pred4)\n",
        "\n",
        "ax = plt.subplot()\n",
        "sns.heatmap(cf_matrix, annot = True, ax = ax, cmap = 'Blues',fmt = '');\n",
        "ax.set_xlabel('Predicted labels');\n",
        "ax.set_ylabel('True labels');\n",
        "ax.set_title('Confusion Matrix');\n",
        "ax.xaxis.set_ticklabels(['Not Spam', 'Spam']); ax.yaxis.set_ticklabels(['Not Spam', 'Spam']);"
      ],
      "metadata": {
        "colab": {
          "base_uri": "https://localhost:8080/",
          "height": 490
        },
        "id": "w2tfC8jkgX_q",
        "outputId": "1e8004f3-6bce-47e0-d5f2-f3a8eeceaf55"
      },
      "execution_count": 80,
      "outputs": [
        {
          "output_type": "stream",
          "name": "stdout",
          "text": [
            "33/33 [==============================] - 1s 11ms/step\n"
          ]
        },
        {
          "output_type": "display_data",
          "data": {
            "text/plain": [
              "<Figure size 640x480 with 2 Axes>"
            ],
            "image/png": "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\n"
          },
          "metadata": {}
        }
      ]
    },
    {
      "cell_type": "code",
      "source": [
        "print(\"Precision: {:.2f}%\".format(100 * precision_score(Y_test, test_pred4)))\n",
        "print(\"Recall: {:.2f}%\".format(100 * recall_score(Y_test, test_pred4)))\n",
        "print(\"F1 Score: {:.2f}%\".format(100 * f1_score(Y_test, test_pred4)))"
      ],
      "metadata": {
        "colab": {
          "base_uri": "https://localhost:8080/"
        },
        "id": "xhh6BLc_gjgy",
        "outputId": "ebc70e08-b141-42d8-fef1-67550e2ebf44"
      },
      "execution_count": 81,
      "outputs": [
        {
          "output_type": "stream",
          "name": "stdout",
          "text": [
            "Precision: 93.60%\n",
            "Recall: 89.31%\n",
            "F1 Score: 91.41%\n"
          ]
        }
      ]
    },
    {
      "cell_type": "markdown",
      "source": [
        "These scores a very similar to those obtained with our first, simpler model.\n",
        "\n",
        "We could argue that there is no particular need for LSTMs in this project since the purpose is not fine understanding of the messages, but rather sentiment analysis to classify them as ham or spam.\n",
        "In addition, this more complex model tends to overfit very quickly.\n",
        "\n",
        "However, we reach these scores much faster (after less than 10 epochs) and the evolutions of loss and accuracy are much smoother without plateau."
      ],
      "metadata": {
        "id": "SYi59cb_myW8"
      }
    },
    {
      "cell_type": "markdown",
      "source": [
        "# 8. Pre-trained embedding model\n",
        "\n",
        "At last, we'll try using a pre-trained word embedding in our model.\n",
        "\n",
        "Embedding is the process of transforming text data into numerical vectors which a machine can understand.\n",
        "Several LLMs provide embedding models that have been trained over a very large number of text data.\n",
        "\n",
        "Word2Vec is one of them, and is particularly adapted to the problem at hand, since its embeddings are based on context and co-occurrence of words. The embedding vectors maintain semantic and syntactic relationships."
      ],
      "metadata": {
        "id": "iRwvvGEvnR0C"
      }
    },
    {
      "cell_type": "markdown",
      "source": [
        "We will use the gensim library to extract word embeddings from the pretrained google news database.\n",
      ],
      "metadata": {
        "id": "ZXzcz2tL0u-d"
      }
    },
    {
      "cell_type": "code",
      "source": [
        "import gensim.downloader as api\n",
        "\n",
        "word2vec = api.load('word2vec-google-news-300')"
      ],
      "metadata": {
        "colab": {
          "base_uri": "https://localhost:8080/"
        },
        "id": "vf7TZbUCt_0c",
        "outputId": "8981cacf-4d15-427d-a208-d0d614696ef9"
      },
      "execution_count": 82,
      "outputs": [
        {
          "output_type": "stream",
          "name": "stdout",
          "text": [
            "[==================================================] 100.0% 1662.8/1662.8MB downloaded\n"
          ]
        }
      ]
    },
    {
      "cell_type": "code",
      "source": [
        "# Using tokenizer.word_index as a dictionary for our input data, we get corresponding word vectors from the Word2Vec embeddings, and save them in a matrix variable.\n",
        "# create a weight matrix for words in training docs\n",
        "embedding_matrix = np.zeros((vocab_size, 32))\n",
        "for word, i in tokenizer.word_index.items():\n",
        "  try:\n",
        "    embedding_vector = word2vec[word]\n",
        "    if embedding_vector is not None:\n",
        "      embedding_matrix[i] = embedding_vector\n",
        "  except:\n",
        "    pass"
      ],
      "metadata": {
        "id": "XVP6CWum4eCS"
      },
      "execution_count": 83,
      "outputs": []
    },
    {
      "cell_type": "code",
      "source": [
        "# The matrix is used to initialize weights in the Embedding layer of the model.\n",
        "model5 = Sequential([\n",
        "  Embedding(\n",
        "      input_dim = vocab_size,\n",
        "      output_dim = 32,\n",
        "      weights=[embedding_matrix],\n",
        "      trainable = True, # for fine tuning\n",
        "      name = \"embedding\"), # the embedding layer\n",
        "  GlobalAveragePooling1D(),\n",
        "  Dense(16, activation='relu'), # a dense layer\n",
        "  Dense(1, activation=\"sigmoid\") # the prediction layer\n",
        "])\n",
        "\n",
        "model5.summary()"
      ],
      "metadata": {
        "colab": {
          "base_uri": "https://localhost:8080/"
        },
        "id": "mcV4rMda4usc",
        "outputId": "7ee2d717-3363-4106-f851-c68aeeb9654c"
      },
      "execution_count": 84,
      "outputs": [
        {
          "output_type": "stream",
          "name": "stdout",
          "text": [
            "Model: \"sequential_4\"\n",
            "_________________________________________________________________\n",
            " Layer (type)                Output Shape              Param #   \n",
            "=================================================================\n",
            " embedding (Embedding)       (None, None, 32)          32032     \n",
            "                                                                 \n",
            " global_average_pooling1d_2  (None, 32)                0         \n",
            "  (GlobalAveragePooling1D)                                       \n",
            "                                                                 \n",
            " dense_8 (Dense)             (None, 16)                528       \n",
            "                                                                 \n",
            " dense_9 (Dense)             (None, 1)                 17        \n",
            "                                                                 \n",
            "=================================================================\n",
            "Total params: 32577 (127.25 KB)\n",
            "Trainable params: 32577 (127.25 KB)\n",
            "Non-trainable params: 0 (0.00 Byte)\n",
            "_________________________________________________________________\n"
          ]
        }
      ]
    },
    {
      "cell_type": "code",
      "source": [
        "model5.compile(loss = tf.keras.losses.BinaryCrossentropy(from_logits = True), # from_logits = True to interpret y_pred as a tensor of logit values and not a probability\n",
        "              metrics = ['accuracy'],\n",
        "              optimizer = 'adam')"
      ],
      "metadata": {
        "id": "eV5IEl2B8wad"
      },
      "execution_count": 85,
      "outputs": []
    },
    {
      "cell_type": "code",
      "source": [
        "history = model5.fit(train_batch,\n",
        "                    epochs = 50,\n",
        "                    validation_data = val_batch\n",
        "                   )"
      ],
      "metadata": {
        "colab": {
          "base_uri": "https://localhost:8080/"
        },
        "id": "04KK44Ph9mbP",
        "outputId": "c8bff83a-7411-426f-998d-8ccdbf3e1082"
      },
      "execution_count": 86,
      "outputs": [
        {
          "output_type": "stream",
          "name": "stdout",
          "text": [
            "Epoch 1/50\n",
            "49/49 [==============================] - 1s 7ms/step - loss: 0.6843 - accuracy: 0.8731 - val_loss: 0.6751 - val_accuracy: 0.8738\n",
            "Epoch 2/50\n",
            "49/49 [==============================] - 0s 5ms/step - loss: 0.6668 - accuracy: 0.8731 - val_loss: 0.6580 - val_accuracy: 0.8738\n",
            "Epoch 3/50\n",
            "49/49 [==============================] - 0s 5ms/step - loss: 0.6502 - accuracy: 0.8731 - val_loss: 0.6419 - val_accuracy: 0.8738\n",
            "Epoch 4/50\n",
            "49/49 [==============================] - 0s 5ms/step - loss: 0.6346 - accuracy: 0.8731 - val_loss: 0.6266 - val_accuracy: 0.8738\n",
            "Epoch 5/50\n",
            "49/49 [==============================] - 0s 5ms/step - loss: 0.6197 - accuracy: 0.8731 - val_loss: 0.6122 - val_accuracy: 0.8738\n",
            "Epoch 6/50\n",
            "49/49 [==============================] - 0s 5ms/step - loss: 0.6055 - accuracy: 0.8731 - val_loss: 0.5982 - val_accuracy: 0.8738\n",
            "Epoch 7/50\n",
            "49/49 [==============================] - 0s 4ms/step - loss: 0.5921 - accuracy: 0.8731 - val_loss: 0.5852 - val_accuracy: 0.8738\n",
            "Epoch 8/50\n",
            "49/49 [==============================] - 0s 4ms/step - loss: 0.5793 - accuracy: 0.8731 - val_loss: 0.5728 - val_accuracy: 0.8738\n",
            "Epoch 9/50\n",
            "49/49 [==============================] - 0s 5ms/step - loss: 0.5673 - accuracy: 0.8731 - val_loss: 0.5610 - val_accuracy: 0.8738\n",
            "Epoch 10/50\n",
            "49/49 [==============================] - 0s 8ms/step - loss: 0.5559 - accuracy: 0.8731 - val_loss: 0.5499 - val_accuracy: 0.8738\n",
            "Epoch 11/50\n",
            "49/49 [==============================] - 0s 7ms/step - loss: 0.5451 - accuracy: 0.8731 - val_loss: 0.5394 - val_accuracy: 0.8738\n",
            "Epoch 12/50\n",
            "49/49 [==============================] - 0s 7ms/step - loss: 0.5349 - accuracy: 0.8731 - val_loss: 0.5296 - val_accuracy: 0.8738\n",
            "Epoch 13/50\n",
            "49/49 [==============================] - 0s 8ms/step - loss: 0.5253 - accuracy: 0.8731 - val_loss: 0.5201 - val_accuracy: 0.8738\n",
            "Epoch 14/50\n",
            "49/49 [==============================] - 0s 9ms/step - loss: 0.5162 - accuracy: 0.8731 - val_loss: 0.5113 - val_accuracy: 0.8738\n",
            "Epoch 15/50\n",
            "49/49 [==============================] - 0s 7ms/step - loss: 0.5077 - accuracy: 0.8731 - val_loss: 0.5029 - val_accuracy: 0.8738\n",
            "Epoch 16/50\n",
            "49/49 [==============================] - 0s 5ms/step - loss: 0.4996 - accuracy: 0.8731 - val_loss: 0.4951 - val_accuracy: 0.8738\n",
            "Epoch 17/50\n",
            "49/49 [==============================] - 0s 5ms/step - loss: 0.4919 - accuracy: 0.8731 - val_loss: 0.4876 - val_accuracy: 0.8738\n",
            "Epoch 18/50\n",
            "49/49 [==============================] - 0s 5ms/step - loss: 0.4847 - accuracy: 0.8731 - val_loss: 0.4806 - val_accuracy: 0.8738\n",
            "Epoch 19/50\n",
            "49/49 [==============================] - 0s 4ms/step - loss: 0.4779 - accuracy: 0.8731 - val_loss: 0.4741 - val_accuracy: 0.8738\n",
            "Epoch 20/50\n",
            "49/49 [==============================] - 0s 5ms/step - loss: 0.4716 - accuracy: 0.8731 - val_loss: 0.4678 - val_accuracy: 0.8738\n",
            "Epoch 21/50\n",
            "49/49 [==============================] - 0s 5ms/step - loss: 0.4656 - accuracy: 0.8731 - val_loss: 0.4620 - val_accuracy: 0.8738\n",
            "Epoch 22/50\n",
            "49/49 [==============================] - 0s 4ms/step - loss: 0.4600 - accuracy: 0.8731 - val_loss: 0.4565 - val_accuracy: 0.8738\n",
            "Epoch 23/50\n",
            "49/49 [==============================] - 0s 5ms/step - loss: 0.4547 - accuracy: 0.8731 - val_loss: 0.4514 - val_accuracy: 0.8738\n",
            "Epoch 24/50\n",
            "49/49 [==============================] - 0s 5ms/step - loss: 0.4497 - accuracy: 0.8731 - val_loss: 0.4467 - val_accuracy: 0.8738\n",
            "Epoch 25/50\n",
            "49/49 [==============================] - 0s 5ms/step - loss: 0.4450 - accuracy: 0.8731 - val_loss: 0.4420 - val_accuracy: 0.8738\n",
            "Epoch 26/50\n",
            "49/49 [==============================] - 0s 4ms/step - loss: 0.4406 - accuracy: 0.8731 - val_loss: 0.4377 - val_accuracy: 0.8738\n",
            "Epoch 27/50\n",
            "49/49 [==============================] - 0s 4ms/step - loss: 0.4365 - accuracy: 0.8731 - val_loss: 0.4337 - val_accuracy: 0.8738\n",
            "Epoch 28/50\n",
            "49/49 [==============================] - 0s 5ms/step - loss: 0.4326 - accuracy: 0.8731 - val_loss: 0.4299 - val_accuracy: 0.8738\n",
            "Epoch 29/50\n",
            "49/49 [==============================] - 0s 4ms/step - loss: 0.4289 - accuracy: 0.8731 - val_loss: 0.4263 - val_accuracy: 0.8738\n",
            "Epoch 30/50\n",
            "49/49 [==============================] - 0s 4ms/step - loss: 0.4254 - accuracy: 0.8731 - val_loss: 0.4229 - val_accuracy: 0.8738\n",
            "Epoch 31/50\n",
            "49/49 [==============================] - 0s 5ms/step - loss: 0.4222 - accuracy: 0.8731 - val_loss: 0.4198 - val_accuracy: 0.8738\n",
            "Epoch 32/50\n",
            "49/49 [==============================] - 0s 4ms/step - loss: 0.4191 - accuracy: 0.8731 - val_loss: 0.4169 - val_accuracy: 0.8738\n",
            "Epoch 33/50\n",
            "49/49 [==============================] - 0s 5ms/step - loss: 0.4163 - accuracy: 0.8731 - val_loss: 0.4141 - val_accuracy: 0.8738\n",
            "Epoch 34/50\n",
            "49/49 [==============================] - 0s 5ms/step - loss: 0.4136 - accuracy: 0.8731 - val_loss: 0.4115 - val_accuracy: 0.8738\n",
            "Epoch 35/50\n",
            "49/49 [==============================] - 0s 5ms/step - loss: 0.4112 - accuracy: 0.8731 - val_loss: 0.4092 - val_accuracy: 0.8738\n",
            "Epoch 36/50\n",
            "49/49 [==============================] - 0s 4ms/step - loss: 0.4089 - accuracy: 0.8731 - val_loss: 0.4069 - val_accuracy: 0.8738\n",
            "Epoch 37/50\n",
            "49/49 [==============================] - 0s 5ms/step - loss: 0.4068 - accuracy: 0.8731 - val_loss: 0.4049 - val_accuracy: 0.8738\n",
            "Epoch 38/50\n",
            "49/49 [==============================] - 0s 5ms/step - loss: 0.4047 - accuracy: 0.8731 - val_loss: 0.4029 - val_accuracy: 0.8738\n",
            "Epoch 39/50\n",
            "49/49 [==============================] - 0s 5ms/step - loss: 0.4028 - accuracy: 0.8731 - val_loss: 0.4011 - val_accuracy: 0.8738\n",
            "Epoch 40/50\n",
            "49/49 [==============================] - 0s 5ms/step - loss: 0.4010 - accuracy: 0.8731 - val_loss: 0.3993 - val_accuracy: 0.8738\n",
            "Epoch 41/50\n",
            "49/49 [==============================] - 0s 4ms/step - loss: 0.3994 - accuracy: 0.8731 - val_loss: 0.3976 - val_accuracy: 0.8738\n",
            "Epoch 42/50\n",
            "49/49 [==============================] - 0s 5ms/step - loss: 0.3978 - accuracy: 0.8731 - val_loss: 0.3962 - val_accuracy: 0.8738\n",
            "Epoch 43/50\n",
            "49/49 [==============================] - 0s 5ms/step - loss: 0.3964 - accuracy: 0.8731 - val_loss: 0.3948 - val_accuracy: 0.8738\n",
            "Epoch 44/50\n",
            "49/49 [==============================] - 0s 4ms/step - loss: 0.3951 - accuracy: 0.8731 - val_loss: 0.3935 - val_accuracy: 0.8738\n",
            "Epoch 45/50\n",
            "49/49 [==============================] - 0s 4ms/step - loss: 0.3939 - accuracy: 0.8731 - val_loss: 0.3923 - val_accuracy: 0.8738\n",
            "Epoch 46/50\n",
            "49/49 [==============================] - 0s 5ms/step - loss: 0.3927 - accuracy: 0.8731 - val_loss: 0.3912 - val_accuracy: 0.8738\n",
            "Epoch 47/50\n",
            "49/49 [==============================] - 0s 5ms/step - loss: 0.3916 - accuracy: 0.8731 - val_loss: 0.3902 - val_accuracy: 0.8738\n",
            "Epoch 48/50\n",
            "49/49 [==============================] - 0s 5ms/step - loss: 0.3906 - accuracy: 0.8731 - val_loss: 0.3891 - val_accuracy: 0.8738\n",
            "Epoch 49/50\n",
            "49/49 [==============================] - 0s 4ms/step - loss: 0.3897 - accuracy: 0.8731 - val_loss: 0.3883 - val_accuracy: 0.8738\n",
            "Epoch 50/50\n",
            "49/49 [==============================] - 0s 5ms/step - loss: 0.3889 - accuracy: 0.8731 - val_loss: 0.3875 - val_accuracy: 0.8738\n"
          ]
        }
      ]
    },
    {
      "cell_type": "code",
      "source": [
        "# Saving our model so we can load and re-use it :\n",
        "model5.save('/content/m5_pretrained_word2vec_embedding.h5')"
      ],
      "metadata": {
        "id": "uaF9p1G_nPoi"
      },
      "execution_count": 87,
      "outputs": []
    },
    {
      "cell_type": "markdown",
      "source": [
        "Unfortunately, we can see that this model's accuracy never improves throughout 50 epochs. We can deduce that although pretrained embedding models can be powerful, the training data and our input data are too different to use transfer learning in this case. Plus, our data is simple enough that the vanilla embedding is sufficient to work with."
      ],
      "metadata": {
        "id": "2KtbdN61-oUQ"
      }
    },
    {
      "cell_type": "markdown",
      "source": [
        "# Conclusion\n",
        "\n",
        "We have built a spam detection tool system using NLP and neural networks.\n",
        "\n",
        "We converted text data into embedding vectors, created several models with different architectures and techniques, and fit the models with our data.\n",
        "\n",
        "We applied a variety of text preprocessing techniques, text embedding techniques, and deep learning models.\n",
        "\n",
        "We explored the possibilities for improving our model's performance, but in the end our first and simplest model remains the most efficient.\n",
        "\n",
        "The concepts and techniques we have used can be applied to many other natural language processing tasks.\n"
      ],
      "metadata": {
        "id": "KT_w2218-8_Y"
      }
    },
    {
      "cell_type": "code",
      "source": [
        "# Last but not least : let's create our requirements.txt file for this notebook :\n",
        "# !pip install pipreqs\n",
        "# !pipreqs .\n",
        "!pip3 freeze > requirements.txt"
      ],
      "metadata": {
        "colab": {
          "base_uri": "https://localhost:8080/"
        },
        "id": "mTuJlm2sA1X2",
        "outputId": "e11b0fb7-aca5-4136-ab4b-96c1ee8bc12d"
      },
      "execution_count": 1,
      "outputs": [
        {
          "output_type": "stream",
          "name": "stdout",
          "text": [
            "Collecting pipreqs\n",
            "  Downloading pipreqs-0.4.13-py2.py3-none-any.whl (33 kB)\n",
            "Collecting docopt (from pipreqs)\n",
            "  Downloading docopt-0.6.2.tar.gz (25 kB)\n",
            "  Preparing metadata (setup.py) ... \u001b[?25l\u001b[?25hdone\n",
            "Collecting yarg (from pipreqs)\n",
            "  Downloading yarg-0.1.9-py2.py3-none-any.whl (19 kB)\n",
            "Requirement already satisfied: requests in /usr/local/lib/python3.10/dist-packages (from yarg->pipreqs) (2.31.0)\n",
            "Requirement already satisfied: charset-normalizer<4,>=2 in /usr/local/lib/python3.10/dist-packages (from requests->yarg->pipreqs) (3.3.2)\n",
            "Requirement already satisfied: idna<4,>=2.5 in /usr/local/lib/python3.10/dist-packages (from requests->yarg->pipreqs) (3.4)\n",
            "Requirement already satisfied: urllib3<3,>=1.21.1 in /usr/local/lib/python3.10/dist-packages (from requests->yarg->pipreqs) (2.0.7)\n",
            "Requirement already satisfied: certifi>=2017.4.17 in /usr/local/lib/python3.10/dist-packages (from requests->yarg->pipreqs) (2023.7.22)\n",
            "Building wheels for collected packages: docopt\n",
            "  Building wheel for docopt (setup.py) ... \u001b[?25l\u001b[?25hdone\n",
            "  Created wheel for docopt: filename=docopt-0.6.2-py2.py3-none-any.whl size=13706 sha256=3225656ecfdcc7dbb7238aa0e86a3ae47f030939e835d098d7c9c038bd3fbea4\n",
            "  Stored in directory: /root/.cache/pip/wheels/fc/ab/d4/5da2067ac95b36618c629a5f93f809425700506f72c9732fac\n",
            "Successfully built docopt\n",
            "Installing collected packages: docopt, yarg, pipreqs\n",
            "Successfully installed docopt-0.6.2 pipreqs-0.4.13 yarg-0.1.9\n",
            "INFO: Successfully saved requirements file in ./requirements.txt\n"
          ]
        }
      ]
    }
  ],
  "metadata": {
    "kernelspec": {
      "display_name": "Python 3",
      "name": "python3"
    },
    "language_info": {
      "codemirror_mode": {
        "name": "ipython",
        "version": 3
      },
      "file_extension": ".py",
      "mimetype": "text/x-python",
      "name": "python",
      "nbconvert_exporter": "python",
      "pygments_lexer": "ipython3",
      "version": "3.9.12"
    },
    "vscode": {
      "interpreter": {
        "hash": "16196ea7eff63910081d4e10ae1bdb1eb18fd83cb470bb8efbb9fa6b0c724af5"
      }
    },
    "colab": {
      "provenance": []
    }
  },
  "nbformat": 4,
  "nbformat_minor": 0
}
