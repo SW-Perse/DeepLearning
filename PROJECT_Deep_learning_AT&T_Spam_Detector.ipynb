{
  "cells": [
    {
      "cell_type": "markdown",
      "metadata": {
        "id": "1WYySpiSSGRw"
      },
      "source": [
        "<img src=\"https://full-stack-assets.s3.eu-west-3.amazonaws.com/M08-deep-learning/AT%26T_logo_2016.svg\" alt=\"AT&T LOGO\" width=\"50%\" />\n",
        "\n",
        "# Orange SPAM detector"
      ]
    },
    {
      "cell_type": "markdown",
      "metadata": {
        "id": "M48aYVUrSGRx"
      },
      "source": [
        "## Company's Description 📇\n",
        "\n",
        "AT&T Inc. is an American multinational telecommunications holding company headquartered at Whitacre Tower in Downtown Dallas, Texas. It is the world's largest telecommunications company by revenue and the third largest provider of mobile telephone services in the U.S. As of 2022, AT&T was ranked 13th on the Fortune 500 rankings of the largest United States corporations, with revenues of $168.8 billion! 😮"
      ]
    },
    {
      "cell_type": "markdown",
      "metadata": {
        "id": "zA2A8w9iSGRy"
      },
      "source": [
        "## Project 🚧\n",
        "\n",
        "One of the main pain point that AT&T users are facing is constant exposure to SPAM messages.\n",
        "\n",
        "AT&T has been able to manually flag spam messages for a time, but they are looking for an automated way of detecting spams to protect their users."
      ]
    },
    {
      "cell_type": "markdown",
      "metadata": {
        "id": "BOm_6raiSGRz"
      },
      "source": [
        "## Goals 🎯\n",
        "\n",
        "Your goal is to build a spam detector, that can automatically flag spams as they come based solely on the sms' content."
      ]
    },
    {
      "cell_type": "markdown",
      "metadata": {
        "id": "tb2rItCiSGRz"
      },
      "source": [
        "## Scope of this project 🖼️\n",
        "\n",
        "To start off, AT&T would like you to use the following dataset:\n",
        "\n",
        "[Dowload the Dataset](https://full-stack-bigdata-datasets.s3.eu-west-3.amazonaws.com/Deep+Learning/project/spam.csv)"
      ]
    },
    {
      "cell_type": "markdown",
      "metadata": {
        "id": "6d1qxMBxSGRz"
      },
      "source": [
        "## Helpers 🦮\n",
        "\n",
        "To help you achieve this project, here are a few tips that should help you:\n",
        "\n",
        "### Start simple\n",
        "A good deep learing model does not necessarily have to be super complicated!\n",
        "\n",
        "### Transfer learning\n",
        "You do not have access to a whole lot of data, perhaps channeling the power of a more sophisticated model trained on billions of observations might help!"
      ]
    },
    {
      "cell_type": "markdown",
      "metadata": {
        "id": "A1K0jNIxSGRz"
      },
      "source": [
        "## Deliverable 📬\n",
        "\n",
        "To complete this project, your team should:\n",
        "\n",
        "* Write a notebook that runs preprocessing and trains one or more deep learning models in order to predict the spam or ham nature of the sms\n",
        "* State the achieved performance clearly"
      ]
    },
    {
      "cell_type": "markdown",
      "source": [
        "# 1. EDA\n",
        "\n",
        "We will begin with importing our dataset and exploring it"
      ],
      "metadata": {
        "id": "P99TTSFbiAdP"
      }
    },
    {
      "cell_type": "code",
      "source": [
        "import warnings\n",
        "warnings.filterwarnings('ignore')\n",
        "\n",
        "# Importing pandas and  numpy to manipulate dataframe and arrays objects\n",
        "import pandas as pd\n",
        "import numpy as np\n",
        "\n",
        "# Importing visualization libraries for plotting\n",
        "import seaborn as sns\n",
        "import matplotlib.pyplot as plt\n",
        "from plotly import graph_objects as go\n",
        "color_chart = [\"#4B9AC7\", \"#4BE8E0\", \"#9DD4F3\", \"#97FBF6\", \"#2A7FAF\", \"#23B1AB\", \"#0E3449\", \"#015955\"]"
      ],
      "metadata": {
        "id": "NGJ3oVPKl-V2"
      },
      "execution_count": null,
      "outputs": []
    },
    {
      "cell_type": "code",
      "source": [
        "# Installing and importing wordcloud package\n",
        "from wordcloud import WordCloud\n",
        "# !pip uninstall Pillow\n",
        "# !pip install Pillow==9.4.0\n",
        "\n",
        "# Importing text preprocessing libraries\n",
        "import string\n",
        "!python -m spacy download en_core_web_sm -q\n",
        "import en_core_web_sm\n",
        "from spacy.lang.en.stop_words import STOP_WORDS"
      ],
      "metadata": {
        "colab": {
          "base_uri": "https://localhost:8080/"
        },
        "id": "CYVM3eZwKSPI",
        "outputId": "265f22a8-7545-437b-9338-4b6554fe4476"
      },
      "execution_count": null,
      "outputs": [
        {
          "output_type": "stream",
          "name": "stdout",
          "text": [
            "2023-11-20 00:53:04.740065: E tensorflow/compiler/xla/stream_executor/cuda/cuda_dnn.cc:9342] Unable to register cuDNN factory: Attempting to register factory for plugin cuDNN when one has already been registered\n",
            "2023-11-20 00:53:04.740161: E tensorflow/compiler/xla/stream_executor/cuda/cuda_fft.cc:609] Unable to register cuFFT factory: Attempting to register factory for plugin cuFFT when one has already been registered\n",
            "2023-11-20 00:53:04.740213: E tensorflow/compiler/xla/stream_executor/cuda/cuda_blas.cc:1518] Unable to register cuBLAS factory: Attempting to register factory for plugin cuBLAS when one has already been registered\n",
            "2023-11-20 00:53:06.262466: W tensorflow/compiler/tf2tensorrt/utils/py_utils.cc:38] TF-TRT Warning: Could not find TensorRT\n",
            "\u001b[2K     \u001b[90m━━━━━━━━━━━━━━━━━━━━━━━━━━━━━━━━━━━━━━━━\u001b[0m \u001b[32m12.8/12.8 MB\u001b[0m \u001b[31m71.7 MB/s\u001b[0m eta \u001b[36m0:00:00\u001b[0m\n",
            "\u001b[?25h\u001b[38;5;2m✔ Download and installation successful\u001b[0m\n",
            "You can now load the package via spacy.load('en_core_web_sm')\n"
          ]
        }
      ]
    },
    {
      "cell_type": "code",
      "source": [
        "# Importing sklearn train-test-split\n",
        "from sklearn.model_selection import train_test_split"
      ],
      "metadata": {
        "id": "7hgJ6F1hKQIQ"
      },
      "execution_count": null,
      "outputs": []
    },
    {
      "cell_type": "code",
      "source": [
        "# Importing tensorflow and keras classes to build neural networks\n",
        "import tensorflow as tf\n",
        "print(tf.__version__)\n",
        "from tensorflow.keras import Sequential\n",
        "from tensorflow.keras.layers import Embedding, GlobalAveragePooling1D, Dense, LSTM, Bidirectional, Dropout\n",
        "from tensorflow.keras.callbacks import EarlyStopping, ReduceLROnPlateau"
      ],
      "metadata": {
        "id": "b7SjMeRWKD7R",
        "colab": {
          "base_uri": "https://localhost:8080/"
        },
        "outputId": "1ffdf83b-5e79-4c54-9324-cea89caccd66"
      },
      "execution_count": null,
      "outputs": [
        {
          "output_type": "stream",
          "name": "stdout",
          "text": [
            "2.14.0\n"
          ]
        }
      ]
    },
    {
      "cell_type": "code",
      "source": [
        "df = pd.read_csv(\"https://full-stack-bigdata-datasets.s3.eu-west-3.amazonaws.com/Deep+Learning/project/spam.csv\", encoding = \"ISO-8859-1\")\n",
        "df.head()"
      ],
      "metadata": {
        "id": "L_sTBPURmPyV",
        "colab": {
          "base_uri": "https://localhost:8080/",
          "height": 206
        },
        "outputId": "a8e37ac3-6c1f-4d3d-9d2b-60e6f1f8c270"
      },
      "execution_count": null,
      "outputs": [
        {
          "output_type": "execute_result",
          "data": {
            "text/plain": [
              "     v1                                                 v2 Unnamed: 2  \\\n",
              "0   ham  Go until jurong point, crazy.. Available only ...        NaN   \n",
              "1   ham                      Ok lar... Joking wif u oni...        NaN   \n",
              "2  spam  Free entry in 2 a wkly comp to win FA Cup fina...        NaN   \n",
              "3   ham  U dun say so early hor... U c already then say...        NaN   \n",
              "4   ham  Nah I don't think he goes to usf, he lives aro...        NaN   \n",
              "\n",
              "  Unnamed: 3 Unnamed: 4  \n",
              "0        NaN        NaN  \n",
              "1        NaN        NaN  \n",
              "2        NaN        NaN  \n",
              "3        NaN        NaN  \n",
              "4        NaN        NaN  "
            ],
            "text/html": [
              "\n",
              "  <div id=\"df-65ebb20a-4a0c-420d-ae0d-96bf3aea83d1\" class=\"colab-df-container\">\n",
              "    <div>\n",
              "<style scoped>\n",
              "    .dataframe tbody tr th:only-of-type {\n",
              "        vertical-align: middle;\n",
              "    }\n",
              "\n",
              "    .dataframe tbody tr th {\n",
              "        vertical-align: top;\n",
              "    }\n",
              "\n",
              "    .dataframe thead th {\n",
              "        text-align: right;\n",
              "    }\n",
              "</style>\n",
              "<table border=\"1\" class=\"dataframe\">\n",
              "  <thead>\n",
              "    <tr style=\"text-align: right;\">\n",
              "      <th></th>\n",
              "      <th>v1</th>\n",
              "      <th>v2</th>\n",
              "      <th>Unnamed: 2</th>\n",
              "      <th>Unnamed: 3</th>\n",
              "      <th>Unnamed: 4</th>\n",
              "    </tr>\n",
              "  </thead>\n",
              "  <tbody>\n",
              "    <tr>\n",
              "      <th>0</th>\n",
              "      <td>ham</td>\n",
              "      <td>Go until jurong point, crazy.. Available only ...</td>\n",
              "      <td>NaN</td>\n",
              "      <td>NaN</td>\n",
              "      <td>NaN</td>\n",
              "    </tr>\n",
              "    <tr>\n",
              "      <th>1</th>\n",
              "      <td>ham</td>\n",
              "      <td>Ok lar... Joking wif u oni...</td>\n",
              "      <td>NaN</td>\n",
              "      <td>NaN</td>\n",
              "      <td>NaN</td>\n",
              "    </tr>\n",
              "    <tr>\n",
              "      <th>2</th>\n",
              "      <td>spam</td>\n",
              "      <td>Free entry in 2 a wkly comp to win FA Cup fina...</td>\n",
              "      <td>NaN</td>\n",
              "      <td>NaN</td>\n",
              "      <td>NaN</td>\n",
              "    </tr>\n",
              "    <tr>\n",
              "      <th>3</th>\n",
              "      <td>ham</td>\n",
              "      <td>U dun say so early hor... U c already then say...</td>\n",
              "      <td>NaN</td>\n",
              "      <td>NaN</td>\n",
              "      <td>NaN</td>\n",
              "    </tr>\n",
              "    <tr>\n",
              "      <th>4</th>\n",
              "      <td>ham</td>\n",
              "      <td>Nah I don't think he goes to usf, he lives aro...</td>\n",
              "      <td>NaN</td>\n",
              "      <td>NaN</td>\n",
              "      <td>NaN</td>\n",
              "    </tr>\n",
              "  </tbody>\n",
              "</table>\n",
              "</div>\n",
              "    <div class=\"colab-df-buttons\">\n",
              "\n",
              "  <div class=\"colab-df-container\">\n",
              "    <button class=\"colab-df-convert\" onclick=\"convertToInteractive('df-65ebb20a-4a0c-420d-ae0d-96bf3aea83d1')\"\n",
              "            title=\"Convert this dataframe to an interactive table.\"\n",
              "            style=\"display:none;\">\n",
              "\n",
              "  <svg xmlns=\"http://www.w3.org/2000/svg\" height=\"24px\" viewBox=\"0 -960 960 960\">\n",
              "    <path d=\"M120-120v-720h720v720H120Zm60-500h600v-160H180v160Zm220 220h160v-160H400v160Zm0 220h160v-160H400v160ZM180-400h160v-160H180v160Zm440 0h160v-160H620v160ZM180-180h160v-160H180v160Zm440 0h160v-160H620v160Z\"/>\n",
              "  </svg>\n",
              "    </button>\n",
              "\n",
              "  <style>\n",
              "    .colab-df-container {\n",
              "      display:flex;\n",
              "      gap: 12px;\n",
              "    }\n",
              "\n",
              "    .colab-df-convert {\n",
              "      background-color: #E8F0FE;\n",
              "      border: none;\n",
              "      border-radius: 50%;\n",
              "      cursor: pointer;\n",
              "      display: none;\n",
              "      fill: #1967D2;\n",
              "      height: 32px;\n",
              "      padding: 0 0 0 0;\n",
              "      width: 32px;\n",
              "    }\n",
              "\n",
              "    .colab-df-convert:hover {\n",
              "      background-color: #E2EBFA;\n",
              "      box-shadow: 0px 1px 2px rgba(60, 64, 67, 0.3), 0px 1px 3px 1px rgba(60, 64, 67, 0.15);\n",
              "      fill: #174EA6;\n",
              "    }\n",
              "\n",
              "    .colab-df-buttons div {\n",
              "      margin-bottom: 4px;\n",
              "    }\n",
              "\n",
              "    [theme=dark] .colab-df-convert {\n",
              "      background-color: #3B4455;\n",
              "      fill: #D2E3FC;\n",
              "    }\n",
              "\n",
              "    [theme=dark] .colab-df-convert:hover {\n",
              "      background-color: #434B5C;\n",
              "      box-shadow: 0px 1px 3px 1px rgba(0, 0, 0, 0.15);\n",
              "      filter: drop-shadow(0px 1px 2px rgba(0, 0, 0, 0.3));\n",
              "      fill: #FFFFFF;\n",
              "    }\n",
              "  </style>\n",
              "\n",
              "    <script>\n",
              "      const buttonEl =\n",
              "        document.querySelector('#df-65ebb20a-4a0c-420d-ae0d-96bf3aea83d1 button.colab-df-convert');\n",
              "      buttonEl.style.display =\n",
              "        google.colab.kernel.accessAllowed ? 'block' : 'none';\n",
              "\n",
              "      async function convertToInteractive(key) {\n",
              "        const element = document.querySelector('#df-65ebb20a-4a0c-420d-ae0d-96bf3aea83d1');\n",
              "        const dataTable =\n",
              "          await google.colab.kernel.invokeFunction('convertToInteractive',\n",
              "                                                    [key], {});\n",
              "        if (!dataTable) return;\n",
              "\n",
              "        const docLinkHtml = 'Like what you see? Visit the ' +\n",
              "          '<a target=\"_blank\" href=https://colab.research.google.com/notebooks/data_table.ipynb>data table notebook</a>'\n",
              "          + ' to learn more about interactive tables.';\n",
              "        element.innerHTML = '';\n",
              "        dataTable['output_type'] = 'display_data';\n",
              "        await google.colab.output.renderOutput(dataTable, element);\n",
              "        const docLink = document.createElement('div');\n",
              "        docLink.innerHTML = docLinkHtml;\n",
              "        element.appendChild(docLink);\n",
              "      }\n",
              "    </script>\n",
              "  </div>\n",
              "\n",
              "\n",
              "<div id=\"df-13e97e89-1d9e-487d-b232-1af490d6c7b9\">\n",
              "  <button class=\"colab-df-quickchart\" onclick=\"quickchart('df-13e97e89-1d9e-487d-b232-1af490d6c7b9')\"\n",
              "            title=\"Suggest charts\"\n",
              "            style=\"display:none;\">\n",
              "\n",
              "<svg xmlns=\"http://www.w3.org/2000/svg\" height=\"24px\"viewBox=\"0 0 24 24\"\n",
              "     width=\"24px\">\n",
              "    <g>\n",
              "        <path d=\"M19 3H5c-1.1 0-2 .9-2 2v14c0 1.1.9 2 2 2h14c1.1 0 2-.9 2-2V5c0-1.1-.9-2-2-2zM9 17H7v-7h2v7zm4 0h-2V7h2v10zm4 0h-2v-4h2v4z\"/>\n",
              "    </g>\n",
              "</svg>\n",
              "  </button>\n",
              "\n",
              "<style>\n",
              "  .colab-df-quickchart {\n",
              "      --bg-color: #E8F0FE;\n",
              "      --fill-color: #1967D2;\n",
              "      --hover-bg-color: #E2EBFA;\n",
              "      --hover-fill-color: #174EA6;\n",
              "      --disabled-fill-color: #AAA;\n",
              "      --disabled-bg-color: #DDD;\n",
              "  }\n",
              "\n",
              "  [theme=dark] .colab-df-quickchart {\n",
              "      --bg-color: #3B4455;\n",
              "      --fill-color: #D2E3FC;\n",
              "      --hover-bg-color: #434B5C;\n",
              "      --hover-fill-color: #FFFFFF;\n",
              "      --disabled-bg-color: #3B4455;\n",
              "      --disabled-fill-color: #666;\n",
              "  }\n",
              "\n",
              "  .colab-df-quickchart {\n",
              "    background-color: var(--bg-color);\n",
              "    border: none;\n",
              "    border-radius: 50%;\n",
              "    cursor: pointer;\n",
              "    display: none;\n",
              "    fill: var(--fill-color);\n",
              "    height: 32px;\n",
              "    padding: 0;\n",
              "    width: 32px;\n",
              "  }\n",
              "\n",
              "  .colab-df-quickchart:hover {\n",
              "    background-color: var(--hover-bg-color);\n",
              "    box-shadow: 0 1px 2px rgba(60, 64, 67, 0.3), 0 1px 3px 1px rgba(60, 64, 67, 0.15);\n",
              "    fill: var(--button-hover-fill-color);\n",
              "  }\n",
              "\n",
              "  .colab-df-quickchart-complete:disabled,\n",
              "  .colab-df-quickchart-complete:disabled:hover {\n",
              "    background-color: var(--disabled-bg-color);\n",
              "    fill: var(--disabled-fill-color);\n",
              "    box-shadow: none;\n",
              "  }\n",
              "\n",
              "  .colab-df-spinner {\n",
              "    border: 2px solid var(--fill-color);\n",
              "    border-color: transparent;\n",
              "    border-bottom-color: var(--fill-color);\n",
              "    animation:\n",
              "      spin 1s steps(1) infinite;\n",
              "  }\n",
              "\n",
              "  @keyframes spin {\n",
              "    0% {\n",
              "      border-color: transparent;\n",
              "      border-bottom-color: var(--fill-color);\n",
              "      border-left-color: var(--fill-color);\n",
              "    }\n",
              "    20% {\n",
              "      border-color: transparent;\n",
              "      border-left-color: var(--fill-color);\n",
              "      border-top-color: var(--fill-color);\n",
              "    }\n",
              "    30% {\n",
              "      border-color: transparent;\n",
              "      border-left-color: var(--fill-color);\n",
              "      border-top-color: var(--fill-color);\n",
              "      border-right-color: var(--fill-color);\n",
              "    }\n",
              "    40% {\n",
              "      border-color: transparent;\n",
              "      border-right-color: var(--fill-color);\n",
              "      border-top-color: var(--fill-color);\n",
              "    }\n",
              "    60% {\n",
              "      border-color: transparent;\n",
              "      border-right-color: var(--fill-color);\n",
              "    }\n",
              "    80% {\n",
              "      border-color: transparent;\n",
              "      border-right-color: var(--fill-color);\n",
              "      border-bottom-color: var(--fill-color);\n",
              "    }\n",
              "    90% {\n",
              "      border-color: transparent;\n",
              "      border-bottom-color: var(--fill-color);\n",
              "    }\n",
              "  }\n",
              "</style>\n",
              "\n",
              "  <script>\n",
              "    async function quickchart(key) {\n",
              "      const quickchartButtonEl =\n",
              "        document.querySelector('#' + key + ' button');\n",
              "      quickchartButtonEl.disabled = true;  // To prevent multiple clicks.\n",
              "      quickchartButtonEl.classList.add('colab-df-spinner');\n",
              "      try {\n",
              "        const charts = await google.colab.kernel.invokeFunction(\n",
              "            'suggestCharts', [key], {});\n",
              "      } catch (error) {\n",
              "        console.error('Error during call to suggestCharts:', error);\n",
              "      }\n",
              "      quickchartButtonEl.classList.remove('colab-df-spinner');\n",
              "      quickchartButtonEl.classList.add('colab-df-quickchart-complete');\n",
              "    }\n",
              "    (() => {\n",
              "      let quickchartButtonEl =\n",
              "        document.querySelector('#df-13e97e89-1d9e-487d-b232-1af490d6c7b9 button');\n",
              "      quickchartButtonEl.style.display =\n",
              "        google.colab.kernel.accessAllowed ? 'block' : 'none';\n",
              "    })();\n",
              "  </script>\n",
              "</div>\n",
              "    </div>\n",
              "  </div>\n"
            ]
          },
          "metadata": {},
          "execution_count": 213
        }
      ]
    },
    {
      "cell_type": "code",
      "source": [
        "df.info()"
      ],
      "metadata": {
        "id": "OVTIKH0HmWp4",
        "colab": {
          "base_uri": "https://localhost:8080/"
        },
        "outputId": "37f83ccc-60e9-4d65-a9ba-7a31efbe7883"
      },
      "execution_count": null,
      "outputs": [
        {
          "output_type": "stream",
          "name": "stdout",
          "text": [
            "<class 'pandas.core.frame.DataFrame'>\n",
            "RangeIndex: 5572 entries, 0 to 5571\n",
            "Data columns (total 5 columns):\n",
            " #   Column      Non-Null Count  Dtype \n",
            "---  ------      --------------  ----- \n",
            " 0   v1          5572 non-null   object\n",
            " 1   v2          5572 non-null   object\n",
            " 2   Unnamed: 2  50 non-null     object\n",
            " 3   Unnamed: 3  12 non-null     object\n",
            " 4   Unnamed: 4  6 non-null      object\n",
            "dtypes: object(5)\n",
            "memory usage: 217.8+ KB\n"
          ]
        }
      ]
    },
    {
      "cell_type": "markdown",
      "source": [
        "We have a dataframe with :\n",
        "\n",
        "\n",
        "*   5572 entries / rows\n",
        "\n",
        "*   5 columns\n",
        "*   The first 2 columns seems to represent respectively our label (v1 : ham or spam), and the content of the e-mail (v2)\n",
        "\n",
        "\n",
        "*   The last 3 columns however, seem to contain mostly null values and will probably not be of much use for our model : we will check their content and possibly drop them\n",
        "\n",
        "\n"
      ],
      "metadata": {
        "id": "6-NIYBLnpWMw"
      }
    },
    {
      "cell_type": "code",
      "source": [
        "df[\"Unnamed: 2\"].value_counts()"
      ],
      "metadata": {
        "id": "daxHT-3qpRFI",
        "colab": {
          "base_uri": "https://localhost:8080/"
        },
        "outputId": "3aa09c28-5a5c-4f87-8a91-5abb97b920d0"
      },
      "execution_count": null,
      "outputs": [
        {
          "output_type": "execute_result",
          "data": {
            "text/plain": [
              " bt not his girlfrnd... G o o d n i g h t . . .@\"                                                                                                   3\n",
              " PO Box 5249                                                                                                                                        2\n",
              "this wont even start........ Datz confidence..\"                                                                                                     2\n",
              "GN                                                                                                                                                  2\n",
              " don't miss ur best life for anything... Gud nyt...\"                                                                                                2\n",
              " but dont try to prove it..\\\" .Gud noon....\"                                                                                                        2\n",
              " Gud night....\"                                                                                                                                     1\n",
              " like you are the KING\\\"...! OR \\\"Walk like you Dont care                                                                                           1\n",
              " HAD A COOL NYTHO                                                                                                                                   1\n",
              " PO Box 1146 MK45 2WT (2/3)\"                                                                                                                        1\n",
              " \\\"It is d wonderful fruit that a tree gives when it is being hurt by a stone.. Good night......\"                                                   1\n",
              " we made you hold all the weed\\\"\"                                                                                                                   1\n",
              " its a miracle to Love a person who can't Love anyone except U...\\\" Gud nyt...\"                                                                     1\n",
              " hopeSo hunny. i amnow feelin ill & ithink i may have tonsolitusaswell! damn iam layin in bedreal bored. lotsof luv me xxxx\\\"\"                      1\n",
              " that's the tiny street where the parking lot is\"                                                                                                   1\n",
              "PROBPOP IN & CU SATTHEN HUNNY 4BREKKIE! LOVE JEN XXX. PSXTRA LRG PORTIONS 4 ME PLEASE \\\"\"                                                           1\n",
              " SHE SHUDVETOLD U. DID URGRAN KNOW?NEWAY                                                                                                            1\n",
              " GOD said                                                                                                                                           1\n",
              " always give response 2 who cares 4 U\\\"... Gud night..swt dreams..take care\"                                                                        1\n",
              " HOPE UR OK... WILL GIVE U A BUZ WEDLUNCH. GO OUTSOMEWHERE 4 ADRINK IN TOWN..CUD GO 2WATERSHD 4 A BIT? PPL FROMWRK WILL BTHERE. LOVE PETEXXX.\\\"\"    1\n",
              " b'coz nobody will fight for u. Only u &amp; u have to fight for ur self &amp; win the battle. -VIVEKANAND- G 9t.. SD..\"                            1\n",
              "DEVIOUSBITCH.ANYWAY                                                                                                                                 1\n",
              " but watever u shared should be true\\\"....\"                                                                                                         1\n",
              " Dont Come Near My Body..!! Bcoz My Hands May Not Come 2 Wipe Ur Tears Off That Time..!Gud ni8\"                                                     1\n",
              " but dont try to prove\\\" ..... Gud mrng...\"                                                                                                         1\n",
              " the toughest is acting Happy with all unspoken pain inside..\\\"\"                                                                                    1\n",
              " HOWU DOIN? FOUNDURSELF A JOBYET SAUSAGE?LOVE JEN XXX\\\"\"                                                                                            1\n",
              " wanted to say hi. HI!!!\\\" Stop? Send STOP to 62468\"                                                                                                1\n",
              ".;-):-D\"                                                                                                                                            1\n",
              "just been in bedbut mite go 2 thepub l8tr if uwana mt up?loads a luv Jenxxx.\\\"\"                                                                     1\n",
              " I'll come up\"                                                                                                                                      1\n",
              " just as a shop has to give a guarantee on what they sell. B. G.\"                                                                                   1\n",
              " But at d end my love compromised me for everything:-(\\\".. Gud mornin:-)\"                                                                           1\n",
              " smoke hella weed\\\"\"                                                                                                                                1\n",
              "Well there's still a bit left if you guys want to tonight                                                                                           1\n",
              "\\\" not \\\"what i need to do.\\\"\"                                                                                                                      1\n",
              "JUST GOT PAYED2DAY & I HAVBEEN GIVEN Aå£50 PAY RISE 4MY WORK & HAVEBEEN MADE PRESCHOOLCO-ORDINATOR 2I AM FEELINGOOD LUV\\\"\"                          1\n",
              " justthought iåÕd sayhey! how u doin?nearly the endof me wk offdam nevamind!We will have 2Hook up sn if uwant m8? loveJen x.\\\"\"                     1\n",
              "JUST REALLYNEED 2DOCD.PLEASE DONTPLEASE DONTIGNORE MYCALLS                                                                                          1\n",
              "u hav2hear it!c u sn xxxx\\\"\"                                                                                                                        1\n",
              " I don't mind                                                                                                                                       1\n",
              " the person is definitely special for u..... But if the person is so special                                                                        1\n",
              " ENJOYIN INDIANS AT THE MO..yeP. SaLL gOoD HehE ;> hows bout u shexy? Pete Xx\\\"\"                                                                    1\n",
              "Name: Unnamed: 2, dtype: int64"
            ]
          },
          "metadata": {},
          "execution_count": 215
        }
      ]
    },
    {
      "cell_type": "code",
      "source": [
        "df[\"Unnamed: 3\"].value_counts()"
      ],
      "metadata": {
        "id": "UGfE3LJ6p89p",
        "colab": {
          "base_uri": "https://localhost:8080/"
        },
        "outputId": "3c786659-6991-4d8d-db5a-4a22b72c864a"
      },
      "execution_count": null,
      "outputs": [
        {
          "output_type": "execute_result",
          "data": {
            "text/plain": [
              " MK17 92H. 450Ppw 16\"                         2\n",
              "GE                                            2\n",
              " why to miss them                             1\n",
              "U NO THECD ISV.IMPORTANT TOME 4 2MORO\\\"\"      1\n",
              "i wil tolerat.bcs ur my someone..... But      1\n",
              " ILLSPEAK 2 U2MORO WEN IM NOT ASLEEP...\\\"\"    1\n",
              "whoever is the KING\\\"!... Gud nyt\"            1\n",
              " TX 4 FONIN HON                               1\n",
              " \\\"OH No! COMPETITION\\\". Who knew             1\n",
              "IåÕL CALL U\\\"\"                                1\n",
              "Name: Unnamed: 3, dtype: int64"
            ]
          },
          "metadata": {},
          "execution_count": 216
        }
      ]
    },
    {
      "cell_type": "code",
      "source": [
        "df[\"Unnamed: 4\"].value_counts()"
      ],
      "metadata": {
        "id": "cDEvn1hqqSrv",
        "colab": {
          "base_uri": "https://localhost:8080/"
        },
        "outputId": "6520b14a-aba4-40a6-d9d6-f68b099159a9"
      },
      "execution_count": null,
      "outputs": [
        {
          "output_type": "execute_result",
          "data": {
            "text/plain": [
              "GNT:-)\"                                                     2\n",
              " just Keep-in-touch\\\" gdeve..\"                              1\n",
              " Never comfort me with a lie\\\" gud ni8 and sweet dreams\"    1\n",
              " CALL 2MWEN IM BK FRMCLOUD 9! J X\\\"\"                        1\n",
              " one day these two will become FREINDS FOREVER!\"            1\n",
              "Name: Unnamed: 4, dtype: int64"
            ]
          },
          "metadata": {},
          "execution_count": 217
        }
      ]
    },
    {
      "cell_type": "markdown",
      "source": [
        "These columns' non null values are strings that are mostly unique. Since there are so many missing values, these are not informations that are relevant to use when building our model.\n",
        "\n",
        "We'll also check for duplicates in our dataset and remove them."
      ],
      "metadata": {
        "id": "S6wbEqOUqZ28"
      }
    },
    {
      "cell_type": "code",
      "source": [
        "df = df.drop([\"Unnamed: 2\", \"Unnamed: 3\", \"Unnamed: 4\"], axis = 1)\n",
        "df.head()"
      ],
      "metadata": {
        "id": "BHLOfVyfqVvK",
        "colab": {
          "base_uri": "https://localhost:8080/",
          "height": 206
        },
        "outputId": "757fdc01-8e51-4d39-c959-029278591c0f"
      },
      "execution_count": null,
      "outputs": [
        {
          "output_type": "execute_result",
          "data": {
            "text/plain": [
              "     v1                                                 v2\n",
              "0   ham  Go until jurong point, crazy.. Available only ...\n",
              "1   ham                      Ok lar... Joking wif u oni...\n",
              "2  spam  Free entry in 2 a wkly comp to win FA Cup fina...\n",
              "3   ham  U dun say so early hor... U c already then say...\n",
              "4   ham  Nah I don't think he goes to usf, he lives aro..."
            ],
            "text/html": [
              "\n",
              "  <div id=\"df-a696f04d-d901-4dca-b43d-a967c64b83cd\" class=\"colab-df-container\">\n",
              "    <div>\n",
              "<style scoped>\n",
              "    .dataframe tbody tr th:only-of-type {\n",
              "        vertical-align: middle;\n",
              "    }\n",
              "\n",
              "    .dataframe tbody tr th {\n",
              "        vertical-align: top;\n",
              "    }\n",
              "\n",
              "    .dataframe thead th {\n",
              "        text-align: right;\n",
              "    }\n",
              "</style>\n",
              "<table border=\"1\" class=\"dataframe\">\n",
              "  <thead>\n",
              "    <tr style=\"text-align: right;\">\n",
              "      <th></th>\n",
              "      <th>v1</th>\n",
              "      <th>v2</th>\n",
              "    </tr>\n",
              "  </thead>\n",
              "  <tbody>\n",
              "    <tr>\n",
              "      <th>0</th>\n",
              "      <td>ham</td>\n",
              "      <td>Go until jurong point, crazy.. Available only ...</td>\n",
              "    </tr>\n",
              "    <tr>\n",
              "      <th>1</th>\n",
              "      <td>ham</td>\n",
              "      <td>Ok lar... Joking wif u oni...</td>\n",
              "    </tr>\n",
              "    <tr>\n",
              "      <th>2</th>\n",
              "      <td>spam</td>\n",
              "      <td>Free entry in 2 a wkly comp to win FA Cup fina...</td>\n",
              "    </tr>\n",
              "    <tr>\n",
              "      <th>3</th>\n",
              "      <td>ham</td>\n",
              "      <td>U dun say so early hor... U c already then say...</td>\n",
              "    </tr>\n",
              "    <tr>\n",
              "      <th>4</th>\n",
              "      <td>ham</td>\n",
              "      <td>Nah I don't think he goes to usf, he lives aro...</td>\n",
              "    </tr>\n",
              "  </tbody>\n",
              "</table>\n",
              "</div>\n",
              "    <div class=\"colab-df-buttons\">\n",
              "\n",
              "  <div class=\"colab-df-container\">\n",
              "    <button class=\"colab-df-convert\" onclick=\"convertToInteractive('df-a696f04d-d901-4dca-b43d-a967c64b83cd')\"\n",
              "            title=\"Convert this dataframe to an interactive table.\"\n",
              "            style=\"display:none;\">\n",
              "\n",
              "  <svg xmlns=\"http://www.w3.org/2000/svg\" height=\"24px\" viewBox=\"0 -960 960 960\">\n",
              "    <path d=\"M120-120v-720h720v720H120Zm60-500h600v-160H180v160Zm220 220h160v-160H400v160Zm0 220h160v-160H400v160ZM180-400h160v-160H180v160Zm440 0h160v-160H620v160ZM180-180h160v-160H180v160Zm440 0h160v-160H620v160Z\"/>\n",
              "  </svg>\n",
              "    </button>\n",
              "\n",
              "  <style>\n",
              "    .colab-df-container {\n",
              "      display:flex;\n",
              "      gap: 12px;\n",
              "    }\n",
              "\n",
              "    .colab-df-convert {\n",
              "      background-color: #E8F0FE;\n",
              "      border: none;\n",
              "      border-radius: 50%;\n",
              "      cursor: pointer;\n",
              "      display: none;\n",
              "      fill: #1967D2;\n",
              "      height: 32px;\n",
              "      padding: 0 0 0 0;\n",
              "      width: 32px;\n",
              "    }\n",
              "\n",
              "    .colab-df-convert:hover {\n",
              "      background-color: #E2EBFA;\n",
              "      box-shadow: 0px 1px 2px rgba(60, 64, 67, 0.3), 0px 1px 3px 1px rgba(60, 64, 67, 0.15);\n",
              "      fill: #174EA6;\n",
              "    }\n",
              "\n",
              "    .colab-df-buttons div {\n",
              "      margin-bottom: 4px;\n",
              "    }\n",
              "\n",
              "    [theme=dark] .colab-df-convert {\n",
              "      background-color: #3B4455;\n",
              "      fill: #D2E3FC;\n",
              "    }\n",
              "\n",
              "    [theme=dark] .colab-df-convert:hover {\n",
              "      background-color: #434B5C;\n",
              "      box-shadow: 0px 1px 3px 1px rgba(0, 0, 0, 0.15);\n",
              "      filter: drop-shadow(0px 1px 2px rgba(0, 0, 0, 0.3));\n",
              "      fill: #FFFFFF;\n",
              "    }\n",
              "  </style>\n",
              "\n",
              "    <script>\n",
              "      const buttonEl =\n",
              "        document.querySelector('#df-a696f04d-d901-4dca-b43d-a967c64b83cd button.colab-df-convert');\n",
              "      buttonEl.style.display =\n",
              "        google.colab.kernel.accessAllowed ? 'block' : 'none';\n",
              "\n",
              "      async function convertToInteractive(key) {\n",
              "        const element = document.querySelector('#df-a696f04d-d901-4dca-b43d-a967c64b83cd');\n",
              "        const dataTable =\n",
              "          await google.colab.kernel.invokeFunction('convertToInteractive',\n",
              "                                                    [key], {});\n",
              "        if (!dataTable) return;\n",
              "\n",
              "        const docLinkHtml = 'Like what you see? Visit the ' +\n",
              "          '<a target=\"_blank\" href=https://colab.research.google.com/notebooks/data_table.ipynb>data table notebook</a>'\n",
              "          + ' to learn more about interactive tables.';\n",
              "        element.innerHTML = '';\n",
              "        dataTable['output_type'] = 'display_data';\n",
              "        await google.colab.output.renderOutput(dataTable, element);\n",
              "        const docLink = document.createElement('div');\n",
              "        docLink.innerHTML = docLinkHtml;\n",
              "        element.appendChild(docLink);\n",
              "      }\n",
              "    </script>\n",
              "  </div>\n",
              "\n",
              "\n",
              "<div id=\"df-1950e8fa-7984-4a6e-8bbd-9138500b95cb\">\n",
              "  <button class=\"colab-df-quickchart\" onclick=\"quickchart('df-1950e8fa-7984-4a6e-8bbd-9138500b95cb')\"\n",
              "            title=\"Suggest charts\"\n",
              "            style=\"display:none;\">\n",
              "\n",
              "<svg xmlns=\"http://www.w3.org/2000/svg\" height=\"24px\"viewBox=\"0 0 24 24\"\n",
              "     width=\"24px\">\n",
              "    <g>\n",
              "        <path d=\"M19 3H5c-1.1 0-2 .9-2 2v14c0 1.1.9 2 2 2h14c1.1 0 2-.9 2-2V5c0-1.1-.9-2-2-2zM9 17H7v-7h2v7zm4 0h-2V7h2v10zm4 0h-2v-4h2v4z\"/>\n",
              "    </g>\n",
              "</svg>\n",
              "  </button>\n",
              "\n",
              "<style>\n",
              "  .colab-df-quickchart {\n",
              "      --bg-color: #E8F0FE;\n",
              "      --fill-color: #1967D2;\n",
              "      --hover-bg-color: #E2EBFA;\n",
              "      --hover-fill-color: #174EA6;\n",
              "      --disabled-fill-color: #AAA;\n",
              "      --disabled-bg-color: #DDD;\n",
              "  }\n",
              "\n",
              "  [theme=dark] .colab-df-quickchart {\n",
              "      --bg-color: #3B4455;\n",
              "      --fill-color: #D2E3FC;\n",
              "      --hover-bg-color: #434B5C;\n",
              "      --hover-fill-color: #FFFFFF;\n",
              "      --disabled-bg-color: #3B4455;\n",
              "      --disabled-fill-color: #666;\n",
              "  }\n",
              "\n",
              "  .colab-df-quickchart {\n",
              "    background-color: var(--bg-color);\n",
              "    border: none;\n",
              "    border-radius: 50%;\n",
              "    cursor: pointer;\n",
              "    display: none;\n",
              "    fill: var(--fill-color);\n",
              "    height: 32px;\n",
              "    padding: 0;\n",
              "    width: 32px;\n",
              "  }\n",
              "\n",
              "  .colab-df-quickchart:hover {\n",
              "    background-color: var(--hover-bg-color);\n",
              "    box-shadow: 0 1px 2px rgba(60, 64, 67, 0.3), 0 1px 3px 1px rgba(60, 64, 67, 0.15);\n",
              "    fill: var(--button-hover-fill-color);\n",
              "  }\n",
              "\n",
              "  .colab-df-quickchart-complete:disabled,\n",
              "  .colab-df-quickchart-complete:disabled:hover {\n",
              "    background-color: var(--disabled-bg-color);\n",
              "    fill: var(--disabled-fill-color);\n",
              "    box-shadow: none;\n",
              "  }\n",
              "\n",
              "  .colab-df-spinner {\n",
              "    border: 2px solid var(--fill-color);\n",
              "    border-color: transparent;\n",
              "    border-bottom-color: var(--fill-color);\n",
              "    animation:\n",
              "      spin 1s steps(1) infinite;\n",
              "  }\n",
              "\n",
              "  @keyframes spin {\n",
              "    0% {\n",
              "      border-color: transparent;\n",
              "      border-bottom-color: var(--fill-color);\n",
              "      border-left-color: var(--fill-color);\n",
              "    }\n",
              "    20% {\n",
              "      border-color: transparent;\n",
              "      border-left-color: var(--fill-color);\n",
              "      border-top-color: var(--fill-color);\n",
              "    }\n",
              "    30% {\n",
              "      border-color: transparent;\n",
              "      border-left-color: var(--fill-color);\n",
              "      border-top-color: var(--fill-color);\n",
              "      border-right-color: var(--fill-color);\n",
              "    }\n",
              "    40% {\n",
              "      border-color: transparent;\n",
              "      border-right-color: var(--fill-color);\n",
              "      border-top-color: var(--fill-color);\n",
              "    }\n",
              "    60% {\n",
              "      border-color: transparent;\n",
              "      border-right-color: var(--fill-color);\n",
              "    }\n",
              "    80% {\n",
              "      border-color: transparent;\n",
              "      border-right-color: var(--fill-color);\n",
              "      border-bottom-color: var(--fill-color);\n",
              "    }\n",
              "    90% {\n",
              "      border-color: transparent;\n",
              "      border-bottom-color: var(--fill-color);\n",
              "    }\n",
              "  }\n",
              "</style>\n",
              "\n",
              "  <script>\n",
              "    async function quickchart(key) {\n",
              "      const quickchartButtonEl =\n",
              "        document.querySelector('#' + key + ' button');\n",
              "      quickchartButtonEl.disabled = true;  // To prevent multiple clicks.\n",
              "      quickchartButtonEl.classList.add('colab-df-spinner');\n",
              "      try {\n",
              "        const charts = await google.colab.kernel.invokeFunction(\n",
              "            'suggestCharts', [key], {});\n",
              "      } catch (error) {\n",
              "        console.error('Error during call to suggestCharts:', error);\n",
              "      }\n",
              "      quickchartButtonEl.classList.remove('colab-df-spinner');\n",
              "      quickchartButtonEl.classList.add('colab-df-quickchart-complete');\n",
              "    }\n",
              "    (() => {\n",
              "      let quickchartButtonEl =\n",
              "        document.querySelector('#df-1950e8fa-7984-4a6e-8bbd-9138500b95cb button');\n",
              "      quickchartButtonEl.style.display =\n",
              "        google.colab.kernel.accessAllowed ? 'block' : 'none';\n",
              "    })();\n",
              "  </script>\n",
              "</div>\n",
              "    </div>\n",
              "  </div>\n"
            ]
          },
          "metadata": {},
          "execution_count": 218
        }
      ]
    },
    {
      "cell_type": "code",
      "source": [
        "df.duplicated().sum()"
      ],
      "metadata": {
        "id": "vwPuGDVOz_Fq",
        "colab": {
          "base_uri": "https://localhost:8080/"
        },
        "outputId": "d1e57afa-2fc0-45b0-abca-1e85dd2ec140"
      },
      "execution_count": null,
      "outputs": [
        {
          "output_type": "execute_result",
          "data": {
            "text/plain": [
              "403"
            ]
          },
          "metadata": {},
          "execution_count": 219
        }
      ]
    },
    {
      "cell_type": "code",
      "source": [
        "# We have 403 duplicate rows\n",
        "df = df.drop_duplicates()"
      ],
      "metadata": {
        "id": "Pz4qE9Mj0Asi"
      },
      "execution_count": null,
      "outputs": []
    },
    {
      "cell_type": "markdown",
      "source": [
        "We'll rename our columns for a better general understanding, and encode our label into a binary target"
      ],
      "metadata": {
        "id": "OiVXd5kQuwr5"
      }
    },
    {
      "cell_type": "code",
      "source": [
        "df = df.rename(columns = {\"v1\" : \"label\", \"v2\" : \"content\"})\n",
        "df.head()"
      ],
      "metadata": {
        "id": "xu3HxOsfq0jd",
        "colab": {
          "base_uri": "https://localhost:8080/",
          "height": 206
        },
        "outputId": "f209059c-effc-4ccc-dabb-6a973ed5e81b"
      },
      "execution_count": null,
      "outputs": [
        {
          "output_type": "execute_result",
          "data": {
            "text/plain": [
              "  label                                            content\n",
              "0   ham  Go until jurong point, crazy.. Available only ...\n",
              "1   ham                      Ok lar... Joking wif u oni...\n",
              "2  spam  Free entry in 2 a wkly comp to win FA Cup fina...\n",
              "3   ham  U dun say so early hor... U c already then say...\n",
              "4   ham  Nah I don't think he goes to usf, he lives aro..."
            ],
            "text/html": [
              "\n",
              "  <div id=\"df-a4950c2e-7ba1-4622-8228-8edd3061f69b\" class=\"colab-df-container\">\n",
              "    <div>\n",
              "<style scoped>\n",
              "    .dataframe tbody tr th:only-of-type {\n",
              "        vertical-align: middle;\n",
              "    }\n",
              "\n",
              "    .dataframe tbody tr th {\n",
              "        vertical-align: top;\n",
              "    }\n",
              "\n",
              "    .dataframe thead th {\n",
              "        text-align: right;\n",
              "    }\n",
              "</style>\n",
              "<table border=\"1\" class=\"dataframe\">\n",
              "  <thead>\n",
              "    <tr style=\"text-align: right;\">\n",
              "      <th></th>\n",
              "      <th>label</th>\n",
              "      <th>content</th>\n",
              "    </tr>\n",
              "  </thead>\n",
              "  <tbody>\n",
              "    <tr>\n",
              "      <th>0</th>\n",
              "      <td>ham</td>\n",
              "      <td>Go until jurong point, crazy.. Available only ...</td>\n",
              "    </tr>\n",
              "    <tr>\n",
              "      <th>1</th>\n",
              "      <td>ham</td>\n",
              "      <td>Ok lar... Joking wif u oni...</td>\n",
              "    </tr>\n",
              "    <tr>\n",
              "      <th>2</th>\n",
              "      <td>spam</td>\n",
              "      <td>Free entry in 2 a wkly comp to win FA Cup fina...</td>\n",
              "    </tr>\n",
              "    <tr>\n",
              "      <th>3</th>\n",
              "      <td>ham</td>\n",
              "      <td>U dun say so early hor... U c already then say...</td>\n",
              "    </tr>\n",
              "    <tr>\n",
              "      <th>4</th>\n",
              "      <td>ham</td>\n",
              "      <td>Nah I don't think he goes to usf, he lives aro...</td>\n",
              "    </tr>\n",
              "  </tbody>\n",
              "</table>\n",
              "</div>\n",
              "    <div class=\"colab-df-buttons\">\n",
              "\n",
              "  <div class=\"colab-df-container\">\n",
              "    <button class=\"colab-df-convert\" onclick=\"convertToInteractive('df-a4950c2e-7ba1-4622-8228-8edd3061f69b')\"\n",
              "            title=\"Convert this dataframe to an interactive table.\"\n",
              "            style=\"display:none;\">\n",
              "\n",
              "  <svg xmlns=\"http://www.w3.org/2000/svg\" height=\"24px\" viewBox=\"0 -960 960 960\">\n",
              "    <path d=\"M120-120v-720h720v720H120Zm60-500h600v-160H180v160Zm220 220h160v-160H400v160Zm0 220h160v-160H400v160ZM180-400h160v-160H180v160Zm440 0h160v-160H620v160ZM180-180h160v-160H180v160Zm440 0h160v-160H620v160Z\"/>\n",
              "  </svg>\n",
              "    </button>\n",
              "\n",
              "  <style>\n",
              "    .colab-df-container {\n",
              "      display:flex;\n",
              "      gap: 12px;\n",
              "    }\n",
              "\n",
              "    .colab-df-convert {\n",
              "      background-color: #E8F0FE;\n",
              "      border: none;\n",
              "      border-radius: 50%;\n",
              "      cursor: pointer;\n",
              "      display: none;\n",
              "      fill: #1967D2;\n",
              "      height: 32px;\n",
              "      padding: 0 0 0 0;\n",
              "      width: 32px;\n",
              "    }\n",
              "\n",
              "    .colab-df-convert:hover {\n",
              "      background-color: #E2EBFA;\n",
              "      box-shadow: 0px 1px 2px rgba(60, 64, 67, 0.3), 0px 1px 3px 1px rgba(60, 64, 67, 0.15);\n",
              "      fill: #174EA6;\n",
              "    }\n",
              "\n",
              "    .colab-df-buttons div {\n",
              "      margin-bottom: 4px;\n",
              "    }\n",
              "\n",
              "    [theme=dark] .colab-df-convert {\n",
              "      background-color: #3B4455;\n",
              "      fill: #D2E3FC;\n",
              "    }\n",
              "\n",
              "    [theme=dark] .colab-df-convert:hover {\n",
              "      background-color: #434B5C;\n",
              "      box-shadow: 0px 1px 3px 1px rgba(0, 0, 0, 0.15);\n",
              "      filter: drop-shadow(0px 1px 2px rgba(0, 0, 0, 0.3));\n",
              "      fill: #FFFFFF;\n",
              "    }\n",
              "  </style>\n",
              "\n",
              "    <script>\n",
              "      const buttonEl =\n",
              "        document.querySelector('#df-a4950c2e-7ba1-4622-8228-8edd3061f69b button.colab-df-convert');\n",
              "      buttonEl.style.display =\n",
              "        google.colab.kernel.accessAllowed ? 'block' : 'none';\n",
              "\n",
              "      async function convertToInteractive(key) {\n",
              "        const element = document.querySelector('#df-a4950c2e-7ba1-4622-8228-8edd3061f69b');\n",
              "        const dataTable =\n",
              "          await google.colab.kernel.invokeFunction('convertToInteractive',\n",
              "                                                    [key], {});\n",
              "        if (!dataTable) return;\n",
              "\n",
              "        const docLinkHtml = 'Like what you see? Visit the ' +\n",
              "          '<a target=\"_blank\" href=https://colab.research.google.com/notebooks/data_table.ipynb>data table notebook</a>'\n",
              "          + ' to learn more about interactive tables.';\n",
              "        element.innerHTML = '';\n",
              "        dataTable['output_type'] = 'display_data';\n",
              "        await google.colab.output.renderOutput(dataTable, element);\n",
              "        const docLink = document.createElement('div');\n",
              "        docLink.innerHTML = docLinkHtml;\n",
              "        element.appendChild(docLink);\n",
              "      }\n",
              "    </script>\n",
              "  </div>\n",
              "\n",
              "\n",
              "<div id=\"df-61edf28b-bb19-4fe3-8b99-be208ef7eca3\">\n",
              "  <button class=\"colab-df-quickchart\" onclick=\"quickchart('df-61edf28b-bb19-4fe3-8b99-be208ef7eca3')\"\n",
              "            title=\"Suggest charts\"\n",
              "            style=\"display:none;\">\n",
              "\n",
              "<svg xmlns=\"http://www.w3.org/2000/svg\" height=\"24px\"viewBox=\"0 0 24 24\"\n",
              "     width=\"24px\">\n",
              "    <g>\n",
              "        <path d=\"M19 3H5c-1.1 0-2 .9-2 2v14c0 1.1.9 2 2 2h14c1.1 0 2-.9 2-2V5c0-1.1-.9-2-2-2zM9 17H7v-7h2v7zm4 0h-2V7h2v10zm4 0h-2v-4h2v4z\"/>\n",
              "    </g>\n",
              "</svg>\n",
              "  </button>\n",
              "\n",
              "<style>\n",
              "  .colab-df-quickchart {\n",
              "      --bg-color: #E8F0FE;\n",
              "      --fill-color: #1967D2;\n",
              "      --hover-bg-color: #E2EBFA;\n",
              "      --hover-fill-color: #174EA6;\n",
              "      --disabled-fill-color: #AAA;\n",
              "      --disabled-bg-color: #DDD;\n",
              "  }\n",
              "\n",
              "  [theme=dark] .colab-df-quickchart {\n",
              "      --bg-color: #3B4455;\n",
              "      --fill-color: #D2E3FC;\n",
              "      --hover-bg-color: #434B5C;\n",
              "      --hover-fill-color: #FFFFFF;\n",
              "      --disabled-bg-color: #3B4455;\n",
              "      --disabled-fill-color: #666;\n",
              "  }\n",
              "\n",
              "  .colab-df-quickchart {\n",
              "    background-color: var(--bg-color);\n",
              "    border: none;\n",
              "    border-radius: 50%;\n",
              "    cursor: pointer;\n",
              "    display: none;\n",
              "    fill: var(--fill-color);\n",
              "    height: 32px;\n",
              "    padding: 0;\n",
              "    width: 32px;\n",
              "  }\n",
              "\n",
              "  .colab-df-quickchart:hover {\n",
              "    background-color: var(--hover-bg-color);\n",
              "    box-shadow: 0 1px 2px rgba(60, 64, 67, 0.3), 0 1px 3px 1px rgba(60, 64, 67, 0.15);\n",
              "    fill: var(--button-hover-fill-color);\n",
              "  }\n",
              "\n",
              "  .colab-df-quickchart-complete:disabled,\n",
              "  .colab-df-quickchart-complete:disabled:hover {\n",
              "    background-color: var(--disabled-bg-color);\n",
              "    fill: var(--disabled-fill-color);\n",
              "    box-shadow: none;\n",
              "  }\n",
              "\n",
              "  .colab-df-spinner {\n",
              "    border: 2px solid var(--fill-color);\n",
              "    border-color: transparent;\n",
              "    border-bottom-color: var(--fill-color);\n",
              "    animation:\n",
              "      spin 1s steps(1) infinite;\n",
              "  }\n",
              "\n",
              "  @keyframes spin {\n",
              "    0% {\n",
              "      border-color: transparent;\n",
              "      border-bottom-color: var(--fill-color);\n",
              "      border-left-color: var(--fill-color);\n",
              "    }\n",
              "    20% {\n",
              "      border-color: transparent;\n",
              "      border-left-color: var(--fill-color);\n",
              "      border-top-color: var(--fill-color);\n",
              "    }\n",
              "    30% {\n",
              "      border-color: transparent;\n",
              "      border-left-color: var(--fill-color);\n",
              "      border-top-color: var(--fill-color);\n",
              "      border-right-color: var(--fill-color);\n",
              "    }\n",
              "    40% {\n",
              "      border-color: transparent;\n",
              "      border-right-color: var(--fill-color);\n",
              "      border-top-color: var(--fill-color);\n",
              "    }\n",
              "    60% {\n",
              "      border-color: transparent;\n",
              "      border-right-color: var(--fill-color);\n",
              "    }\n",
              "    80% {\n",
              "      border-color: transparent;\n",
              "      border-right-color: var(--fill-color);\n",
              "      border-bottom-color: var(--fill-color);\n",
              "    }\n",
              "    90% {\n",
              "      border-color: transparent;\n",
              "      border-bottom-color: var(--fill-color);\n",
              "    }\n",
              "  }\n",
              "</style>\n",
              "\n",
              "  <script>\n",
              "    async function quickchart(key) {\n",
              "      const quickchartButtonEl =\n",
              "        document.querySelector('#' + key + ' button');\n",
              "      quickchartButtonEl.disabled = true;  // To prevent multiple clicks.\n",
              "      quickchartButtonEl.classList.add('colab-df-spinner');\n",
              "      try {\n",
              "        const charts = await google.colab.kernel.invokeFunction(\n",
              "            'suggestCharts', [key], {});\n",
              "      } catch (error) {\n",
              "        console.error('Error during call to suggestCharts:', error);\n",
              "      }\n",
              "      quickchartButtonEl.classList.remove('colab-df-spinner');\n",
              "      quickchartButtonEl.classList.add('colab-df-quickchart-complete');\n",
              "    }\n",
              "    (() => {\n",
              "      let quickchartButtonEl =\n",
              "        document.querySelector('#df-61edf28b-bb19-4fe3-8b99-be208ef7eca3 button');\n",
              "      quickchartButtonEl.style.display =\n",
              "        google.colab.kernel.accessAllowed ? 'block' : 'none';\n",
              "    })();\n",
              "  </script>\n",
              "</div>\n",
              "    </div>\n",
              "  </div>\n"
            ]
          },
          "metadata": {},
          "execution_count": 221
        }
      ]
    },
    {
      "cell_type": "code",
      "source": [
        "df[\"target\"] = df[\"label\"].apply(lambda x : 0 if x == \"ham\" else 1)\n",
        "df.head()"
      ],
      "metadata": {
        "id": "YnXUi-vDspXn",
        "colab": {
          "base_uri": "https://localhost:8080/",
          "height": 206
        },
        "outputId": "852f365b-9d6d-416f-eb3e-7df1fdf09140"
      },
      "execution_count": null,
      "outputs": [
        {
          "output_type": "execute_result",
          "data": {
            "text/plain": [
              "  label                                            content  target\n",
              "0   ham  Go until jurong point, crazy.. Available only ...       0\n",
              "1   ham                      Ok lar... Joking wif u oni...       0\n",
              "2  spam  Free entry in 2 a wkly comp to win FA Cup fina...       1\n",
              "3   ham  U dun say so early hor... U c already then say...       0\n",
              "4   ham  Nah I don't think he goes to usf, he lives aro...       0"
            ],
            "text/html": [
              "\n",
              "  <div id=\"df-e23d4829-ecd3-4d28-aeca-7d469b7a0f7f\" class=\"colab-df-container\">\n",
              "    <div>\n",
              "<style scoped>\n",
              "    .dataframe tbody tr th:only-of-type {\n",
              "        vertical-align: middle;\n",
              "    }\n",
              "\n",
              "    .dataframe tbody tr th {\n",
              "        vertical-align: top;\n",
              "    }\n",
              "\n",
              "    .dataframe thead th {\n",
              "        text-align: right;\n",
              "    }\n",
              "</style>\n",
              "<table border=\"1\" class=\"dataframe\">\n",
              "  <thead>\n",
              "    <tr style=\"text-align: right;\">\n",
              "      <th></th>\n",
              "      <th>label</th>\n",
              "      <th>content</th>\n",
              "      <th>target</th>\n",
              "    </tr>\n",
              "  </thead>\n",
              "  <tbody>\n",
              "    <tr>\n",
              "      <th>0</th>\n",
              "      <td>ham</td>\n",
              "      <td>Go until jurong point, crazy.. Available only ...</td>\n",
              "      <td>0</td>\n",
              "    </tr>\n",
              "    <tr>\n",
              "      <th>1</th>\n",
              "      <td>ham</td>\n",
              "      <td>Ok lar... Joking wif u oni...</td>\n",
              "      <td>0</td>\n",
              "    </tr>\n",
              "    <tr>\n",
              "      <th>2</th>\n",
              "      <td>spam</td>\n",
              "      <td>Free entry in 2 a wkly comp to win FA Cup fina...</td>\n",
              "      <td>1</td>\n",
              "    </tr>\n",
              "    <tr>\n",
              "      <th>3</th>\n",
              "      <td>ham</td>\n",
              "      <td>U dun say so early hor... U c already then say...</td>\n",
              "      <td>0</td>\n",
              "    </tr>\n",
              "    <tr>\n",
              "      <th>4</th>\n",
              "      <td>ham</td>\n",
              "      <td>Nah I don't think he goes to usf, he lives aro...</td>\n",
              "      <td>0</td>\n",
              "    </tr>\n",
              "  </tbody>\n",
              "</table>\n",
              "</div>\n",
              "    <div class=\"colab-df-buttons\">\n",
              "\n",
              "  <div class=\"colab-df-container\">\n",
              "    <button class=\"colab-df-convert\" onclick=\"convertToInteractive('df-e23d4829-ecd3-4d28-aeca-7d469b7a0f7f')\"\n",
              "            title=\"Convert this dataframe to an interactive table.\"\n",
              "            style=\"display:none;\">\n",
              "\n",
              "  <svg xmlns=\"http://www.w3.org/2000/svg\" height=\"24px\" viewBox=\"0 -960 960 960\">\n",
              "    <path d=\"M120-120v-720h720v720H120Zm60-500h600v-160H180v160Zm220 220h160v-160H400v160Zm0 220h160v-160H400v160ZM180-400h160v-160H180v160Zm440 0h160v-160H620v160ZM180-180h160v-160H180v160Zm440 0h160v-160H620v160Z\"/>\n",
              "  </svg>\n",
              "    </button>\n",
              "\n",
              "  <style>\n",
              "    .colab-df-container {\n",
              "      display:flex;\n",
              "      gap: 12px;\n",
              "    }\n",
              "\n",
              "    .colab-df-convert {\n",
              "      background-color: #E8F0FE;\n",
              "      border: none;\n",
              "      border-radius: 50%;\n",
              "      cursor: pointer;\n",
              "      display: none;\n",
              "      fill: #1967D2;\n",
              "      height: 32px;\n",
              "      padding: 0 0 0 0;\n",
              "      width: 32px;\n",
              "    }\n",
              "\n",
              "    .colab-df-convert:hover {\n",
              "      background-color: #E2EBFA;\n",
              "      box-shadow: 0px 1px 2px rgba(60, 64, 67, 0.3), 0px 1px 3px 1px rgba(60, 64, 67, 0.15);\n",
              "      fill: #174EA6;\n",
              "    }\n",
              "\n",
              "    .colab-df-buttons div {\n",
              "      margin-bottom: 4px;\n",
              "    }\n",
              "\n",
              "    [theme=dark] .colab-df-convert {\n",
              "      background-color: #3B4455;\n",
              "      fill: #D2E3FC;\n",
              "    }\n",
              "\n",
              "    [theme=dark] .colab-df-convert:hover {\n",
              "      background-color: #434B5C;\n",
              "      box-shadow: 0px 1px 3px 1px rgba(0, 0, 0, 0.15);\n",
              "      filter: drop-shadow(0px 1px 2px rgba(0, 0, 0, 0.3));\n",
              "      fill: #FFFFFF;\n",
              "    }\n",
              "  </style>\n",
              "\n",
              "    <script>\n",
              "      const buttonEl =\n",
              "        document.querySelector('#df-e23d4829-ecd3-4d28-aeca-7d469b7a0f7f button.colab-df-convert');\n",
              "      buttonEl.style.display =\n",
              "        google.colab.kernel.accessAllowed ? 'block' : 'none';\n",
              "\n",
              "      async function convertToInteractive(key) {\n",
              "        const element = document.querySelector('#df-e23d4829-ecd3-4d28-aeca-7d469b7a0f7f');\n",
              "        const dataTable =\n",
              "          await google.colab.kernel.invokeFunction('convertToInteractive',\n",
              "                                                    [key], {});\n",
              "        if (!dataTable) return;\n",
              "\n",
              "        const docLinkHtml = 'Like what you see? Visit the ' +\n",
              "          '<a target=\"_blank\" href=https://colab.research.google.com/notebooks/data_table.ipynb>data table notebook</a>'\n",
              "          + ' to learn more about interactive tables.';\n",
              "        element.innerHTML = '';\n",
              "        dataTable['output_type'] = 'display_data';\n",
              "        await google.colab.output.renderOutput(dataTable, element);\n",
              "        const docLink = document.createElement('div');\n",
              "        docLink.innerHTML = docLinkHtml;\n",
              "        element.appendChild(docLink);\n",
              "      }\n",
              "    </script>\n",
              "  </div>\n",
              "\n",
              "\n",
              "<div id=\"df-7e74e673-c682-4134-b2a0-75d70403dd52\">\n",
              "  <button class=\"colab-df-quickchart\" onclick=\"quickchart('df-7e74e673-c682-4134-b2a0-75d70403dd52')\"\n",
              "            title=\"Suggest charts\"\n",
              "            style=\"display:none;\">\n",
              "\n",
              "<svg xmlns=\"http://www.w3.org/2000/svg\" height=\"24px\"viewBox=\"0 0 24 24\"\n",
              "     width=\"24px\">\n",
              "    <g>\n",
              "        <path d=\"M19 3H5c-1.1 0-2 .9-2 2v14c0 1.1.9 2 2 2h14c1.1 0 2-.9 2-2V5c0-1.1-.9-2-2-2zM9 17H7v-7h2v7zm4 0h-2V7h2v10zm4 0h-2v-4h2v4z\"/>\n",
              "    </g>\n",
              "</svg>\n",
              "  </button>\n",
              "\n",
              "<style>\n",
              "  .colab-df-quickchart {\n",
              "      --bg-color: #E8F0FE;\n",
              "      --fill-color: #1967D2;\n",
              "      --hover-bg-color: #E2EBFA;\n",
              "      --hover-fill-color: #174EA6;\n",
              "      --disabled-fill-color: #AAA;\n",
              "      --disabled-bg-color: #DDD;\n",
              "  }\n",
              "\n",
              "  [theme=dark] .colab-df-quickchart {\n",
              "      --bg-color: #3B4455;\n",
              "      --fill-color: #D2E3FC;\n",
              "      --hover-bg-color: #434B5C;\n",
              "      --hover-fill-color: #FFFFFF;\n",
              "      --disabled-bg-color: #3B4455;\n",
              "      --disabled-fill-color: #666;\n",
              "  }\n",
              "\n",
              "  .colab-df-quickchart {\n",
              "    background-color: var(--bg-color);\n",
              "    border: none;\n",
              "    border-radius: 50%;\n",
              "    cursor: pointer;\n",
              "    display: none;\n",
              "    fill: var(--fill-color);\n",
              "    height: 32px;\n",
              "    padding: 0;\n",
              "    width: 32px;\n",
              "  }\n",
              "\n",
              "  .colab-df-quickchart:hover {\n",
              "    background-color: var(--hover-bg-color);\n",
              "    box-shadow: 0 1px 2px rgba(60, 64, 67, 0.3), 0 1px 3px 1px rgba(60, 64, 67, 0.15);\n",
              "    fill: var(--button-hover-fill-color);\n",
              "  }\n",
              "\n",
              "  .colab-df-quickchart-complete:disabled,\n",
              "  .colab-df-quickchart-complete:disabled:hover {\n",
              "    background-color: var(--disabled-bg-color);\n",
              "    fill: var(--disabled-fill-color);\n",
              "    box-shadow: none;\n",
              "  }\n",
              "\n",
              "  .colab-df-spinner {\n",
              "    border: 2px solid var(--fill-color);\n",
              "    border-color: transparent;\n",
              "    border-bottom-color: var(--fill-color);\n",
              "    animation:\n",
              "      spin 1s steps(1) infinite;\n",
              "  }\n",
              "\n",
              "  @keyframes spin {\n",
              "    0% {\n",
              "      border-color: transparent;\n",
              "      border-bottom-color: var(--fill-color);\n",
              "      border-left-color: var(--fill-color);\n",
              "    }\n",
              "    20% {\n",
              "      border-color: transparent;\n",
              "      border-left-color: var(--fill-color);\n",
              "      border-top-color: var(--fill-color);\n",
              "    }\n",
              "    30% {\n",
              "      border-color: transparent;\n",
              "      border-left-color: var(--fill-color);\n",
              "      border-top-color: var(--fill-color);\n",
              "      border-right-color: var(--fill-color);\n",
              "    }\n",
              "    40% {\n",
              "      border-color: transparent;\n",
              "      border-right-color: var(--fill-color);\n",
              "      border-top-color: var(--fill-color);\n",
              "    }\n",
              "    60% {\n",
              "      border-color: transparent;\n",
              "      border-right-color: var(--fill-color);\n",
              "    }\n",
              "    80% {\n",
              "      border-color: transparent;\n",
              "      border-right-color: var(--fill-color);\n",
              "      border-bottom-color: var(--fill-color);\n",
              "    }\n",
              "    90% {\n",
              "      border-color: transparent;\n",
              "      border-bottom-color: var(--fill-color);\n",
              "    }\n",
              "  }\n",
              "</style>\n",
              "\n",
              "  <script>\n",
              "    async function quickchart(key) {\n",
              "      const quickchartButtonEl =\n",
              "        document.querySelector('#' + key + ' button');\n",
              "      quickchartButtonEl.disabled = true;  // To prevent multiple clicks.\n",
              "      quickchartButtonEl.classList.add('colab-df-spinner');\n",
              "      try {\n",
              "        const charts = await google.colab.kernel.invokeFunction(\n",
              "            'suggestCharts', [key], {});\n",
              "      } catch (error) {\n",
              "        console.error('Error during call to suggestCharts:', error);\n",
              "      }\n",
              "      quickchartButtonEl.classList.remove('colab-df-spinner');\n",
              "      quickchartButtonEl.classList.add('colab-df-quickchart-complete');\n",
              "    }\n",
              "    (() => {\n",
              "      let quickchartButtonEl =\n",
              "        document.querySelector('#df-7e74e673-c682-4134-b2a0-75d70403dd52 button');\n",
              "      quickchartButtonEl.style.display =\n",
              "        google.colab.kernel.accessAllowed ? 'block' : 'none';\n",
              "    })();\n",
              "  </script>\n",
              "</div>\n",
              "    </div>\n",
              "  </div>\n"
            ]
          },
          "metadata": {},
          "execution_count": 222
        }
      ]
    },
    {
      "cell_type": "code",
      "source": [
        "df[\"label\"].value_counts().to_list() == df[\"target\"].value_counts().to_list()"
      ],
      "metadata": {
        "id": "Y4fODk-oy1JD",
        "colab": {
          "base_uri": "https://localhost:8080/"
        },
        "outputId": "eb075a65-f1e1-4cb1-a6ec-a227fb6a1baa"
      },
      "execution_count": null,
      "outputs": [
        {
          "output_type": "execute_result",
          "data": {
            "text/plain": [
              "True"
            ]
          },
          "metadata": {},
          "execution_count": 223
        }
      ]
    },
    {
      "cell_type": "markdown",
      "source": [
        "We need to observe the distribution of our data : if we have a very imbalanced proportion of each category, this might affect the performances of our model."
      ],
      "metadata": {
        "id": "k4bkUQ9H0RGc"
      }
    },
    {
      "cell_type": "code",
      "source": [
        "df.label.value_counts(normalize = True)"
      ],
      "metadata": {
        "id": "m9XSs94ezwh1",
        "colab": {
          "base_uri": "https://localhost:8080/"
        },
        "outputId": "9d76cecd-ae05-40d7-edd3-265457cfd7cf"
      },
      "execution_count": null,
      "outputs": [
        {
          "output_type": "execute_result",
          "data": {
            "text/plain": [
              "ham     0.87367\n",
              "spam    0.12633\n",
              "Name: label, dtype: float64"
            ]
          },
          "metadata": {},
          "execution_count": 224
        }
      ]
    },
    {
      "cell_type": "code",
      "source": [
        "plt.figure(figsize=(8, 6))\n",
        "sns.countplot(data = df, x = 'label')\n",
        "plt.title('Distribution of Ham and Spam email messages')\n",
        "plt.xlabel('Message types')\n",
        "plt.show()"
      ],
      "metadata": {
        "id": "r67sjMBp0rxn",
        "colab": {
          "base_uri": "https://localhost:8080/",
          "height": 564
        },
        "outputId": "f1356717-69e3-4ac8-f654-2e5531e4caa7"
      },
      "execution_count": null,
      "outputs": [
        {
          "output_type": "display_data",
          "data": {
            "text/plain": [
              "<Figure size 800x600 with 1 Axes>"
            ],
            "image/png": "[encoded data removed]"
          },
          "metadata": {}
        }
      ]
    },
    {
      "cell_type": "markdown",
      "source": [
        "This shows how imbalanced our data is : we have a lot less spam than legit mail in the dataset.\n",
        "\n",
        "This means 2 things for us :    \n",
        "\n",
        "\n",
        "*   First, it will be absolutely necessary to stratify our train-test-split\n",
        "*   Second, if our model has an accuracy of approximately 0.88, this might not mean that it performs well but rather that is always predicts a mail as ham, and therefore never detects spam!\n",
        "\n",
        "If our model performance in the end is not great, we might need to resample our dataset to have balanced proportions of each target.\n",
        "\n"
      ],
      "metadata": {
        "id": "vVXh3KIy1LfG"
      }
    },
    {
      "cell_type": "markdown",
      "source": [
        "One useful visualization for NLP is wordclouds : let's produce wordclouds for both our targets and see if something stands out."
      ],
      "metadata": {
        "id": "UyWfg_dk1uxX"
      }
    },
    {
      "cell_type": "code",
      "source": [
        "def plot_word_cloud(data, label):\n",
        "    email_corpus = \" \".join(data['content'])\n",
        "\n",
        "    plt.figure(figsize=(7, 7))\n",
        "\n",
        "    wc = WordCloud(background_color='black',\n",
        "                   max_words=100,\n",
        "                   width=800,\n",
        "                   height=400,\n",
        "                   collocations = False).generate(email_corpus)\n",
        "\n",
        "    plt.imshow(wc, interpolation='bilinear')\n",
        "    plt.title(f'WordCloud for {label} emails', fontsize=15)\n",
        "    plt.axis('off')\n",
        "    plt.show()\n",
        "\n",
        "plot_word_cloud(df[df[\"label\"] == \"ham\"], 'Non-Spam')\n",
        "plot_word_cloud(df[df[\"label\"] == \"spam\"], 'Spam')"
      ],
      "metadata": {
        "id": "2U7a-PwJ06zK",
        "colab": {
          "base_uri": "https://localhost:8080/",
          "height": 647
        },
        "outputId": "e2ba5dad-750a-4fa3-a538-8071bebb224f"
      },
      "execution_count": null,
      "outputs": [
        {
          "output_type": "display_data",
          "data": {
            "text/plain": [
              "<Figure size 700x700 with 1 Axes>"
            ],
            "image/png": "[encoded data removed]"
          },
          "metadata": {}
        },
        {
          "output_type": "display_data",
          "data": {
            "text/plain": [
              "<Figure size 700x700 with 1 Axes>"
            ],
            "image/png": "[encoded data removed]"
          },
          "metadata": {}
        }
      ]
    },
    {
      "cell_type": "markdown",
      "source": [
        "That's a pretty interesting (and expected) result : spam mails tend to contain high frequencies of words such as \"free\", \"claim, \"prize\", \"win\", \"call\", \"urgent\", that are typical clickbaits."
      ],
      "metadata": {
        "id": "mqzj7T6z4ZGF"
      }
    },
    {
      "cell_type": "markdown",
      "source": [
        "# 2. Text preprocessing\n",
        "\n",
        "Before training a Deep Learning model on our data, we need to transform our raw text into a clean and tokenized format.\n",
        "\n",
        "We will :\n",
        "- remove all punctuation or special characters and keep only alphanumerical characters, single whitespaces and apostrophes\n",
        "- put everything in lower case and remove excess whitespaces at the beginning or end of each text\n",
        "- remove stop words\n",
        "- replace each word with its lemmatized token"
      ],
      "metadata": {
        "id": "K_MQnJys6nM8"
      }
    },
    {
      "cell_type": "code",
      "source": [
        "nlp = en_core_web_sm.load()"
      ],
      "metadata": {
        "id": "fWLKv7LnGX3f"
      },
      "execution_count": null,
      "outputs": []
    },
    {
      "cell_type": "code",
      "source": [
        "df[\"clean_content\"] = df[\"content\"].apply(lambda x:''.join(ch for ch in x if ch.isalnum() or ch == \" \" or ch == \"'\"))\n",
        "df[\"clean_content\"] = df[\"clean_content\"].apply(lambda x : x.replace(\" +\", \" \").lower().strip())\n",
        "df[\"clean_content\"] = df[\"clean_content\"].apply(lambda x : \" \".join([token.lemma_ for token in nlp(x) if (token.text not in STOP_WORDS) & (token.lemma_ not in STOP_WORDS)]))\n",
        "df"
      ],
      "metadata": {
        "id": "09pAUVuuBqfW",
        "colab": {
          "base_uri": "https://localhost:8080/",
          "height": 424
        },
        "outputId": "728839f2-3b0c-4d55-fb70-89a82dec7421"
      },
      "execution_count": null,
      "outputs": [
        {
          "output_type": "execute_result",
          "data": {
            "text/plain": [
              "     label                                            content  target  \\\n",
              "0      ham  Go until jurong point, crazy.. Available only ...       0   \n",
              "1      ham                      Ok lar... Joking wif u oni...       0   \n",
              "2     spam  Free entry in 2 a wkly comp to win FA Cup fina...       1   \n",
              "3      ham  U dun say so early hor... U c already then say...       0   \n",
              "4      ham  Nah I don't think he goes to usf, he lives aro...       0   \n",
              "...    ...                                                ...     ...   \n",
              "5567  spam  This is the 2nd time we have tried 2 contact u...       1   \n",
              "5568   ham              Will Ì_ b going to esplanade fr home?       0   \n",
              "5569   ham  Pity, * was in mood for that. So...any other s...       0   \n",
              "5570   ham  The guy did some bitching but I acted like i'd...       0   \n",
              "5571   ham                         Rofl. Its true to its name       0   \n",
              "\n",
              "                                          clean_content  \n",
              "0     jurong point crazy available bugis n great wor...  \n",
              "1                                 ok lar joke wif u oni  \n",
              "2     free entry 2 wkly comp win fa cup final tkts 2...  \n",
              "3                                   u dun early hor u c  \n",
              "4                                    nah think usf live  \n",
              "...                                                 ...  \n",
              "5567  2nd time try 2 contact u u win å750 pound priz...  \n",
              "5568                              ì b esplanade fr home  \n",
              "5569                       pity   mood soany suggestion  \n",
              "5570     guy bitching act like interested buy week free  \n",
              "5571                                          rofl true  \n",
              "\n",
              "[5169 rows x 4 columns]"
            ],
            "text/html": [
              "\n",
              "  <div id=\"df-64d5d179-f34d-4a1f-8368-579e39688f63\" class=\"colab-df-container\">\n",
              "    <div>\n",
              "<style scoped>\n",
              "    .dataframe tbody tr th:only-of-type {\n",
              "        vertical-align: middle;\n",
              "    }\n",
              "\n",
              "    .dataframe tbody tr th {\n",
              "        vertical-align: top;\n",
              "    }\n",
              "\n",
              "    .dataframe thead th {\n",
              "        text-align: right;\n",
              "    }\n",
              "</style>\n",
              "<table border=\"1\" class=\"dataframe\">\n",
              "  <thead>\n",
              "    <tr style=\"text-align: right;\">\n",
              "      <th></th>\n",
              "      <th>label</th>\n",
              "      <th>content</th>\n",
              "      <th>target</th>\n",
              "      <th>clean_content</th>\n",
              "    </tr>\n",
              "  </thead>\n",
              "  <tbody>\n",
              "    <tr>\n",
              "      <th>0</th>\n",
              "      <td>ham</td>\n",
              "      <td>Go until jurong point, crazy.. Available only ...</td>\n",
              "      <td>0</td>\n",
              "      <td>jurong point crazy available bugis n great wor...</td>\n",
              "    </tr>\n",
              "    <tr>\n",
              "      <th>1</th>\n",
              "      <td>ham</td>\n",
              "      <td>Ok lar... Joking wif u oni...</td>\n",
              "      <td>0</td>\n",
              "      <td>ok lar joke wif u oni</td>\n",
              "    </tr>\n",
              "    <tr>\n",
              "      <th>2</th>\n",
              "      <td>spam</td>\n",
              "      <td>Free entry in 2 a wkly comp to win FA Cup fina...</td>\n",
              "      <td>1</td>\n",
              "      <td>free entry 2 wkly comp win fa cup final tkts 2...</td>\n",
              "    </tr>\n",
              "    <tr>\n",
              "      <th>3</th>\n",
              "      <td>ham</td>\n",
              "      <td>U dun say so early hor... U c already then say...</td>\n",
              "      <td>0</td>\n",
              "      <td>u dun early hor u c</td>\n",
              "    </tr>\n",
              "    <tr>\n",
              "      <th>4</th>\n",
              "      <td>ham</td>\n",
              "      <td>Nah I don't think he goes to usf, he lives aro...</td>\n",
              "      <td>0</td>\n",
              "      <td>nah think usf live</td>\n",
              "    </tr>\n",
              "    <tr>\n",
              "      <th>...</th>\n",
              "      <td>...</td>\n",
              "      <td>...</td>\n",
              "      <td>...</td>\n",
              "      <td>...</td>\n",
              "    </tr>\n",
              "    <tr>\n",
              "      <th>5567</th>\n",
              "      <td>spam</td>\n",
              "      <td>This is the 2nd time we have tried 2 contact u...</td>\n",
              "      <td>1</td>\n",
              "      <td>2nd time try 2 contact u u win å750 pound priz...</td>\n",
              "    </tr>\n",
              "    <tr>\n",
              "      <th>5568</th>\n",
              "      <td>ham</td>\n",
              "      <td>Will Ì_ b going to esplanade fr home?</td>\n",
              "      <td>0</td>\n",
              "      <td>ì b esplanade fr home</td>\n",
              "    </tr>\n",
              "    <tr>\n",
              "      <th>5569</th>\n",
              "      <td>ham</td>\n",
              "      <td>Pity, * was in mood for that. So...any other s...</td>\n",
              "      <td>0</td>\n",
              "      <td>pity   mood soany suggestion</td>\n",
              "    </tr>\n",
              "    <tr>\n",
              "      <th>5570</th>\n",
              "      <td>ham</td>\n",
              "      <td>The guy did some bitching but I acted like i'd...</td>\n",
              "      <td>0</td>\n",
              "      <td>guy bitching act like interested buy week free</td>\n",
              "    </tr>\n",
              "    <tr>\n",
              "      <th>5571</th>\n",
              "      <td>ham</td>\n",
              "      <td>Rofl. Its true to its name</td>\n",
              "      <td>0</td>\n",
              "      <td>rofl true</td>\n",
              "    </tr>\n",
              "  </tbody>\n",
              "</table>\n",
              "<p>5169 rows × 4 columns</p>\n",
              "</div>\n",
              "    <div class=\"colab-df-buttons\">\n",
              "\n",
              "  <div class=\"colab-df-container\">\n",
              "    <button class=\"colab-df-convert\" onclick=\"convertToInteractive('df-64d5d179-f34d-4a1f-8368-579e39688f63')\"\n",
              "            title=\"Convert this dataframe to an interactive table.\"\n",
              "            style=\"display:none;\">\n",
              "\n",
              "  <svg xmlns=\"http://www.w3.org/2000/svg\" height=\"24px\" viewBox=\"0 -960 960 960\">\n",
              "    <path d=\"M120-120v-720h720v720H120Zm60-500h600v-160H180v160Zm220 220h160v-160H400v160Zm0 220h160v-160H400v160ZM180-400h160v-160H180v160Zm440 0h160v-160H620v160ZM180-180h160v-160H180v160Zm440 0h160v-160H620v160Z\"/>\n",
              "  </svg>\n",
              "    </button>\n",
              "\n",
              "  <style>\n",
              "    .colab-df-container {\n",
              "      display:flex;\n",
              "      gap: 12px;\n",
              "    }\n",
              "\n",
              "    .colab-df-convert {\n",
              "      background-color: #E8F0FE;\n",
              "      border: none;\n",
              "      border-radius: 50%;\n",
              "      cursor: pointer;\n",
              "      display: none;\n",
              "      fill: #1967D2;\n",
              "      height: 32px;\n",
              "      padding: 0 0 0 0;\n",
              "      width: 32px;\n",
              "    }\n",
              "\n",
              "    .colab-df-convert:hover {\n",
              "      background-color: #E2EBFA;\n",
              "      box-shadow: 0px 1px 2px rgba(60, 64, 67, 0.3), 0px 1px 3px 1px rgba(60, 64, 67, 0.15);\n",
              "      fill: #174EA6;\n",
              "    }\n",
              "\n",
              "    .colab-df-buttons div {\n",
              "      margin-bottom: 4px;\n",
              "    }\n",
              "\n",
              "    [theme=dark] .colab-df-convert {\n",
              "      background-color: #3B4455;\n",
              "      fill: #D2E3FC;\n",
              "    }\n",
              "\n",
              "    [theme=dark] .colab-df-convert:hover {\n",
              "      background-color: #434B5C;\n",
              "      box-shadow: 0px 1px 3px 1px rgba(0, 0, 0, 0.15);\n",
              "      filter: drop-shadow(0px 1px 2px rgba(0, 0, 0, 0.3));\n",
              "      fill: #FFFFFF;\n",
              "    }\n",
              "  </style>\n",
              "\n",
              "    <script>\n",
              "      const buttonEl =\n",
              "        document.querySelector('#df-64d5d179-f34d-4a1f-8368-579e39688f63 button.colab-df-convert');\n",
              "      buttonEl.style.display =\n",
              "        google.colab.kernel.accessAllowed ? 'block' : 'none';\n",
              "\n",
              "      async function convertToInteractive(key) {\n",
              "        const element = document.querySelector('#df-64d5d179-f34d-4a1f-8368-579e39688f63');\n",
              "        const dataTable =\n",
              "          await google.colab.kernel.invokeFunction('convertToInteractive',\n",
              "                                                    [key], {});\n",
              "        if (!dataTable) return;\n",
              "\n",
              "        const docLinkHtml = 'Like what you see? Visit the ' +\n",
              "          '<a target=\"_blank\" href=https://colab.research.google.com/notebooks/data_table.ipynb>data table notebook</a>'\n",
              "          + ' to learn more about interactive tables.';\n",
              "        element.innerHTML = '';\n",
              "        dataTable['output_type'] = 'display_data';\n",
              "        await google.colab.output.renderOutput(dataTable, element);\n",
              "        const docLink = document.createElement('div');\n",
              "        docLink.innerHTML = docLinkHtml;\n",
              "        element.appendChild(docLink);\n",
              "      }\n",
              "    </script>\n",
              "  </div>\n",
              "\n",
              "\n",
              "<div id=\"df-434de512-d4d7-426e-8839-38199e97d713\">\n",
              "  <button class=\"colab-df-quickchart\" onclick=\"quickchart('df-434de512-d4d7-426e-8839-38199e97d713')\"\n",
              "            title=\"Suggest charts\"\n",
              "            style=\"display:none;\">\n",
              "\n",
              "<svg xmlns=\"http://www.w3.org/2000/svg\" height=\"24px\"viewBox=\"0 0 24 24\"\n",
              "     width=\"24px\">\n",
              "    <g>\n",
              "        <path d=\"M19 3H5c-1.1 0-2 .9-2 2v14c0 1.1.9 2 2 2h14c1.1 0 2-.9 2-2V5c0-1.1-.9-2-2-2zM9 17H7v-7h2v7zm4 0h-2V7h2v10zm4 0h-2v-4h2v4z\"/>\n",
              "    </g>\n",
              "</svg>\n",
              "  </button>\n",
              "\n",
              "<style>\n",
              "  .colab-df-quickchart {\n",
              "      --bg-color: #E8F0FE;\n",
              "      --fill-color: #1967D2;\n",
              "      --hover-bg-color: #E2EBFA;\n",
              "      --hover-fill-color: #174EA6;\n",
              "      --disabled-fill-color: #AAA;\n",
              "      --disabled-bg-color: #DDD;\n",
              "  }\n",
              "\n",
              "  [theme=dark] .colab-df-quickchart {\n",
              "      --bg-color: #3B4455;\n",
              "      --fill-color: #D2E3FC;\n",
              "      --hover-bg-color: #434B5C;\n",
              "      --hover-fill-color: #FFFFFF;\n",
              "      --disabled-bg-color: #3B4455;\n",
              "      --disabled-fill-color: #666;\n",
              "  }\n",
              "\n",
              "  .colab-df-quickchart {\n",
              "    background-color: var(--bg-color);\n",
              "    border: none;\n",
              "    border-radius: 50%;\n",
              "    cursor: pointer;\n",
              "    display: none;\n",
              "    fill: var(--fill-color);\n",
              "    height: 32px;\n",
              "    padding: 0;\n",
              "    width: 32px;\n",
              "  }\n",
              "\n",
              "  .colab-df-quickchart:hover {\n",
              "    background-color: var(--hover-bg-color);\n",
              "    box-shadow: 0 1px 2px rgba(60, 64, 67, 0.3), 0 1px 3px 1px rgba(60, 64, 67, 0.15);\n",
              "    fill: var(--button-hover-fill-color);\n",
              "  }\n",
              "\n",
              "  .colab-df-quickchart-complete:disabled,\n",
              "  .colab-df-quickchart-complete:disabled:hover {\n",
              "    background-color: var(--disabled-bg-color);\n",
              "    fill: var(--disabled-fill-color);\n",
              "    box-shadow: none;\n",
              "  }\n",
              "\n",
              "  .colab-df-spinner {\n",
              "    border: 2px solid var(--fill-color);\n",
              "    border-color: transparent;\n",
              "    border-bottom-color: var(--fill-color);\n",
              "    animation:\n",
              "      spin 1s steps(1) infinite;\n",
              "  }\n",
              "\n",
              "  @keyframes spin {\n",
              "    0% {\n",
              "      border-color: transparent;\n",
              "      border-bottom-color: var(--fill-color);\n",
              "      border-left-color: var(--fill-color);\n",
              "    }\n",
              "    20% {\n",
              "      border-color: transparent;\n",
              "      border-left-color: var(--fill-color);\n",
              "      border-top-color: var(--fill-color);\n",
              "    }\n",
              "    30% {\n",
              "      border-color: transparent;\n",
              "      border-left-color: var(--fill-color);\n",
              "      border-top-color: var(--fill-color);\n",
              "      border-right-color: var(--fill-color);\n",
              "    }\n",
              "    40% {\n",
              "      border-color: transparent;\n",
              "      border-right-color: var(--fill-color);\n",
              "      border-top-color: var(--fill-color);\n",
              "    }\n",
              "    60% {\n",
              "      border-color: transparent;\n",
              "      border-right-color: var(--fill-color);\n",
              "    }\n",
              "    80% {\n",
              "      border-color: transparent;\n",
              "      border-right-color: var(--fill-color);\n",
              "      border-bottom-color: var(--fill-color);\n",
              "    }\n",
              "    90% {\n",
              "      border-color: transparent;\n",
              "      border-bottom-color: var(--fill-color);\n",
              "    }\n",
              "  }\n",
              "</style>\n",
              "\n",
              "  <script>\n",
              "    async function quickchart(key) {\n",
              "      const quickchartButtonEl =\n",
              "        document.querySelector('#' + key + ' button');\n",
              "      quickchartButtonEl.disabled = true;  // To prevent multiple clicks.\n",
              "      quickchartButtonEl.classList.add('colab-df-spinner');\n",
              "      try {\n",
              "        const charts = await google.colab.kernel.invokeFunction(\n",
              "            'suggestCharts', [key], {});\n",
              "      } catch (error) {\n",
              "        console.error('Error during call to suggestCharts:', error);\n",
              "      }\n",
              "      quickchartButtonEl.classList.remove('colab-df-spinner');\n",
              "      quickchartButtonEl.classList.add('colab-df-quickchart-complete');\n",
              "    }\n",
              "    (() => {\n",
              "      let quickchartButtonEl =\n",
              "        document.querySelector('#df-434de512-d4d7-426e-8839-38199e97d713 button');\n",
              "      quickchartButtonEl.style.display =\n",
              "        google.colab.kernel.accessAllowed ? 'block' : 'none';\n",
              "    })();\n",
              "  </script>\n",
              "</div>\n",
              "    </div>\n",
              "  </div>\n"
            ]
          },
          "metadata": {},
          "execution_count": 228
        }
      ]
    },
    {
      "cell_type": "code",
      "source": [
        "# Checking all of our \"clean_content\" column is indeed in string format\n",
        "df[\"clean_content\"].apply(lambda x : type(x) == str).value_counts()"
      ],
      "metadata": {
        "id": "9OBKYAEkDtZX",
        "colab": {
          "base_uri": "https://localhost:8080/"
        },
        "outputId": "2e67e015-17b3-448a-f92f-b90d26cd106b"
      },
      "execution_count": null,
      "outputs": [
        {
          "output_type": "execute_result",
          "data": {
            "text/plain": [
              "True    5169\n",
              "Name: clean_content, dtype: int64"
            ]
          },
          "metadata": {},
          "execution_count": 229
        }
      ]
    },
    {
      "cell_type": "markdown",
      "source": [
        "We now have completed the preprocessing of each message's content.\n",
        "\n",
        "Sometimes the preprocessing removes all the words in a string (because they contain only stopwords for example) so we'll filter out those observations."
      ],
      "metadata": {
        "id": "LcNtlxdsEBem"
      }
    },
    {
      "cell_type": "code",
      "source": [
        "df[\"len_review\"] = df[\"clean_content\"].apply(lambda x: len(x))\n",
        "df = df[df[\"len_review\"]!=0]\n",
        "df = df.drop(\"len_review\", axis = 1)\n",
        "df.shape"
      ],
      "metadata": {
        "id": "4bus8V1_Lav9",
        "colab": {
          "base_uri": "https://localhost:8080/"
        },
        "outputId": "07723659-5524-4fb4-af64-279794a2c6a2"
      },
      "execution_count": null,
      "outputs": [
        {
          "output_type": "execute_result",
          "data": {
            "text/plain": [
              "(5151, 4)"
            ]
          },
          "metadata": {},
          "execution_count": 230
        }
      ]
    },
    {
      "cell_type": "markdown",
      "source": [
        "# 3. Train test split, tokenizing and building tensorflow datasets\n",
        "\n",
        "We'll split our data into train set (60%), validation set (20%), and test set (20%). And since our data is imbalanced, we'll stratify to preserve the proportions of each class of our target."
      ],
      "metadata": {
        "id": "isLNz59TLq6T"
      }
    },
    {
      "cell_type": "code",
      "source": [
        "X_train, X_rest, Y_train, Y_rest = train_test_split(df[\"clean_content\"], df[\"target\"], test_size = 0.4, stratify = df[\"target\"], random_state = 42) #train set is 60%\n",
        "X_val, X_test, Y_val, Y_test = train_test_split(X_rest, Y_rest, test_size=0.5, stratify = Y_rest, random_state = 42) #splitting the remaining 40% in half to get 20% in val set and 20% in test set\n",
        "# random_state ensures reproductibility\n",
        "print(\"X_train\", X_train.shape, \"Y_train\", Y_train.shape)\n",
        "print(\"X_val\", X_val.shape, \"Y_val\", Y_val.shape)\n",
        "print(\"X_test\", X_test.shape, \"Y_test\", Y_test.shape)"
      ],
      "metadata": {
        "id": "XctKyAXlGGqX",
        "colab": {
          "base_uri": "https://localhost:8080/"
        },
        "outputId": "6f3793cc-2cd5-4573-e929-487f7a186754"
      },
      "execution_count": null,
      "outputs": [
        {
          "output_type": "stream",
          "name": "stdout",
          "text": [
            "X_train (3090,) Y_train (3090,)\n",
            "X_val (1030,) Y_val (1030,)\n",
            "X_test (1031,) Y_test (1031,)\n"
          ]
        }
      ]
    },
    {
      "cell_type": "markdown",
      "source": [
        "We will now instanciate a tokenizer and encode our texts : we will fit on the train set, and then transform all texts."
      ],
      "metadata": {
        "id": "7UF34uw2PcCt"
      }
    },
    {
      "cell_type": "code",
      "source": [
        "tokenizer = tf.keras.preprocessing.text.Tokenizer(num_words=1000, oov_token = \"out_of_vocab\") # For now we'll only keep the 1000 most common words, we might change this later and see how it affects performance"
      ],
      "metadata": {
        "id": "ElJ4hgGNPc1_"
      },
      "execution_count": null,
      "outputs": []
    },
    {
      "cell_type": "code",
      "source": [
        "tokenizer.fit_on_texts(X_train)\n",
        "\n",
        "X_train_encoded = tokenizer.texts_to_sequences(X_train)\n",
        "X_val_encoded = tokenizer.texts_to_sequences(X_val)\n",
        "X_test_encoded = tokenizer.texts_to_sequences(X_test)"
      ],
      "metadata": {
        "id": "Pvq9WThOPf1u"
      },
      "execution_count": null,
      "outputs": []
    },
    {
      "cell_type": "markdown",
      "source": [
        "In order to build an tensorflow dataset that can be used to train our deep learning model, we need to convert our encoded texts to numpy arrays of a unique size. To attain this, we'll use padding."
      ],
      "metadata": {
        "id": "00wrbaKsQHRV"
      }
    },
    {
      "cell_type": "code",
      "source": [
        "train_padded = tf.keras.preprocessing.sequence.pad_sequences(X_train_encoded, padding=\"post\")\n",
        "val_padded = tf.keras.preprocessing.sequence.pad_sequences(X_val_encoded, padding=\"post\")\n",
        "test_padded = tf.keras.preprocessing.sequence.pad_sequences(X_test_encoded, padding=\"post\")"
      ],
      "metadata": {
        "id": "6dc7vsXRQHn2"
      },
      "execution_count": null,
      "outputs": []
    },
    {
      "cell_type": "markdown",
      "source": [
        "We are now able to build three tensor slice datasets using the training, validation and test data."
      ],
      "metadata": {
        "id": "kNBspEsbL8Bv"
      }
    },
    {
      "cell_type": "code",
      "source": [
        "train = tf.data.Dataset.from_tensor_slices((train_padded, Y_train))\n",
        "val = tf.data.Dataset.from_tensor_slices((val_padded, Y_val))\n",
        "test = tf.data.Dataset.from_tensor_slices((test_padded, Y_test))"
      ],
      "metadata": {
        "id": "O2LLd048K-4J"
      },
      "execution_count": null,
      "outputs": []
    },
    {
      "cell_type": "markdown",
      "source": [
        "Now we can shuffle our datasets and arrange them in batches."
      ],
      "metadata": {
        "id": "n-njuZOnMIrw"
      }
    },
    {
      "cell_type": "code",
      "source": [
        "train_batch = train.shuffle(len(X_train)).batch(64)\n",
        "val_batch = val.shuffle(len(X_val)).batch(64)\n",
        "test_batch = test.shuffle(len(X_test)).batch(64)\n",
        "\n",
        "# Let's check out what these batches look like\n",
        "print(\"train batch:\", next(iter(train_batch)))\n",
        "print(\"val batch:\", next(iter(val_batch)))\n",
        "print(\"test batch:\", next(iter(test_batch)))"
      ],
      "metadata": {
        "id": "eBzKeglIMWf3",
        "colab": {
          "base_uri": "https://localhost:8080/"
        },
        "outputId": "a3bac9db-1565-4834-d7a0-9e5cf822fe50"
      },
      "execution_count": null,
      "outputs": [
        {
          "output_type": "stream",
          "name": "stdout",
          "text": [
            "train batch: (<tf.Tensor: shape=(64, 74), dtype=int32, numpy=\n",
            "array([[916,   1,   0, ...,   0,   0,   0],\n",
            "       [  1,   1,   0, ...,   0,   0,   0],\n",
            "       [213, 224, 158, ...,   0,   0,   0],\n",
            "       ...,\n",
            "       [519,   1,   1, ...,   0,   0,   0],\n",
            "       [547,   8,   1, ...,   0,   0,   0],\n",
            "       [ 37,  63,  15, ...,   0,   0,   0]], dtype=int32)>, <tf.Tensor: shape=(64,), dtype=int64, numpy=\n",
            "array([0, 0, 0, 1, 0, 0, 0, 0, 0, 0, 0, 0, 0, 0, 0, 0, 0, 0, 0, 0, 0, 0,\n",
            "       0, 0, 0, 0, 0, 0, 0, 0, 0, 0, 0, 0, 0, 0, 0, 1, 0, 0, 0, 0, 0, 0,\n",
            "       0, 0, 0, 0, 0, 0, 1, 0, 0, 1, 0, 0, 0, 1, 0, 0, 0, 0, 0, 0])>)\n",
            "val batch: (<tf.Tensor: shape=(64, 57), dtype=int32, numpy=\n",
            "array([[  5,  23,  12, ...,   0,   0,   0],\n",
            "       [ 93, 607, 598, ...,   0,   0,   0],\n",
            "       [286,  15,  69, ...,   0,   0,   0],\n",
            "       ...,\n",
            "       [203, 854,   6, ...,   0,   0,   0],\n",
            "       [420,   1,   1, ...,   0,   0,   0],\n",
            "       [ 75,   9, 331, ...,   0,   0,   0]], dtype=int32)>, <tf.Tensor: shape=(64,), dtype=int64, numpy=\n",
            "array([0, 0, 0, 0, 0, 1, 0, 0, 0, 0, 0, 0, 0, 0, 1, 0, 0, 0, 1, 1, 0, 1,\n",
            "       0, 0, 0, 0, 0, 0, 1, 0, 0, 0, 0, 0, 0, 0, 0, 1, 0, 0, 1, 0, 0, 1,\n",
            "       0, 0, 0, 0, 0, 0, 0, 0, 0, 0, 0, 0, 0, 0, 0, 0, 0, 1, 0, 0])>)\n",
            "test batch: (<tf.Tensor: shape=(64, 61), dtype=int32, numpy=\n",
            "array([[530,   0,   0, ...,   0,   0,   0],\n",
            "       [134,  22,   1, ...,   0,   0,   0],\n",
            "       [  7, 275, 191, ...,   0,   0,   0],\n",
            "       ...,\n",
            "       [ 20,   1,  55, ...,   0,   0,   0],\n",
            "       [173,   5, 531, ...,   0,   0,   0],\n",
            "       [ 70, 346,   1, ...,   0,   0,   0]], dtype=int32)>, <tf.Tensor: shape=(64,), dtype=int64, numpy=\n",
            "array([0, 1, 0, 0, 0, 0, 0, 1, 0, 0, 0, 0, 0, 0, 0, 0, 0, 0, 0, 0, 0, 0,\n",
            "       0, 0, 0, 0, 0, 0, 0, 0, 0, 0, 0, 0, 0, 0, 0, 0, 0, 0, 0, 0, 0, 1,\n",
            "       0, 0, 0, 0, 1, 0, 1, 0, 1, 0, 0, 0, 0, 0, 0, 0, 1, 0, 0, 0])>)\n"
          ]
        }
      ]
    },
    {
      "cell_type": "markdown",
      "source": [
        "We are now ready to implement and train our first deep learning model!"
      ],
      "metadata": {
        "id": "b5LtBIxBOCuY"
      }
    },
    {
      "cell_type": "markdown",
      "source": [
        "# 4. First neural network\n",
        "\n",
        "## Building our model\n",
        "\n",
        "We'll build our first neural network to be as simple as possible. It will be a sequential model including :    \n",
        "\n",
        "\n",
        "*   an Embedding layer to convert our texts into vectors\n",
        "\n",
        "*   a Pooling layer to compress the information (after the embedding layer, each text is transformed into as many vectors as there are words) into an embedded sequence\n",
        "*   A Dense layer\n",
        "\n",
        "\n",
        "*   The prediction layer : since we're faced with a binary classification problem, this layer will have 1 neuron and a sigmoid activation function\n",
        "\n"
      ],
      "metadata": {
        "id": "jKuziCggOGQc"
      }
    },
    {
      "cell_type": "code",
      "source": [
        "embedding_dim = 8\n",
        "vocab_size = tokenizer.num_words + 1 # the number of words in the vocabulary : the input dim needs to be equal to the size of the vocabulary + 1 (because of the zero padding)\n",
        "\n",
        "model = Sequential([\n",
        "  Embedding(\n",
        "      input_dim = vocab_size,\n",
        "      output_dim = embedding_dim,\n",
        "      name = \"embedding\"), # the embedding layer\n",
        "  GlobalAveragePooling1D(), # this will pick the average for every word in the sentence along each dimension of the representation space.\n",
        "  Dense(16, activation='relu'), # a dense layer\n",
        "  Dense(1, activation=\"sigmoid\") # the prediction layer\n",
        "])"
      ],
      "metadata": {
        "id": "IKzOJmYjN3I8"
      },
      "execution_count": null,
      "outputs": []
    },
    {
      "cell_type": "code",
      "source": [
        "model.summary()"
      ],
      "metadata": {
        "id": "fcuBwdOHYQHV",
        "colab": {
          "base_uri": "https://localhost:8080/"
        },
        "outputId": "0e4acbe6-2f74-43fb-ddb8-0b5c793c4d57"
      },
      "execution_count": null,
      "outputs": [
        {
          "output_type": "stream",
          "name": "stdout",
          "text": [
            "Model: \"sequential_10\"\n",
            "_________________________________________________________________\n",
            " Layer (type)                Output Shape              Param #   \n",
            "=================================================================\n",
            " embedding (Embedding)       (None, None, 8)           8008      \n",
            "                                                                 \n",
            " global_average_pooling1d_1  (None, 8)                 0         \n",
            " 0 (GlobalAveragePooling1D)                                      \n",
            "                                                                 \n",
            " dense_20 (Dense)            (None, 16)                144       \n",
            "                                                                 \n",
            " dense_21 (Dense)            (None, 1)                 17        \n",
            "                                                                 \n",
            "=================================================================\n",
            "Total params: 8169 (31.91 KB)\n",
            "Trainable params: 8169 (31.91 KB)\n",
            "Non-trainable params: 0 (0.00 Byte)\n",
            "_________________________________________________________________\n"
          ]
        }
      ]
    },
    {
      "cell_type": "code",
      "source": [
        "model.compile(loss = tf.keras.losses.BinaryCrossentropy(from_logits = True), # from_logits = True to interpret y_pred as a tensor of logit values and not a probability\n",
        "              metrics = ['accuracy'],\n",
        "              optimizer = 'adam')"
      ],
      "metadata": {
        "id": "M3rf-jC3Z2KZ"
      },
      "execution_count": null,
      "outputs": []
    },
    {
      "cell_type": "markdown",
      "source": [
        "## Training our model\n",
        "\n",
        "Before fitting, we'll setup callbacks :\n",
        "\n",
        "Callbacks are used to check whether the model is improving with each epoch or not.\n",
        "\n",
        "If model performance is not improving then training will be stopped by EarlyStopping.\n",
        "\n",
        "ReduceLROnPlateau reduces learning rate when a metric has stopped improving\n",
        "(models often benefit from reducing the learning rate by a factor of 2-10 once learning stagnates). This callback monitors a quantity and if no improvement is seen for a 'patience' number of epochs, the learning rate is reduced."
      ],
      "metadata": {
        "id": "CtS5nGFwZWRA"
      }
    },
    {
      "cell_type": "code",
      "source": [
        "es = EarlyStopping(patience=20,\n",
        "                   monitor = 'val_accuracy',\n",
        "                   restore_best_weights = True)\n",
        "\n",
        "lr = ReduceLROnPlateau(patience = 20,\n",
        "                       monitor = 'val_loss',\n",
        "                       factor = 0.5)"
      ],
      "metadata": {
        "id": "kSyDmeWMYWzr"
      },
      "execution_count": null,
      "outputs": []
    },
    {
      "cell_type": "markdown",
      "source": [
        "Let's train our model !"
      ],
      "metadata": {
        "id": "zouU5sPec1A1"
      }
    },
    {
      "cell_type": "code",
      "source": [
        "history = model.fit(train_batch,\n",
        "                    epochs = 50,\n",
        "                    callbacks = [lr, es],\n",
        "                    validation_data = val_batch\n",
        "                   )"
      ],
      "metadata": {
        "id": "Gq10cCHTfazJ",
        "colab": {
          "base_uri": "https://localhost:8080/"
        },
        "outputId": "cda1b72e-bd7f-4930-d98a-9785e09f002e"
      },
      "execution_count": null,
      "outputs": [
        {
          "output_type": "stream",
          "name": "stdout",
          "text": [
            "Epoch 1/50\n",
            "49/49 [==============================] - 1s 11ms/step - loss: 0.6524 - accuracy: 0.8731 - val_loss: 0.6137 - val_accuracy: 0.8738 - lr: 0.0010\n",
            "Epoch 2/50\n",
            "49/49 [==============================] - 0s 7ms/step - loss: 0.5703 - accuracy: 0.8731 - val_loss: 0.5201 - val_accuracy: 0.8738 - lr: 0.0010\n",
            "Epoch 3/50\n",
            "49/49 [==============================] - 0s 6ms/step - loss: 0.4724 - accuracy: 0.8731 - val_loss: 0.4207 - val_accuracy: 0.8738 - lr: 0.0010\n",
            "Epoch 4/50\n",
            "49/49 [==============================] - 0s 6ms/step - loss: 0.3917 - accuracy: 0.8731 - val_loss: 0.3601 - val_accuracy: 0.8738 - lr: 0.0010\n",
            "Epoch 5/50\n",
            "49/49 [==============================] - 0s 4ms/step - loss: 0.3560 - accuracy: 0.8731 - val_loss: 0.3379 - val_accuracy: 0.8738 - lr: 0.0010\n",
            "Epoch 6/50\n",
            "49/49 [==============================] - 0s 5ms/step - loss: 0.3441 - accuracy: 0.8731 - val_loss: 0.3256 - val_accuracy: 0.8738 - lr: 0.0010\n",
            "Epoch 7/50\n",
            "49/49 [==============================] - 0s 4ms/step - loss: 0.3361 - accuracy: 0.8731 - val_loss: 0.3153 - val_accuracy: 0.8738 - lr: 0.0010\n",
            "Epoch 8/50\n",
            "49/49 [==============================] - 0s 5ms/step - loss: 0.3279 - accuracy: 0.8731 - val_loss: 0.3041 - val_accuracy: 0.8738 - lr: 0.0010\n",
            "Epoch 9/50\n",
            "49/49 [==============================] - 0s 4ms/step - loss: 0.3186 - accuracy: 0.8731 - val_loss: 0.2918 - val_accuracy: 0.8738 - lr: 0.0010\n",
            "Epoch 10/50\n",
            "49/49 [==============================] - 0s 4ms/step - loss: 0.3084 - accuracy: 0.8731 - val_loss: 0.2802 - val_accuracy: 0.8738 - lr: 0.0010\n",
            "Epoch 11/50\n",
            "49/49 [==============================] - 0s 4ms/step - loss: 0.2960 - accuracy: 0.8731 - val_loss: 0.2629 - val_accuracy: 0.8738 - lr: 0.0010\n",
            "Epoch 12/50\n",
            "49/49 [==============================] - 0s 5ms/step - loss: 0.2824 - accuracy: 0.8731 - val_loss: 0.2494 - val_accuracy: 0.8738 - lr: 0.0010\n",
            "Epoch 13/50\n",
            "49/49 [==============================] - 0s 4ms/step - loss: 0.2668 - accuracy: 0.8731 - val_loss: 0.2338 - val_accuracy: 0.8738 - lr: 0.0010\n",
            "Epoch 14/50\n",
            "49/49 [==============================] - 0s 4ms/step - loss: 0.2495 - accuracy: 0.8731 - val_loss: 0.2133 - val_accuracy: 0.8738 - lr: 0.0010\n",
            "Epoch 15/50\n",
            "49/49 [==============================] - 0s 5ms/step - loss: 0.2271 - accuracy: 0.8741 - val_loss: 0.1914 - val_accuracy: 0.9175 - lr: 0.0010\n",
            "Epoch 16/50\n",
            "49/49 [==============================] - 0s 4ms/step - loss: 0.2016 - accuracy: 0.8964 - val_loss: 0.1745 - val_accuracy: 0.9524 - lr: 0.0010\n",
            "Epoch 17/50\n",
            "49/49 [==============================] - 0s 4ms/step - loss: 0.1784 - accuracy: 0.9282 - val_loss: 0.1548 - val_accuracy: 0.9641 - lr: 0.0010\n",
            "Epoch 18/50\n",
            "49/49 [==============================] - 0s 4ms/step - loss: 0.1586 - accuracy: 0.9453 - val_loss: 0.1404 - val_accuracy: 0.9660 - lr: 0.0010\n",
            "Epoch 19/50\n",
            "49/49 [==============================] - 0s 5ms/step - loss: 0.1423 - accuracy: 0.9528 - val_loss: 0.1243 - val_accuracy: 0.9670 - lr: 0.0010\n",
            "Epoch 20/50\n",
            "49/49 [==============================] - 0s 4ms/step - loss: 0.1293 - accuracy: 0.9583 - val_loss: 0.1148 - val_accuracy: 0.9689 - lr: 0.0010\n",
            "Epoch 21/50\n",
            "49/49 [==============================] - 0s 5ms/step - loss: 0.1187 - accuracy: 0.9618 - val_loss: 0.1070 - val_accuracy: 0.9689 - lr: 0.0010\n",
            "Epoch 22/50\n",
            "49/49 [==============================] - 0s 3ms/step - loss: 0.1104 - accuracy: 0.9650 - val_loss: 0.0985 - val_accuracy: 0.9709 - lr: 0.0010\n",
            "Epoch 23/50\n",
            "49/49 [==============================] - 0s 4ms/step - loss: 0.1019 - accuracy: 0.9683 - val_loss: 0.0950 - val_accuracy: 0.9728 - lr: 0.0010\n",
            "Epoch 24/50\n",
            "49/49 [==============================] - 0s 4ms/step - loss: 0.0951 - accuracy: 0.9689 - val_loss: 0.0938 - val_accuracy: 0.9748 - lr: 0.0010\n",
            "Epoch 25/50\n",
            "49/49 [==============================] - 0s 4ms/step - loss: 0.0889 - accuracy: 0.9718 - val_loss: 0.0858 - val_accuracy: 0.9777 - lr: 0.0010\n",
            "Epoch 26/50\n",
            "49/49 [==============================] - 0s 4ms/step - loss: 0.0829 - accuracy: 0.9735 - val_loss: 0.0841 - val_accuracy: 0.9757 - lr: 0.0010\n",
            "Epoch 27/50\n",
            "49/49 [==============================] - 0s 5ms/step - loss: 0.0779 - accuracy: 0.9764 - val_loss: 0.0786 - val_accuracy: 0.9786 - lr: 0.0010\n",
            "Epoch 28/50\n",
            "49/49 [==============================] - 0s 4ms/step - loss: 0.0734 - accuracy: 0.9780 - val_loss: 0.0792 - val_accuracy: 0.9777 - lr: 0.0010\n",
            "Epoch 29/50\n",
            "49/49 [==============================] - 0s 4ms/step - loss: 0.0692 - accuracy: 0.9803 - val_loss: 0.0762 - val_accuracy: 0.9777 - lr: 0.0010\n",
            "Epoch 30/50\n",
            "49/49 [==============================] - 0s 4ms/step - loss: 0.0653 - accuracy: 0.9806 - val_loss: 0.0737 - val_accuracy: 0.9786 - lr: 0.0010\n",
            "Epoch 31/50\n",
            "49/49 [==============================] - 0s 5ms/step - loss: 0.0621 - accuracy: 0.9816 - val_loss: 0.0683 - val_accuracy: 0.9786 - lr: 0.0010\n",
            "Epoch 32/50\n",
            "49/49 [==============================] - 0s 4ms/step - loss: 0.0592 - accuracy: 0.9819 - val_loss: 0.0687 - val_accuracy: 0.9816 - lr: 0.0010\n",
            "Epoch 33/50\n",
            "49/49 [==============================] - 0s 4ms/step - loss: 0.0568 - accuracy: 0.9838 - val_loss: 0.0667 - val_accuracy: 0.9816 - lr: 0.0010\n",
            "Epoch 34/50\n",
            "49/49 [==============================] - 0s 5ms/step - loss: 0.0551 - accuracy: 0.9835 - val_loss: 0.0711 - val_accuracy: 0.9786 - lr: 0.0010\n",
            "Epoch 35/50\n",
            "49/49 [==============================] - 0s 4ms/step - loss: 0.0522 - accuracy: 0.9845 - val_loss: 0.0647 - val_accuracy: 0.9796 - lr: 0.0010\n",
            "Epoch 36/50\n",
            "49/49 [==============================] - 0s 4ms/step - loss: 0.0501 - accuracy: 0.9848 - val_loss: 0.0675 - val_accuracy: 0.9786 - lr: 0.0010\n",
            "Epoch 37/50\n",
            "49/49 [==============================] - 0s 4ms/step - loss: 0.0485 - accuracy: 0.9848 - val_loss: 0.0647 - val_accuracy: 0.9796 - lr: 0.0010\n",
            "Epoch 38/50\n",
            "49/49 [==============================] - 0s 4ms/step - loss: 0.0471 - accuracy: 0.9858 - val_loss: 0.0628 - val_accuracy: 0.9806 - lr: 0.0010\n",
            "Epoch 39/50\n",
            "49/49 [==============================] - 0s 6ms/step - loss: 0.0448 - accuracy: 0.9854 - val_loss: 0.0670 - val_accuracy: 0.9786 - lr: 0.0010\n",
            "Epoch 40/50\n",
            "49/49 [==============================] - 0s 7ms/step - loss: 0.0445 - accuracy: 0.9861 - val_loss: 0.0671 - val_accuracy: 0.9786 - lr: 0.0010\n",
            "Epoch 41/50\n",
            "49/49 [==============================] - 0s 7ms/step - loss: 0.0433 - accuracy: 0.9871 - val_loss: 0.0641 - val_accuracy: 0.9796 - lr: 0.0010\n",
            "Epoch 42/50\n",
            "49/49 [==============================] - 0s 7ms/step - loss: 0.0406 - accuracy: 0.9877 - val_loss: 0.0601 - val_accuracy: 0.9806 - lr: 0.0010\n",
            "Epoch 43/50\n",
            "49/49 [==============================] - 0s 4ms/step - loss: 0.0404 - accuracy: 0.9883 - val_loss: 0.0591 - val_accuracy: 0.9816 - lr: 0.0010\n",
            "Epoch 44/50\n",
            "49/49 [==============================] - 0s 4ms/step - loss: 0.0391 - accuracy: 0.9877 - val_loss: 0.0593 - val_accuracy: 0.9816 - lr: 0.0010\n",
            "Epoch 45/50\n",
            "49/49 [==============================] - 0s 4ms/step - loss: 0.0383 - accuracy: 0.9896 - val_loss: 0.0612 - val_accuracy: 0.9806 - lr: 0.0010\n",
            "Epoch 46/50\n",
            "49/49 [==============================] - 0s 4ms/step - loss: 0.0367 - accuracy: 0.9890 - val_loss: 0.0627 - val_accuracy: 0.9806 - lr: 0.0010\n",
            "Epoch 47/50\n",
            "49/49 [==============================] - 0s 4ms/step - loss: 0.0356 - accuracy: 0.9890 - val_loss: 0.0628 - val_accuracy: 0.9806 - lr: 0.0010\n",
            "Epoch 48/50\n",
            "49/49 [==============================] - 0s 4ms/step - loss: 0.0347 - accuracy: 0.9896 - val_loss: 0.0620 - val_accuracy: 0.9816 - lr: 0.0010\n",
            "Epoch 49/50\n",
            "49/49 [==============================] - 0s 4ms/step - loss: 0.0338 - accuracy: 0.9900 - val_loss: 0.0616 - val_accuracy: 0.9816 - lr: 0.0010\n",
            "Epoch 50/50\n",
            "49/49 [==============================] - 0s 4ms/step - loss: 0.0333 - accuracy: 0.9903 - val_loss: 0.0626 - val_accuracy: 0.9806 - lr: 0.0010\n"
          ]
        }
      ]
    },
    {
      "cell_type": "markdown",
      "source": [
        "## Model evaluation\n",
        "\n",
        "It seems our model is performing quite well :    \n",
        "\n",
        "\n",
        "*   Our training loss consistently decreases\n",
        "*   So does our val_loss so there doesn't seem to be overfitting\n",
        "\n",
        "\n",
        "*   Our training accuracy is initially static but starts increasing after 13 epochs and reaches a very good score of over 99%!\n",
        "*   More importantly, our validation accuracy behaves in the same way and reaches a value close to 99% so it seems our model is good at generalizing\n",
        "\n",
        "\n",
        "\n"
      ],
      "metadata": {
        "id": "DZXBjsc7nJZn"
      }
    },
    {
      "cell_type": "code",
      "source": [
        "fig = go.Figure(data=[\n",
        "                      go.Scatter(\n",
        "                          y = model.history.history[\"loss\"],\n",
        "                          name=\"Training loss\",\n",
        "                          mode=\"lines\",\n",
        "                          marker=dict(\n",
        "                              color=color_chart[0]\n",
        "                          )),\n",
        "                      go.Scatter(\n",
        "                          y = model.history.history[\"val_loss\"],\n",
        "                          name=\"Validation loss\",\n",
        "                          mode=\"lines\",\n",
        "                          marker=dict(\n",
        "                              color=color_chart[1]\n",
        "                          ))\n",
        "])\n",
        "fig.update_layout(\n",
        "    title='Training and val loss across epochs',\n",
        "    xaxis_title='epochs',\n",
        "    yaxis_title='Binary Cross Entropy'\n",
        ")\n",
        "fig.show()"
      ],
      "metadata": {
        "id": "rH-2q_C7i5Am",
        "colab": {
          "base_uri": "https://localhost:8080/",
          "height": 542
        },
        "outputId": "1590e1b8-25ae-40cf-9241-36520bf13f7c"
      },
      "execution_count": null,
      "outputs": [
        {
          "output_type": "display_data",
          "data": {
            "text/html": [
              "<html>\n",
              "<head><meta charset=\"utf-8\" /></head>\n",
              "<body>\n",
              "    <div>            <script src=\"https://cdnjs.cloudflare.com/ajax/libs/mathjax/2.7.5/MathJax.js?config=TeX-AMS-MML_SVG\"></script><script type=\"text/javascript\">if (window.MathJax && window.MathJax.Hub && window.MathJax.Hub.Config) {window.MathJax.Hub.Config({SVG: {font: \"STIX-Web\"}});}</script>                <script type=\"text/javascript\">window.PlotlyConfig = {MathJaxConfig: 'local'};</script>\n",
              "        <script charset=\"utf-8\" src=\"https://cdn.plot.ly/plotly-2.24.1.min.js\"></script>                <div id=\"b5628026-87ae-4293-835a-cfd6695db3e9\" class=\"plotly-graph-div\" style=\"height:525px; width:100%;\"></div>            <script type=\"text/javascript\">                                    window.PLOTLYENV=window.PLOTLYENV || {};                                    if (document.getElementById(\"b5628026-87ae-4293-835a-cfd6695db3e9\")) {                    Plotly.newPlot(                        \"b5628026-87ae-4293-835a-cfd6695db3e9\",                        [{\"marker\":{\"color\":\"#4B9AC7\"},\"mode\":\"lines\",\"name\":\"Training loss\",\"y\":[0.6523508429527283,0.570294976234436,0.4724193513393402,0.39168524742126465,0.3560159206390381,0.3441340923309326,0.3361496925354004,0.32785725593566895,0.318552166223526,0.3083539307117462,0.29604870080947876,0.28242579102516174,0.26684391498565674,0.24954932928085327,0.22708499431610107,0.2016027718782425,0.17844830453395844,0.15863220393657684,0.1422862559556961,0.1293414831161499,0.11866679042577744,0.11044596880674362,0.10188429057598114,0.09511339664459229,0.08894293010234833,0.08292711526155472,0.07789066433906555,0.07344675064086914,0.06921805441379547,0.06531387567520142,0.062102023512125015,0.05922316759824753,0.05678069591522217,0.05506634712219238,0.05216053128242493,0.050053875893354416,0.048535604029893875,0.047128334641456604,0.04477448761463165,0.044518113136291504,0.04327720031142235,0.04061788693070412,0.04038730263710022,0.03907201811671257,0.038267455995082855,0.036689482629299164,0.03564823046326637,0.034747760742902756,0.03381131961941719,0.03334513306617737],\"type\":\"scatter\"},{\"marker\":{\"color\":\"#4BE8E0\"},\"mode\":\"lines\",\"name\":\"Validation loss\",\"y\":[0.613677978515625,0.5201097726821899,0.4206998944282532,0.36008140444755554,0.3379330635070801,0.32556506991386414,0.3152778446674347,0.3041497468948364,0.2917575240135193,0.2801847755908966,0.26290425658226013,0.24941471219062805,0.23380781710147858,0.213327094912529,0.19139806926250458,0.174518421292305,0.15484736859798431,0.140362948179245,0.12431083619594574,0.11478341370820999,0.10696201026439667,0.0984698161482811,0.09499886631965637,0.09377460181713104,0.08578719943761826,0.08409261703491211,0.07856769114732742,0.07916424423456192,0.07619918882846832,0.07372551411390305,0.06825597584247589,0.06872610747814178,0.06670979410409927,0.07112434506416321,0.06465993076562881,0.06750854104757309,0.06472711265087128,0.06284146755933762,0.06695588678121567,0.06706039607524872,0.06405855715274811,0.060080286115407944,0.059146471321582794,0.05930756404995918,0.06124625355005264,0.06266205757856369,0.06282046437263489,0.06200679391622543,0.06157788261771202,0.06255822628736496],\"type\":\"scatter\"}],                        {\"template\":{\"data\":{\"histogram2dcontour\":[{\"type\":\"histogram2dcontour\",\"colorbar\":{\"outlinewidth\":0,\"ticks\":\"\"},\"colorscale\":[[0.0,\"#0d0887\"],[0.1111111111111111,\"#46039f\"],[0.2222222222222222,\"#7201a8\"],[0.3333333333333333,\"#9c179e\"],[0.4444444444444444,\"#bd3786\"],[0.5555555555555556,\"#d8576b\"],[0.6666666666666666,\"#ed7953\"],[0.7777777777777778,\"#fb9f3a\"],[0.8888888888888888,\"#fdca26\"],[1.0,\"#f0f921\"]]}],\"choropleth\":[{\"type\":\"choropleth\",\"colorbar\":{\"outlinewidth\":0,\"ticks\":\"\"}}],\"histogram2d\":[{\"type\":\"histogram2d\",\"colorbar\":{\"outlinewidth\":0,\"ticks\":\"\"},\"colorscale\":[[0.0,\"#0d0887\"],[0.1111111111111111,\"#46039f\"],[0.2222222222222222,\"#7201a8\"],[0.3333333333333333,\"#9c179e\"],[0.4444444444444444,\"#bd3786\"],[0.5555555555555556,\"#d8576b\"],[0.6666666666666666,\"#ed7953\"],[0.7777777777777778,\"#fb9f3a\"],[0.8888888888888888,\"#fdca26\"],[1.0,\"#f0f921\"]]}],\"heatmap\":[{\"type\":\"heatmap\",\"colorbar\":{\"outlinewidth\":0,\"ticks\":\"\"},\"colorscale\":[[0.0,\"#0d0887\"],[0.1111111111111111,\"#46039f\"],[0.2222222222222222,\"#7201a8\"],[0.3333333333333333,\"#9c179e\"],[0.4444444444444444,\"#bd3786\"],[0.5555555555555556,\"#d8576b\"],[0.6666666666666666,\"#ed7953\"],[0.7777777777777778,\"#fb9f3a\"],[0.8888888888888888,\"#fdca26\"],[1.0,\"#f0f921\"]]}],\"heatmapgl\":[{\"type\":\"heatmapgl\",\"colorbar\":{\"outlinewidth\":0,\"ticks\":\"\"},\"colorscale\":[[0.0,\"#0d0887\"],[0.1111111111111111,\"#46039f\"],[0.2222222222222222,\"#7201a8\"],[0.3333333333333333,\"#9c179e\"],[0.4444444444444444,\"#bd3786\"],[0.5555555555555556,\"#d8576b\"],[0.6666666666666666,\"#ed7953\"],[0.7777777777777778,\"#fb9f3a\"],[0.8888888888888888,\"#fdca26\"],[1.0,\"#f0f921\"]]}],\"contourcarpet\":[{\"type\":\"contourcarpet\",\"colorbar\":{\"outlinewidth\":0,\"ticks\":\"\"}}],\"contour\":[{\"type\":\"contour\",\"colorbar\":{\"outlinewidth\":0,\"ticks\":\"\"},\"colorscale\":[[0.0,\"#0d0887\"],[0.1111111111111111,\"#46039f\"],[0.2222222222222222,\"#7201a8\"],[0.3333333333333333,\"#9c179e\"],[0.4444444444444444,\"#bd3786\"],[0.5555555555555556,\"#d8576b\"],[0.6666666666666666,\"#ed7953\"],[0.7777777777777778,\"#fb9f3a\"],[0.8888888888888888,\"#fdca26\"],[1.0,\"#f0f921\"]]}],\"surface\":[{\"type\":\"surface\",\"colorbar\":{\"outlinewidth\":0,\"ticks\":\"\"},\"colorscale\":[[0.0,\"#0d0887\"],[0.1111111111111111,\"#46039f\"],[0.2222222222222222,\"#7201a8\"],[0.3333333333333333,\"#9c179e\"],[0.4444444444444444,\"#bd3786\"],[0.5555555555555556,\"#d8576b\"],[0.6666666666666666,\"#ed7953\"],[0.7777777777777778,\"#fb9f3a\"],[0.8888888888888888,\"#fdca26\"],[1.0,\"#f0f921\"]]}],\"mesh3d\":[{\"type\":\"mesh3d\",\"colorbar\":{\"outlinewidth\":0,\"ticks\":\"\"}}],\"scatter\":[{\"fillpattern\":{\"fillmode\":\"overlay\",\"size\":10,\"solidity\":0.2},\"type\":\"scatter\"}],\"parcoords\":[{\"type\":\"parcoords\",\"line\":{\"colorbar\":{\"outlinewidth\":0,\"ticks\":\"\"}}}],\"scatterpolargl\":[{\"type\":\"scatterpolargl\",\"marker\":{\"colorbar\":{\"outlinewidth\":0,\"ticks\":\"\"}}}],\"bar\":[{\"error_x\":{\"color\":\"#2a3f5f\"},\"error_y\":{\"color\":\"#2a3f5f\"},\"marker\":{\"line\":{\"color\":\"#E5ECF6\",\"width\":0.5},\"pattern\":{\"fillmode\":\"overlay\",\"size\":10,\"solidity\":0.2}},\"type\":\"bar\"}],\"scattergeo\":[{\"type\":\"scattergeo\",\"marker\":{\"colorbar\":{\"outlinewidth\":0,\"ticks\":\"\"}}}],\"scatterpolar\":[{\"type\":\"scatterpolar\",\"marker\":{\"colorbar\":{\"outlinewidth\":0,\"ticks\":\"\"}}}],\"histogram\":[{\"marker\":{\"pattern\":{\"fillmode\":\"overlay\",\"size\":10,\"solidity\":0.2}},\"type\":\"histogram\"}],\"scattergl\":[{\"type\":\"scattergl\",\"marker\":{\"colorbar\":{\"outlinewidth\":0,\"ticks\":\"\"}}}],\"scatter3d\":[{\"type\":\"scatter3d\",\"line\":{\"colorbar\":{\"outlinewidth\":0,\"ticks\":\"\"}},\"marker\":{\"colorbar\":{\"outlinewidth\":0,\"ticks\":\"\"}}}],\"scattermapbox\":[{\"type\":\"scattermapbox\",\"marker\":{\"colorbar\":{\"outlinewidth\":0,\"ticks\":\"\"}}}],\"scatterternary\":[{\"type\":\"scatterternary\",\"marker\":{\"colorbar\":{\"outlinewidth\":0,\"ticks\":\"\"}}}],\"scattercarpet\":[{\"type\":\"scattercarpet\",\"marker\":{\"colorbar\":{\"outlinewidth\":0,\"ticks\":\"\"}}}],\"carpet\":[{\"aaxis\":{\"endlinecolor\":\"#2a3f5f\",\"gridcolor\":\"white\",\"linecolor\":\"white\",\"minorgridcolor\":\"white\",\"startlinecolor\":\"#2a3f5f\"},\"baxis\":{\"endlinecolor\":\"#2a3f5f\",\"gridcolor\":\"white\",\"linecolor\":\"white\",\"minorgridcolor\":\"white\",\"startlinecolor\":\"#2a3f5f\"},\"type\":\"carpet\"}],\"table\":[{\"cells\":{\"fill\":{\"color\":\"#EBF0F8\"},\"line\":{\"color\":\"white\"}},\"header\":{\"fill\":{\"color\":\"#C8D4E3\"},\"line\":{\"color\":\"white\"}},\"type\":\"table\"}],\"barpolar\":[{\"marker\":{\"line\":{\"color\":\"#E5ECF6\",\"width\":0.5},\"pattern\":{\"fillmode\":\"overlay\",\"size\":10,\"solidity\":0.2}},\"type\":\"barpolar\"}],\"pie\":[{\"automargin\":true,\"type\":\"pie\"}]},\"layout\":{\"autotypenumbers\":\"strict\",\"colorway\":[\"#636efa\",\"#EF553B\",\"#00cc96\",\"#ab63fa\",\"#FFA15A\",\"#19d3f3\",\"#FF6692\",\"#B6E880\",\"#FF97FF\",\"#FECB52\"],\"font\":{\"color\":\"#2a3f5f\"},\"hovermode\":\"closest\",\"hoverlabel\":{\"align\":\"left\"},\"paper_bgcolor\":\"white\",\"plot_bgcolor\":\"#E5ECF6\",\"polar\":{\"bgcolor\":\"#E5ECF6\",\"angularaxis\":{\"gridcolor\":\"white\",\"linecolor\":\"white\",\"ticks\":\"\"},\"radialaxis\":{\"gridcolor\":\"white\",\"linecolor\":\"white\",\"ticks\":\"\"}},\"ternary\":{\"bgcolor\":\"#E5ECF6\",\"aaxis\":{\"gridcolor\":\"white\",\"linecolor\":\"white\",\"ticks\":\"\"},\"baxis\":{\"gridcolor\":\"white\",\"linecolor\":\"white\",\"ticks\":\"\"},\"caxis\":{\"gridcolor\":\"white\",\"linecolor\":\"white\",\"ticks\":\"\"}},\"coloraxis\":{\"colorbar\":{\"outlinewidth\":0,\"ticks\":\"\"}},\"colorscale\":{\"sequential\":[[0.0,\"#0d0887\"],[0.1111111111111111,\"#46039f\"],[0.2222222222222222,\"#7201a8\"],[0.3333333333333333,\"#9c179e\"],[0.4444444444444444,\"#bd3786\"],[0.5555555555555556,\"#d8576b\"],[0.6666666666666666,\"#ed7953\"],[0.7777777777777778,\"#fb9f3a\"],[0.8888888888888888,\"#fdca26\"],[1.0,\"#f0f921\"]],\"sequentialminus\":[[0.0,\"#0d0887\"],[0.1111111111111111,\"#46039f\"],[0.2222222222222222,\"#7201a8\"],[0.3333333333333333,\"#9c179e\"],[0.4444444444444444,\"#bd3786\"],[0.5555555555555556,\"#d8576b\"],[0.6666666666666666,\"#ed7953\"],[0.7777777777777778,\"#fb9f3a\"],[0.8888888888888888,\"#fdca26\"],[1.0,\"#f0f921\"]],\"diverging\":[[0,\"#8e0152\"],[0.1,\"#c51b7d\"],[0.2,\"#de77ae\"],[0.3,\"#f1b6da\"],[0.4,\"#fde0ef\"],[0.5,\"#f7f7f7\"],[0.6,\"#e6f5d0\"],[0.7,\"#b8e186\"],[0.8,\"#7fbc41\"],[0.9,\"#4d9221\"],[1,\"#276419\"]]},\"xaxis\":{\"gridcolor\":\"white\",\"linecolor\":\"white\",\"ticks\":\"\",\"title\":{\"standoff\":15},\"zerolinecolor\":\"white\",\"automargin\":true,\"zerolinewidth\":2},\"yaxis\":{\"gridcolor\":\"white\",\"linecolor\":\"white\",\"ticks\":\"\",\"title\":{\"standoff\":15},\"zerolinecolor\":\"white\",\"automargin\":true,\"zerolinewidth\":2},\"scene\":{\"xaxis\":{\"backgroundcolor\":\"#E5ECF6\",\"gridcolor\":\"white\",\"linecolor\":\"white\",\"showbackground\":true,\"ticks\":\"\",\"zerolinecolor\":\"white\",\"gridwidth\":2},\"yaxis\":{\"backgroundcolor\":\"#E5ECF6\",\"gridcolor\":\"white\",\"linecolor\":\"white\",\"showbackground\":true,\"ticks\":\"\",\"zerolinecolor\":\"white\",\"gridwidth\":2},\"zaxis\":{\"backgroundcolor\":\"#E5ECF6\",\"gridcolor\":\"white\",\"linecolor\":\"white\",\"showbackground\":true,\"ticks\":\"\",\"zerolinecolor\":\"white\",\"gridwidth\":2}},\"shapedefaults\":{\"line\":{\"color\":\"#2a3f5f\"}},\"annotationdefaults\":{\"arrowcolor\":\"#2a3f5f\",\"arrowhead\":0,\"arrowwidth\":1},\"geo\":{\"bgcolor\":\"white\",\"landcolor\":\"#E5ECF6\",\"subunitcolor\":\"white\",\"showland\":true,\"showlakes\":true,\"lakecolor\":\"white\"},\"title\":{\"x\":0.05},\"mapbox\":{\"style\":\"light\"}}},\"title\":{\"text\":\"Training and val loss across epochs\"},\"xaxis\":{\"title\":{\"text\":\"epochs\"}},\"yaxis\":{\"title\":{\"text\":\"Binary Cross Entropy\"}}},                        {\"responsive\": true}                    ).then(function(){\n",
              "                            \n",
              "var gd = document.getElementById('b5628026-87ae-4293-835a-cfd6695db3e9');\n",
              "var x = new MutationObserver(function (mutations, observer) {{\n",
              "        var display = window.getComputedStyle(gd).display;\n",
              "        if (!display || display === 'none') {{\n",
              "            console.log([gd, 'removed!']);\n",
              "            Plotly.purge(gd);\n",
              "            observer.disconnect();\n",
              "        }}\n",
              "}});\n",
              "\n",
              "// Listen for the removal of the full notebook cells\n",
              "var notebookContainer = gd.closest('#notebook-container');\n",
              "if (notebookContainer) {{\n",
              "    x.observe(notebookContainer, {childList: true});\n",
              "}}\n",
              "\n",
              "// Listen for the clearing of the current output cell\n",
              "var outputEl = gd.closest('.output');\n",
              "if (outputEl) {{\n",
              "    x.observe(outputEl, {childList: true});\n",
              "}}\n",
              "\n",
              "                        })                };                            </script>        </div>\n",
              "</body>\n",
              "</html>"
            ]
          },
          "metadata": {}
        }
      ]
    },
    {
      "cell_type": "code",
      "source": [
        "fig = go.Figure(data=[\n",
        "                      go.Scatter(\n",
        "                          y=model.history.history[\"accuracy\"],\n",
        "                          name=\"Training accuracy\",\n",
        "                          mode=\"lines\",\n",
        "                          marker=dict(\n",
        "                              color=color_chart[0]\n",
        "                          )),\n",
        "                      go.Scatter(\n",
        "                          y=model.history.history[\"val_accuracy\"],\n",
        "                          name=\"Validation accuracy\",\n",
        "                          mode=\"lines\",\n",
        "                          marker=dict(\n",
        "                              color=color_chart[1]\n",
        "                          ))\n",
        "])\n",
        "fig.update_layout(\n",
        "    title='Training and val accuracy across epochs',\n",
        "    xaxis_title='epochs',\n",
        "    yaxis_title='Accuracy'\n",
        ")\n",
        "fig.show()"
      ],
      "metadata": {
        "id": "2LlnkU2Auly5",
        "colab": {
          "base_uri": "https://localhost:8080/",
          "height": 542
        },
        "outputId": "1ed34c00-7606-40e9-b82e-38dfa3e110ac"
      },
      "execution_count": null,
      "outputs": [
        {
          "output_type": "display_data",
          "data": {
            "text/html": [
              "<html>\n",
              "<head><meta charset=\"utf-8\" /></head>\n",
              "<body>\n",
              "    <div>            <script src=\"https://cdnjs.cloudflare.com/ajax/libs/mathjax/2.7.5/MathJax.js?config=TeX-AMS-MML_SVG\"></script><script type=\"text/javascript\">if (window.MathJax && window.MathJax.Hub && window.MathJax.Hub.Config) {window.MathJax.Hub.Config({SVG: {font: \"STIX-Web\"}});}</script>                <script type=\"text/javascript\">window.PlotlyConfig = {MathJaxConfig: 'local'};</script>\n",
              "        <script charset=\"utf-8\" src=\"https://cdn.plot.ly/plotly-2.24.1.min.js\"></script>                <div id=\"3a8c3387-19d8-4771-b227-29d4a1c0c66a\" class=\"plotly-graph-div\" style=\"height:525px; width:100%;\"></div>            <script type=\"text/javascript\">                                    window.PLOTLYENV=window.PLOTLYENV || {};                                    if (document.getElementById(\"3a8c3387-19d8-4771-b227-29d4a1c0c66a\")) {                    Plotly.newPlot(                        \"3a8c3387-19d8-4771-b227-29d4a1c0c66a\",                        [{\"marker\":{\"color\":\"#4B9AC7\"},\"mode\":\"lines\",\"name\":\"Training accuracy\",\"y\":[0.8731391429901123,0.8731391429901123,0.8731391429901123,0.8731391429901123,0.8731391429901123,0.8731391429901123,0.8731391429901123,0.8731391429901123,0.8731391429901123,0.8731391429901123,0.8731391429901123,0.8731391429901123,0.8731391429901123,0.8731391429901123,0.8741100430488586,0.8964401483535767,0.9281553626060486,0.9453074336051941,0.9527508020401001,0.9582524299621582,0.9618123173713684,0.9650485515594482,0.9682847857475281,0.968932032585144,0.9718446731567383,0.9734627604484558,0.97637540102005,0.9779935479164124,0.9802588820457458,0.9805825352668762,0.9815533757209778,0.9818770289421082,0.983818769454956,0.9834951162338257,0.984466016292572,0.9847896695137024,0.9847896695137024,0.985760509967804,0.9854369163513184,0.9860841631889343,0.9870550036430359,0.9877022504806519,0.9883494973182678,0.9877022504806519,0.9896439909934998,0.9889967441558838,0.9889967441558838,0.9896439909934998,0.9899676442146301,0.9902912378311157],\"type\":\"scatter\"},{\"marker\":{\"color\":\"#4BE8E0\"},\"mode\":\"lines\",\"name\":\"Validation accuracy\",\"y\":[0.8737863898277283,0.8737863898277283,0.8737863898277283,0.8737863898277283,0.8737863898277283,0.8737863898277283,0.8737863898277283,0.8737863898277283,0.8737863898277283,0.8737863898277283,0.8737863898277283,0.8737863898277283,0.8737863898277283,0.8737863898277283,0.917475700378418,0.9524272084236145,0.9640776515007019,0.9660193920135498,0.9669902920722961,0.968932032585144,0.968932032585144,0.9708737730979919,0.9728155136108398,0.9747572541236877,0.977669894695282,0.9757281541824341,0.9786407947540283,0.977669894695282,0.977669894695282,0.9786407947540283,0.9786407947540283,0.9815533757209778,0.9815533757209778,0.9786407947540283,0.9796116352081299,0.9786407947540283,0.9796116352081299,0.9805825352668762,0.9786407947540283,0.9786407947540283,0.9796116352081299,0.9805825352668762,0.9815533757209778,0.9815533757209778,0.9805825352668762,0.9805825352668762,0.9805825352668762,0.9815533757209778,0.9815533757209778,0.9805825352668762],\"type\":\"scatter\"}],                        {\"template\":{\"data\":{\"histogram2dcontour\":[{\"type\":\"histogram2dcontour\",\"colorbar\":{\"outlinewidth\":0,\"ticks\":\"\"},\"colorscale\":[[0.0,\"#0d0887\"],[0.1111111111111111,\"#46039f\"],[0.2222222222222222,\"#7201a8\"],[0.3333333333333333,\"#9c179e\"],[0.4444444444444444,\"#bd3786\"],[0.5555555555555556,\"#d8576b\"],[0.6666666666666666,\"#ed7953\"],[0.7777777777777778,\"#fb9f3a\"],[0.8888888888888888,\"#fdca26\"],[1.0,\"#f0f921\"]]}],\"choropleth\":[{\"type\":\"choropleth\",\"colorbar\":{\"outlinewidth\":0,\"ticks\":\"\"}}],\"histogram2d\":[{\"type\":\"histogram2d\",\"colorbar\":{\"outlinewidth\":0,\"ticks\":\"\"},\"colorscale\":[[0.0,\"#0d0887\"],[0.1111111111111111,\"#46039f\"],[0.2222222222222222,\"#7201a8\"],[0.3333333333333333,\"#9c179e\"],[0.4444444444444444,\"#bd3786\"],[0.5555555555555556,\"#d8576b\"],[0.6666666666666666,\"#ed7953\"],[0.7777777777777778,\"#fb9f3a\"],[0.8888888888888888,\"#fdca26\"],[1.0,\"#f0f921\"]]}],\"heatmap\":[{\"type\":\"heatmap\",\"colorbar\":{\"outlinewidth\":0,\"ticks\":\"\"},\"colorscale\":[[0.0,\"#0d0887\"],[0.1111111111111111,\"#46039f\"],[0.2222222222222222,\"#7201a8\"],[0.3333333333333333,\"#9c179e\"],[0.4444444444444444,\"#bd3786\"],[0.5555555555555556,\"#d8576b\"],[0.6666666666666666,\"#ed7953\"],[0.7777777777777778,\"#fb9f3a\"],[0.8888888888888888,\"#fdca26\"],[1.0,\"#f0f921\"]]}],\"heatmapgl\":[{\"type\":\"heatmapgl\",\"colorbar\":{\"outlinewidth\":0,\"ticks\":\"\"},\"colorscale\":[[0.0,\"#0d0887\"],[0.1111111111111111,\"#46039f\"],[0.2222222222222222,\"#7201a8\"],[0.3333333333333333,\"#9c179e\"],[0.4444444444444444,\"#bd3786\"],[0.5555555555555556,\"#d8576b\"],[0.6666666666666666,\"#ed7953\"],[0.7777777777777778,\"#fb9f3a\"],[0.8888888888888888,\"#fdca26\"],[1.0,\"#f0f921\"]]}],\"contourcarpet\":[{\"type\":\"contourcarpet\",\"colorbar\":{\"outlinewidth\":0,\"ticks\":\"\"}}],\"contour\":[{\"type\":\"contour\",\"colorbar\":{\"outlinewidth\":0,\"ticks\":\"\"},\"colorscale\":[[0.0,\"#0d0887\"],[0.1111111111111111,\"#46039f\"],[0.2222222222222222,\"#7201a8\"],[0.3333333333333333,\"#9c179e\"],[0.4444444444444444,\"#bd3786\"],[0.5555555555555556,\"#d8576b\"],[0.6666666666666666,\"#ed7953\"],[0.7777777777777778,\"#fb9f3a\"],[0.8888888888888888,\"#fdca26\"],[1.0,\"#f0f921\"]]}],\"surface\":[{\"type\":\"surface\",\"colorbar\":{\"outlinewidth\":0,\"ticks\":\"\"},\"colorscale\":[[0.0,\"#0d0887\"],[0.1111111111111111,\"#46039f\"],[0.2222222222222222,\"#7201a8\"],[0.3333333333333333,\"#9c179e\"],[0.4444444444444444,\"#bd3786\"],[0.5555555555555556,\"#d8576b\"],[0.6666666666666666,\"#ed7953\"],[0.7777777777777778,\"#fb9f3a\"],[0.8888888888888888,\"#fdca26\"],[1.0,\"#f0f921\"]]}],\"mesh3d\":[{\"type\":\"mesh3d\",\"colorbar\":{\"outlinewidth\":0,\"ticks\":\"\"}}],\"scatter\":[{\"fillpattern\":{\"fillmode\":\"overlay\",\"size\":10,\"solidity\":0.2},\"type\":\"scatter\"}],\"parcoords\":[{\"type\":\"parcoords\",\"line\":{\"colorbar\":{\"outlinewidth\":0,\"ticks\":\"\"}}}],\"scatterpolargl\":[{\"type\":\"scatterpolargl\",\"marker\":{\"colorbar\":{\"outlinewidth\":0,\"ticks\":\"\"}}}],\"bar\":[{\"error_x\":{\"color\":\"#2a3f5f\"},\"error_y\":{\"color\":\"#2a3f5f\"},\"marker\":{\"line\":{\"color\":\"#E5ECF6\",\"width\":0.5},\"pattern\":{\"fillmode\":\"overlay\",\"size\":10,\"solidity\":0.2}},\"type\":\"bar\"}],\"scattergeo\":[{\"type\":\"scattergeo\",\"marker\":{\"colorbar\":{\"outlinewidth\":0,\"ticks\":\"\"}}}],\"scatterpolar\":[{\"type\":\"scatterpolar\",\"marker\":{\"colorbar\":{\"outlinewidth\":0,\"ticks\":\"\"}}}],\"histogram\":[{\"marker\":{\"pattern\":{\"fillmode\":\"overlay\",\"size\":10,\"solidity\":0.2}},\"type\":\"histogram\"}],\"scattergl\":[{\"type\":\"scattergl\",\"marker\":{\"colorbar\":{\"outlinewidth\":0,\"ticks\":\"\"}}}],\"scatter3d\":[{\"type\":\"scatter3d\",\"line\":{\"colorbar\":{\"outlinewidth\":0,\"ticks\":\"\"}},\"marker\":{\"colorbar\":{\"outlinewidth\":0,\"ticks\":\"\"}}}],\"scattermapbox\":[{\"type\":\"scattermapbox\",\"marker\":{\"colorbar\":{\"outlinewidth\":0,\"ticks\":\"\"}}}],\"scatterternary\":[{\"type\":\"scatterternary\",\"marker\":{\"colorbar\":{\"outlinewidth\":0,\"ticks\":\"\"}}}],\"scattercarpet\":[{\"type\":\"scattercarpet\",\"marker\":{\"colorbar\":{\"outlinewidth\":0,\"ticks\":\"\"}}}],\"carpet\":[{\"aaxis\":{\"endlinecolor\":\"#2a3f5f\",\"gridcolor\":\"white\",\"linecolor\":\"white\",\"minorgridcolor\":\"white\",\"startlinecolor\":\"#2a3f5f\"},\"baxis\":{\"endlinecolor\":\"#2a3f5f\",\"gridcolor\":\"white\",\"linecolor\":\"white\",\"minorgridcolor\":\"white\",\"startlinecolor\":\"#2a3f5f\"},\"type\":\"carpet\"}],\"table\":[{\"cells\":{\"fill\":{\"color\":\"#EBF0F8\"},\"line\":{\"color\":\"white\"}},\"header\":{\"fill\":{\"color\":\"#C8D4E3\"},\"line\":{\"color\":\"white\"}},\"type\":\"table\"}],\"barpolar\":[{\"marker\":{\"line\":{\"color\":\"#E5ECF6\",\"width\":0.5},\"pattern\":{\"fillmode\":\"overlay\",\"size\":10,\"solidity\":0.2}},\"type\":\"barpolar\"}],\"pie\":[{\"automargin\":true,\"type\":\"pie\"}]},\"layout\":{\"autotypenumbers\":\"strict\",\"colorway\":[\"#636efa\",\"#EF553B\",\"#00cc96\",\"#ab63fa\",\"#FFA15A\",\"#19d3f3\",\"#FF6692\",\"#B6E880\",\"#FF97FF\",\"#FECB52\"],\"font\":{\"color\":\"#2a3f5f\"},\"hovermode\":\"closest\",\"hoverlabel\":{\"align\":\"left\"},\"paper_bgcolor\":\"white\",\"plot_bgcolor\":\"#E5ECF6\",\"polar\":{\"bgcolor\":\"#E5ECF6\",\"angularaxis\":{\"gridcolor\":\"white\",\"linecolor\":\"white\",\"ticks\":\"\"},\"radialaxis\":{\"gridcolor\":\"white\",\"linecolor\":\"white\",\"ticks\":\"\"}},\"ternary\":{\"bgcolor\":\"#E5ECF6\",\"aaxis\":{\"gridcolor\":\"white\",\"linecolor\":\"white\",\"ticks\":\"\"},\"baxis\":{\"gridcolor\":\"white\",\"linecolor\":\"white\",\"ticks\":\"\"},\"caxis\":{\"gridcolor\":\"white\",\"linecolor\":\"white\",\"ticks\":\"\"}},\"coloraxis\":{\"colorbar\":{\"outlinewidth\":0,\"ticks\":\"\"}},\"colorscale\":{\"sequential\":[[0.0,\"#0d0887\"],[0.1111111111111111,\"#46039f\"],[0.2222222222222222,\"#7201a8\"],[0.3333333333333333,\"#9c179e\"],[0.4444444444444444,\"#bd3786\"],[0.5555555555555556,\"#d8576b\"],[0.6666666666666666,\"#ed7953\"],[0.7777777777777778,\"#fb9f3a\"],[0.8888888888888888,\"#fdca26\"],[1.0,\"#f0f921\"]],\"sequentialminus\":[[0.0,\"#0d0887\"],[0.1111111111111111,\"#46039f\"],[0.2222222222222222,\"#7201a8\"],[0.3333333333333333,\"#9c179e\"],[0.4444444444444444,\"#bd3786\"],[0.5555555555555556,\"#d8576b\"],[0.6666666666666666,\"#ed7953\"],[0.7777777777777778,\"#fb9f3a\"],[0.8888888888888888,\"#fdca26\"],[1.0,\"#f0f921\"]],\"diverging\":[[0,\"#8e0152\"],[0.1,\"#c51b7d\"],[0.2,\"#de77ae\"],[0.3,\"#f1b6da\"],[0.4,\"#fde0ef\"],[0.5,\"#f7f7f7\"],[0.6,\"#e6f5d0\"],[0.7,\"#b8e186\"],[0.8,\"#7fbc41\"],[0.9,\"#4d9221\"],[1,\"#276419\"]]},\"xaxis\":{\"gridcolor\":\"white\",\"linecolor\":\"white\",\"ticks\":\"\",\"title\":{\"standoff\":15},\"zerolinecolor\":\"white\",\"automargin\":true,\"zerolinewidth\":2},\"yaxis\":{\"gridcolor\":\"white\",\"linecolor\":\"white\",\"ticks\":\"\",\"title\":{\"standoff\":15},\"zerolinecolor\":\"white\",\"automargin\":true,\"zerolinewidth\":2},\"scene\":{\"xaxis\":{\"backgroundcolor\":\"#E5ECF6\",\"gridcolor\":\"white\",\"linecolor\":\"white\",\"showbackground\":true,\"ticks\":\"\",\"zerolinecolor\":\"white\",\"gridwidth\":2},\"yaxis\":{\"backgroundcolor\":\"#E5ECF6\",\"gridcolor\":\"white\",\"linecolor\":\"white\",\"showbackground\":true,\"ticks\":\"\",\"zerolinecolor\":\"white\",\"gridwidth\":2},\"zaxis\":{\"backgroundcolor\":\"#E5ECF6\",\"gridcolor\":\"white\",\"linecolor\":\"white\",\"showbackground\":true,\"ticks\":\"\",\"zerolinecolor\":\"white\",\"gridwidth\":2}},\"shapedefaults\":{\"line\":{\"color\":\"#2a3f5f\"}},\"annotationdefaults\":{\"arrowcolor\":\"#2a3f5f\",\"arrowhead\":0,\"arrowwidth\":1},\"geo\":{\"bgcolor\":\"white\",\"landcolor\":\"#E5ECF6\",\"subunitcolor\":\"white\",\"showland\":true,\"showlakes\":true,\"lakecolor\":\"white\"},\"title\":{\"x\":0.05},\"mapbox\":{\"style\":\"light\"}}},\"title\":{\"text\":\"Training and val accuracy across epochs\"},\"xaxis\":{\"title\":{\"text\":\"epochs\"}},\"yaxis\":{\"title\":{\"text\":\"Accuracy\"}}},                        {\"responsive\": true}                    ).then(function(){\n",
              "                            \n",
              "var gd = document.getElementById('3a8c3387-19d8-4771-b227-29d4a1c0c66a');\n",
              "var x = new MutationObserver(function (mutations, observer) {{\n",
              "        var display = window.getComputedStyle(gd).display;\n",
              "        if (!display || display === 'none') {{\n",
              "            console.log([gd, 'removed!']);\n",
              "            Plotly.purge(gd);\n",
              "            observer.disconnect();\n",
              "        }}\n",
              "}});\n",
              "\n",
              "// Listen for the removal of the full notebook cells\n",
              "var notebookContainer = gd.closest('#notebook-container');\n",
              "if (notebookContainer) {{\n",
              "    x.observe(notebookContainer, {childList: true});\n",
              "}}\n",
              "\n",
              "// Listen for the clearing of the current output cell\n",
              "var outputEl = gd.closest('.output');\n",
              "if (outputEl) {{\n",
              "    x.observe(outputEl, {childList: true});\n",
              "}}\n",
              "\n",
              "                        })                };                            </script>        </div>\n",
              "</body>\n",
              "</html>"
            ]
          },
          "metadata": {}
        }
      ]
    },
    {
      "cell_type": "markdown",
      "source": [
        "How does our model behave on unseen data?"
      ],
      "metadata": {
        "id": "X3mG7h6y-Ax7"
      }
    },
    {
      "cell_type": "code",
      "source": [
        "pred = (model.predict(test_batch) > 0.5).astype(\"int32\")\n",
        "pred.shape\n",
        "\n",
        "test_loss, test_accuracy = model.evaluate(test_batch)\n",
        "print('Test Loss :',test_loss)\n",
        "print('Test Accuracy :',test_accuracy)"
      ],
      "metadata": {
        "id": "3l_rbtv4-JI-",
        "colab": {
          "base_uri": "https://localhost:8080/"
        },
        "outputId": "8990e13b-03cf-49bf-ca55-804612f94533"
      },
      "execution_count": null,
      "outputs": [
        {
          "output_type": "stream",
          "name": "stdout",
          "text": [
            "17/17 [==============================] - 0s 2ms/step\n",
            "17/17 [==============================] - 0s 2ms/step - loss: 0.0669 - accuracy: 0.9816\n",
            "Test Loss : 0.06693486869335175\n",
            "Test Accuracy : 0.9815713167190552\n"
          ]
        }
      ]
    },
    {
      "cell_type": "markdown",
      "source": [
        "The accuracy on the test set is very good as well!"
      ],
      "metadata": {
        "id": "5axbzsovS3od"
      }
    },
    {
      "cell_type": "markdown",
      "source": [
        "### NB : How to explain that both losses consistently decrease while accuracies do not improve during the 12 first epochs?\n",
        "\n",
        "Loss and accuracy measure different aspects of a model's performance. While loss measures the difference between the predicted and actual output, accuracy measures the number of correct predictions. It is possible for a model to make the same number of correct predictions even as the predicted output gets closer to the actual output.\n",
        "\n",
        "### Causes of the Problem\n",
        "\n",
        "One common cause is overfitting but it is not the case here.\n",
        "\n",
        "The most obvious cause here is **class imbalance** (when one class has a significantly larger number of samples than the other class). This can lead to a biased model that performs well on the majority class but poorly on the minority class, resulting in stable accuracy.\n",
        "\n",
        "Other causes include **choice of evaluation metric** : Accuracy is not always the best metric to evaluate a model's performance, especially when dealing with imbalanced classes or multi-class problems. In these cases, it may be more appropriate to use metrics such as precision, recall, or F1-score.\n",
        "\n",
        "### Solutions\n",
        "\n",
        "In cases of class imbalance, one solution is to use techniques such as oversampling or undersampling to balance the classes. Oversampling involves creating new samples from the minority class, while undersampling involves removing samples from the majority class. These techniques can help the model learn the patterns in the minority class and improve its performance on unseen data.\n",
        "\n",
        "Choosing the right evaluation metric can also help overcome the problem of decreasing loss but stable accuracy."
      ],
      "metadata": {
        "id": "_jQmlPW1ws4B"
      }
    },
    {
      "cell_type": "markdown",
      "source": [
        "# 5. Other evaluation metrics\n",
        "\n",
        "The accuracy is calculated as the number of exact predictions performed by your model divided by the total number of predictions, in other words the accuracy is the proportion of exact predictions produced by our model.\n",
        "\n",
        "$$Accuracy = \\frac{TN+TP}{TN+TP+FN+FP}$$\n",
        "\n",
        "Since the percentage of spam in our dataset is low, measuring our model's performance by accuracy alone is not recommended.\n",
        "\n",
        "\n",
        "Let's check out other metrics to evaluate our model :\n",
        "\n",
        "\n",
        "*   Precision : fraction of relevant events from all the retrieved events; the ability of our model to discriminate between classes\n",
        "\n",
        "$$Precision = \\frac{TP}{TP+FP}$$\n",
        "\n",
        "*   Recall (or True Postive Rate) : fraction of retrieved events from all the relevant events; the ability of the model to detect positives events among all the real positives events in our dataset\n",
        "\n",
        "$$Recall = \\frac{TP}{TP+FN}$$\n",
        "\n",
        "*   F1 Score : a very useful metric because contrary to the accuracy it takes into account the potential imbalance between the different classes in the dataset for the target variable. The F1 score metric is equal to the harmonic mean between the recall and the precision for a given class of the target variable.\n",
        "\n",
        "$$\n",
        "F1 = \\frac{Precision + Recall}{Precision \\times Recall}\n",
        "$$\n",
        "\n"
      ],
      "metadata": {
        "id": "aZX7L-4xNavs"
      }
    },
    {
      "cell_type": "code",
      "source": [
        "from sklearn.metrics import confusion_matrix, precision_score, recall_score, f1_score\n",
        "\n",
        "test_pred = [1 if o>0.5 else 0 for o in model.predict(test_padded)]\n",
        "cf_matrix = confusion_matrix(Y_test, test_pred)"
      ],
      "metadata": {
        "id": "t6cT4tQ4NmA1",
        "colab": {
          "base_uri": "https://localhost:8080/"
        },
        "outputId": "ad839d90-8315-40f0-f28b-2d2656821332"
      },
      "execution_count": null,
      "outputs": [
        {
          "output_type": "stream",
          "name": "stdout",
          "text": [
            "33/33 [==============================] - 0s 2ms/step\n"
          ]
        }
      ]
    },
    {
      "cell_type": "code",
      "source": [
        "ax = plt.subplot()\n",
        "sns.heatmap(cf_matrix, annot = True, ax = ax, cmap = 'Blues',fmt = '');\n",
        "ax.set_xlabel('Predicted labels');\n",
        "ax.set_ylabel('True labels');\n",
        "ax.set_title('Confusion Matrix');\n",
        "ax.xaxis.set_ticklabels(['Not Spam', 'Spam']); ax.yaxis.set_ticklabels(['Not Spam', 'Spam']);"
      ],
      "metadata": {
        "colab": {
          "base_uri": "https://localhost:8080/",
          "height": 472
        },
        "id": "v024CREcgdTl",
        "outputId": "c8029787-5ab4-43fe-af4b-7f0a56c70e50"
      },
      "execution_count": null,
      "outputs": [
        {
          "output_type": "display_data",
          "data": {
            "text/plain": [
              "<Figure size 640x480 with 2 Axes>"
            ],
            "image/png": "[encoded data removed]"
          },
          "metadata": {}
        }
      ]
    },
    {
      "cell_type": "code",
      "source": [
        "# tn, fp, fn, tp = cf_matrix.ravel()\n",
        "print(\"Precision: {:.2f}%\".format(100 * precision_score(Y_test, test_pred)))\n",
        "print(\"Recall: {:.2f}%\".format(100 * recall_score(Y_test, test_pred)))\n",
        "print(\"F1 Score: {:.2f}%\".format(100 * f1_score(Y_test, test_pred)))"
      ],
      "metadata": {
        "colab": {
          "base_uri": "https://localhost:8080/"
        },
        "id": "afggU8rufhLM",
        "outputId": "e78063e7-5efe-4ccd-c1c1-9ce7757b54f9"
      },
      "execution_count": null,
      "outputs": [
        {
          "output_type": "stream",
          "name": "stdout",
          "text": [
            "Precision: 97.46%\n",
            "Recall: 87.79%\n",
            "F1 Score: 92.37%\n"
          ]
        }
      ]
    },
    {
      "cell_type": "markdown",
      "source": [
        "Our model's F1 score is slightly lower than our accuracy in this case, and looking at our other metrics, the lower score is recall, namely the ability to correctly identify spam among all messages."
      ],
      "metadata": {
        "id": "EnS_Wk-6kRIg"
      }
    },
    {
      "cell_type": "markdown",
      "source": [
        "# 6. Rebalancing dataset classes\n",
        "\n",
        "Since we have already noted that the low proportion of spam in the dataset can affect our model's performances, perhaps training on a rebalanced dataset will improve them. However, we will also have much less data to train on overall."
      ],
      "metadata": {
        "id": "g7NxMlAWIL_H"
      }
    },
    {
      "cell_type": "code",
      "source": [
        "ham_msg = df[df[\"target\"] == 0]\n",
        "spam_msg = df[df[\"target\"] == 1]\n",
        "new_ham_msg = ham_msg.sample(n = len(spam_msg), random_state = 42)\n",
        "balanced_df = new_ham_msg.append(spam_msg).reset_index(drop=True)"
      ],
      "metadata": {
        "id": "MBo4y07j94S6"
      },
      "execution_count": null,
      "outputs": []
    },
    {
      "cell_type": "code",
      "source": [
        "plt.figure(figsize=(8, 6))\n",
        "sns.countplot(data = balanced_df, x = 'label')\n",
        "plt.title('Distribution of Ham and Spam email messages after sampling to balance classes')\n",
        "plt.xlabel('Message types')\n",
        "plt.show()"
      ],
      "metadata": {
        "colab": {
          "base_uri": "https://localhost:8080/",
          "height": 564
        },
        "id": "-yEiPLuX_HPA",
        "outputId": "e6ad9804-efd0-46dc-fec4-1e2af3bcf9e9"
      },
      "execution_count": null,
      "outputs": [
        {
          "output_type": "display_data",
          "data": {
            "text/plain": [
              "<Figure size 800x600 with 1 Axes>"
            ],
            "image/png": "[encoded data removed]"
          },
          "metadata": {}
        }
      ]
    },
    {
      "cell_type": "code",
      "source": [
        "print(df.label.value_counts())\n",
        "print(balanced_df.label.value_counts())"
      ],
      "metadata": {
        "colab": {
          "base_uri": "https://localhost:8080/"
        },
        "id": "pxDJBKOt_u3e",
        "outputId": "0f60a782-5f56-4a42-918c-970e7a497188"
      },
      "execution_count": null,
      "outputs": [
        {
          "output_type": "stream",
          "name": "stdout",
          "text": [
            "ham     4498\n",
            "spam     653\n",
            "Name: label, dtype: int64\n",
            "ham     653\n",
            "spam    653\n",
            "Name: label, dtype: int64\n"
          ]
        }
      ]
    },
    {
      "cell_type": "markdown",
      "source": [
        "Now that our classes are balanced, we'll train an identical version of our model and compare metrics."
      ],
      "metadata": {
        "id": "X_-I6IeR_-oz"
      }
    },
    {
      "cell_type": "code",
      "source": [
        "balanced_X_train, balanced_X_rest, balanced_Y_train, balanced_Y_rest = train_test_split(balanced_df[\"clean_content\"], balanced_df[\"target\"], test_size = 0.4, stratify = balanced_df[\"target\"], random_state = 42)\n",
        "balanced_X_val, balanced_X_test, balanced_Y_val, balanced_Y_test = train_test_split(balanced_X_rest, balanced_Y_rest, test_size=0.5, stratify = balanced_Y_rest, random_state = 42)"
      ],
      "metadata": {
        "id": "BsxkzMZNJd52"
      },
      "execution_count": null,
      "outputs": []
    },
    {
      "cell_type": "code",
      "source": [
        "tokenizer2 = tf.keras.preprocessing.text.Tokenizer(num_words=1000, oov_token = \"out_of_vocab\")\n",
        "tokenizer2.fit_on_texts(balanced_X_train)\n",
        "\n",
        "balanced_X_train_encoded = tokenizer2.texts_to_sequences(balanced_X_train)\n",
        "balanced_X_val_encoded = tokenizer2.texts_to_sequences(balanced_X_val)\n",
        "balanced_X_test_encoded = tokenizer2.texts_to_sequences(balanced_X_test)"
      ],
      "metadata": {
        "id": "_qnquPnqKGy2"
      },
      "execution_count": null,
      "outputs": []
    },
    {
      "cell_type": "code",
      "source": [
        "balanced_train_padded = tf.keras.preprocessing.sequence.pad_sequences(balanced_X_train_encoded, padding=\"post\")\n",
        "balanced_val_padded = tf.keras.preprocessing.sequence.pad_sequences(balanced_X_val_encoded, padding=\"post\")\n",
        "balanced_test_padded = tf.keras.preprocessing.sequence.pad_sequences(balanced_X_test_encoded, padding=\"post\")"
      ],
      "metadata": {
        "id": "s0ajBOJeKGy5"
      },
      "execution_count": null,
      "outputs": []
    },
    {
      "cell_type": "code",
      "source": [
        "balanced_train = tf.data.Dataset.from_tensor_slices((balanced_train_padded, balanced_Y_train))\n",
        "balanced_val = tf.data.Dataset.from_tensor_slices((balanced_val_padded, balanced_Y_val))\n",
        "balanced_test = tf.data.Dataset.from_tensor_slices((balanced_test_padded, balanced_Y_test))"
      ],
      "metadata": {
        "id": "wGBLVc0QKGy7"
      },
      "execution_count": null,
      "outputs": []
    },
    {
      "cell_type": "code",
      "source": [
        "balanced_train_batch = balanced_train.shuffle(len(balanced_X_train)).batch(64)\n",
        "balanced_val_batch = balanced_val.shuffle(len(balanced_X_val)).batch(64)\n",
        "balanced_test_batch = balanced_test.shuffle(len(balanced_X_test)).batch(64)"
      ],
      "metadata": {
        "id": "3K_k7dvmKGy8"
      },
      "execution_count": null,
      "outputs": []
    },
    {
      "cell_type": "code",
      "source": [
        "embedding_dim = 8\n",
        "vocab_size = tokenizer2.num_words + 1 # the number of words in the vocabulary : the input dim needs to be equal to the size of the vocabulary + 1 (because of the zero padding)\n",
        "\n",
        "model2 = Sequential([\n",
        "  Embedding(\n",
        "      input_dim = vocab_size,\n",
        "      output_dim = embedding_dim,\n",
        "      name = \"embedding\"), # the embedding layer\n",
        "  GlobalAveragePooling1D(), # this will pick the average for every word in the sentence along each dimension of the representation space.\n",
        "  Dense(16, activation='relu'), # a dense layer\n",
        "  Dense(1, activation=\"sigmoid\") # the prediction layer\n",
        "])"
      ],
      "metadata": {
        "id": "10TgCkMOKGy9"
      },
      "execution_count": null,
      "outputs": []
    },
    {
      "cell_type": "code",
      "source": [
        "model2.summary()"
      ],
      "metadata": {
        "colab": {
          "base_uri": "https://localhost:8080/"
        },
        "outputId": "19aa2028-5468-4991-e725-68a87755f7a4",
        "id": "_G04drpGKGy9"
      },
      "execution_count": null,
      "outputs": [
        {
          "output_type": "stream",
          "name": "stdout",
          "text": [
            "Model: \"sequential_11\"\n",
            "_________________________________________________________________\n",
            " Layer (type)                Output Shape              Param #   \n",
            "=================================================================\n",
            " embedding (Embedding)       (None, None, 8)           8008      \n",
            "                                                                 \n",
            " global_average_pooling1d_1  (None, 8)                 0         \n",
            " 1 (GlobalAveragePooling1D)                                      \n",
            "                                                                 \n",
            " dense_22 (Dense)            (None, 16)                144       \n",
            "                                                                 \n",
            " dense_23 (Dense)            (None, 1)                 17        \n",
            "                                                                 \n",
            "=================================================================\n",
            "Total params: 8169 (31.91 KB)\n",
            "Trainable params: 8169 (31.91 KB)\n",
            "Non-trainable params: 0 (0.00 Byte)\n",
            "_________________________________________________________________\n"
          ]
        }
      ]
    },
    {
      "cell_type": "code",
      "source": [
        "model2.compile(loss = tf.keras.losses.BinaryCrossentropy(from_logits = True), # from_logits = True to interpret y_pred as a tensor of logit values and not a probability\n",
        "              metrics = ['accuracy'],\n",
        "              optimizer = 'adam')"
      ],
      "metadata": {
        "id": "70H5oW7hKGy9"
      },
      "execution_count": null,
      "outputs": []
    },
    {
      "cell_type": "code",
      "source": [
        "history = model2.fit(balanced_train_batch,\n",
        "                    epochs = 50,\n",
        "                    callbacks = [lr, es],\n",
        "                    validation_data = balanced_val_batch\n",
        "                   )"
      ],
      "metadata": {
        "colab": {
          "base_uri": "https://localhost:8080/"
        },
        "outputId": "7d082279-6e57-4148-ce7b-badab68d1b66",
        "id": "cX4b3en-KGy-"
      },
      "execution_count": null,
      "outputs": [
        {
          "output_type": "stream",
          "name": "stdout",
          "text": [
            "Epoch 1/50\n",
            "13/13 [==============================] - 1s 14ms/step - loss: 0.6925 - accuracy: 0.5006 - val_loss: 0.6897 - val_accuracy: 0.4981 - lr: 0.0010\n",
            "Epoch 2/50\n",
            "13/13 [==============================] - 0s 5ms/step - loss: 0.6894 - accuracy: 0.7510 - val_loss: 0.6855 - val_accuracy: 0.7854 - lr: 0.0010\n",
            "Epoch 3/50\n",
            "13/13 [==============================] - 0s 5ms/step - loss: 0.6862 - accuracy: 0.8352 - val_loss: 0.6806 - val_accuracy: 0.7969 - lr: 0.0010\n",
            "Epoch 4/50\n",
            "13/13 [==============================] - 0s 6ms/step - loss: 0.6822 - accuracy: 0.8608 - val_loss: 0.6748 - val_accuracy: 0.7969 - lr: 0.0010\n",
            "Epoch 5/50\n",
            "13/13 [==============================] - 0s 4ms/step - loss: 0.6772 - accuracy: 0.8774 - val_loss: 0.6674 - val_accuracy: 0.8199 - lr: 0.0010\n",
            "Epoch 6/50\n",
            "13/13 [==============================] - 0s 4ms/step - loss: 0.6709 - accuracy: 0.8787 - val_loss: 0.6585 - val_accuracy: 0.8161 - lr: 0.0010\n",
            "Epoch 7/50\n",
            "13/13 [==============================] - 0s 4ms/step - loss: 0.6629 - accuracy: 0.8851 - val_loss: 0.6479 - val_accuracy: 0.8199 - lr: 0.0010\n",
            "Epoch 8/50\n",
            "13/13 [==============================] - 0s 5ms/step - loss: 0.6534 - accuracy: 0.8902 - val_loss: 0.6350 - val_accuracy: 0.8314 - lr: 0.0010\n",
            "Epoch 9/50\n",
            "13/13 [==============================] - 0s 4ms/step - loss: 0.6418 - accuracy: 0.8940 - val_loss: 0.6208 - val_accuracy: 0.8276 - lr: 0.0010\n",
            "Epoch 10/50\n",
            "13/13 [==============================] - 0s 5ms/step - loss: 0.6282 - accuracy: 0.8991 - val_loss: 0.6030 - val_accuracy: 0.8506 - lr: 0.0010\n",
            "Epoch 11/50\n",
            "13/13 [==============================] - 0s 4ms/step - loss: 0.6120 - accuracy: 0.9119 - val_loss: 0.5833 - val_accuracy: 0.8621 - lr: 0.0010\n",
            "Epoch 12/50\n",
            "13/13 [==============================] - 0s 4ms/step - loss: 0.5934 - accuracy: 0.9119 - val_loss: 0.5623 - val_accuracy: 0.8582 - lr: 0.0010\n",
            "Epoch 13/50\n",
            "13/13 [==============================] - 0s 4ms/step - loss: 0.5725 - accuracy: 0.9132 - val_loss: 0.5397 - val_accuracy: 0.8582 - lr: 0.0010\n",
            "Epoch 14/50\n",
            "13/13 [==============================] - 0s 5ms/step - loss: 0.5498 - accuracy: 0.9144 - val_loss: 0.5155 - val_accuracy: 0.8659 - lr: 0.0010\n",
            "Epoch 15/50\n",
            "13/13 [==============================] - 0s 4ms/step - loss: 0.5255 - accuracy: 0.9132 - val_loss: 0.4914 - val_accuracy: 0.8697 - lr: 0.0010\n",
            "Epoch 16/50\n",
            "13/13 [==============================] - 0s 5ms/step - loss: 0.5016 - accuracy: 0.9183 - val_loss: 0.4693 - val_accuracy: 0.8697 - lr: 0.0010\n",
            "Epoch 17/50\n",
            "13/13 [==============================] - 0s 4ms/step - loss: 0.4750 - accuracy: 0.9170 - val_loss: 0.4437 - val_accuracy: 0.8697 - lr: 0.0010\n",
            "Epoch 18/50\n",
            "13/13 [==============================] - 0s 5ms/step - loss: 0.4491 - accuracy: 0.9195 - val_loss: 0.4275 - val_accuracy: 0.8697 - lr: 0.0010\n",
            "Epoch 19/50\n",
            "13/13 [==============================] - 0s 4ms/step - loss: 0.4244 - accuracy: 0.9221 - val_loss: 0.4081 - val_accuracy: 0.8697 - lr: 0.0010\n",
            "Epoch 20/50\n",
            "13/13 [==============================] - 0s 5ms/step - loss: 0.4003 - accuracy: 0.9221 - val_loss: 0.3855 - val_accuracy: 0.8697 - lr: 0.0010\n",
            "Epoch 21/50\n",
            "13/13 [==============================] - 0s 5ms/step - loss: 0.3763 - accuracy: 0.9259 - val_loss: 0.3743 - val_accuracy: 0.8697 - lr: 0.0010\n",
            "Epoch 22/50\n",
            "13/13 [==============================] - 0s 4ms/step - loss: 0.3545 - accuracy: 0.9246 - val_loss: 0.3622 - val_accuracy: 0.8697 - lr: 0.0010\n",
            "Epoch 23/50\n",
            "13/13 [==============================] - 0s 5ms/step - loss: 0.3336 - accuracy: 0.9259 - val_loss: 0.3454 - val_accuracy: 0.8697 - lr: 0.0010\n",
            "Epoch 24/50\n",
            "13/13 [==============================] - 0s 4ms/step - loss: 0.3152 - accuracy: 0.9259 - val_loss: 0.3335 - val_accuracy: 0.8697 - lr: 0.0010\n",
            "Epoch 25/50\n",
            "13/13 [==============================] - 0s 5ms/step - loss: 0.2974 - accuracy: 0.9285 - val_loss: 0.3208 - val_accuracy: 0.8889 - lr: 0.0010\n",
            "Epoch 26/50\n",
            "13/13 [==============================] - 0s 5ms/step - loss: 0.2808 - accuracy: 0.9310 - val_loss: 0.3178 - val_accuracy: 0.8966 - lr: 0.0010\n",
            "Epoch 27/50\n",
            "13/13 [==============================] - 0s 5ms/step - loss: 0.2666 - accuracy: 0.9310 - val_loss: 0.3083 - val_accuracy: 0.9042 - lr: 0.0010\n",
            "Epoch 28/50\n",
            "13/13 [==============================] - 0s 4ms/step - loss: 0.2531 - accuracy: 0.9323 - val_loss: 0.2939 - val_accuracy: 0.8927 - lr: 0.0010\n",
            "Epoch 29/50\n",
            "13/13 [==============================] - 0s 4ms/step - loss: 0.2397 - accuracy: 0.9349 - val_loss: 0.2963 - val_accuracy: 0.9004 - lr: 0.0010\n",
            "Epoch 30/50\n",
            "13/13 [==============================] - 0s 5ms/step - loss: 0.2286 - accuracy: 0.9349 - val_loss: 0.2828 - val_accuracy: 0.9042 - lr: 0.0010\n",
            "Epoch 31/50\n",
            "13/13 [==============================] - 0s 4ms/step - loss: 0.2176 - accuracy: 0.9361 - val_loss: 0.2747 - val_accuracy: 0.8966 - lr: 0.0010\n",
            "Epoch 32/50\n",
            "13/13 [==============================] - 0s 4ms/step - loss: 0.2075 - accuracy: 0.9387 - val_loss: 0.2715 - val_accuracy: 0.9080 - lr: 0.0010\n",
            "Epoch 33/50\n",
            "13/13 [==============================] - 0s 4ms/step - loss: 0.1983 - accuracy: 0.9387 - val_loss: 0.2620 - val_accuracy: 0.9080 - lr: 0.0010\n",
            "Epoch 34/50\n",
            "13/13 [==============================] - 0s 4ms/step - loss: 0.1896 - accuracy: 0.9413 - val_loss: 0.2558 - val_accuracy: 0.9080 - lr: 0.0010\n",
            "Epoch 35/50\n",
            "13/13 [==============================] - 0s 4ms/step - loss: 0.1825 - accuracy: 0.9451 - val_loss: 0.2435 - val_accuracy: 0.9042 - lr: 0.0010\n",
            "Epoch 36/50\n",
            "13/13 [==============================] - 0s 4ms/step - loss: 0.1735 - accuracy: 0.9438 - val_loss: 0.2461 - val_accuracy: 0.9080 - lr: 0.0010\n",
            "Epoch 37/50\n",
            "13/13 [==============================] - 0s 4ms/step - loss: 0.1669 - accuracy: 0.9464 - val_loss: 0.2391 - val_accuracy: 0.9080 - lr: 0.0010\n",
            "Epoch 38/50\n",
            "13/13 [==============================] - 0s 5ms/step - loss: 0.1603 - accuracy: 0.9553 - val_loss: 0.2353 - val_accuracy: 0.9119 - lr: 0.0010\n",
            "Epoch 39/50\n",
            "13/13 [==============================] - 0s 5ms/step - loss: 0.1540 - accuracy: 0.9566 - val_loss: 0.2277 - val_accuracy: 0.9119 - lr: 0.0010\n",
            "Epoch 40/50\n",
            "13/13 [==============================] - 0s 5ms/step - loss: 0.1482 - accuracy: 0.9579 - val_loss: 0.2232 - val_accuracy: 0.9119 - lr: 0.0010\n",
            "Epoch 41/50\n",
            "13/13 [==============================] - 0s 4ms/step - loss: 0.1427 - accuracy: 0.9591 - val_loss: 0.2215 - val_accuracy: 0.9119 - lr: 0.0010\n",
            "Epoch 42/50\n",
            "13/13 [==============================] - 0s 4ms/step - loss: 0.1380 - accuracy: 0.9591 - val_loss: 0.2162 - val_accuracy: 0.9119 - lr: 0.0010\n",
            "Epoch 43/50\n",
            "13/13 [==============================] - 0s 5ms/step - loss: 0.1332 - accuracy: 0.9604 - val_loss: 0.2144 - val_accuracy: 0.9157 - lr: 0.0010\n",
            "Epoch 44/50\n",
            "13/13 [==============================] - 0s 5ms/step - loss: 0.1290 - accuracy: 0.9604 - val_loss: 0.2137 - val_accuracy: 0.9157 - lr: 0.0010\n",
            "Epoch 45/50\n",
            "13/13 [==============================] - 0s 6ms/step - loss: 0.1248 - accuracy: 0.9630 - val_loss: 0.2097 - val_accuracy: 0.9195 - lr: 0.0010\n",
            "Epoch 46/50\n",
            "13/13 [==============================] - 0s 5ms/step - loss: 0.1210 - accuracy: 0.9617 - val_loss: 0.2017 - val_accuracy: 0.9234 - lr: 0.0010\n",
            "Epoch 47/50\n",
            "13/13 [==============================] - 0s 5ms/step - loss: 0.1173 - accuracy: 0.9630 - val_loss: 0.2044 - val_accuracy: 0.9234 - lr: 0.0010\n",
            "Epoch 48/50\n",
            "13/13 [==============================] - 0s 4ms/step - loss: 0.1149 - accuracy: 0.9706 - val_loss: 0.2121 - val_accuracy: 0.9234 - lr: 0.0010\n",
            "Epoch 49/50\n",
            "13/13 [==============================] - 0s 4ms/step - loss: 0.1102 - accuracy: 0.9681 - val_loss: 0.1955 - val_accuracy: 0.9272 - lr: 0.0010\n",
            "Epoch 50/50\n",
            "13/13 [==============================] - 0s 5ms/step - loss: 0.1076 - accuracy: 0.9668 - val_loss: 0.1944 - val_accuracy: 0.9310 - lr: 0.0010\n"
          ]
        }
      ]
    },
    {
      "cell_type": "code",
      "source": [
        "fig = go.Figure(data=[\n",
        "                      go.Scatter(\n",
        "                          y = model2.history.history[\"loss\"],\n",
        "                          name=\"Training loss\",\n",
        "                          mode=\"lines\",\n",
        "                          marker=dict(\n",
        "                              color=color_chart[0]\n",
        "                          )),\n",
        "                      go.Scatter(\n",
        "                          y = model2.history.history[\"val_loss\"],\n",
        "                          name=\"Validation loss\",\n",
        "                          mode=\"lines\",\n",
        "                          marker=dict(\n",
        "                              color=color_chart[1]\n",
        "                          ))\n",
        "])\n",
        "fig.update_layout(\n",
        "    title='Training and val loss across epochs',\n",
        "    xaxis_title='epochs',\n",
        "    yaxis_title='Binary Cross Entropy'\n",
        ")\n",
        "fig.show()"
      ],
      "metadata": {
        "colab": {
          "base_uri": "https://localhost:8080/",
          "height": 542
        },
        "outputId": "063159b7-4af8-46dc-d725-c6ef7f6e424f",
        "id": "7fNQoTQ-KGy_"
      },
      "execution_count": null,
      "outputs": [
        {
          "output_type": "display_data",
          "data": {
            "text/html": [
              "<html>\n",
              "<head><meta charset=\"utf-8\" /></head>\n",
              "<body>\n",
              "    <div>            <script src=\"https://cdnjs.cloudflare.com/ajax/libs/mathjax/2.7.5/MathJax.js?config=TeX-AMS-MML_SVG\"></script><script type=\"text/javascript\">if (window.MathJax && window.MathJax.Hub && window.MathJax.Hub.Config) {window.MathJax.Hub.Config({SVG: {font: \"STIX-Web\"}});}</script>                <script type=\"text/javascript\">window.PlotlyConfig = {MathJaxConfig: 'local'};</script>\n",
              "        <script charset=\"utf-8\" src=\"https://cdn.plot.ly/plotly-2.24.1.min.js\"></script>                <div id=\"5338e2a4-b43c-4ddd-a470-0b57c4d817df\" class=\"plotly-graph-div\" style=\"height:525px; width:100%;\"></div>            <script type=\"text/javascript\">                                    window.PLOTLYENV=window.PLOTLYENV || {};                                    if (document.getElementById(\"5338e2a4-b43c-4ddd-a470-0b57c4d817df\")) {                    Plotly.newPlot(                        \"5338e2a4-b43c-4ddd-a470-0b57c4d817df\",                        [{\"marker\":{\"color\":\"#4B9AC7\"},\"mode\":\"lines\",\"name\":\"Training loss\",\"y\":[0.6925433874130249,0.6894493103027344,0.6861929297447205,0.6821540594100952,0.6771804094314575,0.6708521842956543,0.6629470586776733,0.653365969657898,0.6417537331581116,0.6282022595405579,0.6119929552078247,0.5933687090873718,0.5725058913230896,0.5497891306877136,0.5255246758460999,0.5015929341316223,0.47504255175590515,0.44910481572151184,0.42437615990638733,0.4002682864665985,0.3762942850589752,0.35446256399154663,0.3335508108139038,0.3152382969856262,0.29742956161499023,0.280790239572525,0.26657184958457947,0.25310924649238586,0.23972958326339722,0.22858266532421112,0.21762946248054504,0.20747481286525726,0.19832561910152435,0.18963289260864258,0.18247497081756592,0.17352597415447235,0.166873961687088,0.16028612852096558,0.15401077270507812,0.1482168585062027,0.14274923503398895,0.1379973441362381,0.1332128643989563,0.1289685070514679,0.12479562312364578,0.1209801658987999,0.11731170117855072,0.11487153172492981,0.11021268367767334,0.10756226629018784],\"type\":\"scatter\"},{\"marker\":{\"color\":\"#4BE8E0\"},\"mode\":\"lines\",\"name\":\"Validation loss\",\"y\":[0.6897174119949341,0.6854850053787231,0.6806105375289917,0.6748254299163818,0.6673640608787537,0.6585262417793274,0.6478826999664307,0.6349876523017883,0.6207762956619263,0.602961540222168,0.5833253264427185,0.5623424053192139,0.5396784543991089,0.5154586434364319,0.4914242625236511,0.46932846307754517,0.44368305802345276,0.42747634649276733,0.4081127345561981,0.38548219203948975,0.3742709457874298,0.36216267943382263,0.34544995427131653,0.3334602415561676,0.3207601010799408,0.31778207421302795,0.30834200978279114,0.29390138387680054,0.29628872871398926,0.2827940285205841,0.27469250559806824,0.2715449631214142,0.26200148463249207,0.2557563781738281,0.2435382902622223,0.2461443841457367,0.23912261426448822,0.23534704744815826,0.22767385840415955,0.22316914796829224,0.2214517444372177,0.21624910831451416,0.2143823802471161,0.2136695384979248,0.20969857275485992,0.20165231823921204,0.20441851019859314,0.21207678318023682,0.1955392211675644,0.19439846277236938],\"type\":\"scatter\"}],                        {\"template\":{\"data\":{\"histogram2dcontour\":[{\"type\":\"histogram2dcontour\",\"colorbar\":{\"outlinewidth\":0,\"ticks\":\"\"},\"colorscale\":[[0.0,\"#0d0887\"],[0.1111111111111111,\"#46039f\"],[0.2222222222222222,\"#7201a8\"],[0.3333333333333333,\"#9c179e\"],[0.4444444444444444,\"#bd3786\"],[0.5555555555555556,\"#d8576b\"],[0.6666666666666666,\"#ed7953\"],[0.7777777777777778,\"#fb9f3a\"],[0.8888888888888888,\"#fdca26\"],[1.0,\"#f0f921\"]]}],\"choropleth\":[{\"type\":\"choropleth\",\"colorbar\":{\"outlinewidth\":0,\"ticks\":\"\"}}],\"histogram2d\":[{\"type\":\"histogram2d\",\"colorbar\":{\"outlinewidth\":0,\"ticks\":\"\"},\"colorscale\":[[0.0,\"#0d0887\"],[0.1111111111111111,\"#46039f\"],[0.2222222222222222,\"#7201a8\"],[0.3333333333333333,\"#9c179e\"],[0.4444444444444444,\"#bd3786\"],[0.5555555555555556,\"#d8576b\"],[0.6666666666666666,\"#ed7953\"],[0.7777777777777778,\"#fb9f3a\"],[0.8888888888888888,\"#fdca26\"],[1.0,\"#f0f921\"]]}],\"heatmap\":[{\"type\":\"heatmap\",\"colorbar\":{\"outlinewidth\":0,\"ticks\":\"\"},\"colorscale\":[[0.0,\"#0d0887\"],[0.1111111111111111,\"#46039f\"],[0.2222222222222222,\"#7201a8\"],[0.3333333333333333,\"#9c179e\"],[0.4444444444444444,\"#bd3786\"],[0.5555555555555556,\"#d8576b\"],[0.6666666666666666,\"#ed7953\"],[0.7777777777777778,\"#fb9f3a\"],[0.8888888888888888,\"#fdca26\"],[1.0,\"#f0f921\"]]}],\"heatmapgl\":[{\"type\":\"heatmapgl\",\"colorbar\":{\"outlinewidth\":0,\"ticks\":\"\"},\"colorscale\":[[0.0,\"#0d0887\"],[0.1111111111111111,\"#46039f\"],[0.2222222222222222,\"#7201a8\"],[0.3333333333333333,\"#9c179e\"],[0.4444444444444444,\"#bd3786\"],[0.5555555555555556,\"#d8576b\"],[0.6666666666666666,\"#ed7953\"],[0.7777777777777778,\"#fb9f3a\"],[0.8888888888888888,\"#fdca26\"],[1.0,\"#f0f921\"]]}],\"contourcarpet\":[{\"type\":\"contourcarpet\",\"colorbar\":{\"outlinewidth\":0,\"ticks\":\"\"}}],\"contour\":[{\"type\":\"contour\",\"colorbar\":{\"outlinewidth\":0,\"ticks\":\"\"},\"colorscale\":[[0.0,\"#0d0887\"],[0.1111111111111111,\"#46039f\"],[0.2222222222222222,\"#7201a8\"],[0.3333333333333333,\"#9c179e\"],[0.4444444444444444,\"#bd3786\"],[0.5555555555555556,\"#d8576b\"],[0.6666666666666666,\"#ed7953\"],[0.7777777777777778,\"#fb9f3a\"],[0.8888888888888888,\"#fdca26\"],[1.0,\"#f0f921\"]]}],\"surface\":[{\"type\":\"surface\",\"colorbar\":{\"outlinewidth\":0,\"ticks\":\"\"},\"colorscale\":[[0.0,\"#0d0887\"],[0.1111111111111111,\"#46039f\"],[0.2222222222222222,\"#7201a8\"],[0.3333333333333333,\"#9c179e\"],[0.4444444444444444,\"#bd3786\"],[0.5555555555555556,\"#d8576b\"],[0.6666666666666666,\"#ed7953\"],[0.7777777777777778,\"#fb9f3a\"],[0.8888888888888888,\"#fdca26\"],[1.0,\"#f0f921\"]]}],\"mesh3d\":[{\"type\":\"mesh3d\",\"colorbar\":{\"outlinewidth\":0,\"ticks\":\"\"}}],\"scatter\":[{\"fillpattern\":{\"fillmode\":\"overlay\",\"size\":10,\"solidity\":0.2},\"type\":\"scatter\"}],\"parcoords\":[{\"type\":\"parcoords\",\"line\":{\"colorbar\":{\"outlinewidth\":0,\"ticks\":\"\"}}}],\"scatterpolargl\":[{\"type\":\"scatterpolargl\",\"marker\":{\"colorbar\":{\"outlinewidth\":0,\"ticks\":\"\"}}}],\"bar\":[{\"error_x\":{\"color\":\"#2a3f5f\"},\"error_y\":{\"color\":\"#2a3f5f\"},\"marker\":{\"line\":{\"color\":\"#E5ECF6\",\"width\":0.5},\"pattern\":{\"fillmode\":\"overlay\",\"size\":10,\"solidity\":0.2}},\"type\":\"bar\"}],\"scattergeo\":[{\"type\":\"scattergeo\",\"marker\":{\"colorbar\":{\"outlinewidth\":0,\"ticks\":\"\"}}}],\"scatterpolar\":[{\"type\":\"scatterpolar\",\"marker\":{\"colorbar\":{\"outlinewidth\":0,\"ticks\":\"\"}}}],\"histogram\":[{\"marker\":{\"pattern\":{\"fillmode\":\"overlay\",\"size\":10,\"solidity\":0.2}},\"type\":\"histogram\"}],\"scattergl\":[{\"type\":\"scattergl\",\"marker\":{\"colorbar\":{\"outlinewidth\":0,\"ticks\":\"\"}}}],\"scatter3d\":[{\"type\":\"scatter3d\",\"line\":{\"colorbar\":{\"outlinewidth\":0,\"ticks\":\"\"}},\"marker\":{\"colorbar\":{\"outlinewidth\":0,\"ticks\":\"\"}}}],\"scattermapbox\":[{\"type\":\"scattermapbox\",\"marker\":{\"colorbar\":{\"outlinewidth\":0,\"ticks\":\"\"}}}],\"scatterternary\":[{\"type\":\"scatterternary\",\"marker\":{\"colorbar\":{\"outlinewidth\":0,\"ticks\":\"\"}}}],\"scattercarpet\":[{\"type\":\"scattercarpet\",\"marker\":{\"colorbar\":{\"outlinewidth\":0,\"ticks\":\"\"}}}],\"carpet\":[{\"aaxis\":{\"endlinecolor\":\"#2a3f5f\",\"gridcolor\":\"white\",\"linecolor\":\"white\",\"minorgridcolor\":\"white\",\"startlinecolor\":\"#2a3f5f\"},\"baxis\":{\"endlinecolor\":\"#2a3f5f\",\"gridcolor\":\"white\",\"linecolor\":\"white\",\"minorgridcolor\":\"white\",\"startlinecolor\":\"#2a3f5f\"},\"type\":\"carpet\"}],\"table\":[{\"cells\":{\"fill\":{\"color\":\"#EBF0F8\"},\"line\":{\"color\":\"white\"}},\"header\":{\"fill\":{\"color\":\"#C8D4E3\"},\"line\":{\"color\":\"white\"}},\"type\":\"table\"}],\"barpolar\":[{\"marker\":{\"line\":{\"color\":\"#E5ECF6\",\"width\":0.5},\"pattern\":{\"fillmode\":\"overlay\",\"size\":10,\"solidity\":0.2}},\"type\":\"barpolar\"}],\"pie\":[{\"automargin\":true,\"type\":\"pie\"}]},\"layout\":{\"autotypenumbers\":\"strict\",\"colorway\":[\"#636efa\",\"#EF553B\",\"#00cc96\",\"#ab63fa\",\"#FFA15A\",\"#19d3f3\",\"#FF6692\",\"#B6E880\",\"#FF97FF\",\"#FECB52\"],\"font\":{\"color\":\"#2a3f5f\"},\"hovermode\":\"closest\",\"hoverlabel\":{\"align\":\"left\"},\"paper_bgcolor\":\"white\",\"plot_bgcolor\":\"#E5ECF6\",\"polar\":{\"bgcolor\":\"#E5ECF6\",\"angularaxis\":{\"gridcolor\":\"white\",\"linecolor\":\"white\",\"ticks\":\"\"},\"radialaxis\":{\"gridcolor\":\"white\",\"linecolor\":\"white\",\"ticks\":\"\"}},\"ternary\":{\"bgcolor\":\"#E5ECF6\",\"aaxis\":{\"gridcolor\":\"white\",\"linecolor\":\"white\",\"ticks\":\"\"},\"baxis\":{\"gridcolor\":\"white\",\"linecolor\":\"white\",\"ticks\":\"\"},\"caxis\":{\"gridcolor\":\"white\",\"linecolor\":\"white\",\"ticks\":\"\"}},\"coloraxis\":{\"colorbar\":{\"outlinewidth\":0,\"ticks\":\"\"}},\"colorscale\":{\"sequential\":[[0.0,\"#0d0887\"],[0.1111111111111111,\"#46039f\"],[0.2222222222222222,\"#7201a8\"],[0.3333333333333333,\"#9c179e\"],[0.4444444444444444,\"#bd3786\"],[0.5555555555555556,\"#d8576b\"],[0.6666666666666666,\"#ed7953\"],[0.7777777777777778,\"#fb9f3a\"],[0.8888888888888888,\"#fdca26\"],[1.0,\"#f0f921\"]],\"sequentialminus\":[[0.0,\"#0d0887\"],[0.1111111111111111,\"#46039f\"],[0.2222222222222222,\"#7201a8\"],[0.3333333333333333,\"#9c179e\"],[0.4444444444444444,\"#bd3786\"],[0.5555555555555556,\"#d8576b\"],[0.6666666666666666,\"#ed7953\"],[0.7777777777777778,\"#fb9f3a\"],[0.8888888888888888,\"#fdca26\"],[1.0,\"#f0f921\"]],\"diverging\":[[0,\"#8e0152\"],[0.1,\"#c51b7d\"],[0.2,\"#de77ae\"],[0.3,\"#f1b6da\"],[0.4,\"#fde0ef\"],[0.5,\"#f7f7f7\"],[0.6,\"#e6f5d0\"],[0.7,\"#b8e186\"],[0.8,\"#7fbc41\"],[0.9,\"#4d9221\"],[1,\"#276419\"]]},\"xaxis\":{\"gridcolor\":\"white\",\"linecolor\":\"white\",\"ticks\":\"\",\"title\":{\"standoff\":15},\"zerolinecolor\":\"white\",\"automargin\":true,\"zerolinewidth\":2},\"yaxis\":{\"gridcolor\":\"white\",\"linecolor\":\"white\",\"ticks\":\"\",\"title\":{\"standoff\":15},\"zerolinecolor\":\"white\",\"automargin\":true,\"zerolinewidth\":2},\"scene\":{\"xaxis\":{\"backgroundcolor\":\"#E5ECF6\",\"gridcolor\":\"white\",\"linecolor\":\"white\",\"showbackground\":true,\"ticks\":\"\",\"zerolinecolor\":\"white\",\"gridwidth\":2},\"yaxis\":{\"backgroundcolor\":\"#E5ECF6\",\"gridcolor\":\"white\",\"linecolor\":\"white\",\"showbackground\":true,\"ticks\":\"\",\"zerolinecolor\":\"white\",\"gridwidth\":2},\"zaxis\":{\"backgroundcolor\":\"#E5ECF6\",\"gridcolor\":\"white\",\"linecolor\":\"white\",\"showbackground\":true,\"ticks\":\"\",\"zerolinecolor\":\"white\",\"gridwidth\":2}},\"shapedefaults\":{\"line\":{\"color\":\"#2a3f5f\"}},\"annotationdefaults\":{\"arrowcolor\":\"#2a3f5f\",\"arrowhead\":0,\"arrowwidth\":1},\"geo\":{\"bgcolor\":\"white\",\"landcolor\":\"#E5ECF6\",\"subunitcolor\":\"white\",\"showland\":true,\"showlakes\":true,\"lakecolor\":\"white\"},\"title\":{\"x\":0.05},\"mapbox\":{\"style\":\"light\"}}},\"title\":{\"text\":\"Training and val loss across epochs\"},\"xaxis\":{\"title\":{\"text\":\"epochs\"}},\"yaxis\":{\"title\":{\"text\":\"Binary Cross Entropy\"}}},                        {\"responsive\": true}                    ).then(function(){\n",
              "                            \n",
              "var gd = document.getElementById('5338e2a4-b43c-4ddd-a470-0b57c4d817df');\n",
              "var x = new MutationObserver(function (mutations, observer) {{\n",
              "        var display = window.getComputedStyle(gd).display;\n",
              "        if (!display || display === 'none') {{\n",
              "            console.log([gd, 'removed!']);\n",
              "            Plotly.purge(gd);\n",
              "            observer.disconnect();\n",
              "        }}\n",
              "}});\n",
              "\n",
              "// Listen for the removal of the full notebook cells\n",
              "var notebookContainer = gd.closest('#notebook-container');\n",
              "if (notebookContainer) {{\n",
              "    x.observe(notebookContainer, {childList: true});\n",
              "}}\n",
              "\n",
              "// Listen for the clearing of the current output cell\n",
              "var outputEl = gd.closest('.output');\n",
              "if (outputEl) {{\n",
              "    x.observe(outputEl, {childList: true});\n",
              "}}\n",
              "\n",
              "                        })                };                            </script>        </div>\n",
              "</body>\n",
              "</html>"
            ]
          },
          "metadata": {}
        }
      ]
    },
    {
      "cell_type": "code",
      "source": [
        "fig = go.Figure(data=[\n",
        "                      go.Scatter(\n",
        "                          y=model2.history.history[\"accuracy\"],\n",
        "                          name=\"Training accuracy\",\n",
        "                          mode=\"lines\",\n",
        "                          marker=dict(\n",
        "                              color=color_chart[0]\n",
        "                          )),\n",
        "                      go.Scatter(\n",
        "                          y=model2.history.history[\"val_accuracy\"],\n",
        "                          name=\"Validation accuracy\",\n",
        "                          mode=\"lines\",\n",
        "                          marker=dict(\n",
        "                              color=color_chart[1]\n",
        "                          ))\n",
        "])\n",
        "fig.update_layout(\n",
        "    title='Training and val accuracy across epochs',\n",
        "    xaxis_title='epochs',\n",
        "    yaxis_title='Accuracy'\n",
        ")\n",
        "fig.show()"
      ],
      "metadata": {
        "colab": {
          "base_uri": "https://localhost:8080/",
          "height": 542
        },
        "outputId": "763b7c24-7463-45b4-d7d3-aa4886df997f",
        "id": "gfLxCCRzKGy_"
      },
      "execution_count": null,
      "outputs": [
        {
          "output_type": "display_data",
          "data": {
            "text/html": [
              "<html>\n",
              "<head><meta charset=\"utf-8\" /></head>\n",
              "<body>\n",
              "    <div>            <script src=\"https://cdnjs.cloudflare.com/ajax/libs/mathjax/2.7.5/MathJax.js?config=TeX-AMS-MML_SVG\"></script><script type=\"text/javascript\">if (window.MathJax && window.MathJax.Hub && window.MathJax.Hub.Config) {window.MathJax.Hub.Config({SVG: {font: \"STIX-Web\"}});}</script>                <script type=\"text/javascript\">window.PlotlyConfig = {MathJaxConfig: 'local'};</script>\n",
              "        <script charset=\"utf-8\" src=\"https://cdn.plot.ly/plotly-2.24.1.min.js\"></script>                <div id=\"6e865c6e-e74d-4a8e-8cb4-d8d41c5e6cdc\" class=\"plotly-graph-div\" style=\"height:525px; width:100%;\"></div>            <script type=\"text/javascript\">                                    window.PLOTLYENV=window.PLOTLYENV || {};                                    if (document.getElementById(\"6e865c6e-e74d-4a8e-8cb4-d8d41c5e6cdc\")) {                    Plotly.newPlot(                        \"6e865c6e-e74d-4a8e-8cb4-d8d41c5e6cdc\",                        [{\"marker\":{\"color\":\"#4B9AC7\"},\"mode\":\"lines\",\"name\":\"Training accuracy\",\"y\":[0.5006385445594788,0.7509578466415405,0.8352490663528442,0.860791802406311,0.8773946166038513,0.8786717653274536,0.8850574493408203,0.8901660442352295,0.8939974308013916,0.8991060256958008,0.9118773937225342,0.9118773937225342,0.9131545424461365,0.9144316911697388,0.9131545424461365,0.9182630777359009,0.9169859290122986,0.9195402264595032,0.9220945239067078,0.9220945239067078,0.9259259104728699,0.9246487617492676,0.9259259104728699,0.9259259104728699,0.9284802079200745,0.931034505367279,0.931034505367279,0.9323115944862366,0.9348658919334412,0.9348658919334412,0.9361430406570435,0.938697338104248,0.938697338104248,0.9412515759468079,0.9450830221176147,0.9438058733940125,0.946360170841217,0.9553001523017883,0.9565772414207458,0.9578543901443481,0.9591315388679504,0.9591315388679504,0.9604086875915527,0.9604086875915527,0.9629629850387573,0.961685836315155,0.9629629850387573,0.9706258177757263,0.9680715203285217,0.9667943716049194],\"type\":\"scatter\"},{\"marker\":{\"color\":\"#4BE8E0\"},\"mode\":\"lines\",\"name\":\"Validation accuracy\",\"y\":[0.49808427691459656,0.7854406237602234,0.7969348430633545,0.7969348430633545,0.8199234008789062,0.8160919547080994,0.8199234008789062,0.8314176201820374,0.8275862336158752,0.8505747318267822,0.8620689511299133,0.8582375645637512,0.8582375645637512,0.8659003973007202,0.8697317838668823,0.8697317838668823,0.8697317838668823,0.8697317838668823,0.8697317838668823,0.8697317838668823,0.8697317838668823,0.8697317838668823,0.8697317838668823,0.8697317838668823,0.8888888955116272,0.8965517282485962,0.9042145609855652,0.8927202820777893,0.9003831148147583,0.9042145609855652,0.8965517282485962,0.9080459475517273,0.9080459475517273,0.9080459475517273,0.9042145609855652,0.9080459475517273,0.9080459475517273,0.9118773937225342,0.9118773937225342,0.9118773937225342,0.9118773937225342,0.9118773937225342,0.9157088398933411,0.9157088398933411,0.9195402264595032,0.9233716726303101,0.9233716726303101,0.9233716726303101,0.9272030591964722,0.931034505367279],\"type\":\"scatter\"}],                        {\"template\":{\"data\":{\"histogram2dcontour\":[{\"type\":\"histogram2dcontour\",\"colorbar\":{\"outlinewidth\":0,\"ticks\":\"\"},\"colorscale\":[[0.0,\"#0d0887\"],[0.1111111111111111,\"#46039f\"],[0.2222222222222222,\"#7201a8\"],[0.3333333333333333,\"#9c179e\"],[0.4444444444444444,\"#bd3786\"],[0.5555555555555556,\"#d8576b\"],[0.6666666666666666,\"#ed7953\"],[0.7777777777777778,\"#fb9f3a\"],[0.8888888888888888,\"#fdca26\"],[1.0,\"#f0f921\"]]}],\"choropleth\":[{\"type\":\"choropleth\",\"colorbar\":{\"outlinewidth\":0,\"ticks\":\"\"}}],\"histogram2d\":[{\"type\":\"histogram2d\",\"colorbar\":{\"outlinewidth\":0,\"ticks\":\"\"},\"colorscale\":[[0.0,\"#0d0887\"],[0.1111111111111111,\"#46039f\"],[0.2222222222222222,\"#7201a8\"],[0.3333333333333333,\"#9c179e\"],[0.4444444444444444,\"#bd3786\"],[0.5555555555555556,\"#d8576b\"],[0.6666666666666666,\"#ed7953\"],[0.7777777777777778,\"#fb9f3a\"],[0.8888888888888888,\"#fdca26\"],[1.0,\"#f0f921\"]]}],\"heatmap\":[{\"type\":\"heatmap\",\"colorbar\":{\"outlinewidth\":0,\"ticks\":\"\"},\"colorscale\":[[0.0,\"#0d0887\"],[0.1111111111111111,\"#46039f\"],[0.2222222222222222,\"#7201a8\"],[0.3333333333333333,\"#9c179e\"],[0.4444444444444444,\"#bd3786\"],[0.5555555555555556,\"#d8576b\"],[0.6666666666666666,\"#ed7953\"],[0.7777777777777778,\"#fb9f3a\"],[0.8888888888888888,\"#fdca26\"],[1.0,\"#f0f921\"]]}],\"heatmapgl\":[{\"type\":\"heatmapgl\",\"colorbar\":{\"outlinewidth\":0,\"ticks\":\"\"},\"colorscale\":[[0.0,\"#0d0887\"],[0.1111111111111111,\"#46039f\"],[0.2222222222222222,\"#7201a8\"],[0.3333333333333333,\"#9c179e\"],[0.4444444444444444,\"#bd3786\"],[0.5555555555555556,\"#d8576b\"],[0.6666666666666666,\"#ed7953\"],[0.7777777777777778,\"#fb9f3a\"],[0.8888888888888888,\"#fdca26\"],[1.0,\"#f0f921\"]]}],\"contourcarpet\":[{\"type\":\"contourcarpet\",\"colorbar\":{\"outlinewidth\":0,\"ticks\":\"\"}}],\"contour\":[{\"type\":\"contour\",\"colorbar\":{\"outlinewidth\":0,\"ticks\":\"\"},\"colorscale\":[[0.0,\"#0d0887\"],[0.1111111111111111,\"#46039f\"],[0.2222222222222222,\"#7201a8\"],[0.3333333333333333,\"#9c179e\"],[0.4444444444444444,\"#bd3786\"],[0.5555555555555556,\"#d8576b\"],[0.6666666666666666,\"#ed7953\"],[0.7777777777777778,\"#fb9f3a\"],[0.8888888888888888,\"#fdca26\"],[1.0,\"#f0f921\"]]}],\"surface\":[{\"type\":\"surface\",\"colorbar\":{\"outlinewidth\":0,\"ticks\":\"\"},\"colorscale\":[[0.0,\"#0d0887\"],[0.1111111111111111,\"#46039f\"],[0.2222222222222222,\"#7201a8\"],[0.3333333333333333,\"#9c179e\"],[0.4444444444444444,\"#bd3786\"],[0.5555555555555556,\"#d8576b\"],[0.6666666666666666,\"#ed7953\"],[0.7777777777777778,\"#fb9f3a\"],[0.8888888888888888,\"#fdca26\"],[1.0,\"#f0f921\"]]}],\"mesh3d\":[{\"type\":\"mesh3d\",\"colorbar\":{\"outlinewidth\":0,\"ticks\":\"\"}}],\"scatter\":[{\"fillpattern\":{\"fillmode\":\"overlay\",\"size\":10,\"solidity\":0.2},\"type\":\"scatter\"}],\"parcoords\":[{\"type\":\"parcoords\",\"line\":{\"colorbar\":{\"outlinewidth\":0,\"ticks\":\"\"}}}],\"scatterpolargl\":[{\"type\":\"scatterpolargl\",\"marker\":{\"colorbar\":{\"outlinewidth\":0,\"ticks\":\"\"}}}],\"bar\":[{\"error_x\":{\"color\":\"#2a3f5f\"},\"error_y\":{\"color\":\"#2a3f5f\"},\"marker\":{\"line\":{\"color\":\"#E5ECF6\",\"width\":0.5},\"pattern\":{\"fillmode\":\"overlay\",\"size\":10,\"solidity\":0.2}},\"type\":\"bar\"}],\"scattergeo\":[{\"type\":\"scattergeo\",\"marker\":{\"colorbar\":{\"outlinewidth\":0,\"ticks\":\"\"}}}],\"scatterpolar\":[{\"type\":\"scatterpolar\",\"marker\":{\"colorbar\":{\"outlinewidth\":0,\"ticks\":\"\"}}}],\"histogram\":[{\"marker\":{\"pattern\":{\"fillmode\":\"overlay\",\"size\":10,\"solidity\":0.2}},\"type\":\"histogram\"}],\"scattergl\":[{\"type\":\"scattergl\",\"marker\":{\"colorbar\":{\"outlinewidth\":0,\"ticks\":\"\"}}}],\"scatter3d\":[{\"type\":\"scatter3d\",\"line\":{\"colorbar\":{\"outlinewidth\":0,\"ticks\":\"\"}},\"marker\":{\"colorbar\":{\"outlinewidth\":0,\"ticks\":\"\"}}}],\"scattermapbox\":[{\"type\":\"scattermapbox\",\"marker\":{\"colorbar\":{\"outlinewidth\":0,\"ticks\":\"\"}}}],\"scatterternary\":[{\"type\":\"scatterternary\",\"marker\":{\"colorbar\":{\"outlinewidth\":0,\"ticks\":\"\"}}}],\"scattercarpet\":[{\"type\":\"scattercarpet\",\"marker\":{\"colorbar\":{\"outlinewidth\":0,\"ticks\":\"\"}}}],\"carpet\":[{\"aaxis\":{\"endlinecolor\":\"#2a3f5f\",\"gridcolor\":\"white\",\"linecolor\":\"white\",\"minorgridcolor\":\"white\",\"startlinecolor\":\"#2a3f5f\"},\"baxis\":{\"endlinecolor\":\"#2a3f5f\",\"gridcolor\":\"white\",\"linecolor\":\"white\",\"minorgridcolor\":\"white\",\"startlinecolor\":\"#2a3f5f\"},\"type\":\"carpet\"}],\"table\":[{\"cells\":{\"fill\":{\"color\":\"#EBF0F8\"},\"line\":{\"color\":\"white\"}},\"header\":{\"fill\":{\"color\":\"#C8D4E3\"},\"line\":{\"color\":\"white\"}},\"type\":\"table\"}],\"barpolar\":[{\"marker\":{\"line\":{\"color\":\"#E5ECF6\",\"width\":0.5},\"pattern\":{\"fillmode\":\"overlay\",\"size\":10,\"solidity\":0.2}},\"type\":\"barpolar\"}],\"pie\":[{\"automargin\":true,\"type\":\"pie\"}]},\"layout\":{\"autotypenumbers\":\"strict\",\"colorway\":[\"#636efa\",\"#EF553B\",\"#00cc96\",\"#ab63fa\",\"#FFA15A\",\"#19d3f3\",\"#FF6692\",\"#B6E880\",\"#FF97FF\",\"#FECB52\"],\"font\":{\"color\":\"#2a3f5f\"},\"hovermode\":\"closest\",\"hoverlabel\":{\"align\":\"left\"},\"paper_bgcolor\":\"white\",\"plot_bgcolor\":\"#E5ECF6\",\"polar\":{\"bgcolor\":\"#E5ECF6\",\"angularaxis\":{\"gridcolor\":\"white\",\"linecolor\":\"white\",\"ticks\":\"\"},\"radialaxis\":{\"gridcolor\":\"white\",\"linecolor\":\"white\",\"ticks\":\"\"}},\"ternary\":{\"bgcolor\":\"#E5ECF6\",\"aaxis\":{\"gridcolor\":\"white\",\"linecolor\":\"white\",\"ticks\":\"\"},\"baxis\":{\"gridcolor\":\"white\",\"linecolor\":\"white\",\"ticks\":\"\"},\"caxis\":{\"gridcolor\":\"white\",\"linecolor\":\"white\",\"ticks\":\"\"}},\"coloraxis\":{\"colorbar\":{\"outlinewidth\":0,\"ticks\":\"\"}},\"colorscale\":{\"sequential\":[[0.0,\"#0d0887\"],[0.1111111111111111,\"#46039f\"],[0.2222222222222222,\"#7201a8\"],[0.3333333333333333,\"#9c179e\"],[0.4444444444444444,\"#bd3786\"],[0.5555555555555556,\"#d8576b\"],[0.6666666666666666,\"#ed7953\"],[0.7777777777777778,\"#fb9f3a\"],[0.8888888888888888,\"#fdca26\"],[1.0,\"#f0f921\"]],\"sequentialminus\":[[0.0,\"#0d0887\"],[0.1111111111111111,\"#46039f\"],[0.2222222222222222,\"#7201a8\"],[0.3333333333333333,\"#9c179e\"],[0.4444444444444444,\"#bd3786\"],[0.5555555555555556,\"#d8576b\"],[0.6666666666666666,\"#ed7953\"],[0.7777777777777778,\"#fb9f3a\"],[0.8888888888888888,\"#fdca26\"],[1.0,\"#f0f921\"]],\"diverging\":[[0,\"#8e0152\"],[0.1,\"#c51b7d\"],[0.2,\"#de77ae\"],[0.3,\"#f1b6da\"],[0.4,\"#fde0ef\"],[0.5,\"#f7f7f7\"],[0.6,\"#e6f5d0\"],[0.7,\"#b8e186\"],[0.8,\"#7fbc41\"],[0.9,\"#4d9221\"],[1,\"#276419\"]]},\"xaxis\":{\"gridcolor\":\"white\",\"linecolor\":\"white\",\"ticks\":\"\",\"title\":{\"standoff\":15},\"zerolinecolor\":\"white\",\"automargin\":true,\"zerolinewidth\":2},\"yaxis\":{\"gridcolor\":\"white\",\"linecolor\":\"white\",\"ticks\":\"\",\"title\":{\"standoff\":15},\"zerolinecolor\":\"white\",\"automargin\":true,\"zerolinewidth\":2},\"scene\":{\"xaxis\":{\"backgroundcolor\":\"#E5ECF6\",\"gridcolor\":\"white\",\"linecolor\":\"white\",\"showbackground\":true,\"ticks\":\"\",\"zerolinecolor\":\"white\",\"gridwidth\":2},\"yaxis\":{\"backgroundcolor\":\"#E5ECF6\",\"gridcolor\":\"white\",\"linecolor\":\"white\",\"showbackground\":true,\"ticks\":\"\",\"zerolinecolor\":\"white\",\"gridwidth\":2},\"zaxis\":{\"backgroundcolor\":\"#E5ECF6\",\"gridcolor\":\"white\",\"linecolor\":\"white\",\"showbackground\":true,\"ticks\":\"\",\"zerolinecolor\":\"white\",\"gridwidth\":2}},\"shapedefaults\":{\"line\":{\"color\":\"#2a3f5f\"}},\"annotationdefaults\":{\"arrowcolor\":\"#2a3f5f\",\"arrowhead\":0,\"arrowwidth\":1},\"geo\":{\"bgcolor\":\"white\",\"landcolor\":\"#E5ECF6\",\"subunitcolor\":\"white\",\"showland\":true,\"showlakes\":true,\"lakecolor\":\"white\"},\"title\":{\"x\":0.05},\"mapbox\":{\"style\":\"light\"}}},\"title\":{\"text\":\"Training and val accuracy across epochs\"},\"xaxis\":{\"title\":{\"text\":\"epochs\"}},\"yaxis\":{\"title\":{\"text\":\"Accuracy\"}}},                        {\"responsive\": true}                    ).then(function(){\n",
              "                            \n",
              "var gd = document.getElementById('6e865c6e-e74d-4a8e-8cb4-d8d41c5e6cdc');\n",
              "var x = new MutationObserver(function (mutations, observer) {{\n",
              "        var display = window.getComputedStyle(gd).display;\n",
              "        if (!display || display === 'none') {{\n",
              "            console.log([gd, 'removed!']);\n",
              "            Plotly.purge(gd);\n",
              "            observer.disconnect();\n",
              "        }}\n",
              "}});\n",
              "\n",
              "// Listen for the removal of the full notebook cells\n",
              "var notebookContainer = gd.closest('#notebook-container');\n",
              "if (notebookContainer) {{\n",
              "    x.observe(notebookContainer, {childList: true});\n",
              "}}\n",
              "\n",
              "// Listen for the clearing of the current output cell\n",
              "var outputEl = gd.closest('.output');\n",
              "if (outputEl) {{\n",
              "    x.observe(outputEl, {childList: true});\n",
              "}}\n",
              "\n",
              "                        })                };                            </script>        </div>\n",
              "</body>\n",
              "</html>"
            ]
          },
          "metadata": {}
        }
      ]
    },
    {
      "cell_type": "code",
      "source": [
        "test_loss, test_accuracy = model2.evaluate(balanced_test_batch)\n",
        "print('Test Loss :',test_loss)\n",
        "print('Test Accuracy :',test_accuracy)"
      ],
      "metadata": {
        "colab": {
          "base_uri": "https://localhost:8080/"
        },
        "outputId": "9368e590-d547-446f-d4ff-e0e00b86ce83",
        "id": "ynWsvUmdKGzA"
      },
      "execution_count": null,
      "outputs": [
        {
          "output_type": "stream",
          "name": "stdout",
          "text": [
            "5/5 [==============================] - 0s 3ms/step\n",
            "5/5 [==============================] - 0s 5ms/step - loss: 0.2128 - accuracy: 0.9046\n",
            "Test Loss : 0.21279732882976532\n",
            "Test Accuracy : 0.9045801758766174\n"
          ]
        }
      ]
    },
    {
      "cell_type": "code",
      "source": [
        "balanced_test_pred = [1 if o>0.5 else 0 for o in model2.predict(balanced_test_padded)]\n",
        "balanced_cf_matrix = confusion_matrix(balanced_Y_test, balanced_test_pred)\n",
        "\n",
        "ax = plt.subplot()\n",
        "sns.heatmap(balanced_cf_matrix, annot = True, ax = ax, cmap = 'Blues', fmt = '');\n",
        "ax.set_xlabel('Predicted labels');\n",
        "ax.set_ylabel('True labels');\n",
        "ax.set_title('Confusion Matrix');\n",
        "ax.xaxis.set_ticklabels(['Not Spam', 'Spam']); ax.yaxis.set_ticklabels(['Not Spam', 'Spam']);"
      ],
      "metadata": {
        "colab": {
          "base_uri": "https://localhost:8080/",
          "height": 490
        },
        "id": "4vsVsqXtMAGK",
        "outputId": "a06fe4e8-1937-4faf-856c-91a1206f5969"
      },
      "execution_count": null,
      "outputs": [
        {
          "output_type": "stream",
          "name": "stdout",
          "text": [
            "9/9 [==============================] - 0s 2ms/step\n"
          ]
        },
        {
          "output_type": "display_data",
          "data": {
            "text/plain": [
              "<Figure size 640x480 with 2 Axes>"
            ],
            "image/png": "[encoded data removed]"
          },
          "metadata": {}
        }
      ]
    },
    {
      "cell_type": "code",
      "source": [
        "print(\"Precision: {:.2f}%\".format(100 * precision_score(balanced_Y_test, balanced_test_pred)))\n",
        "print(\"Recall: {:.2f}%\".format(100 * recall_score(balanced_Y_test, balanced_test_pred)))\n",
        "print(\"F1 Score: {:.2f}%\".format(100 * f1_score(balanced_Y_test, balanced_test_pred)))"
      ],
      "metadata": {
        "colab": {
          "base_uri": "https://localhost:8080/"
        },
        "id": "W43TvJL6MF4b",
        "outputId": "88b05d49-88b0-4b0f-f713-8e52f5035865"
      },
      "execution_count": null,
      "outputs": [
        {
          "output_type": "stream",
          "name": "stdout",
          "text": [
            "Precision: 98.18%\n",
            "Recall: 82.44%\n",
            "F1 Score: 89.63%\n"
          ]
        }
      ]
    },
    {
      "cell_type": "markdown",
      "source": [
        "Unfortunately, rebalancing classes has not proven to be efficient in improving our model's performance.\n",
        "\n",
        "Our first model was a very simple neural network, perhaps using a more complex architecture will yield better results."
      ],
      "metadata": {
        "id": "2qPYa2krPcuY"
      }
    },
    {
      "cell_type": "markdown",
      "source": [
        "# 7. Recurrent neural network\n",
        "\n",
        "Recurrent neurons are particularly interesting when it comes to NLP due to their ability to retain information throughout the forward pass process : a sentence is more than a collection of words, and its meaning depends on context and how each word is used in relation to the others. In particular, LSTMs (Long Short Term Memory Networks) are able to learn long-term dependencies.\n",
        "\n",
        "Moreover, for some sentences, the context information is found at the end of the sentence. Without it, ambiguity might arise. Including two LSTM neurons instead of one, in what is called a bidirectional layer, will allow us to feed the input sequence to our ntwork both in order and in reverse. The 2 outputs will be merged and passed on to the next layer."
      ],
      "metadata": {
        "id": "UAjpBfvDQGOY"
      }
    },
    {
      "cell_type": "code",
      "source": [
        "embedding_dim = 16\n",
        "vocab_size = tokenizer.num_words + 1 # the number of words in the vocabulary : the input dim needs to be equal to the size of the vocabulary + 1 (because of the zero padding)\n",
        "\n",
        "model3 = Sequential([\n",
        "  Embedding(\n",
        "      input_dim = vocab_size,\n",
        "      output_dim = embedding_dim,\n",
        "      name = \"embedding\"), # the embedding layer\n",
        "  Bidirectional(LSTM(32)),\n",
        "  Dense(16, activation='relu'), # a dense layer\n",
        "  Dense(1, activation=\"sigmoid\") # the prediction layer\n",
        "])"
      ],
      "metadata": {
        "id": "qPEUJ08aPQy2"
      },
      "execution_count": null,
      "outputs": []
    },
    {
      "cell_type": "code",
      "source": [
        "model3.summary()"
      ],
      "metadata": {
        "colab": {
          "base_uri": "https://localhost:8080/"
        },
        "id": "4LY4RvtreJjz",
        "outputId": "b8720000-4914-4905-f868-0f468fd30181"
      },
      "execution_count": null,
      "outputs": [
        {
          "output_type": "stream",
          "name": "stdout",
          "text": [
            "Model: \"sequential_15\"\n",
            "_________________________________________________________________\n",
            " Layer (type)                Output Shape              Param #   \n",
            "=================================================================\n",
            " embedding (Embedding)       (None, None, 16)          16016     \n",
            "                                                                 \n",
            " bidirectional (Bidirection  (None, 64)                12544     \n",
            " al)                                                             \n",
            "                                                                 \n",
            " dense_30 (Dense)            (None, 16)                1040      \n",
            "                                                                 \n",
            " dense_31 (Dense)            (None, 1)                 17        \n",
            "                                                                 \n",
            "=================================================================\n",
            "Total params: 29617 (115.69 KB)\n",
            "Trainable params: 29617 (115.69 KB)\n",
            "Non-trainable params: 0 (0.00 Byte)\n",
            "_________________________________________________________________\n"
          ]
        }
      ]
    },
    {
      "cell_type": "code",
      "source": [
        "model3.compile(loss = tf.keras.losses.BinaryCrossentropy(from_logits = True), # from_logits = True to interpret y_pred as a tensor of logit values and not a probability\n",
        "              metrics = ['accuracy'],\n",
        "              optimizer = 'adam')"
      ],
      "metadata": {
        "id": "IpYQUpkme4ga"
      },
      "execution_count": null,
      "outputs": []
    },
    {
      "cell_type": "code",
      "source": [
        "history = model3.fit(train_batch,\n",
        "                    epochs = 50,\n",
        "                    callbacks = [lr, es],\n",
        "                    validation_data = val_batch\n",
        "                   )"
      ],
      "metadata": {
        "colab": {
          "base_uri": "https://localhost:8080/"
        },
        "id": "gg89-EiafBuC",
        "outputId": "8264100e-11be-4280-a2d6-681dceb3e6e2"
      },
      "execution_count": null,
      "outputs": [
        {
          "output_type": "stream",
          "name": "stdout",
          "text": [
            "Epoch 1/50\n",
            "49/49 [==============================] - 12s 128ms/step - loss: 0.4970 - accuracy: 0.8602 - val_loss: 0.3453 - val_accuracy: 0.8738 - lr: 0.0010\n",
            "Epoch 2/50\n",
            "49/49 [==============================] - 3s 68ms/step - loss: 0.2445 - accuracy: 0.9006 - val_loss: 0.1441 - val_accuracy: 0.9515 - lr: 0.0010\n",
            "Epoch 3/50\n",
            "49/49 [==============================] - 3s 67ms/step - loss: 0.1087 - accuracy: 0.9686 - val_loss: 0.0815 - val_accuracy: 0.9709 - lr: 0.0010\n",
            "Epoch 4/50\n",
            "49/49 [==============================] - 5s 93ms/step - loss: 0.0632 - accuracy: 0.9822 - val_loss: 0.0615 - val_accuracy: 0.9786 - lr: 0.0010\n",
            "Epoch 5/50\n",
            "49/49 [==============================] - 5s 102ms/step - loss: 0.0458 - accuracy: 0.9854 - val_loss: 0.0611 - val_accuracy: 0.9806 - lr: 0.0010\n",
            "Epoch 6/50\n",
            "49/49 [==============================] - 3s 65ms/step - loss: 0.0336 - accuracy: 0.9900 - val_loss: 0.0770 - val_accuracy: 0.9738 - lr: 0.0010\n",
            "Epoch 7/50\n",
            "49/49 [==============================] - 3s 71ms/step - loss: 0.0261 - accuracy: 0.9929 - val_loss: 0.0698 - val_accuracy: 0.9786 - lr: 0.0010\n",
            "Epoch 8/50\n",
            "49/49 [==============================] - 5s 107ms/step - loss: 0.0197 - accuracy: 0.9945 - val_loss: 0.1015 - val_accuracy: 0.9757 - lr: 0.0010\n",
            "Epoch 9/50\n",
            "49/49 [==============================] - 3s 69ms/step - loss: 0.0201 - accuracy: 0.9942 - val_loss: 0.0802 - val_accuracy: 0.9757 - lr: 0.0010\n",
            "Epoch 10/50\n",
            "49/49 [==============================] - 3s 69ms/step - loss: 0.0120 - accuracy: 0.9971 - val_loss: 0.0998 - val_accuracy: 0.9709 - lr: 0.0010\n",
            "Epoch 11/50\n",
            "49/49 [==============================] - 5s 108ms/step - loss: 0.0108 - accuracy: 0.9958 - val_loss: 0.1036 - val_accuracy: 0.9738 - lr: 0.0010\n",
            "Epoch 12/50\n",
            "49/49 [==============================] - 4s 86ms/step - loss: 0.0131 - accuracy: 0.9968 - val_loss: 0.0886 - val_accuracy: 0.9777 - lr: 0.0010\n",
            "Epoch 13/50\n",
            "49/49 [==============================] - 3s 68ms/step - loss: 0.0071 - accuracy: 0.9981 - val_loss: 0.0934 - val_accuracy: 0.9777 - lr: 0.0010\n",
            "Epoch 14/50\n",
            "49/49 [==============================] - 3s 66ms/step - loss: 0.0072 - accuracy: 0.9984 - val_loss: 0.1028 - val_accuracy: 0.9757 - lr: 0.0010\n",
            "Epoch 15/50\n",
            "49/49 [==============================] - 5s 111ms/step - loss: 0.0052 - accuracy: 0.9994 - val_loss: 0.1086 - val_accuracy: 0.9718 - lr: 0.0010\n",
            "Epoch 16/50\n",
            "49/49 [==============================] - 4s 85ms/step - loss: 0.0050 - accuracy: 0.9990 - val_loss: 0.1102 - val_accuracy: 0.9767 - lr: 0.0010\n",
            "Epoch 17/50\n",
            "49/49 [==============================] - 3s 68ms/step - loss: 0.0044 - accuracy: 0.9990 - val_loss: 0.1157 - val_accuracy: 0.9738 - lr: 0.0010\n",
            "Epoch 18/50\n",
            "49/49 [==============================] - 3s 68ms/step - loss: 0.0040 - accuracy: 0.9994 - val_loss: 0.1193 - val_accuracy: 0.9738 - lr: 0.0010\n",
            "Epoch 19/50\n",
            "49/49 [==============================] - 5s 103ms/step - loss: 0.0038 - accuracy: 0.9994 - val_loss: 0.1237 - val_accuracy: 0.9738 - lr: 0.0010\n",
            "Epoch 20/50\n",
            "49/49 [==============================] - 3s 69ms/step - loss: 0.0036 - accuracy: 0.9994 - val_loss: 0.1243 - val_accuracy: 0.9777 - lr: 0.0010\n",
            "Epoch 21/50\n",
            "49/49 [==============================] - 3s 66ms/step - loss: 0.0034 - accuracy: 0.9997 - val_loss: 0.1259 - val_accuracy: 0.9767 - lr: 0.0010\n",
            "Epoch 22/50\n",
            "49/49 [==============================] - 6s 117ms/step - loss: 0.0033 - accuracy: 0.9997 - val_loss: 0.1319 - val_accuracy: 0.9738 - lr: 0.0010\n",
            "Epoch 23/50\n",
            "49/49 [==============================] - 3s 67ms/step - loss: 0.0033 - accuracy: 0.9997 - val_loss: 0.1338 - val_accuracy: 0.9718 - lr: 0.0010\n",
            "Epoch 24/50\n",
            "49/49 [==============================] - 3s 71ms/step - loss: 0.0032 - accuracy: 0.9997 - val_loss: 0.1435 - val_accuracy: 0.9709 - lr: 0.0010\n",
            "Epoch 25/50\n",
            "49/49 [==============================] - 5s 96ms/step - loss: 0.0032 - accuracy: 0.9997 - val_loss: 0.1449 - val_accuracy: 0.9699 - lr: 0.0010\n"
          ]
        }
      ]
    },
    {
      "cell_type": "code",
      "source": [
        "fig = go.Figure(data=[\n",
        "                      go.Scatter(\n",
        "                          y = model3.history.history[\"loss\"],\n",
        "                          name=\"Training loss\",\n",
        "                          mode=\"lines\",\n",
        "                          marker=dict(\n",
        "                              color=color_chart[0]\n",
        "                          )),\n",
        "                      go.Scatter(\n",
        "                          y = model3.history.history[\"val_loss\"],\n",
        "                          name=\"Validation loss\",\n",
        "                          mode=\"lines\",\n",
        "                          marker=dict(\n",
        "                              color=color_chart[1]\n",
        "                          ))\n",
        "])\n",
        "fig.update_layout(\n",
        "    title='Training and val loss across epochs',\n",
        "    xaxis_title='epochs',\n",
        "    yaxis_title='Binary Cross Entropy'\n",
        ")\n",
        "fig.show()"
      ],
      "metadata": {
        "colab": {
          "base_uri": "https://localhost:8080/",
          "height": 542
        },
        "id": "W-UhIyCwfLRD",
        "outputId": "cce8a58a-23df-472a-a03b-a2be93f6e281"
      },
      "execution_count": null,
      "outputs": [
        {
          "output_type": "display_data",
          "data": {
            "text/html": [
              "<html>\n",
              "<head><meta charset=\"utf-8\" /></head>\n",
              "<body>\n",
              "    <div>            <script src=\"https://cdnjs.cloudflare.com/ajax/libs/mathjax/2.7.5/MathJax.js?config=TeX-AMS-MML_SVG\"></script><script type=\"text/javascript\">if (window.MathJax && window.MathJax.Hub && window.MathJax.Hub.Config) {window.MathJax.Hub.Config({SVG: {font: \"STIX-Web\"}});}</script>                <script type=\"text/javascript\">window.PlotlyConfig = {MathJaxConfig: 'local'};</script>\n",
              "        <script charset=\"utf-8\" src=\"https://cdn.plot.ly/plotly-2.24.1.min.js\"></script>                <div id=\"d772939d-28d9-41f5-a866-0c7ab8496c3f\" class=\"plotly-graph-div\" style=\"height:525px; width:100%;\"></div>            <script type=\"text/javascript\">                                    window.PLOTLYENV=window.PLOTLYENV || {};                                    if (document.getElementById(\"d772939d-28d9-41f5-a866-0c7ab8496c3f\")) {                    Plotly.newPlot(                        \"d772939d-28d9-41f5-a866-0c7ab8496c3f\",                        [{\"marker\":{\"color\":\"#4B9AC7\"},\"mode\":\"lines\",\"name\":\"Training loss\",\"y\":[0.4969869554042816,0.24454699456691742,0.10865708440542221,0.06323685497045517,0.045807987451553345,0.0336017832159996,0.02614542841911316,0.019651448354125023,0.020084407180547714,0.012046045623719692,0.010791534557938576,0.013076459988951683,0.0071244328282773495,0.007191043812781572,0.005214617121964693,0.005016783718019724,0.004434406757354736,0.0040110694244503975,0.0037713460624217987,0.0035624823067337275,0.003411691403016448,0.0032862364314496517,0.003259081393480301,0.003214904572814703,0.0031738383695483208],\"type\":\"scatter\"},{\"marker\":{\"color\":\"#4BE8E0\"},\"mode\":\"lines\",\"name\":\"Validation loss\",\"y\":[0.34527304768562317,0.14413142204284668,0.08149820566177368,0.06148756667971611,0.06106556951999664,0.07695773243904114,0.06979861110448837,0.10151390731334686,0.08023988455533981,0.09980679303407669,0.10357370972633362,0.0885942354798317,0.09342300146818161,0.1027894988656044,0.10860300809144974,0.1102481409907341,0.11574790626764297,0.11931838095188141,0.1236729547381401,0.12427354604005814,0.12592442333698273,0.13192273676395416,0.13383623957633972,0.14347979426383972,0.14489464461803436],\"type\":\"scatter\"}],                        {\"template\":{\"data\":{\"histogram2dcontour\":[{\"type\":\"histogram2dcontour\",\"colorbar\":{\"outlinewidth\":0,\"ticks\":\"\"},\"colorscale\":[[0.0,\"#0d0887\"],[0.1111111111111111,\"#46039f\"],[0.2222222222222222,\"#7201a8\"],[0.3333333333333333,\"#9c179e\"],[0.4444444444444444,\"#bd3786\"],[0.5555555555555556,\"#d8576b\"],[0.6666666666666666,\"#ed7953\"],[0.7777777777777778,\"#fb9f3a\"],[0.8888888888888888,\"#fdca26\"],[1.0,\"#f0f921\"]]}],\"choropleth\":[{\"type\":\"choropleth\",\"colorbar\":{\"outlinewidth\":0,\"ticks\":\"\"}}],\"histogram2d\":[{\"type\":\"histogram2d\",\"colorbar\":{\"outlinewidth\":0,\"ticks\":\"\"},\"colorscale\":[[0.0,\"#0d0887\"],[0.1111111111111111,\"#46039f\"],[0.2222222222222222,\"#7201a8\"],[0.3333333333333333,\"#9c179e\"],[0.4444444444444444,\"#bd3786\"],[0.5555555555555556,\"#d8576b\"],[0.6666666666666666,\"#ed7953\"],[0.7777777777777778,\"#fb9f3a\"],[0.8888888888888888,\"#fdca26\"],[1.0,\"#f0f921\"]]}],\"heatmap\":[{\"type\":\"heatmap\",\"colorbar\":{\"outlinewidth\":0,\"ticks\":\"\"},\"colorscale\":[[0.0,\"#0d0887\"],[0.1111111111111111,\"#46039f\"],[0.2222222222222222,\"#7201a8\"],[0.3333333333333333,\"#9c179e\"],[0.4444444444444444,\"#bd3786\"],[0.5555555555555556,\"#d8576b\"],[0.6666666666666666,\"#ed7953\"],[0.7777777777777778,\"#fb9f3a\"],[0.8888888888888888,\"#fdca26\"],[1.0,\"#f0f921\"]]}],\"heatmapgl\":[{\"type\":\"heatmapgl\",\"colorbar\":{\"outlinewidth\":0,\"ticks\":\"\"},\"colorscale\":[[0.0,\"#0d0887\"],[0.1111111111111111,\"#46039f\"],[0.2222222222222222,\"#7201a8\"],[0.3333333333333333,\"#9c179e\"],[0.4444444444444444,\"#bd3786\"],[0.5555555555555556,\"#d8576b\"],[0.6666666666666666,\"#ed7953\"],[0.7777777777777778,\"#fb9f3a\"],[0.8888888888888888,\"#fdca26\"],[1.0,\"#f0f921\"]]}],\"contourcarpet\":[{\"type\":\"contourcarpet\",\"colorbar\":{\"outlinewidth\":0,\"ticks\":\"\"}}],\"contour\":[{\"type\":\"contour\",\"colorbar\":{\"outlinewidth\":0,\"ticks\":\"\"},\"colorscale\":[[0.0,\"#0d0887\"],[0.1111111111111111,\"#46039f\"],[0.2222222222222222,\"#7201a8\"],[0.3333333333333333,\"#9c179e\"],[0.4444444444444444,\"#bd3786\"],[0.5555555555555556,\"#d8576b\"],[0.6666666666666666,\"#ed7953\"],[0.7777777777777778,\"#fb9f3a\"],[0.8888888888888888,\"#fdca26\"],[1.0,\"#f0f921\"]]}],\"surface\":[{\"type\":\"surface\",\"colorbar\":{\"outlinewidth\":0,\"ticks\":\"\"},\"colorscale\":[[0.0,\"#0d0887\"],[0.1111111111111111,\"#46039f\"],[0.2222222222222222,\"#7201a8\"],[0.3333333333333333,\"#9c179e\"],[0.4444444444444444,\"#bd3786\"],[0.5555555555555556,\"#d8576b\"],[0.6666666666666666,\"#ed7953\"],[0.7777777777777778,\"#fb9f3a\"],[0.8888888888888888,\"#fdca26\"],[1.0,\"#f0f921\"]]}],\"mesh3d\":[{\"type\":\"mesh3d\",\"colorbar\":{\"outlinewidth\":0,\"ticks\":\"\"}}],\"scatter\":[{\"fillpattern\":{\"fillmode\":\"overlay\",\"size\":10,\"solidity\":0.2},\"type\":\"scatter\"}],\"parcoords\":[{\"type\":\"parcoords\",\"line\":{\"colorbar\":{\"outlinewidth\":0,\"ticks\":\"\"}}}],\"scatterpolargl\":[{\"type\":\"scatterpolargl\",\"marker\":{\"colorbar\":{\"outlinewidth\":0,\"ticks\":\"\"}}}],\"bar\":[{\"error_x\":{\"color\":\"#2a3f5f\"},\"error_y\":{\"color\":\"#2a3f5f\"},\"marker\":{\"line\":{\"color\":\"#E5ECF6\",\"width\":0.5},\"pattern\":{\"fillmode\":\"overlay\",\"size\":10,\"solidity\":0.2}},\"type\":\"bar\"}],\"scattergeo\":[{\"type\":\"scattergeo\",\"marker\":{\"colorbar\":{\"outlinewidth\":0,\"ticks\":\"\"}}}],\"scatterpolar\":[{\"type\":\"scatterpolar\",\"marker\":{\"colorbar\":{\"outlinewidth\":0,\"ticks\":\"\"}}}],\"histogram\":[{\"marker\":{\"pattern\":{\"fillmode\":\"overlay\",\"size\":10,\"solidity\":0.2}},\"type\":\"histogram\"}],\"scattergl\":[{\"type\":\"scattergl\",\"marker\":{\"colorbar\":{\"outlinewidth\":0,\"ticks\":\"\"}}}],\"scatter3d\":[{\"type\":\"scatter3d\",\"line\":{\"colorbar\":{\"outlinewidth\":0,\"ticks\":\"\"}},\"marker\":{\"colorbar\":{\"outlinewidth\":0,\"ticks\":\"\"}}}],\"scattermapbox\":[{\"type\":\"scattermapbox\",\"marker\":{\"colorbar\":{\"outlinewidth\":0,\"ticks\":\"\"}}}],\"scatterternary\":[{\"type\":\"scatterternary\",\"marker\":{\"colorbar\":{\"outlinewidth\":0,\"ticks\":\"\"}}}],\"scattercarpet\":[{\"type\":\"scattercarpet\",\"marker\":{\"colorbar\":{\"outlinewidth\":0,\"ticks\":\"\"}}}],\"carpet\":[{\"aaxis\":{\"endlinecolor\":\"#2a3f5f\",\"gridcolor\":\"white\",\"linecolor\":\"white\",\"minorgridcolor\":\"white\",\"startlinecolor\":\"#2a3f5f\"},\"baxis\":{\"endlinecolor\":\"#2a3f5f\",\"gridcolor\":\"white\",\"linecolor\":\"white\",\"minorgridcolor\":\"white\",\"startlinecolor\":\"#2a3f5f\"},\"type\":\"carpet\"}],\"table\":[{\"cells\":{\"fill\":{\"color\":\"#EBF0F8\"},\"line\":{\"color\":\"white\"}},\"header\":{\"fill\":{\"color\":\"#C8D4E3\"},\"line\":{\"color\":\"white\"}},\"type\":\"table\"}],\"barpolar\":[{\"marker\":{\"line\":{\"color\":\"#E5ECF6\",\"width\":0.5},\"pattern\":{\"fillmode\":\"overlay\",\"size\":10,\"solidity\":0.2}},\"type\":\"barpolar\"}],\"pie\":[{\"automargin\":true,\"type\":\"pie\"}]},\"layout\":{\"autotypenumbers\":\"strict\",\"colorway\":[\"#636efa\",\"#EF553B\",\"#00cc96\",\"#ab63fa\",\"#FFA15A\",\"#19d3f3\",\"#FF6692\",\"#B6E880\",\"#FF97FF\",\"#FECB52\"],\"font\":{\"color\":\"#2a3f5f\"},\"hovermode\":\"closest\",\"hoverlabel\":{\"align\":\"left\"},\"paper_bgcolor\":\"white\",\"plot_bgcolor\":\"#E5ECF6\",\"polar\":{\"bgcolor\":\"#E5ECF6\",\"angularaxis\":{\"gridcolor\":\"white\",\"linecolor\":\"white\",\"ticks\":\"\"},\"radialaxis\":{\"gridcolor\":\"white\",\"linecolor\":\"white\",\"ticks\":\"\"}},\"ternary\":{\"bgcolor\":\"#E5ECF6\",\"aaxis\":{\"gridcolor\":\"white\",\"linecolor\":\"white\",\"ticks\":\"\"},\"baxis\":{\"gridcolor\":\"white\",\"linecolor\":\"white\",\"ticks\":\"\"},\"caxis\":{\"gridcolor\":\"white\",\"linecolor\":\"white\",\"ticks\":\"\"}},\"coloraxis\":{\"colorbar\":{\"outlinewidth\":0,\"ticks\":\"\"}},\"colorscale\":{\"sequential\":[[0.0,\"#0d0887\"],[0.1111111111111111,\"#46039f\"],[0.2222222222222222,\"#7201a8\"],[0.3333333333333333,\"#9c179e\"],[0.4444444444444444,\"#bd3786\"],[0.5555555555555556,\"#d8576b\"],[0.6666666666666666,\"#ed7953\"],[0.7777777777777778,\"#fb9f3a\"],[0.8888888888888888,\"#fdca26\"],[1.0,\"#f0f921\"]],\"sequentialminus\":[[0.0,\"#0d0887\"],[0.1111111111111111,\"#46039f\"],[0.2222222222222222,\"#7201a8\"],[0.3333333333333333,\"#9c179e\"],[0.4444444444444444,\"#bd3786\"],[0.5555555555555556,\"#d8576b\"],[0.6666666666666666,\"#ed7953\"],[0.7777777777777778,\"#fb9f3a\"],[0.8888888888888888,\"#fdca26\"],[1.0,\"#f0f921\"]],\"diverging\":[[0,\"#8e0152\"],[0.1,\"#c51b7d\"],[0.2,\"#de77ae\"],[0.3,\"#f1b6da\"],[0.4,\"#fde0ef\"],[0.5,\"#f7f7f7\"],[0.6,\"#e6f5d0\"],[0.7,\"#b8e186\"],[0.8,\"#7fbc41\"],[0.9,\"#4d9221\"],[1,\"#276419\"]]},\"xaxis\":{\"gridcolor\":\"white\",\"linecolor\":\"white\",\"ticks\":\"\",\"title\":{\"standoff\":15},\"zerolinecolor\":\"white\",\"automargin\":true,\"zerolinewidth\":2},\"yaxis\":{\"gridcolor\":\"white\",\"linecolor\":\"white\",\"ticks\":\"\",\"title\":{\"standoff\":15},\"zerolinecolor\":\"white\",\"automargin\":true,\"zerolinewidth\":2},\"scene\":{\"xaxis\":{\"backgroundcolor\":\"#E5ECF6\",\"gridcolor\":\"white\",\"linecolor\":\"white\",\"showbackground\":true,\"ticks\":\"\",\"zerolinecolor\":\"white\",\"gridwidth\":2},\"yaxis\":{\"backgroundcolor\":\"#E5ECF6\",\"gridcolor\":\"white\",\"linecolor\":\"white\",\"showbackground\":true,\"ticks\":\"\",\"zerolinecolor\":\"white\",\"gridwidth\":2},\"zaxis\":{\"backgroundcolor\":\"#E5ECF6\",\"gridcolor\":\"white\",\"linecolor\":\"white\",\"showbackground\":true,\"ticks\":\"\",\"zerolinecolor\":\"white\",\"gridwidth\":2}},\"shapedefaults\":{\"line\":{\"color\":\"#2a3f5f\"}},\"annotationdefaults\":{\"arrowcolor\":\"#2a3f5f\",\"arrowhead\":0,\"arrowwidth\":1},\"geo\":{\"bgcolor\":\"white\",\"landcolor\":\"#E5ECF6\",\"subunitcolor\":\"white\",\"showland\":true,\"showlakes\":true,\"lakecolor\":\"white\"},\"title\":{\"x\":0.05},\"mapbox\":{\"style\":\"light\"}}},\"title\":{\"text\":\"Training and val loss across epochs\"},\"xaxis\":{\"title\":{\"text\":\"epochs\"}},\"yaxis\":{\"title\":{\"text\":\"Binary Cross Entropy\"}}},                        {\"responsive\": true}                    ).then(function(){\n",
              "                            \n",
              "var gd = document.getElementById('d772939d-28d9-41f5-a866-0c7ab8496c3f');\n",
              "var x = new MutationObserver(function (mutations, observer) {{\n",
              "        var display = window.getComputedStyle(gd).display;\n",
              "        if (!display || display === 'none') {{\n",
              "            console.log([gd, 'removed!']);\n",
              "            Plotly.purge(gd);\n",
              "            observer.disconnect();\n",
              "        }}\n",
              "}});\n",
              "\n",
              "// Listen for the removal of the full notebook cells\n",
              "var notebookContainer = gd.closest('#notebook-container');\n",
              "if (notebookContainer) {{\n",
              "    x.observe(notebookContainer, {childList: true});\n",
              "}}\n",
              "\n",
              "// Listen for the clearing of the current output cell\n",
              "var outputEl = gd.closest('.output');\n",
              "if (outputEl) {{\n",
              "    x.observe(outputEl, {childList: true});\n",
              "}}\n",
              "\n",
              "                        })                };                            </script>        </div>\n",
              "</body>\n",
              "</html>"
            ]
          },
          "metadata": {}
        }
      ]
    },
    {
      "cell_type": "code",
      "source": [
        "fig = go.Figure(data=[\n",
        "                      go.Scatter(\n",
        "                          y=model3.history.history[\"accuracy\"],\n",
        "                          name=\"Training accuracy\",\n",
        "                          mode=\"lines\",\n",
        "                          marker=dict(\n",
        "                              color=color_chart[0]\n",
        "                          )),\n",
        "                      go.Scatter(\n",
        "                          y=model3.history.history[\"val_accuracy\"],\n",
        "                          name=\"Validation accuracy\",\n",
        "                          mode=\"lines\",\n",
        "                          marker=dict(\n",
        "                              color=color_chart[1]\n",
        "                          ))\n",
        "])\n",
        "fig.update_layout(\n",
        "    title='Training and val accuracy across epochs',\n",
        "    xaxis_title='epochs',\n",
        "    yaxis_title='Accuracy'\n",
        ")\n",
        "fig.show()"
      ],
      "metadata": {
        "colab": {
          "base_uri": "https://localhost:8080/",
          "height": 542
        },
        "id": "QCBkqq1yfT-F",
        "outputId": "618b6654-b8d7-4af9-ca2f-0dcd5997e3c6"
      },
      "execution_count": null,
      "outputs": [
        {
          "output_type": "display_data",
          "data": {
            "text/html": [
              "<html>\n",
              "<head><meta charset=\"utf-8\" /></head>\n",
              "<body>\n",
              "    <div>            <script src=\"https://cdnjs.cloudflare.com/ajax/libs/mathjax/2.7.5/MathJax.js?config=TeX-AMS-MML_SVG\"></script><script type=\"text/javascript\">if (window.MathJax && window.MathJax.Hub && window.MathJax.Hub.Config) {window.MathJax.Hub.Config({SVG: {font: \"STIX-Web\"}});}</script>                <script type=\"text/javascript\">window.PlotlyConfig = {MathJaxConfig: 'local'};</script>\n",
              "        <script charset=\"utf-8\" src=\"https://cdn.plot.ly/plotly-2.24.1.min.js\"></script>                <div id=\"2831e77d-3c9a-44c5-b893-236e0d301cfe\" class=\"plotly-graph-div\" style=\"height:525px; width:100%;\"></div>            <script type=\"text/javascript\">                                    window.PLOTLYENV=window.PLOTLYENV || {};                                    if (document.getElementById(\"2831e77d-3c9a-44c5-b893-236e0d301cfe\")) {                    Plotly.newPlot(                        \"2831e77d-3c9a-44c5-b893-236e0d301cfe\",                        [{\"marker\":{\"color\":\"#4B9AC7\"},\"mode\":\"lines\",\"name\":\"Training accuracy\",\"y\":[0.8601941466331482,0.9006472229957581,0.9686084389686584,0.9822006225585938,0.9854369163513184,0.9899676442146301,0.9928802847862244,0.9944983720779419,0.9941747784614563,0.9970873594284058,0.9957928657531738,0.9967637658119202,0.9980582594871521,0.9983818531036377,0.999352753162384,0.9990290999412537,0.9990290999412537,0.999352753162384,0.999352753162384,0.999352753162384,0.9996763467788696,0.9996763467788696,0.9996763467788696,0.9996763467788696,0.9996763467788696],\"type\":\"scatter\"},{\"marker\":{\"color\":\"#4BE8E0\"},\"mode\":\"lines\",\"name\":\"Validation accuracy\",\"y\":[0.8737863898277283,0.9514563083648682,0.9708737730979919,0.9786407947540283,0.9805825352668762,0.9737864136695862,0.9786407947540283,0.9757281541824341,0.9757281541824341,0.9708737730979919,0.9737864136695862,0.977669894695282,0.977669894695282,0.9757281541824341,0.9718446731567383,0.9766990542411804,0.9737864136695862,0.9737864136695862,0.9737864136695862,0.977669894695282,0.9766990542411804,0.9737864136695862,0.9718446731567383,0.9708737730979919,0.9699029326438904],\"type\":\"scatter\"}],                        {\"template\":{\"data\":{\"histogram2dcontour\":[{\"type\":\"histogram2dcontour\",\"colorbar\":{\"outlinewidth\":0,\"ticks\":\"\"},\"colorscale\":[[0.0,\"#0d0887\"],[0.1111111111111111,\"#46039f\"],[0.2222222222222222,\"#7201a8\"],[0.3333333333333333,\"#9c179e\"],[0.4444444444444444,\"#bd3786\"],[0.5555555555555556,\"#d8576b\"],[0.6666666666666666,\"#ed7953\"],[0.7777777777777778,\"#fb9f3a\"],[0.8888888888888888,\"#fdca26\"],[1.0,\"#f0f921\"]]}],\"choropleth\":[{\"type\":\"choropleth\",\"colorbar\":{\"outlinewidth\":0,\"ticks\":\"\"}}],\"histogram2d\":[{\"type\":\"histogram2d\",\"colorbar\":{\"outlinewidth\":0,\"ticks\":\"\"},\"colorscale\":[[0.0,\"#0d0887\"],[0.1111111111111111,\"#46039f\"],[0.2222222222222222,\"#7201a8\"],[0.3333333333333333,\"#9c179e\"],[0.4444444444444444,\"#bd3786\"],[0.5555555555555556,\"#d8576b\"],[0.6666666666666666,\"#ed7953\"],[0.7777777777777778,\"#fb9f3a\"],[0.8888888888888888,\"#fdca26\"],[1.0,\"#f0f921\"]]}],\"heatmap\":[{\"type\":\"heatmap\",\"colorbar\":{\"outlinewidth\":0,\"ticks\":\"\"},\"colorscale\":[[0.0,\"#0d0887\"],[0.1111111111111111,\"#46039f\"],[0.2222222222222222,\"#7201a8\"],[0.3333333333333333,\"#9c179e\"],[0.4444444444444444,\"#bd3786\"],[0.5555555555555556,\"#d8576b\"],[0.6666666666666666,\"#ed7953\"],[0.7777777777777778,\"#fb9f3a\"],[0.8888888888888888,\"#fdca26\"],[1.0,\"#f0f921\"]]}],\"heatmapgl\":[{\"type\":\"heatmapgl\",\"colorbar\":{\"outlinewidth\":0,\"ticks\":\"\"},\"colorscale\":[[0.0,\"#0d0887\"],[0.1111111111111111,\"#46039f\"],[0.2222222222222222,\"#7201a8\"],[0.3333333333333333,\"#9c179e\"],[0.4444444444444444,\"#bd3786\"],[0.5555555555555556,\"#d8576b\"],[0.6666666666666666,\"#ed7953\"],[0.7777777777777778,\"#fb9f3a\"],[0.8888888888888888,\"#fdca26\"],[1.0,\"#f0f921\"]]}],\"contourcarpet\":[{\"type\":\"contourcarpet\",\"colorbar\":{\"outlinewidth\":0,\"ticks\":\"\"}}],\"contour\":[{\"type\":\"contour\",\"colorbar\":{\"outlinewidth\":0,\"ticks\":\"\"},\"colorscale\":[[0.0,\"#0d0887\"],[0.1111111111111111,\"#46039f\"],[0.2222222222222222,\"#7201a8\"],[0.3333333333333333,\"#9c179e\"],[0.4444444444444444,\"#bd3786\"],[0.5555555555555556,\"#d8576b\"],[0.6666666666666666,\"#ed7953\"],[0.7777777777777778,\"#fb9f3a\"],[0.8888888888888888,\"#fdca26\"],[1.0,\"#f0f921\"]]}],\"surface\":[{\"type\":\"surface\",\"colorbar\":{\"outlinewidth\":0,\"ticks\":\"\"},\"colorscale\":[[0.0,\"#0d0887\"],[0.1111111111111111,\"#46039f\"],[0.2222222222222222,\"#7201a8\"],[0.3333333333333333,\"#9c179e\"],[0.4444444444444444,\"#bd3786\"],[0.5555555555555556,\"#d8576b\"],[0.6666666666666666,\"#ed7953\"],[0.7777777777777778,\"#fb9f3a\"],[0.8888888888888888,\"#fdca26\"],[1.0,\"#f0f921\"]]}],\"mesh3d\":[{\"type\":\"mesh3d\",\"colorbar\":{\"outlinewidth\":0,\"ticks\":\"\"}}],\"scatter\":[{\"fillpattern\":{\"fillmode\":\"overlay\",\"size\":10,\"solidity\":0.2},\"type\":\"scatter\"}],\"parcoords\":[{\"type\":\"parcoords\",\"line\":{\"colorbar\":{\"outlinewidth\":0,\"ticks\":\"\"}}}],\"scatterpolargl\":[{\"type\":\"scatterpolargl\",\"marker\":{\"colorbar\":{\"outlinewidth\":0,\"ticks\":\"\"}}}],\"bar\":[{\"error_x\":{\"color\":\"#2a3f5f\"},\"error_y\":{\"color\":\"#2a3f5f\"},\"marker\":{\"line\":{\"color\":\"#E5ECF6\",\"width\":0.5},\"pattern\":{\"fillmode\":\"overlay\",\"size\":10,\"solidity\":0.2}},\"type\":\"bar\"}],\"scattergeo\":[{\"type\":\"scattergeo\",\"marker\":{\"colorbar\":{\"outlinewidth\":0,\"ticks\":\"\"}}}],\"scatterpolar\":[{\"type\":\"scatterpolar\",\"marker\":{\"colorbar\":{\"outlinewidth\":0,\"ticks\":\"\"}}}],\"histogram\":[{\"marker\":{\"pattern\":{\"fillmode\":\"overlay\",\"size\":10,\"solidity\":0.2}},\"type\":\"histogram\"}],\"scattergl\":[{\"type\":\"scattergl\",\"marker\":{\"colorbar\":{\"outlinewidth\":0,\"ticks\":\"\"}}}],\"scatter3d\":[{\"type\":\"scatter3d\",\"line\":{\"colorbar\":{\"outlinewidth\":0,\"ticks\":\"\"}},\"marker\":{\"colorbar\":{\"outlinewidth\":0,\"ticks\":\"\"}}}],\"scattermapbox\":[{\"type\":\"scattermapbox\",\"marker\":{\"colorbar\":{\"outlinewidth\":0,\"ticks\":\"\"}}}],\"scatterternary\":[{\"type\":\"scatterternary\",\"marker\":{\"colorbar\":{\"outlinewidth\":0,\"ticks\":\"\"}}}],\"scattercarpet\":[{\"type\":\"scattercarpet\",\"marker\":{\"colorbar\":{\"outlinewidth\":0,\"ticks\":\"\"}}}],\"carpet\":[{\"aaxis\":{\"endlinecolor\":\"#2a3f5f\",\"gridcolor\":\"white\",\"linecolor\":\"white\",\"minorgridcolor\":\"white\",\"startlinecolor\":\"#2a3f5f\"},\"baxis\":{\"endlinecolor\":\"#2a3f5f\",\"gridcolor\":\"white\",\"linecolor\":\"white\",\"minorgridcolor\":\"white\",\"startlinecolor\":\"#2a3f5f\"},\"type\":\"carpet\"}],\"table\":[{\"cells\":{\"fill\":{\"color\":\"#EBF0F8\"},\"line\":{\"color\":\"white\"}},\"header\":{\"fill\":{\"color\":\"#C8D4E3\"},\"line\":{\"color\":\"white\"}},\"type\":\"table\"}],\"barpolar\":[{\"marker\":{\"line\":{\"color\":\"#E5ECF6\",\"width\":0.5},\"pattern\":{\"fillmode\":\"overlay\",\"size\":10,\"solidity\":0.2}},\"type\":\"barpolar\"}],\"pie\":[{\"automargin\":true,\"type\":\"pie\"}]},\"layout\":{\"autotypenumbers\":\"strict\",\"colorway\":[\"#636efa\",\"#EF553B\",\"#00cc96\",\"#ab63fa\",\"#FFA15A\",\"#19d3f3\",\"#FF6692\",\"#B6E880\",\"#FF97FF\",\"#FECB52\"],\"font\":{\"color\":\"#2a3f5f\"},\"hovermode\":\"closest\",\"hoverlabel\":{\"align\":\"left\"},\"paper_bgcolor\":\"white\",\"plot_bgcolor\":\"#E5ECF6\",\"polar\":{\"bgcolor\":\"#E5ECF6\",\"angularaxis\":{\"gridcolor\":\"white\",\"linecolor\":\"white\",\"ticks\":\"\"},\"radialaxis\":{\"gridcolor\":\"white\",\"linecolor\":\"white\",\"ticks\":\"\"}},\"ternary\":{\"bgcolor\":\"#E5ECF6\",\"aaxis\":{\"gridcolor\":\"white\",\"linecolor\":\"white\",\"ticks\":\"\"},\"baxis\":{\"gridcolor\":\"white\",\"linecolor\":\"white\",\"ticks\":\"\"},\"caxis\":{\"gridcolor\":\"white\",\"linecolor\":\"white\",\"ticks\":\"\"}},\"coloraxis\":{\"colorbar\":{\"outlinewidth\":0,\"ticks\":\"\"}},\"colorscale\":{\"sequential\":[[0.0,\"#0d0887\"],[0.1111111111111111,\"#46039f\"],[0.2222222222222222,\"#7201a8\"],[0.3333333333333333,\"#9c179e\"],[0.4444444444444444,\"#bd3786\"],[0.5555555555555556,\"#d8576b\"],[0.6666666666666666,\"#ed7953\"],[0.7777777777777778,\"#fb9f3a\"],[0.8888888888888888,\"#fdca26\"],[1.0,\"#f0f921\"]],\"sequentialminus\":[[0.0,\"#0d0887\"],[0.1111111111111111,\"#46039f\"],[0.2222222222222222,\"#7201a8\"],[0.3333333333333333,\"#9c179e\"],[0.4444444444444444,\"#bd3786\"],[0.5555555555555556,\"#d8576b\"],[0.6666666666666666,\"#ed7953\"],[0.7777777777777778,\"#fb9f3a\"],[0.8888888888888888,\"#fdca26\"],[1.0,\"#f0f921\"]],\"diverging\":[[0,\"#8e0152\"],[0.1,\"#c51b7d\"],[0.2,\"#de77ae\"],[0.3,\"#f1b6da\"],[0.4,\"#fde0ef\"],[0.5,\"#f7f7f7\"],[0.6,\"#e6f5d0\"],[0.7,\"#b8e186\"],[0.8,\"#7fbc41\"],[0.9,\"#4d9221\"],[1,\"#276419\"]]},\"xaxis\":{\"gridcolor\":\"white\",\"linecolor\":\"white\",\"ticks\":\"\",\"title\":{\"standoff\":15},\"zerolinecolor\":\"white\",\"automargin\":true,\"zerolinewidth\":2},\"yaxis\":{\"gridcolor\":\"white\",\"linecolor\":\"white\",\"ticks\":\"\",\"title\":{\"standoff\":15},\"zerolinecolor\":\"white\",\"automargin\":true,\"zerolinewidth\":2},\"scene\":{\"xaxis\":{\"backgroundcolor\":\"#E5ECF6\",\"gridcolor\":\"white\",\"linecolor\":\"white\",\"showbackground\":true,\"ticks\":\"\",\"zerolinecolor\":\"white\",\"gridwidth\":2},\"yaxis\":{\"backgroundcolor\":\"#E5ECF6\",\"gridcolor\":\"white\",\"linecolor\":\"white\",\"showbackground\":true,\"ticks\":\"\",\"zerolinecolor\":\"white\",\"gridwidth\":2},\"zaxis\":{\"backgroundcolor\":\"#E5ECF6\",\"gridcolor\":\"white\",\"linecolor\":\"white\",\"showbackground\":true,\"ticks\":\"\",\"zerolinecolor\":\"white\",\"gridwidth\":2}},\"shapedefaults\":{\"line\":{\"color\":\"#2a3f5f\"}},\"annotationdefaults\":{\"arrowcolor\":\"#2a3f5f\",\"arrowhead\":0,\"arrowwidth\":1},\"geo\":{\"bgcolor\":\"white\",\"landcolor\":\"#E5ECF6\",\"subunitcolor\":\"white\",\"showland\":true,\"showlakes\":true,\"lakecolor\":\"white\"},\"title\":{\"x\":0.05},\"mapbox\":{\"style\":\"light\"}}},\"title\":{\"text\":\"Training and val accuracy across epochs\"},\"xaxis\":{\"title\":{\"text\":\"epochs\"}},\"yaxis\":{\"title\":{\"text\":\"Accuracy\"}}},                        {\"responsive\": true}                    ).then(function(){\n",
              "                            \n",
              "var gd = document.getElementById('2831e77d-3c9a-44c5-b893-236e0d301cfe');\n",
              "var x = new MutationObserver(function (mutations, observer) {{\n",
              "        var display = window.getComputedStyle(gd).display;\n",
              "        if (!display || display === 'none') {{\n",
              "            console.log([gd, 'removed!']);\n",
              "            Plotly.purge(gd);\n",
              "            observer.disconnect();\n",
              "        }}\n",
              "}});\n",
              "\n",
              "// Listen for the removal of the full notebook cells\n",
              "var notebookContainer = gd.closest('#notebook-container');\n",
              "if (notebookContainer) {{\n",
              "    x.observe(notebookContainer, {childList: true});\n",
              "}}\n",
              "\n",
              "// Listen for the clearing of the current output cell\n",
              "var outputEl = gd.closest('.output');\n",
              "if (outputEl) {{\n",
              "    x.observe(outputEl, {childList: true});\n",
              "}}\n",
              "\n",
              "                        })                };                            </script>        </div>\n",
              "</body>\n",
              "</html>"
            ]
          },
          "metadata": {}
        }
      ]
    },
    {
      "cell_type": "markdown",
      "source": [
        "Interestingly, this model trains much faster and in a much smoother way than our original one. However, it has e tendancy to overfit rather quickly (around epoch 5). To alleviate this, we'll add a Dropout layer to our neural network architecture."
      ],
      "metadata": {
        "id": "DypX_xlCkdaG"
      }
    },
    {
      "cell_type": "code",
      "source": [
        "model4 = Sequential([\n",
        "  Embedding(\n",
        "      input_dim = vocab_size,\n",
        "      output_dim = embedding_dim,\n",
        "      name = \"embedding\"), # the embedding layer\n",
        "  Bidirectional(LSTM(32)),\n",
        "  Dense(16, activation='relu'), # a dense layer\n",
        "  Dropout(0.1),\n",
        "  Dense(1, activation=\"sigmoid\") # the prediction layer\n",
        "])\n",
        "\n",
        "model4.summary()"
      ],
      "metadata": {
        "colab": {
          "base_uri": "https://localhost:8080/"
        },
        "id": "2lRyenMklEZs",
        "outputId": "01f2ec19-a516-48bd-8ac0-a88443ba4e56"
      },
      "execution_count": null,
      "outputs": [
        {
          "output_type": "stream",
          "name": "stdout",
          "text": [
            "Model: \"sequential_17\"\n",
            "_________________________________________________________________\n",
            " Layer (type)                Output Shape              Param #   \n",
            "=================================================================\n",
            " embedding (Embedding)       (None, None, 16)          16016     \n",
            "                                                                 \n",
            " bidirectional_2 (Bidirecti  (None, 64)                12544     \n",
            " onal)                                                           \n",
            "                                                                 \n",
            " dense_34 (Dense)            (None, 16)                1040      \n",
            "                                                                 \n",
            " dropout (Dropout)           (None, 16)                0         \n",
            "                                                                 \n",
            " dense_35 (Dense)            (None, 1)                 17        \n",
            "                                                                 \n",
            "=================================================================\n",
            "Total params: 29617 (115.69 KB)\n",
            "Trainable params: 29617 (115.69 KB)\n",
            "Non-trainable params: 0 (0.00 Byte)\n",
            "_________________________________________________________________\n"
          ]
        }
      ]
    },
    {
      "cell_type": "code",
      "source": [
        "model4.compile(loss = tf.keras.losses.BinaryCrossentropy(from_logits = True), # from_logits = True to interpret y_pred as a tensor of logit values and not a probability\n",
        "              metrics = ['accuracy'],\n",
        "              optimizer = 'adam')"
      ],
      "metadata": {
        "id": "wSgtaMvflTpy"
      },
      "execution_count": null,
      "outputs": []
    },
    {
      "cell_type": "code",
      "source": [
        "history = model4.fit(train_batch,\n",
        "                    epochs = 20,\n",
        "                    callbacks = [lr, es],\n",
        "                    validation_data = val_batch\n",
        "                   )"
      ],
      "metadata": {
        "colab": {
          "base_uri": "https://localhost:8080/"
        },
        "id": "M4e4XwMZlVfV",
        "outputId": "195751a7-48e1-49db-eee0-dd3314efcaa4"
      },
      "execution_count": null,
      "outputs": [
        {
          "output_type": "stream",
          "name": "stdout",
          "text": [
            "Epoch 1/50\n",
            "49/49 [==============================] - 9s 179ms/step - loss: 0.2946 - accuracy: 0.8796 - val_loss: 0.1815 - val_accuracy: 0.9233 - lr: 0.0010\n",
            "Epoch 2/50\n",
            "49/49 [==============================] - 7s 144ms/step - loss: 0.1523 - accuracy: 0.9602 - val_loss: 0.1277 - val_accuracy: 0.9718 - lr: 0.0010\n",
            "Epoch 3/50\n",
            "49/49 [==============================] - 5s 102ms/step - loss: 0.0870 - accuracy: 0.9783 - val_loss: 0.0589 - val_accuracy: 0.9816 - lr: 0.0010\n",
            "Epoch 4/50\n",
            "49/49 [==============================] - 8s 153ms/step - loss: 0.0514 - accuracy: 0.9858 - val_loss: 0.0615 - val_accuracy: 0.9796 - lr: 0.0010\n",
            "Epoch 5/50\n",
            "49/49 [==============================] - 8s 161ms/step - loss: 0.0388 - accuracy: 0.9880 - val_loss: 0.0594 - val_accuracy: 0.9825 - lr: 0.0010\n",
            "Epoch 6/50\n",
            "49/49 [==============================] - 6s 130ms/step - loss: 0.0267 - accuracy: 0.9922 - val_loss: 0.0656 - val_accuracy: 0.9786 - lr: 0.0010\n",
            "Epoch 7/50\n",
            "49/49 [==============================] - 4s 86ms/step - loss: 0.0208 - accuracy: 0.9942 - val_loss: 0.0699 - val_accuracy: 0.9796 - lr: 0.0010\n",
            "Epoch 8/50\n",
            "49/49 [==============================] - 3s 71ms/step - loss: 0.0178 - accuracy: 0.9945 - val_loss: 0.0794 - val_accuracy: 0.9816 - lr: 0.0010\n",
            "Epoch 9/50\n",
            "49/49 [==============================] - 3s 68ms/step - loss: 0.0148 - accuracy: 0.9961 - val_loss: 0.0733 - val_accuracy: 0.9786 - lr: 0.0010\n",
            "Epoch 10/50\n",
            "49/49 [==============================] - 5s 100ms/step - loss: 0.0140 - accuracy: 0.9961 - val_loss: 0.0798 - val_accuracy: 0.9796 - lr: 0.0010\n",
            "Epoch 11/50\n",
            "49/49 [==============================] - 3s 70ms/step - loss: 0.0095 - accuracy: 0.9974 - val_loss: 0.0886 - val_accuracy: 0.9806 - lr: 0.0010\n",
            "Epoch 12/50\n",
            "49/49 [==============================] - 3s 68ms/step - loss: 0.0064 - accuracy: 0.9987 - val_loss: 0.1053 - val_accuracy: 0.9796 - lr: 0.0010\n",
            "Epoch 13/50\n",
            "49/49 [==============================] - 4s 88ms/step - loss: 0.0079 - accuracy: 0.9984 - val_loss: 0.1114 - val_accuracy: 0.9738 - lr: 0.0010\n",
            "Epoch 14/50\n",
            "49/49 [==============================] - 5s 95ms/step - loss: 0.0062 - accuracy: 0.9990 - val_loss: 0.1088 - val_accuracy: 0.9767 - lr: 0.0010\n",
            "Epoch 15/50\n",
            "49/49 [==============================] - 4s 90ms/step - loss: 0.0049 - accuracy: 0.9994 - val_loss: 0.1058 - val_accuracy: 0.9767 - lr: 0.0010\n",
            "Epoch 16/50\n",
            "49/49 [==============================] - 3s 70ms/step - loss: 0.0040 - accuracy: 0.9994 - val_loss: 0.1200 - val_accuracy: 0.9767 - lr: 0.0010\n",
            "Epoch 17/50\n",
            "49/49 [==============================] - 5s 106ms/step - loss: 0.0036 - accuracy: 0.9994 - val_loss: 0.1288 - val_accuracy: 0.9738 - lr: 0.0010\n",
            "Epoch 18/50\n",
            "49/49 [==============================] - 3s 67ms/step - loss: 0.0039 - accuracy: 0.9997 - val_loss: 0.1209 - val_accuracy: 0.9786 - lr: 0.0010\n",
            "Epoch 19/50\n",
            "49/49 [==============================] - 3s 68ms/step - loss: 0.0029 - accuracy: 0.9997 - val_loss: 0.1247 - val_accuracy: 0.9786 - lr: 0.0010\n",
            "Epoch 20/50\n",
            "49/49 [==============================] - 6s 114ms/step - loss: 0.0040 - accuracy: 0.9997 - val_loss: 0.1340 - val_accuracy: 0.9767 - lr: 0.0010\n",
            "Epoch 21/50\n",
            "49/49 [==============================] - 4s 84ms/step - loss: 0.0030 - accuracy: 0.9997 - val_loss: 0.1353 - val_accuracy: 0.9777 - lr: 0.0010\n",
            "Epoch 22/50\n",
            "49/49 [==============================] - 3s 68ms/step - loss: 0.0036 - accuracy: 0.9997 - val_loss: 0.1412 - val_accuracy: 0.9757 - lr: 0.0010\n",
            "Epoch 23/50\n",
            "49/49 [==============================] - 5s 100ms/step - loss: 0.0032 - accuracy: 0.9997 - val_loss: 0.1442 - val_accuracy: 0.9757 - lr: 0.0010\n",
            "Epoch 24/50\n",
            "49/49 [==============================] - 5s 97ms/step - loss: 0.0030 - accuracy: 0.9997 - val_loss: 0.1421 - val_accuracy: 0.9767 - lr: 5.0000e-04\n",
            "Epoch 25/50\n",
            "49/49 [==============================] - 3s 72ms/step - loss: 0.0026 - accuracy: 0.9997 - val_loss: 0.1428 - val_accuracy: 0.9767 - lr: 5.0000e-04\n"
          ]
        }
      ]
    },
    {
      "cell_type": "code",
      "source": [
        "fig = go.Figure(data=[\n",
        "                      go.Scatter(\n",
        "                          y = model4.history.history[\"loss\"],\n",
        "                          name=\"Training loss\",\n",
        "                          mode=\"lines\",\n",
        "                          marker=dict(\n",
        "                              color=color_chart[0]\n",
        "                          )),\n",
        "                      go.Scatter(\n",
        "                          y = model4.history.history[\"val_loss\"],\n",
        "                          name=\"Validation loss\",\n",
        "                          mode=\"lines\",\n",
        "                          marker=dict(\n",
        "                              color=color_chart[1]\n",
        "                          ))\n",
        "])\n",
        "fig.update_layout(\n",
        "    title='Training and val loss across epochs',\n",
        "    xaxis_title='epochs',\n",
        "    yaxis_title='Binary Cross Entropy'\n",
        ")\n",
        "fig.show()"
      ],
      "metadata": {
        "colab": {
          "base_uri": "https://localhost:8080/",
          "height": 542
        },
        "id": "kOQUDQmolhdb",
        "outputId": "c8d4b833-ead4-405f-d8d0-84e004bd7a18"
      },
      "execution_count": null,
      "outputs": [
        {
          "output_type": "display_data",
          "data": {
            "text/html": [
              "<html>\n",
              "<head><meta charset=\"utf-8\" /></head>\n",
              "<body>\n",
              "    <div>            <script src=\"https://cdnjs.cloudflare.com/ajax/libs/mathjax/2.7.5/MathJax.js?config=TeX-AMS-MML_SVG\"></script><script type=\"text/javascript\">if (window.MathJax && window.MathJax.Hub && window.MathJax.Hub.Config) {window.MathJax.Hub.Config({SVG: {font: \"STIX-Web\"}});}</script>                <script type=\"text/javascript\">window.PlotlyConfig = {MathJaxConfig: 'local'};</script>\n",
              "        <script charset=\"utf-8\" src=\"https://cdn.plot.ly/plotly-2.24.1.min.js\"></script>                <div id=\"1576bcd0-b2df-4419-87e2-99a1a61aa440\" class=\"plotly-graph-div\" style=\"height:525px; width:100%;\"></div>            <script type=\"text/javascript\">                                    window.PLOTLYENV=window.PLOTLYENV || {};                                    if (document.getElementById(\"1576bcd0-b2df-4419-87e2-99a1a61aa440\")) {                    Plotly.newPlot(                        \"1576bcd0-b2df-4419-87e2-99a1a61aa440\",                        [{\"marker\":{\"color\":\"#4B9AC7\"},\"mode\":\"lines\",\"name\":\"Training loss\",\"y\":[0.29461631178855896,0.15234322845935822,0.08696191012859344,0.05138178542256355,0.038848232477903366,0.026691481471061707,0.020777571946382523,0.017814520746469498,0.014763184823095798,0.013979174196720123,0.009478292427957058,0.006357875186949968,0.007889089174568653,0.006159759126603603,0.0049258810468018055,0.004013217519968748,0.0035595735535025597,0.0038522195536643267,0.0029062749817967415,0.003983574919402599,0.0029724540654569864,0.003552141832187772,0.003177287522703409,0.002984700258821249,0.0026497519575059414],\"type\":\"scatter\"},{\"marker\":{\"color\":\"#4BE8E0\"},\"mode\":\"lines\",\"name\":\"Validation loss\",\"y\":[0.1814620941877365,0.12771868705749512,0.05888251215219498,0.06154899299144745,0.059434231370687485,0.06562440097332001,0.0698821097612381,0.0793592780828476,0.07330437004566193,0.07980630546808243,0.08860751986503601,0.10525400936603546,0.11143152415752411,0.10881174355745316,0.10575688630342484,0.11997975409030914,0.12881949543952942,0.12090080231428146,0.12472587823867798,0.13402998447418213,0.13532328605651855,0.14117331802845,0.144155815243721,0.14211955666542053,0.14282429218292236],\"type\":\"scatter\"}],                        {\"template\":{\"data\":{\"histogram2dcontour\":[{\"type\":\"histogram2dcontour\",\"colorbar\":{\"outlinewidth\":0,\"ticks\":\"\"},\"colorscale\":[[0.0,\"#0d0887\"],[0.1111111111111111,\"#46039f\"],[0.2222222222222222,\"#7201a8\"],[0.3333333333333333,\"#9c179e\"],[0.4444444444444444,\"#bd3786\"],[0.5555555555555556,\"#d8576b\"],[0.6666666666666666,\"#ed7953\"],[0.7777777777777778,\"#fb9f3a\"],[0.8888888888888888,\"#fdca26\"],[1.0,\"#f0f921\"]]}],\"choropleth\":[{\"type\":\"choropleth\",\"colorbar\":{\"outlinewidth\":0,\"ticks\":\"\"}}],\"histogram2d\":[{\"type\":\"histogram2d\",\"colorbar\":{\"outlinewidth\":0,\"ticks\":\"\"},\"colorscale\":[[0.0,\"#0d0887\"],[0.1111111111111111,\"#46039f\"],[0.2222222222222222,\"#7201a8\"],[0.3333333333333333,\"#9c179e\"],[0.4444444444444444,\"#bd3786\"],[0.5555555555555556,\"#d8576b\"],[0.6666666666666666,\"#ed7953\"],[0.7777777777777778,\"#fb9f3a\"],[0.8888888888888888,\"#fdca26\"],[1.0,\"#f0f921\"]]}],\"heatmap\":[{\"type\":\"heatmap\",\"colorbar\":{\"outlinewidth\":0,\"ticks\":\"\"},\"colorscale\":[[0.0,\"#0d0887\"],[0.1111111111111111,\"#46039f\"],[0.2222222222222222,\"#7201a8\"],[0.3333333333333333,\"#9c179e\"],[0.4444444444444444,\"#bd3786\"],[0.5555555555555556,\"#d8576b\"],[0.6666666666666666,\"#ed7953\"],[0.7777777777777778,\"#fb9f3a\"],[0.8888888888888888,\"#fdca26\"],[1.0,\"#f0f921\"]]}],\"heatmapgl\":[{\"type\":\"heatmapgl\",\"colorbar\":{\"outlinewidth\":0,\"ticks\":\"\"},\"colorscale\":[[0.0,\"#0d0887\"],[0.1111111111111111,\"#46039f\"],[0.2222222222222222,\"#7201a8\"],[0.3333333333333333,\"#9c179e\"],[0.4444444444444444,\"#bd3786\"],[0.5555555555555556,\"#d8576b\"],[0.6666666666666666,\"#ed7953\"],[0.7777777777777778,\"#fb9f3a\"],[0.8888888888888888,\"#fdca26\"],[1.0,\"#f0f921\"]]}],\"contourcarpet\":[{\"type\":\"contourcarpet\",\"colorbar\":{\"outlinewidth\":0,\"ticks\":\"\"}}],\"contour\":[{\"type\":\"contour\",\"colorbar\":{\"outlinewidth\":0,\"ticks\":\"\"},\"colorscale\":[[0.0,\"#0d0887\"],[0.1111111111111111,\"#46039f\"],[0.2222222222222222,\"#7201a8\"],[0.3333333333333333,\"#9c179e\"],[0.4444444444444444,\"#bd3786\"],[0.5555555555555556,\"#d8576b\"],[0.6666666666666666,\"#ed7953\"],[0.7777777777777778,\"#fb9f3a\"],[0.8888888888888888,\"#fdca26\"],[1.0,\"#f0f921\"]]}],\"surface\":[{\"type\":\"surface\",\"colorbar\":{\"outlinewidth\":0,\"ticks\":\"\"},\"colorscale\":[[0.0,\"#0d0887\"],[0.1111111111111111,\"#46039f\"],[0.2222222222222222,\"#7201a8\"],[0.3333333333333333,\"#9c179e\"],[0.4444444444444444,\"#bd3786\"],[0.5555555555555556,\"#d8576b\"],[0.6666666666666666,\"#ed7953\"],[0.7777777777777778,\"#fb9f3a\"],[0.8888888888888888,\"#fdca26\"],[1.0,\"#f0f921\"]]}],\"mesh3d\":[{\"type\":\"mesh3d\",\"colorbar\":{\"outlinewidth\":0,\"ticks\":\"\"}}],\"scatter\":[{\"fillpattern\":{\"fillmode\":\"overlay\",\"size\":10,\"solidity\":0.2},\"type\":\"scatter\"}],\"parcoords\":[{\"type\":\"parcoords\",\"line\":{\"colorbar\":{\"outlinewidth\":0,\"ticks\":\"\"}}}],\"scatterpolargl\":[{\"type\":\"scatterpolargl\",\"marker\":{\"colorbar\":{\"outlinewidth\":0,\"ticks\":\"\"}}}],\"bar\":[{\"error_x\":{\"color\":\"#2a3f5f\"},\"error_y\":{\"color\":\"#2a3f5f\"},\"marker\":{\"line\":{\"color\":\"#E5ECF6\",\"width\":0.5},\"pattern\":{\"fillmode\":\"overlay\",\"size\":10,\"solidity\":0.2}},\"type\":\"bar\"}],\"scattergeo\":[{\"type\":\"scattergeo\",\"marker\":{\"colorbar\":{\"outlinewidth\":0,\"ticks\":\"\"}}}],\"scatterpolar\":[{\"type\":\"scatterpolar\",\"marker\":{\"colorbar\":{\"outlinewidth\":0,\"ticks\":\"\"}}}],\"histogram\":[{\"marker\":{\"pattern\":{\"fillmode\":\"overlay\",\"size\":10,\"solidity\":0.2}},\"type\":\"histogram\"}],\"scattergl\":[{\"type\":\"scattergl\",\"marker\":{\"colorbar\":{\"outlinewidth\":0,\"ticks\":\"\"}}}],\"scatter3d\":[{\"type\":\"scatter3d\",\"line\":{\"colorbar\":{\"outlinewidth\":0,\"ticks\":\"\"}},\"marker\":{\"colorbar\":{\"outlinewidth\":0,\"ticks\":\"\"}}}],\"scattermapbox\":[{\"type\":\"scattermapbox\",\"marker\":{\"colorbar\":{\"outlinewidth\":0,\"ticks\":\"\"}}}],\"scatterternary\":[{\"type\":\"scatterternary\",\"marker\":{\"colorbar\":{\"outlinewidth\":0,\"ticks\":\"\"}}}],\"scattercarpet\":[{\"type\":\"scattercarpet\",\"marker\":{\"colorbar\":{\"outlinewidth\":0,\"ticks\":\"\"}}}],\"carpet\":[{\"aaxis\":{\"endlinecolor\":\"#2a3f5f\",\"gridcolor\":\"white\",\"linecolor\":\"white\",\"minorgridcolor\":\"white\",\"startlinecolor\":\"#2a3f5f\"},\"baxis\":{\"endlinecolor\":\"#2a3f5f\",\"gridcolor\":\"white\",\"linecolor\":\"white\",\"minorgridcolor\":\"white\",\"startlinecolor\":\"#2a3f5f\"},\"type\":\"carpet\"}],\"table\":[{\"cells\":{\"fill\":{\"color\":\"#EBF0F8\"},\"line\":{\"color\":\"white\"}},\"header\":{\"fill\":{\"color\":\"#C8D4E3\"},\"line\":{\"color\":\"white\"}},\"type\":\"table\"}],\"barpolar\":[{\"marker\":{\"line\":{\"color\":\"#E5ECF6\",\"width\":0.5},\"pattern\":{\"fillmode\":\"overlay\",\"size\":10,\"solidity\":0.2}},\"type\":\"barpolar\"}],\"pie\":[{\"automargin\":true,\"type\":\"pie\"}]},\"layout\":{\"autotypenumbers\":\"strict\",\"colorway\":[\"#636efa\",\"#EF553B\",\"#00cc96\",\"#ab63fa\",\"#FFA15A\",\"#19d3f3\",\"#FF6692\",\"#B6E880\",\"#FF97FF\",\"#FECB52\"],\"font\":{\"color\":\"#2a3f5f\"},\"hovermode\":\"closest\",\"hoverlabel\":{\"align\":\"left\"},\"paper_bgcolor\":\"white\",\"plot_bgcolor\":\"#E5ECF6\",\"polar\":{\"bgcolor\":\"#E5ECF6\",\"angularaxis\":{\"gridcolor\":\"white\",\"linecolor\":\"white\",\"ticks\":\"\"},\"radialaxis\":{\"gridcolor\":\"white\",\"linecolor\":\"white\",\"ticks\":\"\"}},\"ternary\":{\"bgcolor\":\"#E5ECF6\",\"aaxis\":{\"gridcolor\":\"white\",\"linecolor\":\"white\",\"ticks\":\"\"},\"baxis\":{\"gridcolor\":\"white\",\"linecolor\":\"white\",\"ticks\":\"\"},\"caxis\":{\"gridcolor\":\"white\",\"linecolor\":\"white\",\"ticks\":\"\"}},\"coloraxis\":{\"colorbar\":{\"outlinewidth\":0,\"ticks\":\"\"}},\"colorscale\":{\"sequential\":[[0.0,\"#0d0887\"],[0.1111111111111111,\"#46039f\"],[0.2222222222222222,\"#7201a8\"],[0.3333333333333333,\"#9c179e\"],[0.4444444444444444,\"#bd3786\"],[0.5555555555555556,\"#d8576b\"],[0.6666666666666666,\"#ed7953\"],[0.7777777777777778,\"#fb9f3a\"],[0.8888888888888888,\"#fdca26\"],[1.0,\"#f0f921\"]],\"sequentialminus\":[[0.0,\"#0d0887\"],[0.1111111111111111,\"#46039f\"],[0.2222222222222222,\"#7201a8\"],[0.3333333333333333,\"#9c179e\"],[0.4444444444444444,\"#bd3786\"],[0.5555555555555556,\"#d8576b\"],[0.6666666666666666,\"#ed7953\"],[0.7777777777777778,\"#fb9f3a\"],[0.8888888888888888,\"#fdca26\"],[1.0,\"#f0f921\"]],\"diverging\":[[0,\"#8e0152\"],[0.1,\"#c51b7d\"],[0.2,\"#de77ae\"],[0.3,\"#f1b6da\"],[0.4,\"#fde0ef\"],[0.5,\"#f7f7f7\"],[0.6,\"#e6f5d0\"],[0.7,\"#b8e186\"],[0.8,\"#7fbc41\"],[0.9,\"#4d9221\"],[1,\"#276419\"]]},\"xaxis\":{\"gridcolor\":\"white\",\"linecolor\":\"white\",\"ticks\":\"\",\"title\":{\"standoff\":15},\"zerolinecolor\":\"white\",\"automargin\":true,\"zerolinewidth\":2},\"yaxis\":{\"gridcolor\":\"white\",\"linecolor\":\"white\",\"ticks\":\"\",\"title\":{\"standoff\":15},\"zerolinecolor\":\"white\",\"automargin\":true,\"zerolinewidth\":2},\"scene\":{\"xaxis\":{\"backgroundcolor\":\"#E5ECF6\",\"gridcolor\":\"white\",\"linecolor\":\"white\",\"showbackground\":true,\"ticks\":\"\",\"zerolinecolor\":\"white\",\"gridwidth\":2},\"yaxis\":{\"backgroundcolor\":\"#E5ECF6\",\"gridcolor\":\"white\",\"linecolor\":\"white\",\"showbackground\":true,\"ticks\":\"\",\"zerolinecolor\":\"white\",\"gridwidth\":2},\"zaxis\":{\"backgroundcolor\":\"#E5ECF6\",\"gridcolor\":\"white\",\"linecolor\":\"white\",\"showbackground\":true,\"ticks\":\"\",\"zerolinecolor\":\"white\",\"gridwidth\":2}},\"shapedefaults\":{\"line\":{\"color\":\"#2a3f5f\"}},\"annotationdefaults\":{\"arrowcolor\":\"#2a3f5f\",\"arrowhead\":0,\"arrowwidth\":1},\"geo\":{\"bgcolor\":\"white\",\"landcolor\":\"#E5ECF6\",\"subunitcolor\":\"white\",\"showland\":true,\"showlakes\":true,\"lakecolor\":\"white\"},\"title\":{\"x\":0.05},\"mapbox\":{\"style\":\"light\"}}},\"title\":{\"text\":\"Training and val loss across epochs\"},\"xaxis\":{\"title\":{\"text\":\"epochs\"}},\"yaxis\":{\"title\":{\"text\":\"Binary Cross Entropy\"}}},                        {\"responsive\": true}                    ).then(function(){\n",
              "                            \n",
              "var gd = document.getElementById('1576bcd0-b2df-4419-87e2-99a1a61aa440');\n",
              "var x = new MutationObserver(function (mutations, observer) {{\n",
              "        var display = window.getComputedStyle(gd).display;\n",
              "        if (!display || display === 'none') {{\n",
              "            console.log([gd, 'removed!']);\n",
              "            Plotly.purge(gd);\n",
              "            observer.disconnect();\n",
              "        }}\n",
              "}});\n",
              "\n",
              "// Listen for the removal of the full notebook cells\n",
              "var notebookContainer = gd.closest('#notebook-container');\n",
              "if (notebookContainer) {{\n",
              "    x.observe(notebookContainer, {childList: true});\n",
              "}}\n",
              "\n",
              "// Listen for the clearing of the current output cell\n",
              "var outputEl = gd.closest('.output');\n",
              "if (outputEl) {{\n",
              "    x.observe(outputEl, {childList: true});\n",
              "}}\n",
              "\n",
              "                        })                };                            </script>        </div>\n",
              "</body>\n",
              "</html>"
            ]
          },
          "metadata": {}
        }
      ]
    },
    {
      "cell_type": "code",
      "source": [
        "fig = go.Figure(data=[\n",
        "                      go.Scatter(\n",
        "                          y=model4.history.history[\"accuracy\"],\n",
        "                          name=\"Training accuracy\",\n",
        "                          mode=\"lines\",\n",
        "                          marker=dict(\n",
        "                              color=color_chart[0]\n",
        "                          )),\n",
        "                      go.Scatter(\n",
        "                          y=model3.history.history[\"val_accuracy\"],\n",
        "                          name=\"Validation accuracy\",\n",
        "                          mode=\"lines\",\n",
        "                          marker=dict(\n",
        "                              color=color_chart[1]\n",
        "                          ))\n",
        "])\n",
        "fig.update_layout(\n",
        "    title='Training and val accuracy across epochs',\n",
        "    xaxis_title='epochs',\n",
        "    yaxis_title='Accuracy'\n",
        ")\n",
        "fig.show()"
      ],
      "metadata": {
        "colab": {
          "base_uri": "https://localhost:8080/",
          "height": 542
        },
        "id": "N7YEBW6hllsF",
        "outputId": "4c59137e-111e-4329-b66f-82db9c8ff4c0"
      },
      "execution_count": null,
      "outputs": [
        {
          "output_type": "display_data",
          "data": {
            "text/html": [
              "<html>\n",
              "<head><meta charset=\"utf-8\" /></head>\n",
              "<body>\n",
              "    <div>            <script src=\"https://cdnjs.cloudflare.com/ajax/libs/mathjax/2.7.5/MathJax.js?config=TeX-AMS-MML_SVG\"></script><script type=\"text/javascript\">if (window.MathJax && window.MathJax.Hub && window.MathJax.Hub.Config) {window.MathJax.Hub.Config({SVG: {font: \"STIX-Web\"}});}</script>                <script type=\"text/javascript\">window.PlotlyConfig = {MathJaxConfig: 'local'};</script>\n",
              "        <script charset=\"utf-8\" src=\"https://cdn.plot.ly/plotly-2.24.1.min.js\"></script>                <div id=\"8b8628e6-a271-4347-bf51-42bd79abdb67\" class=\"plotly-graph-div\" style=\"height:525px; width:100%;\"></div>            <script type=\"text/javascript\">                                    window.PLOTLYENV=window.PLOTLYENV || {};                                    if (document.getElementById(\"8b8628e6-a271-4347-bf51-42bd79abdb67\")) {                    Plotly.newPlot(                        \"8b8628e6-a271-4347-bf51-42bd79abdb67\",                        [{\"marker\":{\"color\":\"#4B9AC7\"},\"mode\":\"lines\",\"name\":\"Training accuracy\",\"y\":[0.8796116709709167,0.9601941704750061,0.978317141532898,0.985760509967804,0.9880259037017822,0.9922330379486084,0.9941747784614563,0.9944983720779419,0.9961165189743042,0.9961165189743042,0.9974110126495361,0.9987055063247681,0.9983818531036377,0.9990290999412537,0.999352753162384,0.999352753162384,0.999352753162384,0.9996763467788696,0.9996763467788696,0.9996763467788696,0.9996763467788696,0.9996763467788696,0.9996763467788696,0.9996763467788696,0.9996763467788696],\"type\":\"scatter\"},{\"marker\":{\"color\":\"#4BE8E0\"},\"mode\":\"lines\",\"name\":\"Validation accuracy\",\"y\":[0.8737863898277283,0.9514563083648682,0.9708737730979919,0.9786407947540283,0.9805825352668762,0.9737864136695862,0.9786407947540283,0.9757281541824341,0.9757281541824341,0.9708737730979919,0.9737864136695862,0.977669894695282,0.977669894695282,0.9757281541824341,0.9718446731567383,0.9766990542411804,0.9737864136695862,0.9737864136695862,0.9737864136695862,0.977669894695282,0.9766990542411804,0.9737864136695862,0.9718446731567383,0.9708737730979919,0.9699029326438904],\"type\":\"scatter\"}],                        {\"template\":{\"data\":{\"histogram2dcontour\":[{\"type\":\"histogram2dcontour\",\"colorbar\":{\"outlinewidth\":0,\"ticks\":\"\"},\"colorscale\":[[0.0,\"#0d0887\"],[0.1111111111111111,\"#46039f\"],[0.2222222222222222,\"#7201a8\"],[0.3333333333333333,\"#9c179e\"],[0.4444444444444444,\"#bd3786\"],[0.5555555555555556,\"#d8576b\"],[0.6666666666666666,\"#ed7953\"],[0.7777777777777778,\"#fb9f3a\"],[0.8888888888888888,\"#fdca26\"],[1.0,\"#f0f921\"]]}],\"choropleth\":[{\"type\":\"choropleth\",\"colorbar\":{\"outlinewidth\":0,\"ticks\":\"\"}}],\"histogram2d\":[{\"type\":\"histogram2d\",\"colorbar\":{\"outlinewidth\":0,\"ticks\":\"\"},\"colorscale\":[[0.0,\"#0d0887\"],[0.1111111111111111,\"#46039f\"],[0.2222222222222222,\"#7201a8\"],[0.3333333333333333,\"#9c179e\"],[0.4444444444444444,\"#bd3786\"],[0.5555555555555556,\"#d8576b\"],[0.6666666666666666,\"#ed7953\"],[0.7777777777777778,\"#fb9f3a\"],[0.8888888888888888,\"#fdca26\"],[1.0,\"#f0f921\"]]}],\"heatmap\":[{\"type\":\"heatmap\",\"colorbar\":{\"outlinewidth\":0,\"ticks\":\"\"},\"colorscale\":[[0.0,\"#0d0887\"],[0.1111111111111111,\"#46039f\"],[0.2222222222222222,\"#7201a8\"],[0.3333333333333333,\"#9c179e\"],[0.4444444444444444,\"#bd3786\"],[0.5555555555555556,\"#d8576b\"],[0.6666666666666666,\"#ed7953\"],[0.7777777777777778,\"#fb9f3a\"],[0.8888888888888888,\"#fdca26\"],[1.0,\"#f0f921\"]]}],\"heatmapgl\":[{\"type\":\"heatmapgl\",\"colorbar\":{\"outlinewidth\":0,\"ticks\":\"\"},\"colorscale\":[[0.0,\"#0d0887\"],[0.1111111111111111,\"#46039f\"],[0.2222222222222222,\"#7201a8\"],[0.3333333333333333,\"#9c179e\"],[0.4444444444444444,\"#bd3786\"],[0.5555555555555556,\"#d8576b\"],[0.6666666666666666,\"#ed7953\"],[0.7777777777777778,\"#fb9f3a\"],[0.8888888888888888,\"#fdca26\"],[1.0,\"#f0f921\"]]}],\"contourcarpet\":[{\"type\":\"contourcarpet\",\"colorbar\":{\"outlinewidth\":0,\"ticks\":\"\"}}],\"contour\":[{\"type\":\"contour\",\"colorbar\":{\"outlinewidth\":0,\"ticks\":\"\"},\"colorscale\":[[0.0,\"#0d0887\"],[0.1111111111111111,\"#46039f\"],[0.2222222222222222,\"#7201a8\"],[0.3333333333333333,\"#9c179e\"],[0.4444444444444444,\"#bd3786\"],[0.5555555555555556,\"#d8576b\"],[0.6666666666666666,\"#ed7953\"],[0.7777777777777778,\"#fb9f3a\"],[0.8888888888888888,\"#fdca26\"],[1.0,\"#f0f921\"]]}],\"surface\":[{\"type\":\"surface\",\"colorbar\":{\"outlinewidth\":0,\"ticks\":\"\"},\"colorscale\":[[0.0,\"#0d0887\"],[0.1111111111111111,\"#46039f\"],[0.2222222222222222,\"#7201a8\"],[0.3333333333333333,\"#9c179e\"],[0.4444444444444444,\"#bd3786\"],[0.5555555555555556,\"#d8576b\"],[0.6666666666666666,\"#ed7953\"],[0.7777777777777778,\"#fb9f3a\"],[0.8888888888888888,\"#fdca26\"],[1.0,\"#f0f921\"]]}],\"mesh3d\":[{\"type\":\"mesh3d\",\"colorbar\":{\"outlinewidth\":0,\"ticks\":\"\"}}],\"scatter\":[{\"fillpattern\":{\"fillmode\":\"overlay\",\"size\":10,\"solidity\":0.2},\"type\":\"scatter\"}],\"parcoords\":[{\"type\":\"parcoords\",\"line\":{\"colorbar\":{\"outlinewidth\":0,\"ticks\":\"\"}}}],\"scatterpolargl\":[{\"type\":\"scatterpolargl\",\"marker\":{\"colorbar\":{\"outlinewidth\":0,\"ticks\":\"\"}}}],\"bar\":[{\"error_x\":{\"color\":\"#2a3f5f\"},\"error_y\":{\"color\":\"#2a3f5f\"},\"marker\":{\"line\":{\"color\":\"#E5ECF6\",\"width\":0.5},\"pattern\":{\"fillmode\":\"overlay\",\"size\":10,\"solidity\":0.2}},\"type\":\"bar\"}],\"scattergeo\":[{\"type\":\"scattergeo\",\"marker\":{\"colorbar\":{\"outlinewidth\":0,\"ticks\":\"\"}}}],\"scatterpolar\":[{\"type\":\"scatterpolar\",\"marker\":{\"colorbar\":{\"outlinewidth\":0,\"ticks\":\"\"}}}],\"histogram\":[{\"marker\":{\"pattern\":{\"fillmode\":\"overlay\",\"size\":10,\"solidity\":0.2}},\"type\":\"histogram\"}],\"scattergl\":[{\"type\":\"scattergl\",\"marker\":{\"colorbar\":{\"outlinewidth\":0,\"ticks\":\"\"}}}],\"scatter3d\":[{\"type\":\"scatter3d\",\"line\":{\"colorbar\":{\"outlinewidth\":0,\"ticks\":\"\"}},\"marker\":{\"colorbar\":{\"outlinewidth\":0,\"ticks\":\"\"}}}],\"scattermapbox\":[{\"type\":\"scattermapbox\",\"marker\":{\"colorbar\":{\"outlinewidth\":0,\"ticks\":\"\"}}}],\"scatterternary\":[{\"type\":\"scatterternary\",\"marker\":{\"colorbar\":{\"outlinewidth\":0,\"ticks\":\"\"}}}],\"scattercarpet\":[{\"type\":\"scattercarpet\",\"marker\":{\"colorbar\":{\"outlinewidth\":0,\"ticks\":\"\"}}}],\"carpet\":[{\"aaxis\":{\"endlinecolor\":\"#2a3f5f\",\"gridcolor\":\"white\",\"linecolor\":\"white\",\"minorgridcolor\":\"white\",\"startlinecolor\":\"#2a3f5f\"},\"baxis\":{\"endlinecolor\":\"#2a3f5f\",\"gridcolor\":\"white\",\"linecolor\":\"white\",\"minorgridcolor\":\"white\",\"startlinecolor\":\"#2a3f5f\"},\"type\":\"carpet\"}],\"table\":[{\"cells\":{\"fill\":{\"color\":\"#EBF0F8\"},\"line\":{\"color\":\"white\"}},\"header\":{\"fill\":{\"color\":\"#C8D4E3\"},\"line\":{\"color\":\"white\"}},\"type\":\"table\"}],\"barpolar\":[{\"marker\":{\"line\":{\"color\":\"#E5ECF6\",\"width\":0.5},\"pattern\":{\"fillmode\":\"overlay\",\"size\":10,\"solidity\":0.2}},\"type\":\"barpolar\"}],\"pie\":[{\"automargin\":true,\"type\":\"pie\"}]},\"layout\":{\"autotypenumbers\":\"strict\",\"colorway\":[\"#636efa\",\"#EF553B\",\"#00cc96\",\"#ab63fa\",\"#FFA15A\",\"#19d3f3\",\"#FF6692\",\"#B6E880\",\"#FF97FF\",\"#FECB52\"],\"font\":{\"color\":\"#2a3f5f\"},\"hovermode\":\"closest\",\"hoverlabel\":{\"align\":\"left\"},\"paper_bgcolor\":\"white\",\"plot_bgcolor\":\"#E5ECF6\",\"polar\":{\"bgcolor\":\"#E5ECF6\",\"angularaxis\":{\"gridcolor\":\"white\",\"linecolor\":\"white\",\"ticks\":\"\"},\"radialaxis\":{\"gridcolor\":\"white\",\"linecolor\":\"white\",\"ticks\":\"\"}},\"ternary\":{\"bgcolor\":\"#E5ECF6\",\"aaxis\":{\"gridcolor\":\"white\",\"linecolor\":\"white\",\"ticks\":\"\"},\"baxis\":{\"gridcolor\":\"white\",\"linecolor\":\"white\",\"ticks\":\"\"},\"caxis\":{\"gridcolor\":\"white\",\"linecolor\":\"white\",\"ticks\":\"\"}},\"coloraxis\":{\"colorbar\":{\"outlinewidth\":0,\"ticks\":\"\"}},\"colorscale\":{\"sequential\":[[0.0,\"#0d0887\"],[0.1111111111111111,\"#46039f\"],[0.2222222222222222,\"#7201a8\"],[0.3333333333333333,\"#9c179e\"],[0.4444444444444444,\"#bd3786\"],[0.5555555555555556,\"#d8576b\"],[0.6666666666666666,\"#ed7953\"],[0.7777777777777778,\"#fb9f3a\"],[0.8888888888888888,\"#fdca26\"],[1.0,\"#f0f921\"]],\"sequentialminus\":[[0.0,\"#0d0887\"],[0.1111111111111111,\"#46039f\"],[0.2222222222222222,\"#7201a8\"],[0.3333333333333333,\"#9c179e\"],[0.4444444444444444,\"#bd3786\"],[0.5555555555555556,\"#d8576b\"],[0.6666666666666666,\"#ed7953\"],[0.7777777777777778,\"#fb9f3a\"],[0.8888888888888888,\"#fdca26\"],[1.0,\"#f0f921\"]],\"diverging\":[[0,\"#8e0152\"],[0.1,\"#c51b7d\"],[0.2,\"#de77ae\"],[0.3,\"#f1b6da\"],[0.4,\"#fde0ef\"],[0.5,\"#f7f7f7\"],[0.6,\"#e6f5d0\"],[0.7,\"#b8e186\"],[0.8,\"#7fbc41\"],[0.9,\"#4d9221\"],[1,\"#276419\"]]},\"xaxis\":{\"gridcolor\":\"white\",\"linecolor\":\"white\",\"ticks\":\"\",\"title\":{\"standoff\":15},\"zerolinecolor\":\"white\",\"automargin\":true,\"zerolinewidth\":2},\"yaxis\":{\"gridcolor\":\"white\",\"linecolor\":\"white\",\"ticks\":\"\",\"title\":{\"standoff\":15},\"zerolinecolor\":\"white\",\"automargin\":true,\"zerolinewidth\":2},\"scene\":{\"xaxis\":{\"backgroundcolor\":\"#E5ECF6\",\"gridcolor\":\"white\",\"linecolor\":\"white\",\"showbackground\":true,\"ticks\":\"\",\"zerolinecolor\":\"white\",\"gridwidth\":2},\"yaxis\":{\"backgroundcolor\":\"#E5ECF6\",\"gridcolor\":\"white\",\"linecolor\":\"white\",\"showbackground\":true,\"ticks\":\"\",\"zerolinecolor\":\"white\",\"gridwidth\":2},\"zaxis\":{\"backgroundcolor\":\"#E5ECF6\",\"gridcolor\":\"white\",\"linecolor\":\"white\",\"showbackground\":true,\"ticks\":\"\",\"zerolinecolor\":\"white\",\"gridwidth\":2}},\"shapedefaults\":{\"line\":{\"color\":\"#2a3f5f\"}},\"annotationdefaults\":{\"arrowcolor\":\"#2a3f5f\",\"arrowhead\":0,\"arrowwidth\":1},\"geo\":{\"bgcolor\":\"white\",\"landcolor\":\"#E5ECF6\",\"subunitcolor\":\"white\",\"showland\":true,\"showlakes\":true,\"lakecolor\":\"white\"},\"title\":{\"x\":0.05},\"mapbox\":{\"style\":\"light\"}}},\"title\":{\"text\":\"Training and val accuracy across epochs\"},\"xaxis\":{\"title\":{\"text\":\"epochs\"}},\"yaxis\":{\"title\":{\"text\":\"Accuracy\"}}},                        {\"responsive\": true}                    ).then(function(){\n",
              "                            \n",
              "var gd = document.getElementById('8b8628e6-a271-4347-bf51-42bd79abdb67');\n",
              "var x = new MutationObserver(function (mutations, observer) {{\n",
              "        var display = window.getComputedStyle(gd).display;\n",
              "        if (!display || display === 'none') {{\n",
              "            console.log([gd, 'removed!']);\n",
              "            Plotly.purge(gd);\n",
              "            observer.disconnect();\n",
              "        }}\n",
              "}});\n",
              "\n",
              "// Listen for the removal of the full notebook cells\n",
              "var notebookContainer = gd.closest('#notebook-container');\n",
              "if (notebookContainer) {{\n",
              "    x.observe(notebookContainer, {childList: true});\n",
              "}}\n",
              "\n",
              "// Listen for the clearing of the current output cell\n",
              "var outputEl = gd.closest('.output');\n",
              "if (outputEl) {{\n",
              "    x.observe(outputEl, {childList: true});\n",
              "}}\n",
              "\n",
              "                        })                };                            </script>        </div>\n",
              "</body>\n",
              "</html>"
            ]
          },
          "metadata": {}
        }
      ]
    },
    {
      "cell_type": "code",
      "source": [
        "test_loss, test_accuracy = model4.evaluate(test_batch)\n",
        "print('Test Loss :',test_loss)\n",
        "print('Test Accuracy :',test_accuracy)"
      ],
      "metadata": {
        "colab": {
          "base_uri": "https://localhost:8080/"
        },
        "id": "ktJuL7wQfhBS",
        "outputId": "0fe6132a-28b2-4797-fc91-1d78e81d41ae"
      },
      "execution_count": null,
      "outputs": [
        {
          "output_type": "stream",
          "name": "stdout",
          "text": [
            "17/17 [==============================] - 3s 28ms/step - loss: 0.0747 - accuracy: 0.9796\n",
            "Test Loss : 0.07466516643762589\n",
            "Test Accuracy : 0.9796314239501953\n"
          ]
        }
      ]
    },
    {
      "cell_type": "code",
      "source": [
        "test_pred4 = [1 if o>0.5 else 0 for o in model4.predict(test_padded)]\n",
        "cf_matrix = confusion_matrix(Y_test, test_pred4)\n",
        "\n",
        "ax = plt.subplot()\n",
        "sns.heatmap(cf_matrix, annot = True, ax = ax, cmap = 'Blues',fmt = '');\n",
        "ax.set_xlabel('Predicted labels');\n",
        "ax.set_ylabel('True labels');\n",
        "ax.set_title('Confusion Matrix');\n",
        "ax.xaxis.set_ticklabels(['Not Spam', 'Spam']); ax.yaxis.set_ticklabels(['Not Spam', 'Spam']);"
      ],
      "metadata": {
        "colab": {
          "base_uri": "https://localhost:8080/",
          "height": 490
        },
        "id": "w2tfC8jkgX_q",
        "outputId": "91ee6a77-99d0-4016-f6b9-4d2afd6c7977"
      },
      "execution_count": null,
      "outputs": [
        {
          "output_type": "stream",
          "name": "stdout",
          "text": [
            "33/33 [==============================] - 1s 37ms/step\n"
          ]
        },
        {
          "output_type": "display_data",
          "data": {
            "text/plain": [
              "<Figure size 640x480 with 2 Axes>"
            ],
            "image/png": "[encoded data removed]"
          },
          "metadata": {}
        }
      ]
    },
    {
      "cell_type": "code",
      "source": [
        "print(\"Precision: {:.2f}%\".format(100 * precision_score(Y_test, test_pred4)))\n",
        "print(\"Recall: {:.2f}%\".format(100 * recall_score(Y_test, test_pred4)))\n",
        "print(\"F1 Score: {:.2f}%\".format(100 * f1_score(Y_test, test_pred4)))"
      ],
      "metadata": {
        "colab": {
          "base_uri": "https://localhost:8080/"
        },
        "id": "xhh6BLc_gjgy",
        "outputId": "85d4cba2-4588-4daf-a284-8d0bff7edd31"
      },
      "execution_count": null,
      "outputs": [
        {
          "output_type": "stream",
          "name": "stdout",
          "text": [
            "Precision: 96.61%\n",
            "Recall: 87.02%\n",
            "F1 Score: 91.57%\n"
          ]
        }
      ]
    },
    {
      "cell_type": "markdown",
      "source": [
        "These scores a very similar to those obtained with our first, simpler model.\n",
        "\n",
        "We could argue that there is no particular need for LSTMs in this project since the purpose is not fine understanding of the messages, but rather sentiment analysis to classify them as ham or spam.\n",
        "In addition, this more complex model tends to overfit very quickly.\n",
        "\n",
        "However, we reach these scores much faster (after less than 10 epochs) and the evolutions of loss and accuracy are much smoother without plateau."
      ],
      "metadata": {
        "id": "SYi59cb_myW8"
      }
    },
    {
      "cell_type": "markdown",
      "source": [
        "# 8. Pre-trained embedding model\n",
        "\n",
        "At last, we'll try using a pre-trained word embedding in our model.\n",
        "\n",
        "Embedding is the process of transforming text data into numerical vectors which a machine can understand.\n",
        "Several LLMs provide embedding models that have been trained over a very large number of text data.\n",
        "\n",
        "Word2Vec is one of them, and is particularly adapted to the problem at hand, since its embeddings are based on context and co-occurrence of words. The embedding vectors maintain semantic and syntactic relationships."
      ],
      "metadata": {
        "id": "iRwvvGEvnR0C"
      }
    },
    {
      "cell_type": "markdown",
      "source": [
        "We will use the gensim library to extract word embeddings from the pretrained google news database.\n",
        "\n",
        "The function \"isInModel\" serves to check whether the passed word is available in the google news dictionary.\n",
        "\n",
        "The functions \"getVector\" is used to extract the word vector for a word passed as an argument, and other function"
      ],
      "metadata": {
        "id": "ZXzcz2tL0u-d"
      }
    },
    {
      "cell_type": "code",
      "source": [
        "import gensim.downloader as api\n",
        "\n",
        "word2vec = api.load('word2vec-google-news-300')"
      ],
      "metadata": {
        "colab": {
          "base_uri": "https://localhost:8080/"
        },
        "id": "vf7TZbUCt_0c",
        "outputId": "0dbd11d2-7107-41fd-ac20-e4c936257cb0"
      },
      "execution_count": 317,
      "outputs": [
        {
          "output_type": "stream",
          "name": "stdout",
          "text": [
            "[==================================================] 100.0% 1662.8/1662.8MB downloaded\n"
          ]
        }
      ]
    },
    {
      "cell_type": "code",
      "source": [
        "# Using tokenizer.word_index as a dictionary for our input data, we get corresponding word vectors from the Word2Vec embeddings, and save them in a matrix variable.\n",
        "# create a weight matrix for words in training docs\n",
        "embedding_matrix = np.zeros((vocab_size, 32))\n",
        "for word, i in tokenizer.word_index.items():\n",
        "  try:\n",
        "    embedding_vector = word2vec[word]\n",
        "    if embedding_vector is not None:\n",
        "      embedding_matrix[i] = embedding_vector\n",
        "  except:\n",
        "    pass"
      ],
      "metadata": {
        "id": "XVP6CWum4eCS"
      },
      "execution_count": 329,
      "outputs": []
    },
    {
      "cell_type": "code",
      "source": [
        "# The matrix is used to initialize weights in the Embedding layer of the model.\n",
        "model5 = Sequential([\n",
        "  Embedding(\n",
        "      input_dim = vocab_size,\n",
        "      output_dim = 32,\n",
        "      weights=[embedding_matrix],\n",
        "      trainable = True, # for fine tuning\n",
        "      name = \"embedding\"), # the embedding layer\n",
        "  GlobalAveragePooling1D(),\n",
        "  Dense(16, activation='relu'), # a dense layer\n",
        "  Dense(1, activation=\"sigmoid\") # the prediction layer\n",
        "])\n",
        "\n",
        "model5.summary()"
      ],
      "metadata": {
        "colab": {
          "base_uri": "https://localhost:8080/"
        },
        "id": "mcV4rMda4usc",
        "outputId": "4a451d18-09e9-4a74-e5eb-84d63af6075e"
      },
      "execution_count": 339,
      "outputs": [
        {
          "output_type": "stream",
          "name": "stdout",
          "text": [
            "Model: \"sequential_24\"\n",
            "_________________________________________________________________\n",
            " Layer (type)                Output Shape              Param #   \n",
            "=================================================================\n",
            " embedding (Embedding)       (None, None, 32)          32032     \n",
            "                                                                 \n",
            " global_average_pooling1d_1  (None, 32)                0         \n",
            " 5 (GlobalAveragePooling1D)                                      \n",
            "                                                                 \n",
            " dense_48 (Dense)            (None, 16)                528       \n",
            "                                                                 \n",
            " dense_49 (Dense)            (None, 1)                 17        \n",
            "                                                                 \n",
            "=================================================================\n",
            "Total params: 32577 (127.25 KB)\n",
            "Trainable params: 32577 (127.25 KB)\n",
            "Non-trainable params: 0 (0.00 Byte)\n",
            "_________________________________________________________________\n"
          ]
        }
      ]
    },
    {
      "cell_type": "code",
      "source": [
        "model5.compile(loss = tf.keras.losses.BinaryCrossentropy(from_logits = True), # from_logits = True to interpret y_pred as a tensor of logit values and not a probability\n",
        "              metrics = ['accuracy'],\n",
        "              optimizer = 'adam')"
      ],
      "metadata": {
        "id": "eV5IEl2B8wad"
      },
      "execution_count": 340,
      "outputs": []
    },
    {
      "cell_type": "code",
      "source": [
        "history = model5.fit(train_batch,\n",
        "                    epochs = 50,\n",
        "                    validation_data = val_batch\n",
        "                   )"
      ],
      "metadata": {
        "colab": {
          "base_uri": "https://localhost:8080/"
        },
        "id": "04KK44Ph9mbP",
        "outputId": "c37c270e-a749-43ad-fe46-576aeb751a36"
      },
      "execution_count": 341,
      "outputs": [
        {
          "output_type": "stream",
          "name": "stdout",
          "text": [
            "Epoch 1/50\n",
            "49/49 [==============================] - 1s 8ms/step - loss: 0.6847 - accuracy: 0.8731 - val_loss: 0.6756 - val_accuracy: 0.8738\n",
            "Epoch 2/50\n",
            "49/49 [==============================] - 0s 4ms/step - loss: 0.6674 - accuracy: 0.8731 - val_loss: 0.6586 - val_accuracy: 0.8738\n",
            "Epoch 3/50\n",
            "49/49 [==============================] - 0s 5ms/step - loss: 0.6509 - accuracy: 0.8731 - val_loss: 0.6424 - val_accuracy: 0.8738\n",
            "Epoch 4/50\n",
            "49/49 [==============================] - 0s 5ms/step - loss: 0.6352 - accuracy: 0.8731 - val_loss: 0.6273 - val_accuracy: 0.8738\n",
            "Epoch 5/50\n",
            "49/49 [==============================] - 0s 4ms/step - loss: 0.6202 - accuracy: 0.8731 - val_loss: 0.6126 - val_accuracy: 0.8738\n",
            "Epoch 6/50\n",
            "49/49 [==============================] - 0s 5ms/step - loss: 0.6060 - accuracy: 0.8731 - val_loss: 0.5987 - val_accuracy: 0.8738\n",
            "Epoch 7/50\n",
            "49/49 [==============================] - 0s 4ms/step - loss: 0.5925 - accuracy: 0.8731 - val_loss: 0.5857 - val_accuracy: 0.8738\n",
            "Epoch 8/50\n",
            "49/49 [==============================] - 0s 5ms/step - loss: 0.5798 - accuracy: 0.8731 - val_loss: 0.5732 - val_accuracy: 0.8738\n",
            "Epoch 9/50\n",
            "49/49 [==============================] - 0s 6ms/step - loss: 0.5677 - accuracy: 0.8731 - val_loss: 0.5614 - val_accuracy: 0.8738\n",
            "Epoch 10/50\n",
            "49/49 [==============================] - 0s 5ms/step - loss: 0.5563 - accuracy: 0.8731 - val_loss: 0.5504 - val_accuracy: 0.8738\n",
            "Epoch 11/50\n",
            "49/49 [==============================] - 0s 5ms/step - loss: 0.5456 - accuracy: 0.8731 - val_loss: 0.5398 - val_accuracy: 0.8738\n",
            "Epoch 12/50\n",
            "49/49 [==============================] - 0s 5ms/step - loss: 0.5354 - accuracy: 0.8731 - val_loss: 0.5299 - val_accuracy: 0.8738\n",
            "Epoch 13/50\n",
            "49/49 [==============================] - 0s 5ms/step - loss: 0.5257 - accuracy: 0.8731 - val_loss: 0.5206 - val_accuracy: 0.8738\n",
            "Epoch 14/50\n",
            "49/49 [==============================] - 0s 5ms/step - loss: 0.5166 - accuracy: 0.8731 - val_loss: 0.5117 - val_accuracy: 0.8738\n",
            "Epoch 15/50\n",
            "49/49 [==============================] - 0s 8ms/step - loss: 0.5079 - accuracy: 0.8731 - val_loss: 0.5032 - val_accuracy: 0.8738\n",
            "Epoch 16/50\n",
            "49/49 [==============================] - 0s 7ms/step - loss: 0.4998 - accuracy: 0.8731 - val_loss: 0.4954 - val_accuracy: 0.8738\n",
            "Epoch 17/50\n",
            "49/49 [==============================] - 0s 7ms/step - loss: 0.4922 - accuracy: 0.8731 - val_loss: 0.4879 - val_accuracy: 0.8738\n",
            "Epoch 18/50\n",
            "49/49 [==============================] - 0s 7ms/step - loss: 0.4850 - accuracy: 0.8731 - val_loss: 0.4808 - val_accuracy: 0.8738\n",
            "Epoch 19/50\n",
            "49/49 [==============================] - 0s 7ms/step - loss: 0.4782 - accuracy: 0.8731 - val_loss: 0.4742 - val_accuracy: 0.8738\n",
            "Epoch 20/50\n",
            "49/49 [==============================] - 0s 7ms/step - loss: 0.4718 - accuracy: 0.8731 - val_loss: 0.4680 - val_accuracy: 0.8738\n",
            "Epoch 21/50\n",
            "49/49 [==============================] - 0s 7ms/step - loss: 0.4657 - accuracy: 0.8731 - val_loss: 0.4622 - val_accuracy: 0.8738\n",
            "Epoch 22/50\n",
            "49/49 [==============================] - 0s 8ms/step - loss: 0.4600 - accuracy: 0.8731 - val_loss: 0.4567 - val_accuracy: 0.8738\n",
            "Epoch 23/50\n",
            "49/49 [==============================] - 0s 5ms/step - loss: 0.4547 - accuracy: 0.8731 - val_loss: 0.4514 - val_accuracy: 0.8738\n",
            "Epoch 24/50\n",
            "49/49 [==============================] - 0s 4ms/step - loss: 0.4497 - accuracy: 0.8731 - val_loss: 0.4465 - val_accuracy: 0.8738\n",
            "Epoch 25/50\n",
            "49/49 [==============================] - 0s 4ms/step - loss: 0.4450 - accuracy: 0.8731 - val_loss: 0.4420 - val_accuracy: 0.8738\n",
            "Epoch 26/50\n",
            "49/49 [==============================] - 0s 4ms/step - loss: 0.4405 - accuracy: 0.8731 - val_loss: 0.4377 - val_accuracy: 0.8738\n",
            "Epoch 27/50\n",
            "49/49 [==============================] - 0s 5ms/step - loss: 0.4364 - accuracy: 0.8731 - val_loss: 0.4336 - val_accuracy: 0.8738\n",
            "Epoch 28/50\n",
            "49/49 [==============================] - 0s 5ms/step - loss: 0.4324 - accuracy: 0.8731 - val_loss: 0.4298 - val_accuracy: 0.8738\n",
            "Epoch 29/50\n",
            "49/49 [==============================] - 0s 5ms/step - loss: 0.4288 - accuracy: 0.8731 - val_loss: 0.4263 - val_accuracy: 0.8738\n",
            "Epoch 30/50\n",
            "49/49 [==============================] - 0s 5ms/step - loss: 0.4254 - accuracy: 0.8731 - val_loss: 0.4229 - val_accuracy: 0.8738\n",
            "Epoch 31/50\n",
            "49/49 [==============================] - 0s 5ms/step - loss: 0.4221 - accuracy: 0.8731 - val_loss: 0.4198 - val_accuracy: 0.8738\n",
            "Epoch 32/50\n",
            "49/49 [==============================] - 0s 5ms/step - loss: 0.4191 - accuracy: 0.8731 - val_loss: 0.4169 - val_accuracy: 0.8738\n",
            "Epoch 33/50\n",
            "49/49 [==============================] - 0s 5ms/step - loss: 0.4163 - accuracy: 0.8731 - val_loss: 0.4141 - val_accuracy: 0.8738\n",
            "Epoch 34/50\n",
            "49/49 [==============================] - 0s 5ms/step - loss: 0.4137 - accuracy: 0.8731 - val_loss: 0.4115 - val_accuracy: 0.8738\n",
            "Epoch 35/50\n",
            "49/49 [==============================] - 0s 5ms/step - loss: 0.4112 - accuracy: 0.8731 - val_loss: 0.4091 - val_accuracy: 0.8738\n",
            "Epoch 36/50\n",
            "49/49 [==============================] - 0s 5ms/step - loss: 0.4088 - accuracy: 0.8731 - val_loss: 0.4068 - val_accuracy: 0.8738\n",
            "Epoch 37/50\n",
            "49/49 [==============================] - 0s 4ms/step - loss: 0.4067 - accuracy: 0.8731 - val_loss: 0.4048 - val_accuracy: 0.8738\n",
            "Epoch 38/50\n",
            "49/49 [==============================] - 0s 5ms/step - loss: 0.4047 - accuracy: 0.8731 - val_loss: 0.4029 - val_accuracy: 0.8738\n",
            "Epoch 39/50\n",
            "49/49 [==============================] - 0s 5ms/step - loss: 0.4028 - accuracy: 0.8731 - val_loss: 0.4010 - val_accuracy: 0.8738\n",
            "Epoch 40/50\n",
            "49/49 [==============================] - 0s 5ms/step - loss: 0.4010 - accuracy: 0.8731 - val_loss: 0.3993 - val_accuracy: 0.8738\n",
            "Epoch 41/50\n",
            "49/49 [==============================] - 0s 5ms/step - loss: 0.3994 - accuracy: 0.8731 - val_loss: 0.3977 - val_accuracy: 0.8738\n",
            "Epoch 42/50\n",
            "49/49 [==============================] - 0s 5ms/step - loss: 0.3979 - accuracy: 0.8731 - val_loss: 0.3962 - val_accuracy: 0.8738\n",
            "Epoch 43/50\n",
            "49/49 [==============================] - 0s 5ms/step - loss: 0.3964 - accuracy: 0.8731 - val_loss: 0.3948 - val_accuracy: 0.8738\n",
            "Epoch 44/50\n",
            "49/49 [==============================] - 0s 5ms/step - loss: 0.3951 - accuracy: 0.8731 - val_loss: 0.3935 - val_accuracy: 0.8738\n",
            "Epoch 45/50\n",
            "49/49 [==============================] - 0s 5ms/step - loss: 0.3939 - accuracy: 0.8731 - val_loss: 0.3923 - val_accuracy: 0.8738\n",
            "Epoch 46/50\n",
            "49/49 [==============================] - 0s 5ms/step - loss: 0.3927 - accuracy: 0.8731 - val_loss: 0.3912 - val_accuracy: 0.8738\n",
            "Epoch 47/50\n",
            "49/49 [==============================] - 0s 5ms/step - loss: 0.3917 - accuracy: 0.8731 - val_loss: 0.3902 - val_accuracy: 0.8738\n",
            "Epoch 48/50\n",
            "49/49 [==============================] - 0s 5ms/step - loss: 0.3907 - accuracy: 0.8731 - val_loss: 0.3892 - val_accuracy: 0.8738\n",
            "Epoch 49/50\n",
            "49/49 [==============================] - 0s 4ms/step - loss: 0.3898 - accuracy: 0.8731 - val_loss: 0.3883 - val_accuracy: 0.8738\n",
            "Epoch 50/50\n",
            "49/49 [==============================] - 0s 5ms/step - loss: 0.3890 - accuracy: 0.8731 - val_loss: 0.3875 - val_accuracy: 0.8738\n"
          ]
        }
      ]
    },
    {
      "cell_type": "markdown",
      "source": [
        "Unfortunately, we can see that this model's accuracy never improves throughout 50 epochs. We can deduce that although pretrained embedding models can be powerful, the training data and our input data are too different to use transfer learning in this case. Plus, our data is simple enough that the vanilla embedding is sufficient to work with."
      ],
      "metadata": {
        "id": "2KtbdN61-oUQ"
      }
    },
    {
      "cell_type": "markdown",
      "source": [
        "# Conclusion\n",
        "\n",
        "We have built a spam detection tool system using NLP and neural networks.\n",
        "\n",
        "We converted text data into embedding vectors, created several models with different architectures and techniques, and fit the models with our data.\n",
        "\n",
        "We applied a variety of text preprocessing techniques, text embedding techniques, and deep learning models.\n",
        "\n",
        "We explored the possibilities for improving our model's performance, but in the end our first and simplest model remains the most efficient.\n",
        "\n",
        "The concepts and techniques we have used can be applied to many other natural language processing tasks.\n"
      ],
      "metadata": {
        "id": "KT_w2218-8_Y"
      }
    },
    {
      "cell_type": "code",
      "source": [
        "# Last but not least : let's create our requirements.txt file for this notebook :\n",
        "!pip install pipreqs\n",
        "!pipreqs ."
      ],
      "metadata": {
        "colab": {
          "base_uri": "https://localhost:8080/"
        },
        "id": "mTuJlm2sA1X2",
        "outputId": "08ae6457-939b-4072-b1a6-a6ede80c7dce"
      },
      "execution_count": 342,
      "outputs": [
        {
          "output_type": "stream",
          "name": "stdout",
          "text": [
            "Collecting pipreqs\n",
            "  Downloading pipreqs-0.4.13-py2.py3-none-any.whl (33 kB)\n",
            "Collecting docopt (from pipreqs)\n",
            "  Downloading docopt-0.6.2.tar.gz (25 kB)\n",
            "  Preparing metadata (setup.py) ... \u001b[?25l\u001b[?25hdone\n",
            "Collecting yarg (from pipreqs)\n",
            "  Downloading yarg-0.1.9-py2.py3-none-any.whl (19 kB)\n",
            "Requirement already satisfied: requests in /usr/local/lib/python3.10/dist-packages (from yarg->pipreqs) (2.31.0)\n",
            "Requirement already satisfied: charset-normalizer<4,>=2 in /usr/local/lib/python3.10/dist-packages (from requests->yarg->pipreqs) (3.3.2)\n",
            "Requirement already satisfied: idna<4,>=2.5 in /usr/local/lib/python3.10/dist-packages (from requests->yarg->pipreqs) (3.4)\n",
            "Requirement already satisfied: urllib3<3,>=1.21.1 in /usr/local/lib/python3.10/dist-packages (from requests->yarg->pipreqs) (2.0.7)\n",
            "Requirement already satisfied: certifi>=2017.4.17 in /usr/local/lib/python3.10/dist-packages (from requests->yarg->pipreqs) (2023.7.22)\n",
            "Building wheels for collected packages: docopt\n",
            "  Building wheel for docopt (setup.py) ... \u001b[?25l\u001b[?25hdone\n",
            "  Created wheel for docopt: filename=docopt-0.6.2-py2.py3-none-any.whl size=13706 sha256=83ddb3f6b74f93bfc00ccb842887dbf7135bfa22a1cb5ed963a56fae1adbe055\n",
            "  Stored in directory: /root/.cache/pip/wheels/fc/ab/d4/5da2067ac95b36618c629a5f93f809425700506f72c9732fac\n",
            "Successfully built docopt\n",
            "Installing collected packages: docopt, yarg, pipreqs\n",
            "Successfully installed docopt-0.6.2 pipreqs-0.4.13 yarg-0.1.9\n"
          ]
        }
      ]
    },
    {
      "cell_type": "code",
      "source": [
        "!pip3 freeze > requirements.txt"
      ],
      "metadata": {
        "id": "bt8CYOk0BcUq"
      },
      "execution_count": 350,
      "outputs": []
    }
  ],
  "metadata": {
    "kernelspec": {
      "display_name": "Python 3",
      "name": "python3"
    },
    "language_info": {
      "codemirror_mode": {
        "name": "ipython",
        "version": 3
      },
      "file_extension": ".py",
      "mimetype": "text/x-python",
      "name": "python",
      "nbconvert_exporter": "python",
      "pygments_lexer": "ipython3",
      "version": "3.9.12"
    },
    "vscode": {
      "interpreter": {
        "hash": "16196ea7eff63910081d4e10ae1bdb1eb18fd83cb470bb8efbb9fa6b0c724af5"
      }
    },
    "colab": {
      "provenance": []
    }
  },
  "nbformat": 4,
  "nbformat_minor": 0
}